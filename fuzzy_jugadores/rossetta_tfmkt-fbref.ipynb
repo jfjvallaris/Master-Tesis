{
 "cells": [
  {
   "cell_type": "code",
   "execution_count": 1,
   "id": "f2c2af60-306f-4524-b124-746295fbf2bc",
   "metadata": {},
   "outputs": [],
   "source": [
    "\n",
    "import time\n",
    "import requests\n",
    "from requests.exceptions import Timeout, ConnectionError, HTTPError\n",
    "\n",
    "import unicodedata\n",
    "import re\n",
    "\n",
    "from bs4 import BeautifulSoup\n",
    "import time\n",
    "import numpy as np\n",
    "import pandas as pd\n",
    "import json\n",
    "\n",
    "from diccionario_ligas import ligas_dict\n",
    "\n",
    "DEBUG=False\n",
    "\n",
    "request_headers = {\n",
    "    'user-agent': 'Mozilla/5.0 (Macintosh; Intel Mac OS X 10_15_7) AppleWebKit/537.36 (KHTML, like Gecko) Chrome/119.0.0.0 Safari/537.36',\n",
    "}\n",
    "\n",
    "url_base = 'https://www.transfermarkt.es'\n",
    "\n",
    "\n",
    "lista_comunitarios = ['Alemania', 'Austria', 'Bélgica', 'Bulgaria', 'Chipre',\n",
    "                      'Croacia' 'Dinamarca', 'Eslovaquia' 'Eslovenia',\n",
    "                      'España', 'Estonia', 'Finlandia', 'Francia', 'Grecia',\n",
    "                      'Hungría', 'Irlanda', 'Islandia', 'Italia', 'Letonia',\n",
    "                      'Liechtenstein', 'Lituania', 'Luxemburgo', 'Malta',\n",
    "                      'Noruega', 'Países Bajos', 'Polonia', 'Portugal',\n",
    "                      'República Checa', 'Rumania', 'Suecia', 'Suiza']\n",
    "# https://www.goal.com/es-ar/noticias/que-es-futbolista-comunitario-extracomunitario/epa2dp4zli5z1rtclyu9lmgut\n"
   ]
  },
  {
   "cell_type": "code",
   "execution_count": 2,
   "id": "4fb7a5e0-c7cc-490d-9a5c-973792b0ebaf",
   "metadata": {},
   "outputs": [],
   "source": [
    "\n",
    "def parse_name(name):\n",
    "    name = unicodedata.normalize('NFKD', name).encode('ascii', 'ignore').decode('utf-8')\n",
    "    name = re.sub(r'[^a-zA-Z0-9\\s]', '', name)\n",
    "    parsed_name = '-'.join(name.lower().split())\n",
    "    return parsed_name\n",
    "\n",
    "\n",
    "def parse_club_name(name):\n",
    "    # Convertir a minúsculas y normalizar eliminando acentos\n",
    "    name = unicodedata.normalize('NFKD', name).encode('ascii', 'ignore').decode('utf-8')\n",
    "\n",
    "    # Eliminar símbolos no deseados (mantener solo letras, números y espacios)\n",
    "    name = re.sub(r'[^a-zA-Z0-9\\s]', '', name)\n",
    "\n",
    "    # Convertir a formato con guiones\n",
    "    parsed_name = '-'.join(name.lower().split())\n",
    "\n",
    "    return parsed_name\n",
    "    \n",
    "def normalize_string(s):\n",
    "    \"\"\"Normaliza una cadena de texto eliminando acentos y convirtiendo a minúsculas\"\"\"\n",
    "    if isinstance(s, str):\n",
    "        s = s.strip()\n",
    "        s = s.lower()\n",
    "        s = ''.join(c for c in unicodedata.normalize('NFKD', s) if not unicodedata.combining(c))\n",
    "    return s\n",
    "\n",
    "def normalize_age(age):\n",
    "    # Verificar si el valor es un string en formato 'años-días'\n",
    "    if isinstance(age, str) and '-' in age:\n",
    "        years, _ = age.split('-')  # Ignorar la parte de días\n",
    "        return int(years) if years.strip().isdigit() else None  # Convertir a entero solo los años\n",
    "    return int(age) if age.strip().isdigit() else None  # Si ya es entero, devolverlo tal cual\n",
    "    \n",
    "\n",
    "def make_request(url, params=None, retries=5, timeout=20, retry_delay=5, **kwargs):\n",
    "    for attempt in range(retries):\n",
    "        try:\n",
    "            response = requests.get(url, params=params, timeout=timeout, **kwargs)\n",
    "            response.raise_for_status()  # Verifica si hubo un error en la respuesta\n",
    "            \n",
    "            # Si la respuesta es exitosa, devolverla\n",
    "            return response\n",
    "        except Timeout:\n",
    "            print(f\"Intento {attempt + 1} de {retries}: Tiempo de espera excedido. Reintentando...\")\n",
    "        except ConnectionError as e:\n",
    "            print(f\"Intento {attempt + 1} de {retries}: Error de conexión: {e}. Reintentando...\")\n",
    "        except HTTPError as e:\n",
    "            # Manejar los códigos 502, 504 y 429\n",
    "            if response.status_code in [502, 504]:\n",
    "                error_type = \"502 Bad Gateway\" if response.status_code == 502 else \"504 Gateway Time-out\"\n",
    "                print(f\"Intento {attempt + 1} de {retries}: Error {error_type}. Reintentando en {retry_delay} segundos...\")\n",
    "                time.sleep(retry_delay)\n",
    "            elif response.status_code == 429:\n",
    "                print(f\"Intento {attempt + 1} de {retries}: Error 429 Too Many Requests. Aplicando espera exponencial.\")\n",
    "                retry_delay *= 2  # Aumenta el tiempo de espera exponencialmente\n",
    "                time.sleep(retry_delay)\n",
    "            else:\n",
    "                print(f\"Error HTTP: {e}. No es un 502, 504, ni 429, deteniendo reintentos.\")\n",
    "                return None\n",
    "        # Agregar un breve retraso antes de reintentar\n",
    "        time.sleep(retry_delay)\n",
    "    \n",
    "    print(\"Error: No se pudo establecer la conexión después de varios intentos.\")\n",
    "    return None"
   ]
  },
  {
   "cell_type": "code",
   "execution_count": 3,
   "id": "af920798-93a3-4aed-bb56-ee5f2d910be1",
   "metadata": {},
   "outputs": [],
   "source": [
    "def scrape_transfermarkt(club_id, club_name, season):\n",
    "    club_name_parsed = parse_club_name(club_name)\n",
    "    url = f'https://www.transfermarkt.es/{club_name_parsed}/kader/verein/{club_id}/plus/0/galerie/0?saison_id={str(season-1)}'\n",
    "    \n",
    "    # Obtener el HTML de la página\n",
    "    response = make_request(url, headers=request_headers)\n",
    "    if response is None:\n",
    "        return []\n",
    "\n",
    "    soup = BeautifulSoup(response.content, 'html.parser')\n",
    "    \n",
    "    # Buscar la tabla correcta en el HTML\n",
    "    tablas = soup.find_all('table')\n",
    "    tbody = tablas[1].find('tbody')  # Usamos la segunda tabla\n",
    "\n",
    "    jugadores = []\n",
    "\n",
    "    for fila in tbody.find_all('tr', recursive=False):\n",
    "        # ID y Nombre del jugador\n",
    "        jugador_link = fila.find('a', href=re.compile(r'/profil/spieler/'))\n",
    "        \n",
    "        if jugador_link:\n",
    "            jugador_id = jugador_link['href'].split('/')[-1]  # Extraer el ID de la URL\n",
    "            nombre = normalize_string(jugador_link.text.strip())\n",
    "        else:\n",
    "            continue  # Saltar si no encontramos un enlace de perfil del jugador\n",
    "        \n",
    "        # Posición principal (ej: \"Portero\", \"Defensa\") usando regex para la clase\n",
    "        posicion_cell = fila.find('td', class_=re.compile(r'^zentriert rueckennummer bg_'))\n",
    "        if posicion_cell:\n",
    "            posicion = posicion_cell.get('title', 'Desconocido').split(' ')[0]  # Ejemplo: \"Portero\", \"Defensa\"\n",
    "        else:\n",
    "            posicion = 'Desconocido'\n",
    "\n",
    "        # Edad del jugador\n",
    "        try:\n",
    "            edad_cell = fila.find_all('td', class_='zentriert')[1]\n",
    "            edad = normalize_age(edad_cell.text.strip()) \n",
    "        except (IndexError, AttributeError):\n",
    "            edad = '-'\n",
    "\n",
    "        # Agregar el jugador a la lista\n",
    "        jugadores.append({\n",
    "            'id': jugador_id,\n",
    "            'nombre': nombre,\n",
    "            'posicion': posicion,\n",
    "            'edad': edad\n",
    "        })\n",
    "\n",
    "    return jugadores\n"
   ]
  },
  {
   "cell_type": "raw",
   "id": "40441f6f-c119-46f1-afe0-402cb9ade62a",
   "metadata": {
    "scrolled": true
   },
   "source": [
    "club_id = '209'\n",
    "club_name = parse_club_name('CA River Plate')\n",
    "season = 2021\n",
    "jugadores = scrape_transfermarkt(club_id, club_name, season, request_headers)\n"
   ]
  },
  {
   "cell_type": "raw",
   "id": "2877db3b-ba78-45be-9828-9887a678b078",
   "metadata": {
    "scrolled": true
   },
   "source": [
    "jugadores"
   ]
  },
  {
   "cell_type": "code",
   "execution_count": 4,
   "id": "acd1ca4c-0abe-4594-ad91-38c5e4b5cf6d",
   "metadata": {},
   "outputs": [],
   "source": [
    "def scrape_fbref(club_id, season, DEBUG=True):\n",
    "    url = f'https://fbref.com/en/squads/{club_id}/{season}/'\n",
    "    response = make_request(url)\n",
    "    if response is None:\n",
    "        season_eur = str(season-1) + '-' + str(season)\n",
    "        if DEBUG:\n",
    "            print(f'reintentando url con season: {season_eur}')\n",
    "        url = f'https://fbref.com/en/squads/{club_id}/str{season_eur}/'\n",
    "        response = make_request(url)\n",
    "        \n",
    "        if response is None:\n",
    "            return {}\n",
    "    \n",
    "    soup = BeautifulSoup(response.content, 'html.parser')\n",
    "    \n",
    "    # Seleccionamos la primera tabla (que contiene la información de jugadores)\n",
    "    tablas = soup.find_all('table')\n",
    "    if not tablas:\n",
    "        print(\"No se encontró la tabla de jugadores.\")\n",
    "        return []\n",
    "\n",
    "    tbody = tablas[0].find('tbody')\n",
    "    jugadores = []\n",
    "    \n",
    "    for row in tbody.find_all('tr'):\n",
    "        # Extraer ID del jugador\n",
    "        jugador_celda = row.find('th', {'data-stat': 'player'})\n",
    "        try:\n",
    "            jugador_id = jugador_celda['data-append-csv'] if jugador_celda else None\n",
    "        except KeyError:\n",
    "            continue\n",
    "        jugador_nombre = normalize_string(jugador_celda.text.strip()) if jugador_celda else 'Desconocido'\n",
    "        \n",
    "        # Extraer posición\n",
    "        posicion_celda = row.find('td', {'data-stat': 'position'})\n",
    "        posicion = posicion_celda.text.strip() if posicion_celda else 'N/A'\n",
    "        \n",
    "        # Extraer edad\n",
    "        edad_celda = row.find('td', {'data-stat': 'age'})\n",
    "        if edad_celda:\n",
    "            edad = normalize_age(edad_celda.text.strip()) \n",
    "        else:\n",
    "            edad = '-'\n",
    "\n",
    "        # Agregar información del jugador al diccionario\n",
    "        jugadores.append({\n",
    "            'id': jugador_id,\n",
    "            'nombre': jugador_nombre,\n",
    "            'posicion': posicion,\n",
    "            'edad': edad\n",
    "        })\n",
    "\n",
    "    return jugadores\n"
   ]
  },
  {
   "cell_type": "raw",
   "id": "f92f3518-00c1-490a-b68e-9f18164d0677",
   "metadata": {},
   "source": [
    "# Ejemplo de uso\n",
    "club_id = 'bdc20e84'\n",
    "season = 2024\n",
    "\n",
    "jugadores = scrape_fbref(club_id, season)"
   ]
  },
  {
   "cell_type": "raw",
   "id": "f391fbc5-03ee-40a7-820f-13767142b7c7",
   "metadata": {
    "scrolled": true
   },
   "source": [
    "jugadores"
   ]
  },
  {
   "cell_type": "raw",
   "id": "b21bb2c8-84ff-49f5-aebc-f454efc206ca",
   "metadata": {
    "scrolled": true
   },
   "source": [
    "club_id = 'ef99c78c'\n",
    "club_name = parse_club_name('River Plate')\n",
    "season = 2021\n",
    "url = f'https://fbref.com/en/squads/{club_id}/{season}/'\n",
    "response = make_request(url, headers=request_headers)\n",
    "soup = BeautifulSoup(response.content, 'html.parser')\n",
    "tablas = soup.find_all('table')\n",
    "tbody = tablas[0].find('tbody')\n"
   ]
  },
  {
   "cell_type": "raw",
   "id": "219622ae-26c0-4ae6-841a-6aa49c2f99bf",
   "metadata": {
    "scrolled": true
   },
   "source": [
    "tbody"
   ]
  },
  {
   "cell_type": "raw",
   "id": "d7f7d62c-34b7-4ffd-a001-ea29d2d6806a",
   "metadata": {
    "scrolled": true
   },
   "source": [
    "for row in tbody.find_all('tr'):\n",
    "    fila = row.find('th', class_='left')\n",
    "    fila2 = row.find('td', class_='center')\n",
    "    display(fila, fila2)"
   ]
  },
  {
   "cell_type": "code",
   "execution_count": 5,
   "id": "2a460a4a-d8a5-418e-a267-3c10d81d9a85",
   "metadata": {},
   "outputs": [],
   "source": [
    "from fuzzywuzzy import fuzz, process\n",
    "\n",
    "\n",
    "# Diccionario de mapeo de posiciones de Transfermarkt a FBRef\n",
    "position_mapping = {\n",
    "    'Portero': 'GK',\n",
    "    'Defensa': 'DF',\n",
    "    'Medio': 'MF',\n",
    "    'Delantero': 'FW'\n",
    "}\n",
    "\n",
    "# Cargar el diccionario de mapeo de clubes\n",
    "with open('club_mapping_with_code.json', 'r') as f:\n",
    "    club_mapping = json.load(f)\n",
    "\n",
    "# Función para normalizar posiciones usando el mapeo solo en Transfermarkt\n",
    "def normalizar_posicion(posiciones, mapping):\n",
    "    \"\"\"\n",
    "    Convierte una cadena de posiciones de Transfermarkt al formato de FBRef.\n",
    "    Si ya está en el formato de FBRef, lo mantiene igual.\n",
    "    \"\"\"\n",
    "    posiciones_normalizadas = set()\n",
    "    for pos in posiciones.split(','):\n",
    "        pos = pos.strip()\n",
    "        # Traducir posiciones de Transfermarkt\n",
    "        posiciones_normalizadas.add(mapping.get(pos, pos))\n",
    "    return posiciones_normalizadas\n",
    "\n",
    "\n",
    "# Función para emparejar jugadores entre Transfermarkt y FBRef usando fuzzy matching y posición\n",
    "def match_players(transfer_players, fbref_players, threshold=80):\n",
    "    matched_players = {}\n",
    "    unmatched_players = []\n",
    "\n",
    "    for t_player in transfer_players:\n",
    "        # Normalizamos la posición del jugador en Transfermarkt\n",
    "        pos_transfer = normalizar_posicion(t_player['posicion'], position_mapping)\n",
    "        \n",
    "        # Filtrar jugadores de FBRef con posiciones compatibles\n",
    "        fbref_candidates = [\n",
    "            p for p in fbref_players\n",
    "            if pos_transfer & normalizar_posicion(p['posicion'], position_mapping)\n",
    "        ]\n",
    "\n",
    "        if fbref_candidates:\n",
    "            # Encuentra el mejor candidato usando fuzzy matching\n",
    "            best_match = process.extractOne(\n",
    "                t_player['nombre'],\n",
    "                [p['nombre'] for p in fbref_candidates],\n",
    "                scorer=fuzz.token_set_ratio\n",
    "            )\n",
    "\n",
    "            if best_match:\n",
    "                fbref_player = next(p for p in fbref_candidates if p['nombre'] == best_match[0])\n",
    "\n",
    "                try:\n",
    "                    check_edad = abs(t_player['edad'] - fbref_player['edad']) <= 2\n",
    "                except TypeError:\n",
    "                    check_edad = True\n",
    "                \n",
    "                # Verificar diferencia de edad\n",
    "                if best_match[1] >= threshold and check_edad:\n",
    "                    matched_players[t_player['id']] = {\n",
    "                        'id_transfermarkt': t_player['id'],\n",
    "                        'nombre_transfermarkt': t_player['nombre'],\n",
    "                        'posicion_transfermarkt': t_player['posicion'],\n",
    "                        'id_fbref': fbref_player['id'],\n",
    "                        'nombre_fbref': fbref_player['nombre'],\n",
    "                        'posicion_fbref': fbref_player['posicion'],\n",
    "                        'match_score': best_match[1]\n",
    "                    }\n",
    "                else:\n",
    "                    unmatched_players.append({\n",
    "                        'id_transfermarkt': t_player['id'],\n",
    "                        'nombre_transfermarkt': t_player['nombre'],\n",
    "                        'posicion_transfermarkt': t_player['posicion'],\n",
    "                        'id_fbref': fbref_player['id'],\n",
    "                        'mejor_nombre_fbref': fbref_player['nombre'],\n",
    "                        'mejor_score': best_match[1]\n",
    "                    })\n",
    "            else:\n",
    "                unmatched_players.append({\n",
    "                    'id_transfermarkt': t_player['id'],\n",
    "                    'nombre_transfermarkt': t_player['nombre'],\n",
    "                    'posicion_transfermarkt': t_player['posicion'],\n",
    "                    'mejor_nombre_fbref': None,\n",
    "                    'mejor_score': None\n",
    "                })\n",
    "\n",
    "    return matched_players, unmatched_players\n"
   ]
  },
  {
   "cell_type": "raw",
   "id": "47a7415b-a066-4960-8950-4bb575db49e8",
   "metadata": {},
   "source": [
    "fbref_id = 'ef99c78c'\n",
    "season = 2024\n",
    "a=scrape_fbref(fbref_id, season)\n",
    "a"
   ]
  },
  {
   "cell_type": "raw",
   "id": "89345e1b-ea74-42ef-b024-51e3262eeff2",
   "metadata": {
    "scrolled": true
   },
   "source": [
    "tfmkt_id = '209'\n",
    "tfmkt_name = parse_club_name('CA River Plate')\n",
    "season = 2024\n",
    "b=scrape_transfermarkt(tfmkt_id, tfmkt_name, season)\n",
    "b"
   ]
  },
  {
   "cell_type": "raw",
   "id": "49d812ae-8092-4e17-ab45-9325601ae8c2",
   "metadata": {
    "scrolled": true
   },
   "source": [
    "c=match_players(b, a, threshold=80)\n",
    "c"
   ]
  },
  {
   "cell_type": "code",
   "execution_count": 6,
   "id": "60a5f36b-f885-456e-8b74-ecc3fbe1a58e",
   "metadata": {},
   "outputs": [],
   "source": [
    "import json\n",
    "import pandas as pd\n",
    "import time\n",
    "import logging\n",
    "from fuzzywuzzy import fuzz, process\n",
    "import os\n",
    "\n",
    "# Configuración de logging\n",
    "logging.basicConfig(\n",
    "    level=logging.INFO,\n",
    "    format='%(asctime)s - %(levelname)s - %(message)s',\n",
    "    handlers=[logging.FileHandler(\"scraping.log\"), logging.StreamHandler()]\n",
    ")\n",
    "\n",
    "# Archivos de almacenamiento\n",
    "PLAYER_MAPPING_FILE = 'player_id_mapping.json'\n",
    "UNMATCHED_PLAYERS_FILE = 'unmatched_players.csv'\n",
    "\n",
    "# Función para cargar combinaciones ya procesadas desde 'player_id_mapping.json'\n",
    "def load_scraped_combinations():\n",
    "    if os.path.exists(PLAYER_MAPPING_FILE):\n",
    "        with open(PLAYER_MAPPING_FILE, 'r') as f:\n",
    "            data = json.load(f)\n",
    "            return set(tuple(combo) for combo in data.get('scraped_combinations', [])), data.get('players', {})\n",
    "    return set(), {}\n",
    "\n",
    "# Función para guardar combinaciones y jugadores procesados en un archivo JSON\n",
    "def save_scraped_data(scraped_combinations, player_data):\n",
    "    with open(PLAYER_MAPPING_FILE, 'w') as f:\n",
    "        json.dump({\n",
    "            'scraped_combinations': list(scraped_combinations),\n",
    "            'players': player_data\n",
    "        }, f, indent=4)\n",
    "\n",
    "# Cargar combinaciones y datos de jugadores procesados\n",
    "scraped_combinations, all_matches = load_scraped_combinations()\n",
    "\n",
    "# Guardado parcial de resultados y combinaciones procesadas\n",
    "def save_partial_results(matches, unmatched, scraped_combinations):\n",
    "    # Guardar coincidencias y combinaciones procesadas\n",
    "    save_scraped_data(scraped_combinations, matches)\n",
    "    \n",
    "    # Guardar jugadores no coincidentes en un archivo CSV, manteniendo previos\n",
    "    if os.path.exists(UNMATCHED_PLAYERS_FILE):\n",
    "        existing_unmatched = pd.read_csv(UNMATCHED_PLAYERS_FILE)\n",
    "        unmatched_df = pd.concat([existing_unmatched, pd.DataFrame(unmatched)], ignore_index=True)\n",
    "    else:\n",
    "        unmatched_df = pd.DataFrame(unmatched)\n",
    "    unmatched_df.to_csv(UNMATCHED_PLAYERS_FILE, index=False)\n",
    "\n",
    "# Función principal para generar el diccionario de jugadores\n",
    "def save_unmatched_to_csv(file_path, unmatched, matched_players):\n",
    "    \"\"\"\n",
    "    Guarda los resultados no emparejados en un archivo CSV, garantizando la estructura\n",
    "    y excluyendo jugadores ya emparejados.\n",
    "    \"\"\"\n",
    "    if not unmatched:\n",
    "        logging.info(\"No hay jugadores no emparejados para guardar.\")\n",
    "        return\n",
    "\n",
    "    # Asegurarse de que los `unmatched` tengan las claves requeridas\n",
    "    required_columns = ['id_transfermarkt', 'nombre_transfermarkt', 'posicion_transfermarkt', \n",
    "                        'id_fbref', 'mejor_nombre_fbref', 'mejor_score']\n",
    "    \n",
    "    for entry in unmatched:\n",
    "        for col in required_columns:\n",
    "            if col not in entry:\n",
    "                entry[col] = None\n",
    "\n",
    "    unmatched_df = pd.DataFrame(unmatched)\n",
    "\n",
    "    # Filtrar jugadores ya emparejados\n",
    "    try:\n",
    "        unmatched_df = unmatched_df[~unmatched_df['id_transfermarkt'].isin(matched_players.keys())]\n",
    "    except KeyError as e:\n",
    "        logging.error(f\"Error al filtrar jugadores no emparejados: {e}\")\n",
    "        return\n",
    "\n",
    "    # Si existe un archivo previo, combinar y filtrar duplicados\n",
    "    if os.path.exists(file_path):\n",
    "        existing_unmatched = pd.read_csv(file_path)\n",
    "        unmatched_df = pd.concat([existing_unmatched, unmatched_df], ignore_index=True)\n",
    "\n",
    "    unmatched_df = unmatched_df.drop_duplicates(subset=['id_transfermarkt'], keep='first')\n",
    "\n",
    "    # Asegurarse de que el archivo final tenga las columnas en el orden esperado\n",
    "    unmatched_df = unmatched_df[required_columns]\n",
    "\n",
    "    unmatched_df.to_csv(file_path, index=False)\n",
    "    logging.info(f\"Guardado de no emparejados completado: {file_path}\")\n",
    "\n",
    "\n",
    "\n",
    "def generate_player_dictionary(seasons, rescrape=False):\n",
    "    \"\"\"\n",
    "    Genera el diccionario de jugadores emparejados, con opciones para re-scrapeo.\n",
    "    \"\"\"\n",
    "    all_unmatched = []\n",
    "\n",
    "    for season in seasons:\n",
    "        logging.info(f'Procesando temporada: {season}')\n",
    "\n",
    "        for club_code, club_info in club_mapping.items():\n",
    "            logging.info(f'Procesando club: {club_info[\"Club_Name\"]} ({season}) (Código: {club_code})')\n",
    "\n",
    "            # Verificar si la combinación ya fue procesada\n",
    "            combo_key = (club_code, season)\n",
    "            if not rescrape and combo_key in scraped_combinations:\n",
    "                logging.info(f'Combinación {combo_key} ya procesada. Saltando...')\n",
    "                continue\n",
    "\n",
    "            # Scraping de Transfermarkt y FBRef\n",
    "            transfer_players = scrape_transfermarkt(club_code, club_info['Club_Name'], season)\n",
    "            fbref_players = scrape_fbref(club_info['FBRef_id'], season)\n",
    "\n",
    "            if not fbref_players:\n",
    "                logging.warning(f'Información no encontrada para {club_info}. Combinación no registrada.')\n",
    "                continue\n",
    "\n",
    "            # Excluir jugadores con match_score=100 ya almacenados\n",
    "            transfer_players = [\n",
    "                t_player for t_player in transfer_players\n",
    "                if t_player['id'] not in all_matches or all_matches[t_player['id']]['match_score'] < 100\n",
    "            ]\n",
    "\n",
    "            # Coincidencias y no coincidencias\n",
    "            matched, unmatched = match_players(transfer_players, fbref_players)\n",
    "\n",
    "            # Guardar las coincidencias en el diccionario `all_matches`\n",
    "            for t_player_id, match_info in matched.items():\n",
    "                existing_match = all_matches.get(t_player_id)\n",
    "                # Si ya existe, comparar `match_score`\n",
    "                if existing_match:\n",
    "                    if match_info['match_score'] > existing_match['match_score']:\n",
    "                        all_matches[t_player_id] = match_info  # Actualizar con mejor coincidencia\n",
    "                else:\n",
    "                    all_matches[t_player_id] = match_info\n",
    "\n",
    "            # Agregar jugadores no emparejados\n",
    "            all_unmatched.extend(unmatched)\n",
    "\n",
    "            # Marcar la combinación como procesada\n",
    "            scraped_combinations.add(combo_key)\n",
    "\n",
    "            # Guardado parcial después de cada club\n",
    "            save_partial_results(all_matches, all_unmatched, scraped_combinations)\n",
    "            time.sleep(3)  # Pausa para evitar bloqueos\n",
    "\n",
    "    # Filtrar jugadores no coincidentes, eliminando aquellos ya emparejados\n",
    "    final_unmatched = [\n",
    "        player for player in all_unmatched if player['id_transfermarkt'] not in all_matches\n",
    "    ]\n",
    "\n",
    "    # Guardado final de resultados\n",
    "    save_scraped_data(scraped_combinations, all_matches)\n",
    "    save_unmatched_to_csv(UNMATCHED_PLAYERS_FILE, final_unmatched, all_matches)\n",
    "    logging.info('Proceso completado exitosamente.')\n",
    "\n"
   ]
  },
  {
   "cell_type": "code",
   "execution_count": null,
   "id": "26554dff-25ec-4731-8558-0793961b4739",
   "metadata": {},
   "outputs": [],
   "source": []
  },
  {
   "cell_type": "code",
   "execution_count": 7,
   "id": "5cf5331a-1883-482f-b7ea-4af2b631f464",
   "metadata": {
    "scrolled": true
   },
   "outputs": [
    {
     "data": {
      "text/plain": [
       "{'1029': {'Club_Name': 'CA Vélez Sarsfield',\n",
       "  'FBRef_name': 'Vélez Sarsfield',\n",
       "  'liga_pais': 'Argentina',\n",
       "  'FBRef_id': '41c139b6'},\n",
       " '1030': {'Club_Name': 'AA Argentinos Juniors',\n",
       "  'FBRef_name': 'Arg Juniors',\n",
       "  'liga_pais': 'Argentina',\n",
       "  'FBRef_id': 'd01a653b'},\n",
       " '1070': {'Club_Name': 'CA Colón',\n",
       "  'FBRef_name': 'Colón',\n",
       "  'liga_pais': 'Argentina',\n",
       "  'FBRef_id': '2d84bb17'},\n",
       " '1106': {'Club_Name': 'Club de Gimnasia y Esgrima La Plata',\n",
       "  'FBRef_name': 'Gimnasia–LP',\n",
       "  'liga_pais': 'Argentina',\n",
       "  'FBRef_id': '950a95f2'},\n",
       " '11831': {'Club_Name': 'CA Tigre',\n",
       "  'FBRef_name': 'Tigre',\n",
       "  'liga_pais': 'Argentina',\n",
       "  'FBRef_id': '0e92bf17'},\n",
       " '12301': {'Club_Name': 'CA Aldosivi',\n",
       "  'FBRef_name': 'Aldosivi',\n",
       "  'liga_pais': 'Argentina',\n",
       "  'FBRef_id': 'e5927bd8'},\n",
       " '1234': {'Club_Name': 'CA Independiente',\n",
       "  'FBRef_name': 'Independiente',\n",
       "  'liga_pais': 'Argentina',\n",
       "  'FBRef_id': '40bb0ce9'},\n",
       " '12454': {'Club_Name': 'CA Sarmiento (Junín)',\n",
       "  'FBRef_name': 'Sarmiento',\n",
       "  'liga_pais': 'Argentina',\n",
       "  'FBRef_id': 'e9ae80b7'},\n",
       " '12574': {'Club_Name': 'CD Godoy Cruz Antonio Tomba',\n",
       "  'FBRef_name': 'Godoy Cruz',\n",
       "  'liga_pais': 'Argentina',\n",
       "  'FBRef_id': 'ac9a09b4'},\n",
       " '1286': {'Club_Name': \"CA Newell's Old Boys\",\n",
       "  'FBRef_name': \"Newell's OB\",\n",
       "  'liga_pais': 'Argentina',\n",
       "  'FBRef_id': '9bf4eaf4'},\n",
       " '1418': {'Club_Name': 'CA Rosario Central',\n",
       "  'FBRef_name': 'Rosario Central',\n",
       "  'liga_pais': 'Argentina',\n",
       "  'FBRef_id': '87a920fa'},\n",
       " '1444': {'Club_Name': 'Racing Club',\n",
       "  'FBRef_name': 'Racing Club',\n",
       "  'liga_pais': 'Argentina',\n",
       "  'FBRef_id': '8e20e13d'},\n",
       " '14554': {'Club_Name': 'Club Atlético Tucumán',\n",
       "  'FBRef_name': 'Atlé Tucumán',\n",
       "  'liga_pais': 'Argentina',\n",
       "  'FBRef_id': '42a1ab8b'},\n",
       " '1775': {'Club_Name': 'CA San Lorenzo de Almagro',\n",
       "  'FBRef_name': 'San Lorenzo',\n",
       "  'liga_pais': 'Argentina',\n",
       "  'FBRef_id': '66da6009'},\n",
       " '1829': {'Club_Name': 'Instituto ACC',\n",
       "  'FBRef_name': 'Instituto',\n",
       "  'liga_pais': 'Argentina',\n",
       "  'FBRef_id': 'e2f19203'},\n",
       " '189': {'Club_Name': 'CA Boca Juniors',\n",
       "  'FBRef_name': 'Boca Juniors',\n",
       "  'liga_pais': 'Argentina',\n",
       "  'FBRef_id': '795ca75e'},\n",
       " '19806': {'Club_Name': 'CA Patronato',\n",
       "  'FBRef_name': 'Patronato',\n",
       "  'liga_pais': 'Argentina',\n",
       "  'FBRef_id': '0e6891d5'},\n",
       " '2063': {'Club_Name': 'CA Huracán',\n",
       "  'FBRef_name': 'Huracán',\n",
       "  'liga_pais': 'Argentina',\n",
       "  'FBRef_id': '1d3d37ae'},\n",
       " '209': {'Club_Name': 'CA River Plate',\n",
       "  'FBRef_name': 'River Plate',\n",
       "  'liga_pais': 'Argentina',\n",
       "  'FBRef_id': 'ef99c78c'},\n",
       " '2402': {'Club_Name': 'CSD Defensa y Justicia',\n",
       "  'FBRef_name': 'Defensa y Just',\n",
       "  'liga_pais': 'Argentina',\n",
       "  'FBRef_id': 'a4570206'},\n",
       " '2417': {'Club_Name': 'CA Belgrano',\n",
       "  'FBRef_name': 'Belgrano',\n",
       "  'liga_pais': 'Argentina',\n",
       "  'FBRef_id': '7765008b'},\n",
       " '25184': {'Club_Name': 'CA Barracas Central',\n",
       "  'FBRef_name': 'Barracas Central',\n",
       "  'liga_pais': 'Argentina',\n",
       "  'FBRef_id': '1d89634b'},\n",
       " '288': {'Club_Name': 'Club Estudiantes de La Plata',\n",
       "  'FBRef_name': 'Estudiantes',\n",
       "  'liga_pais': 'Argentina',\n",
       "  'FBRef_id': 'df734df9'},\n",
       " '31284': {'Club_Name': 'CA Central Córdoba (SdE)',\n",
       "  'FBRef_name': 'Cen. Córdoba–SdE',\n",
       "  'liga_pais': 'Argentina',\n",
       "  'FBRef_id': '9aa97c75'},\n",
       " '333': {'Club_Name': 'CA Lanús',\n",
       "  'FBRef_name': 'Lanús',\n",
       "  'liga_pais': 'Argentina',\n",
       "  'FBRef_id': '11b6dba8'},\n",
       " '3938': {'Club_Name': 'CA Talleres',\n",
       "  'FBRef_name': 'Talleres',\n",
       "  'liga_pais': 'Argentina',\n",
       "  'FBRef_id': 'ceda2145'},\n",
       " '4673': {'Club_Name': 'Arsenal FC',\n",
       "  'FBRef_name': 'Arsenal',\n",
       "  'liga_pais': 'Argentina',\n",
       "  'FBRef_id': '4bee7ba3'},\n",
       " '7097': {'Club_Name': 'CA Unión (Santa Fe)',\n",
       "  'FBRef_name': 'Unión',\n",
       "  'liga_pais': 'Argentina',\n",
       "  'FBRef_id': '5adc7e67'},\n",
       " '830': {'Club_Name': 'CA Banfield',\n",
       "  'FBRef_name': 'Banfield',\n",
       "  'liga_pais': 'Argentina',\n",
       "  'FBRef_id': '06c1606c'},\n",
       " '928': {'Club_Name': 'CA Platense',\n",
       "  'FBRef_name': 'Platense',\n",
       "  'liga_pais': 'Argentina',\n",
       "  'FBRef_id': '3cbfa767'},\n",
       " '42208': {'Club_Name': 'Club Always Ready',\n",
       "  'FBRef_name': 'Always Ready',\n",
       "  'liga_pais': 'Bolivia',\n",
       "  'FBRef_id': '8d727f54'},\n",
       " '5570': {'Club_Name': 'The Strongest La Paz',\n",
       "  'FBRef_name': 'The Strongest',\n",
       "  'liga_pais': 'Bolivia',\n",
       "  'FBRef_id': '6dcc14bf'},\n",
       " '6985': {'Club_Name': 'Club Deportivo Oriente Petrolero',\n",
       "  'FBRef_name': 'Oriente Petrolero',\n",
       "  'liga_pais': 'Bolivia',\n",
       "  'FBRef_id': 'bdc20e84'},\n",
       " '8056': {'Club_Name': 'Blooming Santa Cruz',\n",
       "  'FBRef_name': 'Blooming',\n",
       "  'liga_pais': 'Bolivia',\n",
       "  'FBRef_id': '40d8842e'},\n",
       " '10010': {'Club_Name': 'Esporte Clube Bahia',\n",
       "  'FBRef_name': 'Bahia',\n",
       "  'liga_pais': 'Brasil',\n",
       "  'FBRef_id': '157b7fee'},\n",
       " '1023': {'Club_Name': 'SE Palmeiras',\n",
       "  'FBRef_name': 'Palmeiras',\n",
       "  'liga_pais': 'Brasil',\n",
       "  'FBRef_id': 'abdce579'},\n",
       " '10870': {'Club_Name': 'Fortaleza Esporte Clube',\n",
       "  'FBRef_name': 'Fortaleza',\n",
       "  'liga_pais': 'Brasil',\n",
       "  'FBRef_id': 'a9d0ab0e'},\n",
       " '199': {'Club_Name': 'SC Corinthians',\n",
       "  'FBRef_name': 'Corinthians',\n",
       "  'liga_pais': 'Brasil',\n",
       "  'FBRef_id': 'bf4acd28'},\n",
       " '2035': {'Club_Name': 'Avaí FC',\n",
       "  'FBRef_name': 'Avaí',\n",
       "  'liga_pais': 'Brasil',\n",
       "  'FBRef_id': 'f205258a'},\n",
       " '210': {'Club_Name': 'Grêmio Foot-Ball Porto Alegrense',\n",
       "  'FBRef_name': 'Grêmio',\n",
       "  'liga_pais': 'Brasil',\n",
       "  'FBRef_id': 'd5ae3703'},\n",
       " '221': {'Club_Name': 'Santos FC',\n",
       "  'FBRef_name': 'Santos',\n",
       "  'liga_pais': 'Brasil',\n",
       "  'FBRef_id': '712c528f'},\n",
       " '2462': {'Club_Name': 'Fluminense Football Club',\n",
       "  'FBRef_name': 'Fluminense',\n",
       "  'liga_pais': 'Brasil',\n",
       "  'FBRef_id': '84d9701c'},\n",
       " '2863': {'Club_Name': 'América Futebol Clube (MG)',\n",
       "  'FBRef_name': 'América (MG)',\n",
       "  'liga_pais': 'Brasil',\n",
       "  'FBRef_id': '1f68d780'},\n",
       " '585': {'Club_Name': 'São Paulo FC',\n",
       "  'FBRef_name': 'São Paulo',\n",
       "  'liga_pais': 'Brasil',\n",
       "  'FBRef_id': '5f232eb1'},\n",
       " '609': {'Club_Name': 'Cruzeiro Esporte Clube',\n",
       "  'FBRef_name': 'Cruzeiro',\n",
       "  'liga_pais': 'Brasil',\n",
       "  'FBRef_id': '03ff5eeb'},\n",
       " '6600': {'Club_Name': 'Sport Club Internacional',\n",
       "  'FBRef_name': 'Internacional',\n",
       "  'liga_pais': 'Brasil',\n",
       "  'FBRef_id': '6f7e1f03'},\n",
       " '679': {'Club_Name': 'Club Athletico Paranaense',\n",
       "  'FBRef_name': 'Ath Paranaense',\n",
       "  'liga_pais': 'Brasil',\n",
       "  'FBRef_id': '2091c619'},\n",
       " '776': {'Club_Name': 'Coritiba Foot Ball Club',\n",
       "  'FBRef_name': 'Coritiba',\n",
       "  'liga_pais': 'Brasil',\n",
       "  'FBRef_id': 'd680d257'},\n",
       " '978': {'Club_Name': 'Clube de Regatas Vasco da Gama',\n",
       "  'FBRef_name': 'Vasco da Gama',\n",
       "  'liga_pais': 'Brasil',\n",
       "  'FBRef_id': '83f55dbe'},\n",
       " '1037': {'Club_Name': 'Universidad de Chile',\n",
       "  'FBRef_name': 'U de Chile',\n",
       "  'liga_pais': 'Chile',\n",
       "  'FBRef_id': 'd4a88ef6'},\n",
       " '11470': {'Club_Name': \"CD O'Higgins\",\n",
       "  'FBRef_name': \"O'Higgins\",\n",
       "  'liga_pais': 'Chile',\n",
       "  'FBRef_id': '5049d576'},\n",
       " '13394': {'Club_Name': 'CD Magallanes',\n",
       "  'FBRef_name': 'Deportes Magallanes',\n",
       "  'liga_pais': 'Chile',\n",
       "  'FBRef_id': '0e719970'},\n",
       " '14723': {'Club_Name': 'CD Ñublense',\n",
       "  'FBRef_name': 'Ñublense',\n",
       "  'liga_pais': 'Chile',\n",
       "  'FBRef_id': '9c1af4fe'},\n",
       " '19027': {'Club_Name': 'CDP Curicó Unido',\n",
       "  'FBRef_name': 'Curico Unido',\n",
       "  'liga_pais': 'Chile',\n",
       "  'FBRef_id': 'c40d810e'},\n",
       " '20514': {'Club_Name': 'Unión La Calera',\n",
       "  'FBRef_name': 'La Calera',\n",
       "  'liga_pais': 'Chile',\n",
       "  'FBRef_id': 'f052bc76'},\n",
       " '2433': {'Club_Name': 'CSD Colo-Colo',\n",
       "  'FBRef_name': 'Colo-Colo',\n",
       "  'liga_pais': 'Chile',\n",
       "  'FBRef_id': '2ff539f3'},\n",
       " '2723': {'Club_Name': 'Santiago Wanderers',\n",
       "  'FBRef_name': 'Wanderers',\n",
       "  'liga_pais': 'Chile',\n",
       "  'FBRef_id': 'd6eb477c'},\n",
       " '3277': {'Club_Name': 'CD Universidad Católica',\n",
       "  'FBRef_name': 'Univ Católica',\n",
       "  'liga_pais': 'Chile',\n",
       "  'FBRef_id': '3e3fbf36'},\n",
       " '4321': {'Club_Name': 'Unión Española',\n",
       "  'FBRef_name': 'Unión Española',\n",
       "  'liga_pais': 'Chile',\n",
       "  'FBRef_id': 'def379c5'},\n",
       " '5747': {'Club_Name': 'Deportes La Serena',\n",
       "  'FBRef_name': 'La Serena',\n",
       "  'liga_pais': 'Chile',\n",
       "  'FBRef_id': '86842c45'},\n",
       " '6363': {'Club_Name': 'Audax Italiano',\n",
       "  'FBRef_name': 'Audax Italiano',\n",
       "  'liga_pais': 'Chile',\n",
       "  'FBRef_id': '13b57ed6'},\n",
       " '6368': {'Club_Name': 'CD Huachipato',\n",
       "  'FBRef_name': 'Huachipato',\n",
       "  'liga_pais': 'Chile',\n",
       "  'FBRef_id': 'e3816a4b'},\n",
       " '6536': {'Club_Name': 'CD Palestino',\n",
       "  'FBRef_name': 'Palestino',\n",
       "  'liga_pais': 'Chile',\n",
       "  'FBRef_id': 'fccf2756'},\n",
       " '7020': {'Club_Name': 'CD Everton',\n",
       "  'FBRef_name': 'Everton',\n",
       "  'liga_pais': 'Chile',\n",
       "  'FBRef_id': '81a74688'},\n",
       " '10090': {'Club_Name': 'Asociación Deportivo Pasto',\n",
       "  'FBRef_name': 'Pasto',\n",
       "  'liga_pais': 'Colombia',\n",
       "  'FBRef_id': '72f9f06e'},\n",
       " '10093': {'Club_Name': 'Independiente Medellín',\n",
       "  'FBRef_name': 'Independiente',\n",
       "  'liga_pais': 'Colombia',\n",
       "  'FBRef_id': '70068101'},\n",
       " '10503': {'Club_Name': 'Deportes Tolima',\n",
       "  'FBRef_name': 'Tolima',\n",
       "  'liga_pais': 'Colombia',\n",
       "  'FBRef_id': '9c4c0cc1'},\n",
       " '11648': {'Club_Name': 'Independiente Santa Fe',\n",
       "  'FBRef_name': 'Santa Fe',\n",
       "  'liga_pais': 'Colombia',\n",
       "  'FBRef_id': 'a7854d10'},\n",
       " '11854': {'Club_Name': 'Junior de Barranquilla',\n",
       "  'FBRef_name': 'Junior',\n",
       "  'liga_pais': 'Colombia',\n",
       "  'FBRef_id': 'b281fa3b'},\n",
       " '17467': {'Club_Name': 'Internacional de Palmira',\n",
       "  'FBRef_name': 'Cortuluá',\n",
       "  'liga_pais': 'Colombia',\n",
       "  'FBRef_id': '1eeaaa61'},\n",
       " '2350': {'Club_Name': 'Millonarios FC',\n",
       "  'FBRef_name': 'Millonarios',\n",
       "  'liga_pais': 'Colombia',\n",
       "  'FBRef_id': '4c319052'},\n",
       " '2352': {'Club_Name': 'CD América de Cali',\n",
       "  'FBRef_name': 'CD América',\n",
       "  'liga_pais': 'Colombia',\n",
       "  'FBRef_id': 'c6f65a93'},\n",
       " '6984': {'Club_Name': 'Once Caldas',\n",
       "  'FBRef_name': 'Once Caldas',\n",
       "  'liga_pais': 'Colombia',\n",
       "  'FBRef_id': 'af8be55a'},\n",
       " '7136': {'Club_Name': 'Envigado FC',\n",
       "  'FBRef_name': 'Envigado',\n",
       "  'liga_pais': 'Colombia',\n",
       "  'FBRef_id': '67cdee3a'},\n",
       " '8172': {'Club_Name': 'Atlético Nacional',\n",
       "  'FBRef_name': 'Nacional',\n",
       "  'liga_pais': 'Colombia',\n",
       "  'FBRef_id': 'e0b973a6'},\n",
       " '9811': {'Club_Name': 'Deportivo Pereira',\n",
       "  'FBRef_name': 'Pereira',\n",
       "  'liga_pais': 'Colombia',\n",
       "  'FBRef_id': '6045b728'},\n",
       " '9961': {'Club_Name': 'Deportivo Cali',\n",
       "  'FBRef_name': 'AD Cali',\n",
       "  'liga_pais': 'Colombia',\n",
       "  'FBRef_id': '47538775'},\n",
       " '17584': {'Club_Name': 'CD Universidad Católica',\n",
       "  'FBRef_name': 'Univ Católica',\n",
       "  'liga_pais': 'Chile',\n",
       "  'FBRef_id': '3e3fbf36'},\n",
       " '19304': {'Club_Name': 'Delfín SC',\n",
       "  'FBRef_name': 'Delfín',\n",
       "  'liga_pais': 'Ecuador',\n",
       "  'FBRef_id': '66db845c'},\n",
       " '19309': {'Club_Name': 'Independiente del Valle',\n",
       "  'FBRef_name': 'Independiente',\n",
       "  'liga_pais': 'Ecuador',\n",
       "  'FBRef_id': '990519b8'},\n",
       " '3523': {'Club_Name': 'Barcelona SC Guayaquil',\n",
       "  'FBRef_name': 'Barcelona',\n",
       "  'liga_pais': 'Ecuador',\n",
       "  'FBRef_id': '8c71aef1'},\n",
       " '4561': {'Club_Name': 'CS Emelec',\n",
       "  'FBRef_name': 'CS Emelec',\n",
       "  'liga_pais': 'Ecuador',\n",
       "  'FBRef_id': 'c1f8ae36'},\n",
       " '6362': {'Club_Name': 'SD Aucas',\n",
       "  'FBRef_name': 'SD Aucas',\n",
       "  'liga_pais': 'Ecuador',\n",
       "  'FBRef_id': 'c0cc20c3'},\n",
       " '8781': {'Club_Name': 'Deportivo Cuenca',\n",
       "  'FBRef_name': 'Deportivo Cuenca',\n",
       "  'liga_pais': 'Ecuador',\n",
       "  'FBRef_id': '99a46175'},\n",
       " '9855': {'Club_Name': 'LDU Quito',\n",
       "  'FBRef_name': 'LDU de Quito',\n",
       "  'liga_pais': 'Ecuador',\n",
       "  'FBRef_id': '1284d3f9'},\n",
       " '1049': {'Club_Name': 'Valencia CF',\n",
       "  'FBRef_name': 'Valencia',\n",
       "  'liga_pais': 'España',\n",
       "  'FBRef_id': 'dcc91a7b'},\n",
       " '1084': {'Club_Name': 'Málaga CF',\n",
       "  'FBRef_name': 'Málaga',\n",
       "  'liga_pais': 'España',\n",
       "  'FBRef_id': '1c896955'},\n",
       " '1108': {'Club_Name': 'Deportivo Alavés',\n",
       "  'FBRef_name': 'Alavés',\n",
       "  'liga_pais': 'España',\n",
       "  'FBRef_id': '8d6fd021'},\n",
       " '150': {'Club_Name': 'Real Betis Balompié',\n",
       "  'FBRef_name': 'Betis',\n",
       "  'liga_pais': 'España',\n",
       "  'FBRef_id': 'fc536746'},\n",
       " '1531': {'Club_Name': 'Elche CF',\n",
       "  'FBRef_name': 'Elche',\n",
       "  'liga_pais': 'España',\n",
       "  'FBRef_id': '6c8b07df'},\n",
       " '237': {'Club_Name': 'RCD Mallorca',\n",
       "  'FBRef_name': 'Mallorca',\n",
       "  'liga_pais': 'España',\n",
       "  'FBRef_id': '2aa12281'},\n",
       " '2448': {'Club_Name': 'Real Sporting de Gijón',\n",
       "  'FBRef_name': 'Sporting Gijón',\n",
       "  'liga_pais': 'España',\n",
       "  'FBRef_id': 'bb9efd50'},\n",
       " '3368': {'Club_Name': 'Levante UD',\n",
       "  'FBRef_name': 'Levante',\n",
       "  'liga_pais': 'España',\n",
       "  'FBRef_id': '9800b6a1'},\n",
       " '366': {'Club_Name': 'Real Valladolid CF',\n",
       "  'FBRef_name': 'Valladolid',\n",
       "  'liga_pais': 'España',\n",
       "  'FBRef_id': '17859612'},\n",
       " '367': {'Club_Name': 'Rayo Vallecano',\n",
       "  'FBRef_name': 'Rayo Vallecano',\n",
       "  'liga_pais': 'España',\n",
       "  'FBRef_id': '98e8af82'},\n",
       " '368': {'Club_Name': 'Sevilla FC',\n",
       "  'FBRef_name': 'Sevilla',\n",
       "  'liga_pais': 'España',\n",
       "  'FBRef_id': 'ad2be733'},\n",
       " '472': {'Club_Name': 'UD Las Palmas',\n",
       "  'FBRef_name': 'Las Palmas',\n",
       "  'liga_pais': 'España',\n",
       "  'FBRef_id': '0049d422'},\n",
       " '5358': {'Club_Name': 'SD Huesca',\n",
       "  'FBRef_name': 'Huesca',\n",
       "  'liga_pais': 'España',\n",
       "  'FBRef_id': 'c6c493e6'},\n",
       " '621': {'Club_Name': 'Athletic Club',\n",
       "  'FBRef_name': 'Athletic Club',\n",
       "  'liga_pais': 'España',\n",
       "  'FBRef_id': '2b390eca'},\n",
       " '7077': {'Club_Name': 'FC Cartagena',\n",
       "  'FBRef_name': 'Cartagena',\n",
       "  'liga_pais': 'España',\n",
       "  'FBRef_id': 'bbd9ac49'},\n",
       " '940': {'Club_Name': 'RC Celta de Vigo',\n",
       "  'FBRef_name': 'Celta Vigo',\n",
       "  'liga_pais': 'España',\n",
       "  'FBRef_id': 'f25da7fb'},\n",
       " '218': {'Club_Name': 'San José Earthquakes',\n",
       "  'FBRef_name': 'SJ Earthquakes',\n",
       "  'liga_pais': 'Estados Unidos',\n",
       "  'FBRef_id': 'ca460650'},\n",
       " '40058': {'Club_Name': 'New York City FC',\n",
       "  'FBRef_name': 'NYCFC',\n",
       "  'liga_pais': 'Estados Unidos',\n",
       "  'FBRef_id': '64e81410'},\n",
       " '4291': {'Club_Name': 'Portland Timbers',\n",
       "  'FBRef_name': 'Portland Timbers',\n",
       "  'liga_pais': 'Estados Unidos',\n",
       "  'FBRef_id': 'd076914e'},\n",
       " '51663': {'Club_Name': 'Atlanta United FC',\n",
       "  'FBRef_name': 'Atlanta Utd',\n",
       "  'liga_pais': 'Estados Unidos',\n",
       "  'FBRef_id': '1ebc1a5b'},\n",
       " '626': {'Club_Name': 'New England Revolution',\n",
       "  'FBRef_name': 'NE Revolution',\n",
       "  'liga_pais': 'Estados Unidos',\n",
       "  'FBRef_id': '3c079def'},\n",
       " '72309': {'Club_Name': 'Austin FC',\n",
       "  'FBRef_name': 'Austin',\n",
       "  'liga_pais': 'Estados Unidos',\n",
       "  'FBRef_id': 'b918956d'},\n",
       " '78435': {'Club_Name': 'Charlotte FC',\n",
       "  'FBRef_name': 'Charlotte',\n",
       "  'liga_pais': 'Estados Unidos',\n",
       "  'FBRef_id': 'eb57545a'},\n",
       " '8816': {'Club_Name': 'FC Dallas',\n",
       "  'FBRef_name': 'FC Dallas',\n",
       "  'liga_pais': 'Estados Unidos',\n",
       "  'FBRef_id': '15cf8f40'},\n",
       " '244': {'Club_Name': 'Olympique de Marsella',\n",
       "  'FBRef_name': 'Marseille',\n",
       "  'liga_pais': 'Francia',\n",
       "  'FBRef_id': '5725cc7b'},\n",
       " '11': {'Club_Name': 'Arsenal FC',\n",
       "  'FBRef_name': 'Arsenal',\n",
       "  'liga_pais': 'Argentina',\n",
       "  'FBRef_id': '4bee7ba3'},\n",
       " '130': {'Club_Name': 'Parma',\n",
       "  'FBRef_name': 'Parma',\n",
       "  'liga_pais': 'Italia',\n",
       "  'FBRef_id': 'eab4234c'},\n",
       " '1390': {'Club_Name': 'Cagliari',\n",
       "  'FBRef_name': 'Cagliari',\n",
       "  'liga_pais': 'Italia',\n",
       "  'FBRef_id': 'c4260e09'},\n",
       " '2239': {'Club_Name': 'US Cremonese',\n",
       "  'FBRef_name': 'Cremonese',\n",
       "  'liga_pais': 'Italia',\n",
       "  'FBRef_id': '9aad3a77'},\n",
       " '380': {'Club_Name': 'US Salernitana 1919',\n",
       "  'FBRef_name': 'Salernitana',\n",
       "  'liga_pais': 'Italia',\n",
       "  'FBRef_id': 'c5577084'},\n",
       " '607': {'Club_Name': 'Venezia FC',\n",
       "  'FBRef_name': 'Venezia',\n",
       "  'liga_pais': 'Italia',\n",
       "  'FBRef_id': 'af5d5982'},\n",
       " '1146': {'Club_Name': 'Club Necaxa',\n",
       "  'FBRef_name': 'Necaxa',\n",
       "  'liga_pais': 'México',\n",
       "  'FBRef_id': '752db496'},\n",
       " '13353': {'Club_Name': 'Club Tijuana',\n",
       "  'FBRef_name': 'Tijuana',\n",
       "  'liga_pais': 'México',\n",
       "  'FBRef_id': 'a42ddf2f'},\n",
       " '1403': {'Club_Name': 'Santos Laguna',\n",
       "  'FBRef_name': 'Santos',\n",
       "  'liga_pais': 'México',\n",
       "  'FBRef_id': '03b65ba9'},\n",
       " '1804': {'Club_Name': 'Deportivo Toluca FC',\n",
       "  'FBRef_name': 'Toluca',\n",
       "  'liga_pais': 'México',\n",
       "  'FBRef_id': '44b88a4e'},\n",
       " '2407': {'Club_Name': 'CF Monterrey',\n",
       "  'FBRef_name': 'Monterrey',\n",
       "  'liga_pais': 'México',\n",
       "  'FBRef_id': 'dd5ca9bd'},\n",
       " '3631': {'Club_Name': 'CF América',\n",
       "  'FBRef_name': 'América',\n",
       "  'liga_pais': 'México',\n",
       "  'FBRef_id': '18d3c3a3'},\n",
       " '3711': {'Club_Name': 'CD Cruz Azul',\n",
       "  'FBRef_name': 'Cruz Azul',\n",
       "  'liga_pais': 'México',\n",
       "  'FBRef_id': '632f1838'},\n",
       " '40188': {'Club_Name': 'Atlético de San Luis',\n",
       "  'FBRef_name': 'Atlético',\n",
       "  'liga_pais': 'México',\n",
       "  'FBRef_id': '5d274ee4'},\n",
       " '4035': {'Club_Name': 'CF Pachuca',\n",
       "  'FBRef_name': 'Pachuca',\n",
       "  'liga_pais': 'México',\n",
       "  'FBRef_id': '1be8d2e3'},\n",
       " '49283': {'Club_Name': 'FC Juárez',\n",
       "  'FBRef_name': 'FC Juárez',\n",
       "  'liga_pais': 'México',\n",
       "  'FBRef_id': '29bff345'},\n",
       " '4961': {'Club_Name': 'Querétaro FC',\n",
       "  'FBRef_name': 'Querétaro',\n",
       "  'liga_pais': 'México',\n",
       "  'FBRef_id': 'c3352ce7'},\n",
       " '5662': {'Club_Name': 'Club Puebla',\n",
       "  'FBRef_name': 'Puebla',\n",
       "  'liga_pais': 'México',\n",
       "  'FBRef_id': '73fd2313'},\n",
       " '7633': {'Club_Name': 'Pumas UNAM ',\n",
       "  'FBRef_name': 'UNAM',\n",
       "  'liga_pais': 'México',\n",
       "  'FBRef_id': 'c9d59c6c'},\n",
       " '82696': {'Club_Name': 'Mazatlán FC',\n",
       "  'FBRef_name': 'Mazatlán',\n",
       "  'liga_pais': 'México',\n",
       "  'FBRef_id': 'f0297c23'},\n",
       " '8590': {'Club_Name': 'Atlas Guadalajara',\n",
       "  'FBRef_name': 'Atlas',\n",
       "  'liga_pais': 'México',\n",
       "  'FBRef_id': '7c76bc53'},\n",
       " '28218': {'Club_Name': 'CA Independiente',\n",
       "  'FBRef_name': 'Independiente',\n",
       "  'liga_pais': 'Argentina',\n",
       "  'FBRef_id': '40bb0ce9'},\n",
       " '11855': {'Club_Name': 'Club Guaraní',\n",
       "  'FBRef_name': 'Guaraní',\n",
       "  'liga_pais': 'Paraguay',\n",
       "  'FBRef_id': '6c3c25bd'},\n",
       " '1214': {'Club_Name': 'Club Cerro Porteño',\n",
       "  'FBRef_name': 'Cerro Porteño',\n",
       "  'liga_pais': 'Paraguay',\n",
       "  'FBRef_id': 'e4cd6f9a'},\n",
       " '14491': {'Club_Name': 'Club Sol de América',\n",
       "  'FBRef_name': 'Sol de América',\n",
       "  'liga_pais': 'Paraguay',\n",
       "  'FBRef_id': 'e58fd7d6'},\n",
       " '629': {'Club_Name': 'Club Olimpia Asunción',\n",
       "  'FBRef_name': 'Olimpia',\n",
       "  'liga_pais': 'Paraguay',\n",
       "  'FBRef_id': '4d4fc0b8'},\n",
       " '6880': {'Club_Name': 'Tacuary Football Club',\n",
       "  'FBRef_name': 'Tacuary',\n",
       "  'liga_pais': 'Paraguay',\n",
       "  'FBRef_id': 'f2769f46'},\n",
       " '7098': {'Club_Name': 'Club Nacional Asunción',\n",
       "  'FBRef_name': 'Nacional',\n",
       "  'liga_pais': 'Paraguay',\n",
       "  'FBRef_id': '264fce29'},\n",
       " '7656': {'Club_Name': 'Sportivo Luqueño',\n",
       "  'FBRef_name': 'Sport Luqueño',\n",
       "  'liga_pais': 'Paraguay',\n",
       "  'FBRef_id': 'd7e6c419'},\n",
       " '95571': {'Club_Name': 'Sportivo Ameliano',\n",
       "  'FBRef_name': 'Sportivo Ameliano',\n",
       "  'liga_pais': 'Paraguay',\n",
       "  'FBRef_id': 'be1ec8eb'},\n",
       " '95573': {'Club_Name': 'Club General Caballero (JLM)',\n",
       "  'FBRef_name': 'Club General Caballero JLM',\n",
       "  'liga_pais': 'Paraguay',\n",
       "  'FBRef_id': '789c2535'},\n",
       " '9875': {'Club_Name': 'Club Libertad Asunción',\n",
       "  'FBRef_name': 'Libertad',\n",
       "  'liga_pais': 'Paraguay',\n",
       "  'FBRef_id': 'ae107695'},\n",
       " '184': {'Club_Name': 'Club Alianza Lima',\n",
       "  'FBRef_name': 'Alianza Lima',\n",
       "  'liga_pais': 'Peru',\n",
       "  'FBRef_id': 'cdbccdc1'},\n",
       " '19520': {'Club_Name': 'Carlos A. Mannucci',\n",
       "  'FBRef_name': 'Mannucci',\n",
       "  'liga_pais': 'Peru',\n",
       "  'FBRef_id': '0beae1a9'},\n",
       " '2729': {'Club_Name': 'Club Cienciano',\n",
       "  'FBRef_name': 'Cienciano',\n",
       "  'liga_pais': 'Peru',\n",
       "  'FBRef_id': 'adf57493'},\n",
       " '1301': {'Club_Name': 'CS Marítimo',\n",
       "  'FBRef_name': 'Marítimo',\n",
       "  'liga_pais': 'Portugal',\n",
       "  'FBRef_id': 'c1b0f61b'},\n",
       " '294': {'Club_Name': 'SL Benfica',\n",
       "  'FBRef_name': 'Benfica',\n",
       "  'liga_pais': 'Portugal',\n",
       "  'FBRef_id': 'a77c513e'},\n",
       " '7179': {'Club_Name': 'CD Tondela',\n",
       "  'FBRef_name': 'Tondela',\n",
       "  'liga_pais': 'Portugal',\n",
       "  'FBRef_id': 'e442fa76'},\n",
       " '8024': {'Club_Name': 'FC Arouca',\n",
       "  'FBRef_name': 'Arouca',\n",
       "  'liga_pais': 'Portugal',\n",
       "  'FBRef_id': '0d36ddd4'},\n",
       " '10632': {'Club_Name': 'CA Rentistas',\n",
       "  'FBRef_name': 'Rentistas',\n",
       "  'liga_pais': 'Uruguay',\n",
       "  'FBRef_id': '1be8cdcb'},\n",
       " '10663': {'Club_Name': 'Liverpool FC Montevideo',\n",
       "  'FBRef_name': 'Liverpool',\n",
       "  'liga_pais': 'Uruguay',\n",
       "  'FBRef_id': 'e87167c6'},\n",
       " '1306': {'Club_Name': 'Danubio FC',\n",
       "  'FBRef_name': 'Danubio',\n",
       "  'liga_pais': 'Uruguay',\n",
       "  'FBRef_id': '84985282'},\n",
       " '14758': {'Club_Name': 'Racing Club de Montevideo',\n",
       "  'FBRef_name': 'Racing',\n",
       "  'liga_pais': 'Uruguay',\n",
       "  'FBRef_id': '8d694a3d'},\n",
       " '1806': {'Club_Name': 'IA Sud América ',\n",
       "  'FBRef_name': 'Sud América',\n",
       "  'liga_pais': 'Uruguay',\n",
       "  'FBRef_id': '900e1c7e'},\n",
       " '18074': {'Club_Name': 'CA Boston River',\n",
       "  'FBRef_name': 'Boston River',\n",
       "  'liga_pais': 'Uruguay',\n",
       "  'FBRef_id': 'd10036ca'},\n",
       " '18075': {'Club_Name': 'Club Deportivo Maldonado',\n",
       "  'FBRef_name': 'Maldonado',\n",
       "  'liga_pais': 'Uruguay',\n",
       "  'FBRef_id': '78455fe4'},\n",
       " '18077': {'Club_Name': 'CS Cerrito',\n",
       "  'FBRef_name': 'Cerrito',\n",
       "  'liga_pais': 'Uruguay',\n",
       "  'FBRef_id': 'b4354ce8'},\n",
       " '20189': {'Club_Name': 'Cerro Largo FC',\n",
       "  'FBRef_name': 'Cerro Largo',\n",
       "  'liga_pais': 'Uruguay',\n",
       "  'FBRef_id': '7bc956f9'},\n",
       " '2403': {'Club_Name': 'Montevideo Wanderers',\n",
       "  'FBRef_name': 'Wanderers',\n",
       "  'liga_pais': 'Uruguay',\n",
       "  'FBRef_id': '81476932'},\n",
       " '2419': {'Club_Name': 'CA River Plate Montevideo',\n",
       "  'FBRef_name': 'River Plate',\n",
       "  'liga_pais': 'Uruguay',\n",
       "  'FBRef_id': '9ae9b58c'},\n",
       " '2619': {'Club_Name': 'Defensor Sporting Club',\n",
       "  'FBRef_name': 'Defensor',\n",
       "  'liga_pais': 'Uruguay',\n",
       "  'FBRef_id': '563b8846'},\n",
       " '37535': {'Club_Name': 'Montevideo City Torque',\n",
       "  'FBRef_name': 'Torque',\n",
       "  'liga_pais': 'Uruguay',\n",
       "  'FBRef_id': '03d0f9c5'},\n",
       " '3829': {'Club_Name': 'CA Fénix',\n",
       "  'FBRef_name': 'Fénix',\n",
       "  'liga_pais': 'Uruguay',\n",
       "  'FBRef_id': '3a3a612e'},\n",
       " '6044': {'Club_Name': 'Club Plaza Colonia',\n",
       "  'FBRef_name': 'Plaza Colonia',\n",
       "  'liga_pais': 'Uruguay',\n",
       "  'FBRef_id': 'e615d0fe'},\n",
       " '861': {'Club_Name': 'CA Peñarol',\n",
       "  'FBRef_name': 'Peñarol',\n",
       "  'liga_pais': 'Uruguay',\n",
       "  'FBRef_id': 'e2d73ee6'},\n",
       " '866': {'Club_Name': 'Club Nacional',\n",
       "  'FBRef_name': 'Nacional',\n",
       "  'liga_pais': 'Uruguay',\n",
       "  'FBRef_id': '26ebba72'},\n",
       " '122672': {'Club_Name': 'Millonarios FC',\n",
       "  'FBRef_name': 'Millonarios',\n",
       "  'liga_pais': 'Colombia',\n",
       "  'FBRef_id': '4c319052'},\n",
       " '14662': {'Club_Name': 'Club 12 de Octubre de Itauguá',\n",
       "  'FBRef_name': '12 de Octubre',\n",
       "  'liga_pais': 'Paraguay',\n",
       "  'FBRef_id': 'dc728978'},\n",
       " '18087': {'Club_Name': 'CA Fénix',\n",
       "  'FBRef_name': 'Fénix',\n",
       "  'liga_pais': 'Uruguay',\n",
       "  'FBRef_id': '3a3a612e'},\n",
       " '2124': {'Club_Name': 'River Plate Asunción',\n",
       "  'FBRef_name': 'River Plate',\n",
       "  'liga_pais': 'Paraguay',\n",
       "  'FBRef_id': '979102f4'},\n",
       " '29175': {'Club_Name': 'Resistencia Sport Club',\n",
       "  'FBRef_name': 'Resistencia SC',\n",
       "  'liga_pais': 'Paraguay',\n",
       "  'FBRef_id': '251f9616'},\n",
       " '3858': {'Club_Name': 'Deportivo Villa Española',\n",
       "  'FBRef_name': 'Villa Española',\n",
       "  'liga_pais': 'Uruguay',\n",
       "  'FBRef_id': 'c2106ee7'},\n",
       " '63181': {'Club_Name': 'Guaireña FC',\n",
       "  'FBRef_name': 'Guaireña FC',\n",
       "  'liga_pais': 'Paraguay',\n",
       "  'FBRef_id': '257cf097'},\n",
       " '64918': {'Club_Name': 'Athletic Club',\n",
       "  'FBRef_name': 'Athletic Club',\n",
       "  'liga_pais': 'España',\n",
       "  'FBRef_id': '2b390eca'},\n",
       " '281': {'Club_Name': 'Manchester City',\n",
       "  'FBRef_name': 'Manchester City',\n",
       "  'liga_pais': 'Inglaterra',\n",
       "  'FBRef_id': 'b8fd03ef',\n",
       "  'match_score': 100},\n",
       " '985': {'Club_Name': 'Manchester Utd.',\n",
       "  'FBRef_name': 'Manchester Utd',\n",
       "  'liga_pais': 'Inglaterra',\n",
       "  'FBRef_id': '19538871',\n",
       "  'match_score': 100},\n",
       " '31': {'Club_Name': 'Liverpool',\n",
       "  'FBRef_name': 'Liverpool',\n",
       "  'liga_pais': 'Inglaterra',\n",
       "  'FBRef_id': '822bd0ba',\n",
       "  'match_score': 100},\n",
       " '631': {'Club_Name': 'Chelsea',\n",
       "  'FBRef_name': 'Chelsea',\n",
       "  'liga_pais': 'Inglaterra',\n",
       "  'FBRef_id': 'cff3d9bb',\n",
       "  'match_score': 100},\n",
       " '1003': {'Club_Name': 'Leicester City',\n",
       "  'FBRef_name': 'Leicester City',\n",
       "  'liga_pais': 'Inglaterra',\n",
       "  'FBRef_id': 'a2d435b3',\n",
       "  'match_score': 100},\n",
       " '379': {'Club_Name': 'West Ham',\n",
       "  'FBRef_name': 'West Ham',\n",
       "  'liga_pais': 'Inglaterra',\n",
       "  'FBRef_id': '7c21e445',\n",
       "  'match_score': 100},\n",
       " '148': {'Club_Name': 'Tottenham',\n",
       "  'FBRef_name': 'Tottenham',\n",
       "  'liga_pais': 'Inglaterra',\n",
       "  'FBRef_id': '361ca564',\n",
       "  'match_score': 100},\n",
       " '399': {'Club_Name': 'Leeds',\n",
       "  'FBRef_name': 'Leeds United',\n",
       "  'liga_pais': 'Inglaterra',\n",
       "  'FBRef_id': '5bfb9659',\n",
       "  'match_score': 100},\n",
       " '29': {'Club_Name': 'Everton',\n",
       "  'FBRef_name': 'Everton',\n",
       "  'liga_pais': 'Inglaterra',\n",
       "  'FBRef_id': 'd3fd31cc',\n",
       "  'match_score': 100},\n",
       " '405': {'Club_Name': 'Aston Villa',\n",
       "  'FBRef_name': 'Aston Villa',\n",
       "  'liga_pais': 'Inglaterra',\n",
       "  'FBRef_id': '8602292d',\n",
       "  'match_score': 100},\n",
       " '762': {'Club_Name': 'Newcastle Utd.',\n",
       "  'FBRef_name': 'Newcastle Utd',\n",
       "  'liga_pais': 'Inglaterra',\n",
       "  'FBRef_id': 'b2b47a98',\n",
       "  'match_score': 100},\n",
       " '873': {'Club_Name': 'Crystal Palace',\n",
       "  'FBRef_name': 'Crystal Palace',\n",
       "  'liga_pais': 'Inglaterra',\n",
       "  'FBRef_id': '47c64c55',\n",
       "  'match_score': 100},\n",
       " '180': {'Club_Name': 'Southampton',\n",
       "  'FBRef_name': 'Southampton',\n",
       "  'liga_pais': 'Inglaterra',\n",
       "  'FBRef_id': '33c895d4',\n",
       "  'match_score': 100},\n",
       " '1237': {'Club_Name': 'Brighton',\n",
       "  'FBRef_name': 'Brighton',\n",
       "  'liga_pais': 'Inglaterra',\n",
       "  'FBRef_id': 'd07537b9',\n",
       "  'match_score': 100},\n",
       " '1132': {'Club_Name': 'Burnley',\n",
       "  'FBRef_name': 'Burnley',\n",
       "  'liga_pais': 'Inglaterra',\n",
       "  'FBRef_id': '943e8050',\n",
       "  'match_score': 100},\n",
       " '931': {'Club_Name': 'Fulham',\n",
       "  'FBRef_name': 'Fulham',\n",
       "  'liga_pais': 'Inglaterra',\n",
       "  'FBRef_id': 'fd962109',\n",
       "  'match_score': 100},\n",
       " '984': {'Club_Name': 'West Brom',\n",
       "  'FBRef_name': 'West Brom',\n",
       "  'liga_pais': 'Inglaterra',\n",
       "  'FBRef_id': '60c6b05f',\n",
       "  'match_score': 100},\n",
       " '1148': {'Club_Name': 'Brentford',\n",
       "  'FBRef_name': 'Brentford',\n",
       "  'liga_pais': 'Inglaterra',\n",
       "  'FBRef_id': 'cd051869',\n",
       "  'match_score': 100},\n",
       " '1010': {'Club_Name': 'Watford',\n",
       "  'FBRef_name': 'Watford',\n",
       "  'liga_pais': 'Inglaterra',\n",
       "  'FBRef_id': '2abfe087',\n",
       "  'match_score': 100},\n",
       " '1123': {'Club_Name': 'Norwich',\n",
       "  'FBRef_name': 'Norwich City',\n",
       "  'liga_pais': 'Inglaterra',\n",
       "  'FBRef_id': '1c781004',\n",
       "  'match_score': 100},\n",
       " '989': {'Club_Name': 'Bournemouth',\n",
       "  'FBRef_name': 'Bournemouth',\n",
       "  'liga_pais': 'Inglaterra',\n",
       "  'FBRef_id': '4ba7cbea',\n",
       "  'match_score': 100},\n",
       " '1031': {'Club_Name': 'Luton',\n",
       "  'FBRef_name': 'Luton Town',\n",
       "  'liga_pais': 'Inglaterra',\n",
       "  'FBRef_id': 'e297cd13',\n",
       "  'match_score': 100},\n",
       " '350': {'Club_Name': 'Sheff Utd',\n",
       "  'FBRef_name': 'Sheffield Utd',\n",
       "  'liga_pais': 'Inglaterra',\n",
       "  'FBRef_id': '1df6b87e',\n",
       "  'match_score': 82},\n",
       " '703': {'Club_Name': 'Nottm Forest',\n",
       "  'FBRef_name': \"Nott'ham Forest\",\n",
       "  'liga_pais': 'Inglaterra',\n",
       "  'FBRef_id': 'e4a775cb',\n",
       "  'match_score': 81},\n",
       " '12179': {'Club_Name': 'Ind. Rivadavia',\n",
       "  'FBRef_name': 'Independiente Rivadavia',\n",
       "  'liga_pais': 'Argentina',\n",
       "  'FBRef_id': '8a9d5afa',\n",
       "  'match_score': 82},\n",
       " '131': {'Club_Name': 'FC Barcelona',\n",
       "  'FBRef_name': 'Barcelona',\n",
       "  'liga_pais': 'España',\n",
       "  'FBRef_id': '206d90db',\n",
       "  'match_score': 100},\n",
       " '418': {'Club_Name': 'Real Madrid',\n",
       "  'FBRef_name': 'Real Madrid',\n",
       "  'liga_pais': 'España',\n",
       "  'FBRef_id': '53a2f082',\n",
       "  'match_score': 100},\n",
       " '13': {'Club_Name': 'Atlético Madrid',\n",
       "  'FBRef_name': 'Atlético Madrid',\n",
       "  'liga_pais': 'España',\n",
       "  'FBRef_id': 'db3b9613',\n",
       "  'match_score': 100},\n",
       " '681': {'Club_Name': 'Real Sociedad',\n",
       "  'FBRef_name': 'Real Sociedad',\n",
       "  'liga_pais': 'España',\n",
       "  'FBRef_id': 'e31d1cd9',\n",
       "  'match_score': 100},\n",
       " '1050': {'Club_Name': 'Villarreal CF',\n",
       "  'FBRef_name': 'Villarreal',\n",
       "  'liga_pais': 'España',\n",
       "  'FBRef_id': '2a8183b3',\n",
       "  'match_score': 100},\n",
       " '331': {'Club_Name': 'CA Osasuna',\n",
       "  'FBRef_name': 'Osasuna',\n",
       "  'liga_pais': 'España',\n",
       "  'FBRef_id': '03c57e2b',\n",
       "  'match_score': 100},\n",
       " '12321': {'Club_Name': 'Girona FC',\n",
       "  'FBRef_name': 'Girona',\n",
       "  'liga_pais': 'España',\n",
       "  'FBRef_id': '9024a00a',\n",
       "  'match_score': 100},\n",
       " '3709': {'Club_Name': 'Getafe CF',\n",
       "  'FBRef_name': 'Getafe',\n",
       "  'liga_pais': 'España',\n",
       "  'FBRef_id': '7848bd64',\n",
       "  'match_score': 100},\n",
       " '2687': {'Club_Name': 'Cádiz CF',\n",
       "  'FBRef_name': 'Cádiz',\n",
       "  'liga_pais': 'España',\n",
       "  'FBRef_id': 'ee7c297c',\n",
       "  'match_score': 100},\n",
       " '3302': {'Club_Name': 'UD Almería',\n",
       "  'FBRef_name': 'Almería',\n",
       "  'liga_pais': 'España',\n",
       "  'FBRef_id': '78ecf4bb',\n",
       "  'match_score': 100},\n",
       " '714': {'Club_Name': 'RCD Espanyol',\n",
       "  'FBRef_name': 'Espanyol',\n",
       "  'liga_pais': 'España',\n",
       "  'FBRef_id': 'a8661628',\n",
       "  'match_score': 100},\n",
       " '1244': {'Club_Name': 'CD Leganés',\n",
       "  'FBRef_name': 'Leganés',\n",
       "  'liga_pais': 'España',\n",
       "  'FBRef_id': '7c6f2c78',\n",
       "  'match_score': 100},\n",
       " '46': {'Club_Name': 'Inter',\n",
       "  'FBRef_name': 'Inter',\n",
       "  'liga_pais': 'Italia',\n",
       "  'FBRef_id': 'd609edc0',\n",
       "  'match_score': 100},\n",
       " '5': {'Club_Name': 'AC Milan',\n",
       "  'FBRef_name': 'Milan',\n",
       "  'liga_pais': 'Italia',\n",
       "  'FBRef_id': 'dc56fe14',\n",
       "  'match_score': 100},\n",
       " '800': {'Club_Name': 'Atalanta',\n",
       "  'FBRef_name': 'Atalanta',\n",
       "  'liga_pais': 'Italia',\n",
       "  'FBRef_id': '922493f3',\n",
       "  'match_score': 100},\n",
       " '506': {'Club_Name': 'Juventus',\n",
       "  'FBRef_name': 'Juventus',\n",
       "  'liga_pais': 'Italia',\n",
       "  'FBRef_id': 'e0652b02',\n",
       "  'match_score': 100},\n",
       " '6195': {'Club_Name': 'Napoli',\n",
       "  'FBRef_name': 'Napoli',\n",
       "  'liga_pais': 'Italia',\n",
       "  'FBRef_id': 'd48ad4ff',\n",
       "  'match_score': 100},\n",
       " '398': {'Club_Name': 'Lazio',\n",
       "  'FBRef_name': 'Lazio',\n",
       "  'liga_pais': 'Italia',\n",
       "  'FBRef_id': '7213da33',\n",
       "  'match_score': 100},\n",
       " '12': {'Club_Name': 'AS Roma',\n",
       "  'FBRef_name': 'Roma',\n",
       "  'liga_pais': 'Italia',\n",
       "  'FBRef_id': 'cf74a709',\n",
       "  'match_score': 100},\n",
       " '6574': {'Club_Name': 'Sassuolo',\n",
       "  'FBRef_name': 'Sassuolo',\n",
       "  'liga_pais': 'Italia',\n",
       "  'FBRef_id': 'e2befd26',\n",
       "  'match_score': 100},\n",
       " '1038': {'Club_Name': 'Sampdoria',\n",
       "  'FBRef_name': 'Sampdoria',\n",
       "  'liga_pais': 'Italia',\n",
       "  'FBRef_id': '8ff9e3b3',\n",
       "  'match_score': 100},\n",
       " '276': {'Club_Name': 'Hellas Verona',\n",
       "  'FBRef_name': 'Hellas Verona',\n",
       "  'liga_pais': 'Italia',\n",
       "  'FBRef_id': '0e72edf2',\n",
       "  'match_score': 100},\n",
       " '252': {'Club_Name': 'Génova',\n",
       "  'FBRef_name': 'Genoa',\n",
       "  'liga_pais': 'Italia',\n",
       "  'FBRef_id': '658bf2de',\n",
       "  'match_score': 80},\n",
       " '1025': {'Club_Name': 'Bolonia',\n",
       "  'FBRef_name': 'Bologna',\n",
       "  'liga_pais': 'Italia',\n",
       "  'FBRef_id': '1d8099f8',\n",
       "  'match_score': 86},\n",
       " '430': {'Club_Name': 'Fiorentina',\n",
       "  'FBRef_name': 'Fiorentina',\n",
       "  'liga_pais': 'Italia',\n",
       "  'FBRef_id': '421387cf',\n",
       "  'match_score': 100},\n",
       " '410': {'Club_Name': 'Udinese',\n",
       "  'FBRef_name': 'Udinese',\n",
       "  'liga_pais': 'Italia',\n",
       "  'FBRef_id': '04eea015',\n",
       "  'match_score': 100},\n",
       " '3522': {'Club_Name': 'Spezia',\n",
       "  'FBRef_name': 'Spezia',\n",
       "  'liga_pais': 'Italia',\n",
       "  'FBRef_id': '68449f6d',\n",
       "  'match_score': 100},\n",
       " '416': {'Club_Name': 'Torino',\n",
       "  'FBRef_name': 'Torino',\n",
       "  'liga_pais': 'Italia',\n",
       "  'FBRef_id': '105360fe',\n",
       "  'match_score': 100},\n",
       " '4171': {'Club_Name': 'Benevento',\n",
       "  'FBRef_name': 'Benevento',\n",
       "  'liga_pais': 'Italia',\n",
       "  'FBRef_id': '4fcb34fd',\n",
       "  'match_score': 100},\n",
       " '4083': {'Club_Name': 'Crotone',\n",
       "  'FBRef_name': 'Crotone',\n",
       "  'liga_pais': 'Italia',\n",
       "  'FBRef_id': '3074d7b1',\n",
       "  'match_score': 100},\n",
       " '749': {'Club_Name': 'Empoli',\n",
       "  'FBRef_name': 'Empoli',\n",
       "  'liga_pais': 'Italia',\n",
       "  'FBRef_id': 'a3d88bd8',\n",
       "  'match_score': 100},\n",
       " '2919': {'Club_Name': 'Monza',\n",
       "  'FBRef_name': 'Monza',\n",
       "  'liga_pais': 'Italia',\n",
       "  'FBRef_id': '21680aa4',\n",
       "  'match_score': 100},\n",
       " '1005': {'Club_Name': 'Lecce',\n",
       "  'FBRef_name': 'Lecce',\n",
       "  'liga_pais': 'Italia',\n",
       "  'FBRef_id': 'ffcbe334',\n",
       "  'match_score': 100},\n",
       " '8970': {'Club_Name': 'Frosinone',\n",
       "  'FBRef_name': 'Frosinone',\n",
       "  'liga_pais': 'Italia',\n",
       "  'FBRef_id': '6a7ad59d',\n",
       "  'match_score': 100},\n",
       " '1047': {'Club_Name': 'Como',\n",
       "  'FBRef_name': 'Como',\n",
       "  'liga_pais': 'Italia',\n",
       "  'FBRef_id': '28c9c3cd',\n",
       "  'match_score': 100},\n",
       " '17222': {'Club_Name': 'Antofagasta',\n",
       "  'FBRef_name': 'Antofagasta',\n",
       "  'liga_pais': 'Chile',\n",
       "  'FBRef_id': 'fb8c42a7',\n",
       "  'match_score': 100},\n",
       " '17482': {'Club_Name': 'Cobresal',\n",
       "  'FBRef_name': 'Cobresal',\n",
       "  'liga_pais': 'Chile',\n",
       "  'FBRef_id': 'ed392b02',\n",
       "  'match_score': 100},\n",
       " '5622': {'Club_Name': 'U. Concepción',\n",
       "  'FBRef_name': 'U Concepción',\n",
       "  'liga_pais': 'Chile',\n",
       "  'FBRef_id': '01b96636',\n",
       "  'match_score': 100},\n",
       " '18076': {'Club_Name': 'Iquique',\n",
       "  'FBRef_name': 'Iquique',\n",
       "  'liga_pais': 'Chile',\n",
       "  'FBRef_id': 'c1d9f388',\n",
       "  'match_score': 100},\n",
       " '11004': {'Club_Name': 'Coquimbo',\n",
       "  'FBRef_name': 'Coquimbo Unido',\n",
       "  'liga_pais': 'Chile',\n",
       "  'FBRef_id': '85c3a70f',\n",
       "  'match_score': 100},\n",
       " '12949': {'Club_Name': 'Melipilla',\n",
       "  'FBRef_name': 'Deportes Melipilla',\n",
       "  'liga_pais': 'Chile',\n",
       "  'FBRef_id': 'd124af3f',\n",
       "  'match_score': 100},\n",
       " '20694': {'Club_Name': 'Copiapó',\n",
       "  'FBRef_name': 'Deportes Copiapó',\n",
       "  'liga_pais': 'Chile',\n",
       "  'FBRef_id': '40d7a591',\n",
       "  'match_score': 100},\n",
       " '9103': {'Club_Name': 'Cobreloa',\n",
       "  'FBRef_name': 'Cobreloa',\n",
       "  'liga_pais': 'Chile',\n",
       "  'FBRef_id': '69a3f4b2',\n",
       "  'match_score': 100},\n",
       " '614': {'Club_Name': 'Flamengo',\n",
       "  'FBRef_name': 'Flamengo',\n",
       "  'liga_pais': 'Brasil',\n",
       "  'FBRef_id': '639950ae',\n",
       "  'match_score': 100},\n",
       " '330': {'Club_Name': 'Atl. Mineiro',\n",
       "  'FBRef_name': 'Atlético Mineiro',\n",
       "  'liga_pais': 'Brasil',\n",
       "  'FBRef_id': '422bb734',\n",
       "  'match_score': 85},\n",
       " '8793': {'Club_Name': 'RB Bragantino',\n",
       "  'FBRef_name': 'Red Bull Bragantino',\n",
       "  'liga_pais': 'Brasil',\n",
       "  'FBRef_id': 'f98930d1',\n",
       "  'match_score': 87},\n",
       " '2029': {'Club_Name': 'Ceará SC',\n",
       "  'FBRef_name': 'Ceará',\n",
       "  'liga_pais': 'Brasil',\n",
       "  'FBRef_id': '2f335e17',\n",
       "  'match_score': 100},\n",
       " '15172': {'Club_Name': 'Atlético-GO',\n",
       "  'FBRef_name': 'Atlético Mineiro',\n",
       "  'liga_pais': 'Brasil',\n",
       "  'FBRef_id': '422bb734',\n",
       "  'match_score': 82},\n",
       " '8718': {'Club_Name': 'Sport Recife',\n",
       "  'FBRef_name': 'Sport Recife',\n",
       "  'liga_pais': 'Brasil',\n",
       "  'FBRef_id': 'ece66b78',\n",
       "  'match_score': 100},\n",
       " '3197': {'Club_Name': 'Goiás',\n",
       "  'FBRef_name': 'Goiás',\n",
       "  'liga_pais': 'Brasil',\n",
       "  'FBRef_id': '78c617cc',\n",
       "  'match_score': 100},\n",
       " '537': {'Club_Name': 'Botafogo',\n",
       "  'FBRef_name': 'Botafogo (RJ)',\n",
       "  'liga_pais': 'Brasil',\n",
       "  'FBRef_id': 'd9fdd9d9',\n",
       "  'match_score': 100},\n",
       " '28022': {'Club_Name': 'Cuiabá-MT',\n",
       "  'FBRef_name': 'Cuiabá',\n",
       "  'liga_pais': 'Brasil',\n",
       "  'FBRef_id': 'f0e6fb14',\n",
       "  'match_score': 100},\n",
       " '10492': {'Club_Name': 'Juventude',\n",
       "  'FBRef_name': 'Juventude',\n",
       "  'liga_pais': 'Brasil',\n",
       "  'FBRef_id': 'd081b697',\n",
       "  'match_score': 100},\n",
       " '17776': {'Club_Name': 'Chapecoense',\n",
       "  'FBRef_name': 'Chapecoense',\n",
       "  'liga_pais': 'Brasil',\n",
       "  'FBRef_id': 'baa296ad',\n",
       "  'match_score': 100},\n",
       " '2125': {'Club_Name': 'EC Vitória',\n",
       "  'FBRef_name': 'Vitória',\n",
       "  'liga_pais': 'Brasil',\n",
       "  'FBRef_id': '33f95fe0',\n",
       "  'match_score': 100},\n",
       " '7178': {'Club_Name': 'Criciúma EC',\n",
       "  'FBRef_name': 'Criciúma',\n",
       "  'liga_pais': 'Brasil',\n",
       "  'FBRef_id': '3f7595bb',\n",
       "  'match_score': 100},\n",
       " '17426': {'Club_Name': 'CD Macará',\n",
       "  'FBRef_name': 'Macará',\n",
       "  'liga_pais': 'Ecuador',\n",
       "  'FBRef_id': '8e8ff33e',\n",
       "  'match_score': 100},\n",
       " '19104': {'Club_Name': 'Técnico U.',\n",
       "  'FBRef_name': 'Técnico Univ.',\n",
       "  'liga_pais': 'Ecuador',\n",
       "  'FBRef_id': '3af5df16',\n",
       "  'match_score': 86},\n",
       " '25569': {'Club_Name': 'Guayaquil City',\n",
       "  'FBRef_name': 'Guayaquil City',\n",
       "  'liga_pais': 'Ecuador',\n",
       "  'FBRef_id': '9c3c38e4',\n",
       "  'match_score': 100},\n",
       " '25576': {'Club_Name': 'Mushuc Runa SC',\n",
       "  'FBRef_name': 'Mushuc Runa',\n",
       "  'liga_pais': 'Ecuador',\n",
       "  'FBRef_id': 'bbbdfd99',\n",
       "  'match_score': 100},\n",
       " '9854': {'Club_Name': 'CD Olmedo',\n",
       "  'FBRef_name': 'Olmedo',\n",
       "  'liga_pais': 'Ecuador',\n",
       "  'FBRef_id': '40339a93',\n",
       "  'match_score': 100},\n",
       " '1143': {'Club_Name': 'CD El Nacional',\n",
       "  'FBRef_name': 'El Nacional',\n",
       "  'liga_pais': 'Ecuador',\n",
       "  'FBRef_id': '0a14831e',\n",
       "  'match_score': 100},\n",
       " '19310': {'Club_Name': 'LDU Portoviejo',\n",
       "  'FBRef_name': 'LDU Portoviejo',\n",
       "  'liga_pais': 'Ecuador',\n",
       "  'FBRef_id': '82bb8427',\n",
       "  'match_score': 100},\n",
       " '36020': {'Club_Name': 'Orense SC',\n",
       "  'FBRef_name': 'Orense',\n",
       "  'liga_pais': 'Ecuador',\n",
       "  'FBRef_id': '98637027',\n",
       "  'match_score': 100},\n",
       " '19101': {'Club_Name': 'AD 9 de Octubre',\n",
       "  'FBRef_name': 'Club 9 de Octubre',\n",
       "  'liga_pais': 'Ecuador',\n",
       "  'FBRef_id': 'f7dac7a4',\n",
       "  'match_score': 89},\n",
       " '25698': {'Club_Name': 'Gualaceo SC',\n",
       "  'FBRef_name': 'Gualaceo Sporting Club',\n",
       "  'liga_pais': 'Ecuador',\n",
       "  'FBRef_id': 'a085e151',\n",
       "  'match_score': 84},\n",
       " '41301': {'Club_Name': 'Cumbayá FC',\n",
       "  'FBRef_name': 'Cumbayá FC',\n",
       "  'liga_pais': 'Ecuador',\n",
       "  'FBRef_id': 'e3086cf4',\n",
       "  'match_score': 100},\n",
       " '87068': {'Club_Name': 'Libertad FC',\n",
       "  'FBRef_name': 'Libertad FC',\n",
       "  'liga_pais': 'Ecuador',\n",
       "  'FBRef_id': 'c33d7826',\n",
       "  'match_score': 100},\n",
       " '17476': {'Club_Name': 'Imbabura SC',\n",
       "  'FBRef_name': 'Imbabura Sporting Club',\n",
       "  'liga_pais': 'Ecuador',\n",
       "  'FBRef_id': 'f9c314af',\n",
       "  'match_score': 84},\n",
       " '17595': {'Club_Name': 'Progreso',\n",
       "  'FBRef_name': 'Progreso',\n",
       "  'liga_pais': 'Uruguay',\n",
       "  'FBRef_id': '24c7f1a7',\n",
       "  'match_score': 100},\n",
       " '14806': {'Club_Name': 'CA Cerro',\n",
       "  'FBRef_name': 'Cerro',\n",
       "  'liga_pais': 'Uruguay',\n",
       "  'FBRef_id': 'ee73b6b7',\n",
       "  'match_score': 100},\n",
       " '42149': {'Club_Name': 'Albion FC',\n",
       "  'FBRef_name': 'Albion FC',\n",
       "  'liga_pais': 'Uruguay',\n",
       "  'FBRef_id': '1bec899e',\n",
       "  'match_score': 100},\n",
       " '20762': {'Club_Name': 'La Luz',\n",
       "  'FBRef_name': 'La Luz FC',\n",
       "  'liga_pais': 'Uruguay',\n",
       "  'FBRef_id': 'd7fb2120',\n",
       "  'match_score': 100},\n",
       " '14598': {'Club_Name': 'Rampla Jrs',\n",
       "  'FBRef_name': 'Rampla Juniors',\n",
       "  'liga_pais': 'Uruguay',\n",
       "  'FBRef_id': 'a7c60f68',\n",
       "  'match_score': 83},\n",
       " '7477': {'Club_Name': 'Miramar',\n",
       "  'FBRef_name': 'Miramar Misiones',\n",
       "  'liga_pais': 'Uruguay',\n",
       "  'FBRef_id': '1d0880a6',\n",
       "  'match_score': 100},\n",
       " '6495': {'Club_Name': 'A. Bucaramanga',\n",
       "  'FBRef_name': 'CA Bucaramanga',\n",
       "  'liga_pais': 'Colombia',\n",
       "  'FBRef_id': '9b9a8c22',\n",
       "  'match_score': 96},\n",
       " '17425': {'Club_Name': 'CD La Equidad',\n",
       "  'FBRef_name': 'La Equidad',\n",
       "  'liga_pais': 'Colombia',\n",
       "  'FBRef_id': '16b2606a',\n",
       "  'match_score': 100},\n",
       " '22902': {'Club_Name': 'Alianza FC',\n",
       "  'FBRef_name': 'Alianza',\n",
       "  'liga_pais': 'Colombia',\n",
       "  'FBRef_id': 'ffc8a1d6',\n",
       "  'match_score': 100},\n",
       " '39252': {'Club_Name': 'Jaguares FC',\n",
       "  'FBRef_name': 'Jaguares',\n",
       "  'liga_pais': 'Colombia',\n",
       "  'FBRef_id': '024b201d',\n",
       "  'match_score': 100},\n",
       " '14649': {'Club_Name': 'Boyacá Chicó',\n",
       "  'FBRef_name': 'Boyacá Chicó',\n",
       "  'liga_pais': 'Colombia',\n",
       "  'FBRef_id': 'f46a80fc',\n",
       "  'match_score': 100},\n",
       " '2351': {'Club_Name': 'Quindío',\n",
       "  'FBRef_name': 'Deportes Quindío',\n",
       "  'liga_pais': 'Colombia',\n",
       "  'FBRef_id': '7301864f',\n",
       "  'match_score': 100},\n",
       " '14583': {'Club_Name': 'Atlético Huila',\n",
       "  'FBRef_name': 'Atlético Huila',\n",
       "  'liga_pais': 'Colombia',\n",
       "  'FBRef_id': '5d3835bb',\n",
       "  'match_score': 100},\n",
       " '14680': {'Club_Name': 'Union Magdalena',\n",
       "  'FBRef_name': 'Unión Magdalena',\n",
       "  'liga_pais': 'Colombia',\n",
       "  'FBRef_id': '418eab1a',\n",
       "  'match_score': 97},\n",
       " '32041': {'Club_Name': 'Fortaleza CEIF',\n",
       "  'FBRef_name': 'Fortaleza FC',\n",
       "  'liga_pais': 'Colombia',\n",
       "  'FBRef_id': 'e1d2289f',\n",
       "  'match_score': 86},\n",
       " '19124': {'Club_Name': 'CS San Lorenzo',\n",
       "  'FBRef_name': 'San Lorenzo',\n",
       "  'liga_pais': 'Paraguay',\n",
       "  'FBRef_id': '3a980b79',\n",
       "  'match_score': 100},\n",
       " '17483': {'Club_Name': 'General Diaz',\n",
       "  'FBRef_name': 'General Díaz',\n",
       "  'liga_pais': 'Paraguay',\n",
       "  'FBRef_id': '352504c0',\n",
       "  'match_score': 96},\n",
       " '17427': {'Club_Name': 'Trinidense',\n",
       "  'FBRef_name': 'Sportivo Trinidense',\n",
       "  'liga_pais': 'Paraguay',\n",
       "  'FBRef_id': '350ce469',\n",
       "  'match_score': 100},\n",
       " '17484': {'Club_Name': '2 de Mayo',\n",
       "  'FBRef_name': '2 de Mayo',\n",
       "  'liga_pais': 'Paraguay',\n",
       "  'FBRef_id': 'ebdc0225',\n",
       "  'match_score': 100},\n",
       " '4941': {'Club_Name': 'León',\n",
       "  'FBRef_name': 'León',\n",
       "  'liga_pais': 'México',\n",
       "  'FBRef_id': 'fd7dad55',\n",
       "  'match_score': 100},\n",
       " '7055': {'Club_Name': 'Tigres UANL',\n",
       "  'FBRef_name': 'UANL',\n",
       "  'liga_pais': 'México',\n",
       "  'FBRef_id': 'd9e1bd51',\n",
       "  'match_score': 100},\n",
       " '610': {'Club_Name': 'Ajax',\n",
       "  'FBRef_name': 'Ajax',\n",
       "  'liga_pais': 'Países Bajos',\n",
       "  'FBRef_id': '19c3f8c4',\n",
       "  'match_score': 100},\n",
       " '383': {'Club_Name': 'PSV',\n",
       "  'FBRef_name': 'PSV Eindhoven',\n",
       "  'liga_pais': 'Países Bajos',\n",
       "  'FBRef_id': 'e334d850',\n",
       "  'match_score': 100},\n",
       " '1090': {'Club_Name': 'AZ Alkmaar',\n",
       "  'FBRef_name': 'AZ Alkmaar',\n",
       "  'liga_pais': 'Países Bajos',\n",
       "  'FBRef_id': '3986b791',\n",
       "  'match_score': 100},\n",
       " '499': {'Club_Name': 'Vitesse',\n",
       "  'FBRef_name': 'Vitesse',\n",
       "  'liga_pais': 'Países Bajos',\n",
       "  'FBRef_id': '209d7fa2',\n",
       "  'match_score': 100},\n",
       " '234': {'Club_Name': 'Feyenoord',\n",
       "  'FBRef_name': 'Feyenoord',\n",
       "  'liga_pais': 'Países Bajos',\n",
       "  'FBRef_id': 'fb4ca611',\n",
       "  'match_score': 100},\n",
       " '200': {'Club_Name': 'FC Utrecht',\n",
       "  'FBRef_name': 'Utrecht',\n",
       "  'liga_pais': 'Países Bajos',\n",
       "  'FBRef_id': '2a428619',\n",
       "  'match_score': 100},\n",
       " '202': {'Club_Name': 'FC Groningen',\n",
       "  'FBRef_name': 'Groningen',\n",
       "  'liga_pais': 'Países Bajos',\n",
       "  'FBRef_id': 'bec05adb',\n",
       "  'match_score': 100},\n",
       " '468': {'Club_Name': 'Sparta R.',\n",
       "  'FBRef_name': \"Sparta R'dam\",\n",
       "  'liga_pais': 'Países Bajos',\n",
       "  'FBRef_id': '146a68ce',\n",
       "  'match_score': 100},\n",
       " '1304': {'Club_Name': 'Heracles Almelo',\n",
       "  'FBRef_name': 'Heracles Almelo',\n",
       "  'liga_pais': 'Países Bajos',\n",
       "  'FBRef_id': 'c882b88e',\n",
       "  'match_score': 100},\n",
       " '317': {'Club_Name': 'FC Twente',\n",
       "  'FBRef_name': 'Twente',\n",
       "  'liga_pais': 'Países Bajos',\n",
       "  'FBRef_id': 'a1f721d3',\n",
       "  'match_score': 100},\n",
       " '385': {'Club_Name': 'Fortuna Sittard',\n",
       "  'FBRef_name': 'Fortuna Sittard',\n",
       "  'liga_pais': 'Países Bajos',\n",
       "  'FBRef_id': 'bd08295c',\n",
       "  'match_score': 100},\n",
       " '306': {'Club_Name': 'Heerenveen',\n",
       "  'FBRef_name': 'Heerenveen',\n",
       "  'liga_pais': 'Países Bajos',\n",
       "  'FBRef_id': '193ff7aa',\n",
       "  'match_score': 100},\n",
       " '1269': {'Club_Name': 'PEC Zwolle',\n",
       "  'FBRef_name': 'Zwolle',\n",
       "  'liga_pais': 'Países Bajos',\n",
       "  'FBRef_id': 'e3db180b',\n",
       "  'match_score': 100},\n",
       " '403': {'Club_Name': 'Willem II',\n",
       "  'FBRef_name': 'Willem II',\n",
       "  'liga_pais': 'Países Bajos',\n",
       "  'FBRef_id': 'f0479d7b',\n",
       "  'match_score': 100},\n",
       " '235': {'Club_Name': 'RKC Waalwijk',\n",
       "  'FBRef_name': 'RKC Waalwijk',\n",
       "  'liga_pais': 'Países Bajos',\n",
       "  'FBRef_id': 'bb14adb3',\n",
       "  'match_score': 100},\n",
       " '1283': {'Club_Name': 'FC Emmen',\n",
       "  'FBRef_name': 'Emmen',\n",
       "  'liga_pais': 'Países Bajos',\n",
       "  'FBRef_id': '01888db1',\n",
       "  'match_score': 100},\n",
       " '1426': {'Club_Name': 'VVV-Venlo',\n",
       "  'FBRef_name': 'VVV-Venlo',\n",
       "  'liga_pais': 'Países Bajos',\n",
       "  'FBRef_id': '534ac6d0',\n",
       "  'match_score': 100},\n",
       " '1268': {'Club_Name': 'ADO Den Haag',\n",
       "  'FBRef_name': 'ADO Den Haag',\n",
       "  'liga_pais': 'Países Bajos',\n",
       "  'FBRef_id': '4e7459b7',\n",
       "  'match_score': 100},\n",
       " '133': {'Club_Name': 'SC Cambuur',\n",
       "  'FBRef_name': 'Cambuur',\n",
       "  'liga_pais': 'Países Bajos',\n",
       "  'FBRef_id': '5c9e307a',\n",
       "  'match_score': 100},\n",
       " '467': {'Club_Name': 'NEC Nijmegen',\n",
       "  'FBRef_name': 'NEC Nijmegen',\n",
       "  'liga_pais': 'Países Bajos',\n",
       "  'FBRef_id': 'fc629994',\n",
       "  'match_score': 100},\n",
       " '1435': {'Club_Name': 'Go Ahead Eagles',\n",
       "  'FBRef_name': 'Go Ahead Eag',\n",
       "  'liga_pais': 'Países Bajos',\n",
       "  'FBRef_id': 'e33d6108',\n",
       "  'match_score': 89},\n",
       " '724': {'Club_Name': 'FC Volendam',\n",
       "  'FBRef_name': 'Volendam',\n",
       "  'liga_pais': 'Países Bajos',\n",
       "  'FBRef_id': '8783f4ee',\n",
       "  'match_score': 100},\n",
       " '798': {'Club_Name': 'Excelsior',\n",
       "  'FBRef_name': 'Excelsior',\n",
       "  'liga_pais': 'Países Bajos',\n",
       "  'FBRef_id': '740cb7d4',\n",
       "  'match_score': 100},\n",
       " '723': {'Club_Name': 'Almere City',\n",
       "  'FBRef_name': 'Almere City',\n",
       "  'liga_pais': 'Países Bajos',\n",
       "  'FBRef_id': '2b41acb5',\n",
       "  'match_score': 100},\n",
       " '132': {'Club_Name': 'NAC Breda',\n",
       "  'FBRef_name': 'NAC Breda',\n",
       "  'liga_pais': 'Países Bajos',\n",
       "  'FBRef_id': '8ed04be8',\n",
       "  'match_score': 100},\n",
       " '63966': {'Club_Name': 'Nashville',\n",
       "  'FBRef_name': 'Nashville SC',\n",
       "  'liga_pais': 'Estados Unidos',\n",
       "  'FBRef_id': '35f1b818',\n",
       "  'match_score': 100},\n",
       " '1082': {'Club_Name': 'LOSC Lille',\n",
       "  'FBRef_name': 'Lille',\n",
       "  'liga_pais': 'Francia',\n",
       "  'FBRef_id': 'cb188c0c',\n",
       "  'match_score': 100},\n",
       " '162': {'Club_Name': 'Mónaco',\n",
       "  'FBRef_name': 'Monaco',\n",
       "  'liga_pais': 'Francia',\n",
       "  'FBRef_id': 'fd6114db',\n",
       "  'match_score': 91},\n",
       " '1041': {'Club_Name': 'Lyon',\n",
       "  'FBRef_name': 'Lyon',\n",
       "  'liga_pais': 'Francia',\n",
       "  'FBRef_id': 'd53c0b06',\n",
       "  'match_score': 100},\n",
       " '273': {'Club_Name': 'Stade Rennes',\n",
       "  'FBRef_name': 'Rennes',\n",
       "  'liga_pais': 'Francia',\n",
       "  'FBRef_id': 'b3072e00',\n",
       "  'match_score': 100},\n",
       " '826': {'Club_Name': 'Lens',\n",
       "  'FBRef_name': 'Lens',\n",
       "  'liga_pais': 'Francia',\n",
       "  'FBRef_id': 'fd4e0f7d',\n",
       "  'match_score': 100},\n",
       " '969': {'Club_Name': 'Montpellier',\n",
       "  'FBRef_name': 'Montpellier',\n",
       "  'liga_pais': 'Francia',\n",
       "  'FBRef_id': '281b0e73',\n",
       "  'match_score': 100},\n",
       " '347': {'Club_Name': 'FC Metz',\n",
       "  'FBRef_name': 'Metz',\n",
       "  'liga_pais': 'Francia',\n",
       "  'FBRef_id': 'f83960ae',\n",
       "  'match_score': 100},\n",
       " '618': {'Club_Name': 'St-Étienne',\n",
       "  'FBRef_name': 'Saint-Étienne',\n",
       "  'liga_pais': 'Francia',\n",
       "  'FBRef_id': 'd298ef2c',\n",
       "  'match_score': 86},\n",
       " '1420': {'Club_Name': 'Angers SCO',\n",
       "  'FBRef_name': 'Angers',\n",
       "  'liga_pais': 'Francia',\n",
       "  'FBRef_id': '69236f98',\n",
       "  'match_score': 100},\n",
       " '1421': {'Club_Name': 'Stade Reims',\n",
       "  'FBRef_name': 'Reims',\n",
       "  'liga_pais': 'Francia',\n",
       "  'FBRef_id': '7fdd64e0',\n",
       "  'match_score': 100},\n",
       " '667': {'Club_Name': 'Estrasburgo',\n",
       "  'FBRef_name': 'Strasbourg',\n",
       "  'liga_pais': 'Francia',\n",
       "  'FBRef_id': 'c0d3eab4',\n",
       "  'match_score': 86},\n",
       " '1158': {'Club_Name': 'FC Lorient',\n",
       "  'FBRef_name': 'Lorient',\n",
       "  'liga_pais': 'Francia',\n",
       "  'FBRef_id': 'd2c87802',\n",
       "  'match_score': 100},\n",
       " '995': {'Club_Name': 'FC Nantes',\n",
       "  'FBRef_name': 'Nantes',\n",
       "  'liga_pais': 'Francia',\n",
       "  'FBRef_id': 'd7a486cd',\n",
       "  'match_score': 100},\n",
       " '1160': {'Club_Name': 'Nîmes',\n",
       "  'FBRef_name': 'Nîmes',\n",
       "  'liga_pais': 'Francia',\n",
       "  'FBRef_id': '1cbf5f9e',\n",
       "  'match_score': 100},\n",
       " '2969': {'Club_Name': 'Dijon',\n",
       "  'FBRef_name': 'Dijon',\n",
       "  'liga_pais': 'Francia',\n",
       "  'FBRef_id': '8dfb7350',\n",
       "  'match_score': 100},\n",
       " '1095': {'Club_Name': 'Troyes',\n",
       "  'FBRef_name': 'Troyes',\n",
       "  'liga_pais': 'Francia',\n",
       "  'FBRef_id': '54195385',\n",
       "  'match_score': 100},\n",
       " '3524': {'Club_Name': 'Clermont Foot',\n",
       "  'FBRef_name': 'Clermont Foot',\n",
       "  'liga_pais': 'Francia',\n",
       "  'FBRef_id': 'd9676424',\n",
       "  'match_score': 100},\n",
       " '415': {'Club_Name': 'Toulouse',\n",
       "  'FBRef_name': 'Toulouse',\n",
       "  'liga_pais': 'Francia',\n",
       "  'FBRef_id': '3f8c4b5f',\n",
       "  'match_score': 100},\n",
       " '290': {'Club_Name': 'AJ Auxerre',\n",
       "  'FBRef_name': 'Auxerre',\n",
       "  'liga_pais': 'Francia',\n",
       "  'FBRef_id': '5ae09109',\n",
       "  'match_score': 100},\n",
       " '1147': {'Club_Name': 'AC Ajaccio',\n",
       "  'FBRef_name': 'Ajaccio',\n",
       "  'liga_pais': 'Francia',\n",
       "  'FBRef_id': '7a54bb4f',\n",
       "  'match_score': 100},\n",
       " '738': {'Club_Name': 'Le Havre AC',\n",
       "  'FBRef_name': 'Le Havre',\n",
       "  'liga_pais': 'Francia',\n",
       "  'FBRef_id': '5c2737db',\n",
       "  'match_score': 100},\n",
       " '27': {'Club_Name': 'Bayern Múnich',\n",
       "  'FBRef_name': 'Bayern Munich',\n",
       "  'liga_pais': 'Alemania',\n",
       "  'FBRef_id': '054efa67',\n",
       "  'match_score': 96},\n",
       " '23826': {'Club_Name': 'RB Leipzig',\n",
       "  'FBRef_name': 'RB Leipzig',\n",
       "  'liga_pais': 'Alemania',\n",
       "  'FBRef_id': 'acbb6a5b',\n",
       "  'match_score': 100},\n",
       " '16': {'Club_Name': 'Bor. Dortmund',\n",
       "  'FBRef_name': 'Dortmund',\n",
       "  'liga_pais': 'Alemania',\n",
       "  'FBRef_id': 'add600ae',\n",
       "  'match_score': 100},\n",
       " '15': {'Club_Name': 'B. Leverkusen',\n",
       "  'FBRef_name': 'Leverkusen',\n",
       "  'liga_pais': 'Alemania',\n",
       "  'FBRef_id': 'c7a9f859',\n",
       "  'match_score': 100},\n",
       " '89': {'Club_Name': 'Unión Berlín',\n",
       "  'FBRef_name': 'Union Berlin',\n",
       "  'liga_pais': 'Alemania',\n",
       "  'FBRef_id': '7a41008f',\n",
       "  'match_score': 91},\n",
       " '18': {'Club_Name': \"Bor. M'gladbach\",\n",
       "  'FBRef_name': 'Gladbach',\n",
       "  'liga_pais': 'Alemania',\n",
       "  'FBRef_id': '32f3ee20',\n",
       "  'match_score': 100},\n",
       " '79': {'Club_Name': 'VfB Stuttgart',\n",
       "  'FBRef_name': 'Stuttgart',\n",
       "  'liga_pais': 'Alemania',\n",
       "  'FBRef_id': '598bc722',\n",
       "  'match_score': 100},\n",
       " '533': {'Club_Name': 'Hoffenheim',\n",
       "  'FBRef_name': 'Hoffenheim',\n",
       "  'liga_pais': 'Alemania',\n",
       "  'FBRef_id': '033ea6b8',\n",
       "  'match_score': 100},\n",
       " '39': {'Club_Name': 'Mainz',\n",
       "  'FBRef_name': 'Mainz 05',\n",
       "  'liga_pais': 'Alemania',\n",
       "  'FBRef_id': 'a224b06a',\n",
       "  'match_score': 100},\n",
       " '167': {'Club_Name': 'FC Augsburgo',\n",
       "  'FBRef_name': 'Augsburg',\n",
       "  'liga_pais': 'Alemania',\n",
       "  'FBRef_id': '0cdc4311',\n",
       "  'match_score': 80},\n",
       " '86': {'Club_Name': 'Werder Bremen',\n",
       "  'FBRef_name': 'Werder Bremen',\n",
       "  'liga_pais': 'Alemania',\n",
       "  'FBRef_id': '62add3bf',\n",
       "  'match_score': 100},\n",
       " '33': {'Club_Name': 'FC Schalke 04',\n",
       "  'FBRef_name': 'Schalke 04',\n",
       "  'liga_pais': 'Alemania',\n",
       "  'FBRef_id': 'c539e393',\n",
       "  'match_score': 100},\n",
       " '80': {'Club_Name': 'VfL Bochum',\n",
       "  'FBRef_name': 'Bochum',\n",
       "  'liga_pais': 'Alemania',\n",
       "  'FBRef_id': 'b42c6323',\n",
       "  'match_score': 100},\n",
       " '65': {'Club_Name': 'Greuther Fürth',\n",
       "  'FBRef_name': 'Greuther Fürth',\n",
       "  'liga_pais': 'Alemania',\n",
       "  'FBRef_id': '12192a4c',\n",
       "  'match_score': 100},\n",
       " '2036': {'Club_Name': 'Heidenheim',\n",
       "  'FBRef_name': 'Heidenheim',\n",
       "  'liga_pais': 'Alemania',\n",
       "  'FBRef_id': '18d9d2a7',\n",
       "  'match_score': 100},\n",
       " '105': {'Club_Name': 'Darmstadt 98',\n",
       "  'FBRef_name': 'Darmstadt 98',\n",
       "  'liga_pais': 'Alemania',\n",
       "  'FBRef_id': '6a6967fc',\n",
       "  'match_score': 100},\n",
       " '35': {'Club_Name': 'FC St. Pauli',\n",
       "  'FBRef_name': 'St. Pauli',\n",
       "  'liga_pais': 'Alemania',\n",
       "  'FBRef_id': '54864664',\n",
       "  'match_score': 100},\n",
       " '269': {'Club_Name': 'Holstein Kiel',\n",
       "  'FBRef_name': 'Holstein Kiel',\n",
       "  'liga_pais': 'Alemania',\n",
       "  'FBRef_id': '2ac661d9',\n",
       "  'match_score': 100}}"
      ]
     },
     "execution_count": 7,
     "metadata": {},
     "output_type": "execute_result"
    }
   ],
   "source": [
    "with open('club_mapping_with_code.json', 'r') as f:\n",
    "    test_json = json.load(f)\n",
    "test_json"
   ]
  },
  {
   "cell_type": "code",
   "execution_count": 9,
   "id": "12a3bcde-e59f-4346-966f-31344e2d5248",
   "metadata": {
    "scrolled": true
   },
   "outputs": [
    {
     "name": "stderr",
     "output_type": "stream",
     "text": [
      "2024-12-20 16:49:46,286 - INFO - Procesando temporada: 2024\n",
      "2024-12-20 16:49:46,286 - INFO - Procesando club: CA Vélez Sarsfield (2024) (Código: 1029)\n",
      "2024-12-20 16:49:53,879 - INFO - Procesando club: AA Argentinos Juniors (2024) (Código: 1030)\n",
      "2024-12-20 16:50:02,453 - INFO - Procesando club: CA Colón (2024) (Código: 1070)\n"
     ]
    },
    {
     "name": "stdout",
     "output_type": "stream",
     "text": [
      "Error HTTP: 500 Server Error: Internal Server Error for url: https://fbref.com/en/squads/2d84bb17/2024/. No es un 502, 504, ni 429, deteniendo reintentos.\n",
      "reintentando url con season: 2023-2024\n"
     ]
    },
    {
     "name": "stderr",
     "output_type": "stream",
     "text": [
      "2024-12-20 16:50:10,378 - INFO - Procesando club: Club de Gimnasia y Esgrima La Plata (2024) (Código: 1106)\n",
      "2024-12-20 16:50:18,982 - INFO - Procesando club: CA Tigre (2024) (Código: 11831)\n",
      "2024-12-20 16:50:27,485 - INFO - Procesando club: CA Aldosivi (2024) (Código: 12301)\n"
     ]
    },
    {
     "name": "stdout",
     "output_type": "stream",
     "text": [
      "Error HTTP: 500 Server Error: Internal Server Error for url: https://fbref.com/en/squads/e5927bd8/2024/. No es un 502, 504, ni 429, deteniendo reintentos.\n",
      "reintentando url con season: 2023-2024\n"
     ]
    },
    {
     "name": "stderr",
     "output_type": "stream",
     "text": [
      "2024-12-20 16:50:36,267 - INFO - Procesando club: CA Independiente (2024) (Código: 1234)\n",
      "2024-12-20 16:50:44,304 - INFO - Procesando club: CA Sarmiento (Junín) (2024) (Código: 12454)\n",
      "2024-12-20 16:50:52,837 - INFO - Procesando club: CD Godoy Cruz Antonio Tomba (2024) (Código: 12574)\n",
      "2024-12-20 16:51:01,618 - INFO - Procesando club: CA Newell's Old Boys (2024) (Código: 1286)\n",
      "2024-12-20 16:51:09,987 - INFO - Procesando club: CA Rosario Central (2024) (Código: 1418)\n",
      "2024-12-20 16:51:18,407 - INFO - Procesando club: Racing Club (2024) (Código: 1444)\n",
      "2024-12-20 16:51:26,540 - INFO - Procesando club: Club Atlético Tucumán (2024) (Código: 14554)\n",
      "2024-12-20 16:51:37,880 - INFO - Procesando club: CA San Lorenzo de Almagro (2024) (Código: 1775)\n",
      "2024-12-20 16:51:46,754 - INFO - Procesando club: Instituto ACC (2024) (Código: 1829)\n",
      "2024-12-20 16:51:54,611 - INFO - Procesando club: CA Boca Juniors (2024) (Código: 189)\n",
      "2024-12-20 16:52:02,923 - INFO - Procesando club: CA Patronato (2024) (Código: 19806)\n"
     ]
    },
    {
     "name": "stdout",
     "output_type": "stream",
     "text": [
      "Error HTTP: 500 Server Error: Internal Server Error for url: https://fbref.com/en/squads/0e6891d5/2024/. No es un 502, 504, ni 429, deteniendo reintentos.\n",
      "reintentando url con season: 2023-2024\n"
     ]
    },
    {
     "name": "stderr",
     "output_type": "stream",
     "text": [
      "2024-12-20 16:52:11,820 - INFO - Procesando club: CA Huracán (2024) (Código: 2063)\n",
      "2024-12-20 16:52:19,395 - INFO - Procesando club: CA River Plate (2024) (Código: 209)\n",
      "2024-12-20 16:52:27,883 - INFO - Procesando club: CSD Defensa y Justicia (2024) (Código: 2402)\n",
      "2024-12-20 16:52:36,865 - INFO - Procesando club: CA Belgrano (2024) (Código: 2417)\n",
      "2024-12-20 16:52:44,927 - INFO - Procesando club: CA Barracas Central (2024) (Código: 25184)\n",
      "2024-12-20 16:52:53,466 - INFO - Procesando club: Club Estudiantes de La Plata (2024) (Código: 288)\n",
      "2024-12-20 16:53:02,198 - INFO - Procesando club: CA Central Córdoba (SdE) (2024) (Código: 31284)\n",
      "2024-12-20 16:53:10,753 - INFO - Procesando club: CA Lanús (2024) (Código: 333)\n",
      "2024-12-20 16:53:19,610 - INFO - Procesando club: CA Talleres (2024) (Código: 3938)\n",
      "2024-12-20 16:53:28,910 - INFO - Procesando club: Arsenal FC (2024) (Código: 4673)\n"
     ]
    },
    {
     "name": "stdout",
     "output_type": "stream",
     "text": [
      "Error HTTP: 500 Server Error: Internal Server Error for url: https://fbref.com/en/squads/4bee7ba3/2024/. No es un 502, 504, ni 429, deteniendo reintentos.\n",
      "reintentando url con season: 2023-2024\n"
     ]
    },
    {
     "name": "stderr",
     "output_type": "stream",
     "text": [
      "2024-12-20 16:53:37,156 - INFO - Procesando club: CA Unión (Santa Fe) (2024) (Código: 7097)\n",
      "2024-12-20 16:53:45,014 - INFO - Procesando club: CA Banfield (2024) (Código: 830)\n",
      "2024-12-20 16:53:53,803 - INFO - Procesando club: CA Platense (2024) (Código: 928)\n",
      "2024-12-20 16:54:02,399 - INFO - Procesando club: Club Always Ready (2024) (Código: 42208)\n",
      "2024-12-20 16:54:10,015 - INFO - Procesando club: The Strongest La Paz (2024) (Código: 5570)\n",
      "2024-12-20 16:54:16,840 - INFO - Procesando club: Club Deportivo Oriente Petrolero (2024) (Código: 6985)\n",
      "2024-12-20 16:54:25,163 - INFO - Procesando club: Blooming Santa Cruz (2024) (Código: 8056)\n",
      "2024-12-20 16:54:32,191 - INFO - Procesando club: Esporte Clube Bahia (2024) (Código: 10010)\n",
      "2024-12-20 16:54:39,529 - INFO - Procesando club: SE Palmeiras (2024) (Código: 1023)\n",
      "2024-12-20 16:54:47,255 - INFO - Procesando club: Fortaleza Esporte Clube (2024) (Código: 10870)\n",
      "2024-12-20 16:54:54,978 - INFO - Procesando club: SC Corinthians (2024) (Código: 199)\n",
      "2024-12-20 16:55:02,915 - INFO - Procesando club: Avaí FC (2024) (Código: 2035)\n",
      "2024-12-20 16:55:09,739 - INFO - Procesando club: Grêmio Foot-Ball Porto Alegrense (2024) (Código: 210)\n",
      "2024-12-20 16:55:17,435 - INFO - Procesando club: Santos FC (2024) (Código: 221)\n",
      "2024-12-20 16:55:24,406 - INFO - Procesando club: Fluminense Football Club (2024) (Código: 2462)\n",
      "2024-12-20 16:55:33,290 - INFO - Procesando club: América Futebol Clube (MG) (2024) (Código: 2863)\n",
      "2024-12-20 16:55:39,980 - INFO - Procesando club: São Paulo FC (2024) (Código: 585)\n",
      "2024-12-20 16:55:47,989 - INFO - Procesando club: Cruzeiro Esporte Clube (2024) (Código: 609)\n",
      "2024-12-20 16:55:56,778 - INFO - Procesando club: Sport Club Internacional (2024) (Código: 6600)\n",
      "2024-12-20 16:56:04,242 - INFO - Procesando club: Club Athletico Paranaense (2024) (Código: 679)\n",
      "2024-12-20 16:56:11,594 - INFO - Procesando club: Coritiba Foot Ball Club (2024) (Código: 776)\n",
      "2024-12-20 16:56:18,616 - INFO - Procesando club: Clube de Regatas Vasco da Gama (2024) (Código: 978)\n",
      "2024-12-20 16:56:25,728 - INFO - Procesando club: Universidad de Chile (2024) (Código: 1037)\n",
      "2024-12-20 16:56:32,807 - INFO - Procesando club: CD O'Higgins (2024) (Código: 11470)\n",
      "2024-12-20 16:56:39,548 - INFO - Procesando club: CD Magallanes (2024) (Código: 13394)\n"
     ]
    },
    {
     "name": "stdout",
     "output_type": "stream",
     "text": [
      "Error HTTP: 500 Server Error: Internal Server Error for url: https://fbref.com/en/squads/0e719970/2024/. No es un 502, 504, ni 429, deteniendo reintentos.\n",
      "reintentando url con season: 2023-2024\n"
     ]
    },
    {
     "name": "stderr",
     "output_type": "stream",
     "text": [
      "2024-12-20 16:56:48,788 - INFO - Procesando club: CD Ñublense (2024) (Código: 14723)\n",
      "2024-12-20 16:56:55,254 - INFO - Procesando club: CDP Curicó Unido (2024) (Código: 19027)\n"
     ]
    },
    {
     "name": "stdout",
     "output_type": "stream",
     "text": [
      "Error HTTP: 500 Server Error: Internal Server Error for url: https://fbref.com/en/squads/c40d810e/2024/. No es un 502, 504, ni 429, deteniendo reintentos.\n",
      "reintentando url con season: 2023-2024\n"
     ]
    },
    {
     "name": "stderr",
     "output_type": "stream",
     "text": [
      "2024-12-20 16:57:02,444 - INFO - Procesando club: Unión La Calera (2024) (Código: 20514)\n",
      "2024-12-20 16:57:10,540 - INFO - Procesando club: CSD Colo-Colo (2024) (Código: 2433)\n",
      "2024-12-20 16:57:16,878 - INFO - Procesando club: Santiago Wanderers (2024) (Código: 2723)\n"
     ]
    },
    {
     "name": "stdout",
     "output_type": "stream",
     "text": [
      "Error HTTP: 500 Server Error: Internal Server Error for url: https://fbref.com/en/squads/d6eb477c/2024/. No es un 502, 504, ni 429, deteniendo reintentos.\n",
      "reintentando url con season: 2023-2024\n"
     ]
    },
    {
     "name": "stderr",
     "output_type": "stream",
     "text": [
      "2024-12-20 16:57:24,269 - INFO - Procesando club: CD Universidad Católica (2024) (Código: 3277)\n",
      "2024-12-20 16:57:37,965 - INFO - Procesando club: Unión Española (2024) (Código: 4321)\n",
      "2024-12-20 16:57:44,233 - INFO - Procesando club: Deportes La Serena (2024) (Código: 5747)\n"
     ]
    },
    {
     "name": "stdout",
     "output_type": "stream",
     "text": [
      "Error HTTP: 500 Server Error: Internal Server Error for url: https://fbref.com/en/squads/86842c45/2024/. No es un 502, 504, ni 429, deteniendo reintentos.\n",
      "reintentando url con season: 2023-2024\n"
     ]
    },
    {
     "name": "stderr",
     "output_type": "stream",
     "text": [
      "2024-12-20 16:57:51,452 - INFO - Procesando club: Audax Italiano (2024) (Código: 6363)\n",
      "2024-12-20 16:57:57,849 - INFO - Procesando club: CD Huachipato (2024) (Código: 6368)\n",
      "2024-12-20 16:58:04,962 - INFO - Procesando club: CD Palestino (2024) (Código: 6536)\n",
      "2024-12-20 16:58:11,768 - INFO - Procesando club: CD Everton (2024) (Código: 7020)\n",
      "2024-12-20 16:58:18,634 - INFO - Procesando club: Asociación Deportivo Pasto (2024) (Código: 10090)\n",
      "2024-12-20 16:58:26,357 - INFO - Procesando club: Independiente Medellín (2024) (Código: 10093)\n",
      "2024-12-20 16:58:34,059 - INFO - Procesando club: Deportes Tolima (2024) (Código: 10503)\n",
      "2024-12-20 16:58:41,035 - INFO - Procesando club: Independiente Santa Fe (2024) (Código: 11648)\n",
      "2024-12-20 16:58:49,048 - INFO - Procesando club: Junior de Barranquilla (2024) (Código: 11854)\n",
      "2024-12-20 16:58:57,462 - INFO - Procesando club: Internacional de Palmira (2024) (Código: 17467)\n"
     ]
    },
    {
     "name": "stdout",
     "output_type": "stream",
     "text": [
      "Error HTTP: 500 Server Error: Internal Server Error for url: https://fbref.com/en/squads/1eeaaa61/2024/. No es un 502, 504, ni 429, deteniendo reintentos.\n",
      "reintentando url con season: 2023-2024\n"
     ]
    },
    {
     "name": "stderr",
     "output_type": "stream",
     "text": [
      "2024-12-20 16:59:05,472 - INFO - Procesando club: Millonarios FC (2024) (Código: 2350)\n",
      "2024-12-20 16:59:13,802 - INFO - Procesando club: CD América de Cali (2024) (Código: 2352)\n",
      "2024-12-20 16:59:21,148 - INFO - Procesando club: Once Caldas (2024) (Código: 6984)\n",
      "2024-12-20 16:59:28,858 - INFO - Procesando club: Envigado FC (2024) (Código: 7136)\n",
      "2024-12-20 16:59:36,212 - INFO - Procesando club: Atlético Nacional (2024) (Código: 8172)\n",
      "2024-12-20 16:59:43,666 - INFO - Procesando club: Deportivo Pereira (2024) (Código: 9811)\n",
      "2024-12-20 16:59:51,476 - INFO - Procesando club: Deportivo Cali (2024) (Código: 9961)\n",
      "2024-12-20 16:59:59,007 - INFO - Procesando club: CD Universidad Católica (2024) (Código: 17584)\n",
      "2024-12-20 17:00:04,042 - INFO - Procesando club: Delfín SC (2024) (Código: 19304)\n",
      "2024-12-20 17:00:11,432 - INFO - Procesando club: Independiente del Valle (2024) (Código: 19309)\n",
      "2024-12-20 17:00:18,491 - INFO - Procesando club: Barcelona SC Guayaquil (2024) (Código: 3523)\n",
      "2024-12-20 17:00:26,054 - INFO - Procesando club: CS Emelec (2024) (Código: 4561)\n",
      "2024-12-20 17:00:32,418 - INFO - Procesando club: SD Aucas (2024) (Código: 6362)\n",
      "2024-12-20 17:00:38,941 - INFO - Procesando club: Deportivo Cuenca (2024) (Código: 8781)\n",
      "2024-12-20 17:00:45,537 - INFO - Procesando club: LDU Quito (2024) (Código: 9855)\n",
      "2024-12-20 17:00:52,298 - INFO - Procesando club: Valencia CF (2024) (Código: 1049)\n"
     ]
    },
    {
     "name": "stdout",
     "output_type": "stream",
     "text": [
      "Error HTTP: 500 Server Error: Internal Server Error for url: https://fbref.com/en/squads/dcc91a7b/2024/. No es un 502, 504, ni 429, deteniendo reintentos.\n",
      "reintentando url con season: 2023-2024\n"
     ]
    },
    {
     "name": "stderr",
     "output_type": "stream",
     "text": [
      "2024-12-20 17:01:01,323 - INFO - Procesando club: Málaga CF (2024) (Código: 1084)\n"
     ]
    },
    {
     "name": "stdout",
     "output_type": "stream",
     "text": [
      "Error HTTP: 500 Server Error: Internal Server Error for url: https://fbref.com/en/squads/1c896955/2024/. No es un 502, 504, ni 429, deteniendo reintentos.\n",
      "reintentando url con season: 2023-2024\n"
     ]
    },
    {
     "name": "stderr",
     "output_type": "stream",
     "text": [
      "2024-12-20 17:01:26,665 - INFO - Procesando club: Deportivo Alavés (2024) (Código: 1108)\n"
     ]
    },
    {
     "name": "stdout",
     "output_type": "stream",
     "text": [
      "Error HTTP: 500 Server Error: Internal Server Error for url: https://fbref.com/en/squads/8d6fd021/2024/. No es un 502, 504, ni 429, deteniendo reintentos.\n",
      "reintentando url con season: 2023-2024\n"
     ]
    },
    {
     "name": "stderr",
     "output_type": "stream",
     "text": [
      "2024-12-20 17:01:29,350 - WARNING - Información no encontrada para {'Club_Name': 'Deportivo Alavés', 'FBRef_name': 'Alavés', 'liga_pais': 'España', 'FBRef_id': '8d6fd021'}. Combinación no registrada.\n",
      "2024-12-20 17:01:29,351 - INFO - Procesando club: Real Betis Balompié (2024) (Código: 150)\n"
     ]
    },
    {
     "name": "stdout",
     "output_type": "stream",
     "text": [
      "Error HTTP: 500 Server Error: Internal Server Error for url: https://fbref.com/en/squads/8d6fd021/str2023-2024/. No es un 502, 504, ni 429, deteniendo reintentos.\n",
      "Error HTTP: 500 Server Error: Internal Server Error for url: https://fbref.com/en/squads/fc536746/2024/. No es un 502, 504, ni 429, deteniendo reintentos.\n",
      "reintentando url con season: 2023-2024\n",
      "Intento 1 de 5: Tiempo de espera excedido. Reintentando...\n"
     ]
    },
    {
     "name": "stderr",
     "output_type": "stream",
     "text": [
      "2024-12-20 17:02:01,225 - INFO - Procesando club: Elche CF (2024) (Código: 1531)\n"
     ]
    },
    {
     "name": "stdout",
     "output_type": "stream",
     "text": [
      "Intento 1 de 5: Tiempo de espera excedido. Reintentando...\n",
      "Error HTTP: 500 Server Error: Internal Server Error for url: https://fbref.com/en/squads/6c8b07df/2024/. No es un 502, 504, ni 429, deteniendo reintentos.\n",
      "reintentando url con season: 2023-2024\n"
     ]
    },
    {
     "name": "stderr",
     "output_type": "stream",
     "text": [
      "2024-12-20 17:02:51,031 - INFO - Procesando club: RCD Mallorca (2024) (Código: 237)\n"
     ]
    },
    {
     "name": "stdout",
     "output_type": "stream",
     "text": [
      "Error HTTP: 500 Server Error: Internal Server Error for url: https://fbref.com/en/squads/2aa12281/2024/. No es un 502, 504, ni 429, deteniendo reintentos.\n",
      "reintentando url con season: 2023-2024\n"
     ]
    },
    {
     "name": "stderr",
     "output_type": "stream",
     "text": [
      "2024-12-20 17:03:07,453 - INFO - Procesando club: Real Sporting de Gijón (2024) (Código: 2448)\n"
     ]
    },
    {
     "name": "stdout",
     "output_type": "stream",
     "text": [
      "Error HTTP: 500 Server Error: Internal Server Error for url: https://fbref.com/en/squads/bb9efd50/2024/. No es un 502, 504, ni 429, deteniendo reintentos.\n",
      "reintentando url con season: 2023-2024\n"
     ]
    },
    {
     "name": "stderr",
     "output_type": "stream",
     "text": [
      "2024-12-20 17:03:18,570 - INFO - Procesando club: Levante UD (2024) (Código: 3368)\n"
     ]
    },
    {
     "name": "stdout",
     "output_type": "stream",
     "text": [
      "Error HTTP: 500 Server Error: Internal Server Error for url: https://fbref.com/en/squads/9800b6a1/2024/. No es un 502, 504, ni 429, deteniendo reintentos.\n",
      "reintentando url con season: 2023-2024\n"
     ]
    },
    {
     "name": "stderr",
     "output_type": "stream",
     "text": [
      "2024-12-20 17:03:27,867 - INFO - Procesando club: Real Valladolid CF (2024) (Código: 366)\n"
     ]
    },
    {
     "name": "stdout",
     "output_type": "stream",
     "text": [
      "Error HTTP: 500 Server Error: Internal Server Error for url: https://fbref.com/en/squads/17859612/2024/. No es un 502, 504, ni 429, deteniendo reintentos.\n",
      "reintentando url con season: 2023-2024\n"
     ]
    },
    {
     "name": "stderr",
     "output_type": "stream",
     "text": [
      "2024-12-20 17:03:35,949 - INFO - Procesando club: Rayo Vallecano (2024) (Código: 367)\n"
     ]
    },
    {
     "name": "stdout",
     "output_type": "stream",
     "text": [
      "Error HTTP: 500 Server Error: Internal Server Error for url: https://fbref.com/en/squads/98e8af82/2024/. No es un 502, 504, ni 429, deteniendo reintentos.\n",
      "reintentando url con season: 2023-2024\n"
     ]
    },
    {
     "name": "stderr",
     "output_type": "stream",
     "text": [
      "2024-12-20 17:03:44,730 - INFO - Procesando club: Sevilla FC (2024) (Código: 368)\n"
     ]
    },
    {
     "name": "stdout",
     "output_type": "stream",
     "text": [
      "Error HTTP: 500 Server Error: Internal Server Error for url: https://fbref.com/en/squads/ad2be733/2024/. No es un 502, 504, ni 429, deteniendo reintentos.\n",
      "reintentando url con season: 2023-2024\n"
     ]
    },
    {
     "name": "stderr",
     "output_type": "stream",
     "text": [
      "2024-12-20 17:03:54,370 - INFO - Procesando club: UD Las Palmas (2024) (Código: 472)\n"
     ]
    },
    {
     "name": "stdout",
     "output_type": "stream",
     "text": [
      "Error HTTP: 500 Server Error: Internal Server Error for url: https://fbref.com/en/squads/0049d422/2024/. No es un 502, 504, ni 429, deteniendo reintentos.\n",
      "reintentando url con season: 2023-2024\n"
     ]
    },
    {
     "name": "stderr",
     "output_type": "stream",
     "text": [
      "2024-12-20 17:04:02,809 - INFO - Procesando club: SD Huesca (2024) (Código: 5358)\n"
     ]
    },
    {
     "name": "stdout",
     "output_type": "stream",
     "text": [
      "Error HTTP: 500 Server Error: Internal Server Error for url: https://fbref.com/en/squads/c6c493e6/2024/. No es un 502, 504, ni 429, deteniendo reintentos.\n",
      "reintentando url con season: 2023-2024\n"
     ]
    },
    {
     "name": "stderr",
     "output_type": "stream",
     "text": [
      "2024-12-20 17:04:11,419 - INFO - Procesando club: Athletic Club (2024) (Código: 621)\n"
     ]
    },
    {
     "name": "stdout",
     "output_type": "stream",
     "text": [
      "Error HTTP: 500 Server Error: Internal Server Error for url: https://fbref.com/en/squads/2b390eca/2024/. No es un 502, 504, ni 429, deteniendo reintentos.\n",
      "reintentando url con season: 2023-2024\n"
     ]
    },
    {
     "name": "stderr",
     "output_type": "stream",
     "text": [
      "2024-12-20 17:04:20,538 - INFO - Procesando club: FC Cartagena (2024) (Código: 7077)\n"
     ]
    },
    {
     "name": "stdout",
     "output_type": "stream",
     "text": [
      "Error HTTP: 500 Server Error: Internal Server Error for url: https://fbref.com/en/squads/bbd9ac49/2024/. No es un 502, 504, ni 429, deteniendo reintentos.\n",
      "reintentando url con season: 2023-2024\n"
     ]
    },
    {
     "name": "stderr",
     "output_type": "stream",
     "text": [
      "2024-12-20 17:04:29,064 - INFO - Procesando club: RC Celta de Vigo (2024) (Código: 940)\n"
     ]
    },
    {
     "name": "stdout",
     "output_type": "stream",
     "text": [
      "Error HTTP: 500 Server Error: Internal Server Error for url: https://fbref.com/en/squads/f25da7fb/2024/. No es un 502, 504, ni 429, deteniendo reintentos.\n",
      "reintentando url con season: 2023-2024\n"
     ]
    },
    {
     "name": "stderr",
     "output_type": "stream",
     "text": [
      "2024-12-20 17:04:42,120 - INFO - Procesando club: San José Earthquakes (2024) (Código: 218)\n",
      "2024-12-20 17:04:49,211 - INFO - Procesando club: New York City FC (2024) (Código: 40058)\n",
      "2024-12-20 17:04:56,990 - INFO - Procesando club: Portland Timbers (2024) (Código: 4291)\n",
      "2024-12-20 17:05:06,891 - INFO - Procesando club: Atlanta United FC (2024) (Código: 51663)\n",
      "2024-12-20 17:05:14,992 - INFO - Procesando club: New England Revolution (2024) (Código: 626)\n",
      "2024-12-20 17:05:21,788 - INFO - Procesando club: Austin FC (2024) (Código: 72309)\n",
      "2024-12-20 17:05:29,553 - INFO - Procesando club: Charlotte FC (2024) (Código: 78435)\n",
      "2024-12-20 17:05:37,155 - INFO - Procesando club: FC Dallas (2024) (Código: 8816)\n",
      "2024-12-20 17:05:44,626 - INFO - Procesando club: Olympique de Marsella (2024) (Código: 244)\n"
     ]
    },
    {
     "name": "stdout",
     "output_type": "stream",
     "text": [
      "Error HTTP: 500 Server Error: Internal Server Error for url: https://fbref.com/en/squads/5725cc7b/2024/. No es un 502, 504, ni 429, deteniendo reintentos.\n",
      "reintentando url con season: 2023-2024\n"
     ]
    },
    {
     "name": "stderr",
     "output_type": "stream",
     "text": [
      "2024-12-20 17:05:54,062 - INFO - Procesando club: Arsenal FC (2024) (Código: 11)\n"
     ]
    },
    {
     "name": "stdout",
     "output_type": "stream",
     "text": [
      "Error HTTP: 500 Server Error: Internal Server Error for url: https://fbref.com/en/squads/4bee7ba3/2024/. No es un 502, 504, ni 429, deteniendo reintentos.\n",
      "reintentando url con season: 2023-2024\n"
     ]
    },
    {
     "name": "stderr",
     "output_type": "stream",
     "text": [
      "2024-12-20 17:06:00,356 - INFO - Procesando club: Parma (2024) (Código: 130)\n"
     ]
    },
    {
     "name": "stdout",
     "output_type": "stream",
     "text": [
      "Error HTTP: 500 Server Error: Internal Server Error for url: https://fbref.com/en/squads/eab4234c/2024/. No es un 502, 504, ni 429, deteniendo reintentos.\n",
      "reintentando url con season: 2023-2024\n"
     ]
    },
    {
     "name": "stderr",
     "output_type": "stream",
     "text": [
      "2024-12-20 17:06:12,766 - INFO - Procesando club: Cagliari (2024) (Código: 1390)\n"
     ]
    },
    {
     "name": "stdout",
     "output_type": "stream",
     "text": [
      "Error HTTP: 500 Server Error: Internal Server Error for url: https://fbref.com/en/squads/c4260e09/2024/. No es un 502, 504, ni 429, deteniendo reintentos.\n",
      "reintentando url con season: 2023-2024\n"
     ]
    },
    {
     "name": "stderr",
     "output_type": "stream",
     "text": [
      "2024-12-20 17:06:21,633 - INFO - Procesando club: US Cremonese (2024) (Código: 2239)\n"
     ]
    },
    {
     "name": "stdout",
     "output_type": "stream",
     "text": [
      "Error HTTP: 500 Server Error: Internal Server Error for url: https://fbref.com/en/squads/9aad3a77/2024/. No es un 502, 504, ni 429, deteniendo reintentos.\n",
      "reintentando url con season: 2023-2024\n"
     ]
    },
    {
     "name": "stderr",
     "output_type": "stream",
     "text": [
      "2024-12-20 17:06:30,548 - INFO - Procesando club: US Salernitana 1919 (2024) (Código: 380)\n"
     ]
    },
    {
     "name": "stdout",
     "output_type": "stream",
     "text": [
      "Error HTTP: 500 Server Error: Internal Server Error for url: https://fbref.com/en/squads/c5577084/2024/. No es un 502, 504, ni 429, deteniendo reintentos.\n",
      "reintentando url con season: 2023-2024\n"
     ]
    },
    {
     "name": "stderr",
     "output_type": "stream",
     "text": [
      "2024-12-20 17:06:39,902 - INFO - Procesando club: Venezia FC (2024) (Código: 607)\n"
     ]
    },
    {
     "name": "stdout",
     "output_type": "stream",
     "text": [
      "Error HTTP: 500 Server Error: Internal Server Error for url: https://fbref.com/en/squads/af5d5982/2024/. No es un 502, 504, ni 429, deteniendo reintentos.\n",
      "reintentando url con season: 2023-2024\n"
     ]
    },
    {
     "name": "stderr",
     "output_type": "stream",
     "text": [
      "2024-12-20 17:06:47,995 - INFO - Procesando club: Club Necaxa (2024) (Código: 1146)\n"
     ]
    },
    {
     "name": "stdout",
     "output_type": "stream",
     "text": [
      "Error HTTP: 500 Server Error: Internal Server Error for url: https://fbref.com/en/squads/752db496/2024/. No es un 502, 504, ni 429, deteniendo reintentos.\n",
      "reintentando url con season: 2023-2024\n"
     ]
    },
    {
     "name": "stderr",
     "output_type": "stream",
     "text": [
      "2024-12-20 17:06:56,177 - INFO - Procesando club: Club Tijuana (2024) (Código: 13353)\n"
     ]
    },
    {
     "name": "stdout",
     "output_type": "stream",
     "text": [
      "Error HTTP: 500 Server Error: Internal Server Error for url: https://fbref.com/en/squads/a42ddf2f/2024/. No es un 502, 504, ni 429, deteniendo reintentos.\n",
      "reintentando url con season: 2023-2024\n"
     ]
    },
    {
     "name": "stderr",
     "output_type": "stream",
     "text": [
      "2024-12-20 17:07:05,236 - INFO - Procesando club: Santos Laguna (2024) (Código: 1403)\n"
     ]
    },
    {
     "name": "stdout",
     "output_type": "stream",
     "text": [
      "Error HTTP: 500 Server Error: Internal Server Error for url: https://fbref.com/en/squads/03b65ba9/2024/. No es un 502, 504, ni 429, deteniendo reintentos.\n",
      "reintentando url con season: 2023-2024\n"
     ]
    },
    {
     "name": "stderr",
     "output_type": "stream",
     "text": [
      "2024-12-20 17:07:15,158 - INFO - Procesando club: Deportivo Toluca FC (2024) (Código: 1804)\n"
     ]
    },
    {
     "name": "stdout",
     "output_type": "stream",
     "text": [
      "Error HTTP: 500 Server Error: Internal Server Error for url: https://fbref.com/en/squads/44b88a4e/2024/. No es un 502, 504, ni 429, deteniendo reintentos.\n",
      "reintentando url con season: 2023-2024\n"
     ]
    },
    {
     "name": "stderr",
     "output_type": "stream",
     "text": [
      "2024-12-20 17:07:23,998 - INFO - Procesando club: CF Monterrey (2024) (Código: 2407)\n"
     ]
    },
    {
     "name": "stdout",
     "output_type": "stream",
     "text": [
      "Error HTTP: 500 Server Error: Internal Server Error for url: https://fbref.com/en/squads/dd5ca9bd/2024/. No es un 502, 504, ni 429, deteniendo reintentos.\n",
      "reintentando url con season: 2023-2024\n"
     ]
    },
    {
     "name": "stderr",
     "output_type": "stream",
     "text": [
      "2024-12-20 17:07:33,166 - INFO - Procesando club: CF América (2024) (Código: 3631)\n"
     ]
    },
    {
     "name": "stdout",
     "output_type": "stream",
     "text": [
      "Intento 1 de 5: Tiempo de espera excedido. Reintentando...\n",
      "Error HTTP: 500 Server Error: Internal Server Error for url: https://fbref.com/en/squads/18d3c3a3/2024/. No es un 502, 504, ni 429, deteniendo reintentos.\n",
      "reintentando url con season: 2023-2024\n"
     ]
    },
    {
     "name": "stderr",
     "output_type": "stream",
     "text": [
      "2024-12-20 17:08:07,443 - INFO - Procesando club: CD Cruz Azul (2024) (Código: 3711)\n"
     ]
    },
    {
     "name": "stdout",
     "output_type": "stream",
     "text": [
      "Error HTTP: 500 Server Error: Internal Server Error for url: https://fbref.com/en/squads/632f1838/2024/. No es un 502, 504, ni 429, deteniendo reintentos.\n",
      "reintentando url con season: 2023-2024\n"
     ]
    },
    {
     "name": "stderr",
     "output_type": "stream",
     "text": [
      "2024-12-20 17:08:17,036 - INFO - Procesando club: Atlético de San Luis (2024) (Código: 40188)\n"
     ]
    },
    {
     "name": "stdout",
     "output_type": "stream",
     "text": [
      "Error HTTP: 500 Server Error: Internal Server Error for url: https://fbref.com/en/squads/5d274ee4/2024/. No es un 502, 504, ni 429, deteniendo reintentos.\n",
      "reintentando url con season: 2023-2024\n"
     ]
    },
    {
     "name": "stderr",
     "output_type": "stream",
     "text": [
      "2024-12-20 17:08:27,960 - INFO - Procesando club: CF Pachuca (2024) (Código: 4035)\n"
     ]
    },
    {
     "name": "stdout",
     "output_type": "stream",
     "text": [
      "Error HTTP: 500 Server Error: Internal Server Error for url: https://fbref.com/en/squads/1be8d2e3/2024/. No es un 502, 504, ni 429, deteniendo reintentos.\n",
      "reintentando url con season: 2023-2024\n"
     ]
    },
    {
     "name": "stderr",
     "output_type": "stream",
     "text": [
      "2024-12-20 17:08:37,095 - INFO - Procesando club: FC Juárez (2024) (Código: 49283)\n"
     ]
    },
    {
     "name": "stdout",
     "output_type": "stream",
     "text": [
      "Error HTTP: 500 Server Error: Internal Server Error for url: https://fbref.com/en/squads/29bff345/2024/. No es un 502, 504, ni 429, deteniendo reintentos.\n",
      "reintentando url con season: 2023-2024\n"
     ]
    },
    {
     "name": "stderr",
     "output_type": "stream",
     "text": [
      "2024-12-20 17:08:46,062 - INFO - Procesando club: Querétaro FC (2024) (Código: 4961)\n"
     ]
    },
    {
     "name": "stdout",
     "output_type": "stream",
     "text": [
      "Error HTTP: 500 Server Error: Internal Server Error for url: https://fbref.com/en/squads/c3352ce7/2024/. No es un 502, 504, ni 429, deteniendo reintentos.\n",
      "reintentando url con season: 2023-2024\n"
     ]
    },
    {
     "name": "stderr",
     "output_type": "stream",
     "text": [
      "2024-12-20 17:08:55,398 - INFO - Procesando club: Club Puebla (2024) (Código: 5662)\n"
     ]
    },
    {
     "name": "stdout",
     "output_type": "stream",
     "text": [
      "Error HTTP: 500 Server Error: Internal Server Error for url: https://fbref.com/en/squads/73fd2313/2024/. No es un 502, 504, ni 429, deteniendo reintentos.\n",
      "reintentando url con season: 2023-2024\n"
     ]
    },
    {
     "name": "stderr",
     "output_type": "stream",
     "text": [
      "2024-12-20 17:09:03,572 - INFO - Procesando club: Pumas UNAM  (2024) (Código: 7633)\n"
     ]
    },
    {
     "name": "stdout",
     "output_type": "stream",
     "text": [
      "Error HTTP: 500 Server Error: Internal Server Error for url: https://fbref.com/en/squads/c9d59c6c/2024/. No es un 502, 504, ni 429, deteniendo reintentos.\n",
      "reintentando url con season: 2023-2024\n"
     ]
    },
    {
     "name": "stderr",
     "output_type": "stream",
     "text": [
      "2024-12-20 17:09:12,614 - INFO - Procesando club: Mazatlán FC (2024) (Código: 82696)\n"
     ]
    },
    {
     "name": "stdout",
     "output_type": "stream",
     "text": [
      "Error HTTP: 500 Server Error: Internal Server Error for url: https://fbref.com/en/squads/f0297c23/2024/. No es un 502, 504, ni 429, deteniendo reintentos.\n",
      "reintentando url con season: 2023-2024\n"
     ]
    },
    {
     "name": "stderr",
     "output_type": "stream",
     "text": [
      "2024-12-20 17:09:20,612 - INFO - Procesando club: Atlas Guadalajara (2024) (Código: 8590)\n"
     ]
    },
    {
     "name": "stdout",
     "output_type": "stream",
     "text": [
      "Error HTTP: 500 Server Error: Internal Server Error for url: https://fbref.com/en/squads/7c76bc53/2024/. No es un 502, 504, ni 429, deteniendo reintentos.\n",
      "reintentando url con season: 2023-2024\n"
     ]
    },
    {
     "name": "stderr",
     "output_type": "stream",
     "text": [
      "2024-12-20 17:09:29,208 - INFO - Procesando club: CA Independiente (2024) (Código: 28218)\n",
      "2024-12-20 17:09:34,812 - INFO - Procesando club: Club Guaraní (2024) (Código: 11855)\n",
      "2024-12-20 17:09:42,595 - INFO - Procesando club: Club Cerro Porteño (2024) (Código: 1214)\n",
      "2024-12-20 17:09:49,502 - INFO - Procesando club: Club Sol de América (2024) (Código: 14491)\n",
      "2024-12-20 17:09:58,676 - INFO - Procesando club: Club Olimpia Asunción (2024) (Código: 629)\n",
      "2024-12-20 17:10:05,948 - INFO - Procesando club: Tacuary Football Club (2024) (Código: 6880)\n",
      "2024-12-20 17:10:13,340 - INFO - Procesando club: Club Nacional Asunción (2024) (Código: 7098)\n",
      "2024-12-20 17:10:21,020 - INFO - Procesando club: Sportivo Luqueño (2024) (Código: 7656)\n",
      "2024-12-20 17:10:28,855 - INFO - Procesando club: Sportivo Ameliano (2024) (Código: 95571)\n",
      "2024-12-20 17:10:37,381 - INFO - Procesando club: Club General Caballero (JLM) (2024) (Código: 95573)\n",
      "2024-12-20 17:10:45,357 - INFO - Procesando club: Club Libertad Asunción (2024) (Código: 9875)\n",
      "2024-12-20 17:10:52,740 - INFO - Procesando club: Club Alianza Lima (2024) (Código: 184)\n",
      "2024-12-20 17:10:59,559 - INFO - Procesando club: Carlos A. Mannucci (2024) (Código: 19520)\n",
      "2024-12-20 17:11:06,525 - INFO - Procesando club: Club Cienciano (2024) (Código: 2729)\n",
      "2024-12-20 17:11:13,810 - INFO - Procesando club: CS Marítimo (2024) (Código: 1301)\n"
     ]
    },
    {
     "name": "stdout",
     "output_type": "stream",
     "text": [
      "Error HTTP: 500 Server Error: Internal Server Error for url: https://fbref.com/en/squads/c1b0f61b/2024/. No es un 502, 504, ni 429, deteniendo reintentos.\n",
      "reintentando url con season: 2023-2024\n"
     ]
    },
    {
     "name": "stderr",
     "output_type": "stream",
     "text": [
      "2024-12-20 17:11:25,093 - INFO - Procesando club: SL Benfica (2024) (Código: 294)\n"
     ]
    },
    {
     "name": "stdout",
     "output_type": "stream",
     "text": [
      "Error HTTP: 500 Server Error: Internal Server Error for url: https://fbref.com/en/squads/a77c513e/2024/. No es un 502, 504, ni 429, deteniendo reintentos.\n",
      "reintentando url con season: 2023-2024\n"
     ]
    },
    {
     "name": "stderr",
     "output_type": "stream",
     "text": [
      "2024-12-20 17:11:36,530 - INFO - Procesando club: CD Tondela (2024) (Código: 7179)\n"
     ]
    },
    {
     "name": "stdout",
     "output_type": "stream",
     "text": [
      "Error HTTP: 500 Server Error: Internal Server Error for url: https://fbref.com/en/squads/e442fa76/2024/. No es un 502, 504, ni 429, deteniendo reintentos.\n",
      "reintentando url con season: 2023-2024\n"
     ]
    },
    {
     "name": "stderr",
     "output_type": "stream",
     "text": [
      "2024-12-20 17:11:44,158 - INFO - Procesando club: FC Arouca (2024) (Código: 8024)\n"
     ]
    },
    {
     "name": "stdout",
     "output_type": "stream",
     "text": [
      "Error HTTP: 500 Server Error: Internal Server Error for url: https://fbref.com/en/squads/0d36ddd4/2024/. No es un 502, 504, ni 429, deteniendo reintentos.\n",
      "reintentando url con season: 2023-2024\n"
     ]
    },
    {
     "name": "stderr",
     "output_type": "stream",
     "text": [
      "2024-12-20 17:11:51,821 - INFO - Procesando club: CA Rentistas (2024) (Código: 10632)\n"
     ]
    },
    {
     "name": "stdout",
     "output_type": "stream",
     "text": [
      "Error HTTP: 500 Server Error: Internal Server Error for url: https://fbref.com/en/squads/1be8cdcb/2024/. No es un 502, 504, ni 429, deteniendo reintentos.\n",
      "reintentando url con season: 2023-2024\n"
     ]
    },
    {
     "name": "stderr",
     "output_type": "stream",
     "text": [
      "2024-12-20 17:11:59,451 - INFO - Procesando club: Liverpool FC Montevideo (2024) (Código: 10663)\n",
      "2024-12-20 17:12:07,825 - INFO - Procesando club: Danubio FC (2024) (Código: 1306)\n",
      "2024-12-20 17:12:16,380 - INFO - Procesando club: Racing Club de Montevideo (2024) (Código: 14758)\n",
      "2024-12-20 17:12:24,044 - INFO - Procesando club: IA Sud América  (2024) (Código: 1806)\n"
     ]
    },
    {
     "name": "stdout",
     "output_type": "stream",
     "text": [
      "Error HTTP: 500 Server Error: Internal Server Error for url: https://fbref.com/en/squads/900e1c7e/2024/. No es un 502, 504, ni 429, deteniendo reintentos.\n",
      "reintentando url con season: 2023-2024\n"
     ]
    },
    {
     "name": "stderr",
     "output_type": "stream",
     "text": [
      "2024-12-20 17:12:31,597 - INFO - Procesando club: CA Boston River (2024) (Código: 18074)\n",
      "2024-12-20 17:12:39,615 - INFO - Procesando club: Club Deportivo Maldonado (2024) (Código: 18075)\n",
      "2024-12-20 17:12:46,729 - INFO - Procesando club: CS Cerrito (2024) (Código: 18077)\n"
     ]
    },
    {
     "name": "stdout",
     "output_type": "stream",
     "text": [
      "Error HTTP: 500 Server Error: Internal Server Error for url: https://fbref.com/en/squads/b4354ce8/2024/. No es un 502, 504, ni 429, deteniendo reintentos.\n",
      "reintentando url con season: 2023-2024\n"
     ]
    },
    {
     "name": "stderr",
     "output_type": "stream",
     "text": [
      "2024-12-20 17:12:54,355 - INFO - Procesando club: Cerro Largo FC (2024) (Código: 20189)\n",
      "2024-12-20 17:13:13,685 - INFO - Procesando club: Montevideo Wanderers (2024) (Código: 2403)\n",
      "2024-12-20 17:13:24,641 - INFO - Procesando club: CA River Plate Montevideo (2024) (Código: 2419)\n",
      "2024-12-20 17:13:32,576 - INFO - Procesando club: Defensor Sporting Club (2024) (Código: 2619)\n",
      "2024-12-20 17:13:39,692 - INFO - Procesando club: Montevideo City Torque (2024) (Código: 37535)\n"
     ]
    },
    {
     "name": "stdout",
     "output_type": "stream",
     "text": [
      "Error HTTP: 500 Server Error: Internal Server Error for url: https://fbref.com/en/squads/03d0f9c5/2024/. No es un 502, 504, ni 429, deteniendo reintentos.\n",
      "reintentando url con season: 2023-2024\n"
     ]
    },
    {
     "name": "stderr",
     "output_type": "stream",
     "text": [
      "2024-12-20 17:13:47,417 - INFO - Procesando club: CA Fénix (2024) (Código: 3829)\n",
      "2024-12-20 17:13:54,779 - INFO - Procesando club: Club Plaza Colonia (2024) (Código: 6044)\n"
     ]
    },
    {
     "name": "stdout",
     "output_type": "stream",
     "text": [
      "Error HTTP: 500 Server Error: Internal Server Error for url: https://fbref.com/en/squads/e615d0fe/2024/. No es un 502, 504, ni 429, deteniendo reintentos.\n",
      "reintentando url con season: 2023-2024\n"
     ]
    },
    {
     "name": "stderr",
     "output_type": "stream",
     "text": [
      "2024-12-20 17:14:02,746 - INFO - Procesando club: CA Peñarol (2024) (Código: 861)\n",
      "2024-12-20 17:14:10,544 - INFO - Procesando club: Club Nacional (2024) (Código: 866)\n",
      "2024-12-20 17:14:18,400 - INFO - Procesando club: Millonarios FC (2024) (Código: 122672)\n",
      "2024-12-20 17:14:23,851 - INFO - Procesando club: Club 12 de Octubre de Itauguá (2024) (Código: 14662)\n"
     ]
    },
    {
     "name": "stdout",
     "output_type": "stream",
     "text": [
      "Error HTTP: 500 Server Error: Internal Server Error for url: https://fbref.com/en/squads/dc728978/2024/. No es un 502, 504, ni 429, deteniendo reintentos.\n",
      "reintentando url con season: 2023-2024\n"
     ]
    },
    {
     "name": "stderr",
     "output_type": "stream",
     "text": [
      "2024-12-20 17:14:34,047 - INFO - Procesando club: CA Fénix (2024) (Código: 18087)\n",
      "2024-12-20 17:14:40,406 - INFO - Procesando club: River Plate Asunción (2024) (Código: 2124)\n"
     ]
    },
    {
     "name": "stdout",
     "output_type": "stream",
     "text": [
      "Error HTTP: 500 Server Error: Internal Server Error for url: https://fbref.com/en/squads/979102f4/2024/. No es un 502, 504, ni 429, deteniendo reintentos.\n",
      "reintentando url con season: 2023-2024\n"
     ]
    },
    {
     "name": "stderr",
     "output_type": "stream",
     "text": [
      "2024-12-20 17:14:49,875 - INFO - Procesando club: Resistencia Sport Club (2024) (Código: 29175)\n"
     ]
    },
    {
     "name": "stdout",
     "output_type": "stream",
     "text": [
      "Error HTTP: 500 Server Error: Internal Server Error for url: https://fbref.com/en/squads/251f9616/2024/. No es un 502, 504, ni 429, deteniendo reintentos.\n",
      "reintentando url con season: 2023-2024\n"
     ]
    },
    {
     "name": "stderr",
     "output_type": "stream",
     "text": [
      "2024-12-20 17:14:59,258 - INFO - Procesando club: Deportivo Villa Española (2024) (Código: 3858)\n"
     ]
    },
    {
     "name": "stdout",
     "output_type": "stream",
     "text": [
      "Error HTTP: 500 Server Error: Internal Server Error for url: https://fbref.com/en/squads/c2106ee7/2024/. No es un 502, 504, ni 429, deteniendo reintentos.\n",
      "reintentando url con season: 2023-2024\n"
     ]
    },
    {
     "name": "stderr",
     "output_type": "stream",
     "text": [
      "2024-12-20 17:15:12,297 - INFO - Procesando club: Guaireña FC (2024) (Código: 63181)\n"
     ]
    },
    {
     "name": "stdout",
     "output_type": "stream",
     "text": [
      "Error HTTP: 500 Server Error: Internal Server Error for url: https://fbref.com/en/squads/257cf097/2024/. No es un 502, 504, ni 429, deteniendo reintentos.\n",
      "reintentando url con season: 2023-2024\n"
     ]
    },
    {
     "name": "stderr",
     "output_type": "stream",
     "text": [
      "2024-12-20 17:15:23,658 - INFO - Procesando club: Athletic Club (2024) (Código: 64918)\n"
     ]
    },
    {
     "name": "stdout",
     "output_type": "stream",
     "text": [
      "Error HTTP: 500 Server Error: Internal Server Error for url: https://fbref.com/en/squads/2b390eca/2024/. No es un 502, 504, ni 429, deteniendo reintentos.\n",
      "reintentando url con season: 2023-2024\n"
     ]
    },
    {
     "name": "stderr",
     "output_type": "stream",
     "text": [
      "2024-12-20 17:15:30,380 - INFO - Procesando club: Manchester City (2024) (Código: 281)\n"
     ]
    },
    {
     "name": "stdout",
     "output_type": "stream",
     "text": [
      "Error HTTP: 500 Server Error: Internal Server Error for url: https://fbref.com/en/squads/b8fd03ef/2024/. No es un 502, 504, ni 429, deteniendo reintentos.\n",
      "reintentando url con season: 2023-2024\n"
     ]
    },
    {
     "name": "stderr",
     "output_type": "stream",
     "text": [
      "2024-12-20 17:15:41,415 - INFO - Procesando club: Manchester Utd. (2024) (Código: 985)\n"
     ]
    },
    {
     "name": "stdout",
     "output_type": "stream",
     "text": [
      "Error HTTP: 500 Server Error: Internal Server Error for url: https://fbref.com/en/squads/19538871/2024/. No es un 502, 504, ni 429, deteniendo reintentos.\n",
      "reintentando url con season: 2023-2024\n"
     ]
    },
    {
     "name": "stderr",
     "output_type": "stream",
     "text": [
      "2024-12-20 17:15:50,537 - INFO - Procesando club: Liverpool (2024) (Código: 31)\n"
     ]
    },
    {
     "name": "stdout",
     "output_type": "stream",
     "text": [
      "Error HTTP: 500 Server Error: Internal Server Error for url: https://fbref.com/en/squads/822bd0ba/2024/. No es un 502, 504, ni 429, deteniendo reintentos.\n",
      "reintentando url con season: 2023-2024\n"
     ]
    },
    {
     "name": "stderr",
     "output_type": "stream",
     "text": [
      "2024-12-20 17:16:02,007 - INFO - Procesando club: Chelsea (2024) (Código: 631)\n"
     ]
    },
    {
     "name": "stdout",
     "output_type": "stream",
     "text": [
      "Error HTTP: 500 Server Error: Internal Server Error for url: https://fbref.com/en/squads/cff3d9bb/2024/. No es un 502, 504, ni 429, deteniendo reintentos.\n",
      "reintentando url con season: 2023-2024\n"
     ]
    },
    {
     "name": "stderr",
     "output_type": "stream",
     "text": [
      "2024-12-20 17:16:15,155 - INFO - Procesando club: Leicester City (2024) (Código: 1003)\n"
     ]
    },
    {
     "name": "stdout",
     "output_type": "stream",
     "text": [
      "Error HTTP: 500 Server Error: Internal Server Error for url: https://fbref.com/en/squads/a2d435b3/2024/. No es un 502, 504, ni 429, deteniendo reintentos.\n",
      "reintentando url con season: 2023-2024\n"
     ]
    },
    {
     "name": "stderr",
     "output_type": "stream",
     "text": [
      "2024-12-20 17:16:23,806 - INFO - Procesando club: West Ham (2024) (Código: 379)\n"
     ]
    },
    {
     "name": "stdout",
     "output_type": "stream",
     "text": [
      "Intento 1 de 5: Tiempo de espera excedido. Reintentando...\n",
      "Error HTTP: 500 Server Error: Internal Server Error for url: https://fbref.com/en/squads/7c21e445/2024/. No es un 502, 504, ni 429, deteniendo reintentos.\n",
      "reintentando url con season: 2023-2024\n"
     ]
    },
    {
     "name": "stderr",
     "output_type": "stream",
     "text": [
      "2024-12-20 17:16:57,519 - INFO - Procesando club: Tottenham (2024) (Código: 148)\n"
     ]
    },
    {
     "name": "stdout",
     "output_type": "stream",
     "text": [
      "Error HTTP: 500 Server Error: Internal Server Error for url: https://fbref.com/en/squads/361ca564/2024/. No es un 502, 504, ni 429, deteniendo reintentos.\n",
      "reintentando url con season: 2023-2024\n"
     ]
    },
    {
     "name": "stderr",
     "output_type": "stream",
     "text": [
      "2024-12-20 17:17:06,787 - INFO - Procesando club: Leeds (2024) (Código: 399)\n"
     ]
    },
    {
     "name": "stdout",
     "output_type": "stream",
     "text": [
      "Error HTTP: 500 Server Error: Internal Server Error for url: https://fbref.com/en/squads/5bfb9659/2024/. No es un 502, 504, ni 429, deteniendo reintentos.\n",
      "reintentando url con season: 2023-2024\n"
     ]
    },
    {
     "name": "stderr",
     "output_type": "stream",
     "text": [
      "2024-12-20 17:17:15,605 - INFO - Procesando club: Everton (2024) (Código: 29)\n"
     ]
    },
    {
     "name": "stdout",
     "output_type": "stream",
     "text": [
      "Error HTTP: 500 Server Error: Internal Server Error for url: https://fbref.com/en/squads/d3fd31cc/2024/. No es un 502, 504, ni 429, deteniendo reintentos.\n",
      "reintentando url con season: 2023-2024\n"
     ]
    },
    {
     "name": "stderr",
     "output_type": "stream",
     "text": [
      "2024-12-20 17:17:23,894 - INFO - Procesando club: Aston Villa (2024) (Código: 405)\n"
     ]
    },
    {
     "name": "stdout",
     "output_type": "stream",
     "text": [
      "Error HTTP: 500 Server Error: Internal Server Error for url: https://fbref.com/en/squads/8602292d/2024/. No es un 502, 504, ni 429, deteniendo reintentos.\n",
      "reintentando url con season: 2023-2024\n"
     ]
    },
    {
     "name": "stderr",
     "output_type": "stream",
     "text": [
      "2024-12-20 17:17:34,064 - INFO - Procesando club: Newcastle Utd. (2024) (Código: 762)\n"
     ]
    },
    {
     "name": "stdout",
     "output_type": "stream",
     "text": [
      "Error HTTP: 500 Server Error: Internal Server Error for url: https://fbref.com/en/squads/b2b47a98/2024/. No es un 502, 504, ni 429, deteniendo reintentos.\n",
      "reintentando url con season: 2023-2024\n"
     ]
    },
    {
     "name": "stderr",
     "output_type": "stream",
     "text": [
      "2024-12-20 17:17:45,292 - INFO - Procesando club: Crystal Palace (2024) (Código: 873)\n"
     ]
    },
    {
     "name": "stdout",
     "output_type": "stream",
     "text": [
      "Error HTTP: 500 Server Error: Internal Server Error for url: https://fbref.com/en/squads/47c64c55/2024/. No es un 502, 504, ni 429, deteniendo reintentos.\n",
      "reintentando url con season: 2023-2024\n"
     ]
    },
    {
     "name": "stderr",
     "output_type": "stream",
     "text": [
      "2024-12-20 17:17:54,400 - INFO - Procesando club: Southampton (2024) (Código: 180)\n"
     ]
    },
    {
     "name": "stdout",
     "output_type": "stream",
     "text": [
      "Error HTTP: 500 Server Error: Internal Server Error for url: https://fbref.com/en/squads/33c895d4/2024/. No es un 502, 504, ni 429, deteniendo reintentos.\n",
      "reintentando url con season: 2023-2024\n"
     ]
    },
    {
     "name": "stderr",
     "output_type": "stream",
     "text": [
      "2024-12-20 17:18:03,720 - INFO - Procesando club: Brighton (2024) (Código: 1237)\n"
     ]
    },
    {
     "name": "stdout",
     "output_type": "stream",
     "text": [
      "Error HTTP: 500 Server Error: Internal Server Error for url: https://fbref.com/en/squads/d07537b9/2024/. No es un 502, 504, ni 429, deteniendo reintentos.\n",
      "reintentando url con season: 2023-2024\n"
     ]
    },
    {
     "name": "stderr",
     "output_type": "stream",
     "text": [
      "2024-12-20 17:18:12,691 - INFO - Procesando club: Burnley (2024) (Código: 1132)\n"
     ]
    },
    {
     "name": "stdout",
     "output_type": "stream",
     "text": [
      "Error HTTP: 500 Server Error: Internal Server Error for url: https://fbref.com/en/squads/943e8050/2024/. No es un 502, 504, ni 429, deteniendo reintentos.\n",
      "reintentando url con season: 2023-2024\n"
     ]
    },
    {
     "name": "stderr",
     "output_type": "stream",
     "text": [
      "2024-12-20 17:18:22,850 - INFO - Procesando club: Fulham (2024) (Código: 931)\n"
     ]
    },
    {
     "name": "stdout",
     "output_type": "stream",
     "text": [
      "Error HTTP: 500 Server Error: Internal Server Error for url: https://fbref.com/en/squads/fd962109/2024/. No es un 502, 504, ni 429, deteniendo reintentos.\n",
      "reintentando url con season: 2023-2024\n"
     ]
    },
    {
     "name": "stderr",
     "output_type": "stream",
     "text": [
      "2024-12-20 17:18:33,146 - INFO - Procesando club: West Brom (2024) (Código: 984)\n"
     ]
    },
    {
     "name": "stdout",
     "output_type": "stream",
     "text": [
      "Error HTTP: 500 Server Error: Internal Server Error for url: https://fbref.com/en/squads/60c6b05f/2024/. No es un 502, 504, ni 429, deteniendo reintentos.\n",
      "reintentando url con season: 2023-2024\n"
     ]
    },
    {
     "name": "stderr",
     "output_type": "stream",
     "text": [
      "2024-12-20 17:18:42,865 - INFO - Procesando club: Brentford (2024) (Código: 1148)\n"
     ]
    },
    {
     "name": "stdout",
     "output_type": "stream",
     "text": [
      "Error HTTP: 500 Server Error: Internal Server Error for url: https://fbref.com/en/squads/cd051869/2024/. No es un 502, 504, ni 429, deteniendo reintentos.\n",
      "reintentando url con season: 2023-2024\n"
     ]
    },
    {
     "name": "stderr",
     "output_type": "stream",
     "text": [
      "2024-12-20 17:18:51,255 - INFO - Procesando club: Watford (2024) (Código: 1010)\n"
     ]
    },
    {
     "name": "stdout",
     "output_type": "stream",
     "text": [
      "Error HTTP: 500 Server Error: Internal Server Error for url: https://fbref.com/en/squads/2abfe087/2024/. No es un 502, 504, ni 429, deteniendo reintentos.\n",
      "reintentando url con season: 2023-2024\n"
     ]
    },
    {
     "name": "stderr",
     "output_type": "stream",
     "text": [
      "2024-12-20 17:19:05,237 - INFO - Procesando club: Norwich (2024) (Código: 1123)\n"
     ]
    },
    {
     "name": "stdout",
     "output_type": "stream",
     "text": [
      "Error HTTP: 500 Server Error: Internal Server Error for url: https://fbref.com/en/squads/1c781004/2024/. No es un 502, 504, ni 429, deteniendo reintentos.\n",
      "reintentando url con season: 2023-2024\n"
     ]
    },
    {
     "name": "stderr",
     "output_type": "stream",
     "text": [
      "2024-12-20 17:19:14,456 - INFO - Procesando club: Bournemouth (2024) (Código: 989)\n"
     ]
    },
    {
     "name": "stdout",
     "output_type": "stream",
     "text": [
      "Error HTTP: 500 Server Error: Internal Server Error for url: https://fbref.com/en/squads/4ba7cbea/2024/. No es un 502, 504, ni 429, deteniendo reintentos.\n",
      "reintentando url con season: 2023-2024\n"
     ]
    },
    {
     "name": "stderr",
     "output_type": "stream",
     "text": [
      "2024-12-20 17:19:23,611 - INFO - Procesando club: Luton (2024) (Código: 1031)\n"
     ]
    },
    {
     "name": "stdout",
     "output_type": "stream",
     "text": [
      "Error HTTP: 500 Server Error: Internal Server Error for url: https://fbref.com/en/squads/e297cd13/2024/. No es un 502, 504, ni 429, deteniendo reintentos.\n",
      "reintentando url con season: 2023-2024\n"
     ]
    },
    {
     "name": "stderr",
     "output_type": "stream",
     "text": [
      "2024-12-20 17:19:32,822 - INFO - Procesando club: Sheff Utd (2024) (Código: 350)\n"
     ]
    },
    {
     "name": "stdout",
     "output_type": "stream",
     "text": [
      "Error HTTP: 500 Server Error: Internal Server Error for url: https://fbref.com/en/squads/1df6b87e/2024/. No es un 502, 504, ni 429, deteniendo reintentos.\n",
      "reintentando url con season: 2023-2024\n"
     ]
    },
    {
     "name": "stderr",
     "output_type": "stream",
     "text": [
      "2024-12-20 17:19:53,220 - INFO - Procesando club: Nottm Forest (2024) (Código: 703)\n"
     ]
    },
    {
     "name": "stdout",
     "output_type": "stream",
     "text": [
      "Error HTTP: 500 Server Error: Internal Server Error for url: https://fbref.com/en/squads/e4a775cb/2024/. No es un 502, 504, ni 429, deteniendo reintentos.\n",
      "reintentando url con season: 2023-2024\n"
     ]
    },
    {
     "name": "stderr",
     "output_type": "stream",
     "text": [
      "2024-12-20 17:20:03,576 - INFO - Procesando club: Ind. Rivadavia (2024) (Código: 12179)\n",
      "2024-12-20 17:20:11,916 - INFO - Procesando club: FC Barcelona (2024) (Código: 131)\n"
     ]
    },
    {
     "name": "stdout",
     "output_type": "stream",
     "text": [
      "Error HTTP: 500 Server Error: Internal Server Error for url: https://fbref.com/en/squads/206d90db/2024/. No es un 502, 504, ni 429, deteniendo reintentos.\n",
      "reintentando url con season: 2023-2024\n"
     ]
    },
    {
     "name": "stderr",
     "output_type": "stream",
     "text": [
      "2024-12-20 17:20:20,410 - INFO - Procesando club: Real Madrid (2024) (Código: 418)\n"
     ]
    },
    {
     "name": "stdout",
     "output_type": "stream",
     "text": [
      "Error HTTP: 500 Server Error: Internal Server Error for url: https://fbref.com/en/squads/53a2f082/2024/. No es un 502, 504, ni 429, deteniendo reintentos.\n",
      "reintentando url con season: 2023-2024\n"
     ]
    },
    {
     "name": "stderr",
     "output_type": "stream",
     "text": [
      "2024-12-20 17:20:29,655 - INFO - Procesando club: Atlético Madrid (2024) (Código: 13)\n"
     ]
    },
    {
     "name": "stdout",
     "output_type": "stream",
     "text": [
      "Error HTTP: 500 Server Error: Internal Server Error for url: https://fbref.com/en/squads/db3b9613/2024/. No es un 502, 504, ni 429, deteniendo reintentos.\n",
      "reintentando url con season: 2023-2024\n"
     ]
    },
    {
     "name": "stderr",
     "output_type": "stream",
     "text": [
      "2024-12-20 17:20:38,763 - INFO - Procesando club: Real Sociedad (2024) (Código: 681)\n"
     ]
    },
    {
     "name": "stdout",
     "output_type": "stream",
     "text": [
      "Error HTTP: 500 Server Error: Internal Server Error for url: https://fbref.com/en/squads/e31d1cd9/2024/. No es un 502, 504, ni 429, deteniendo reintentos.\n",
      "reintentando url con season: 2023-2024\n"
     ]
    },
    {
     "name": "stderr",
     "output_type": "stream",
     "text": [
      "2024-12-20 17:20:47,682 - INFO - Procesando club: Villarreal CF (2024) (Código: 1050)\n"
     ]
    },
    {
     "name": "stdout",
     "output_type": "stream",
     "text": [
      "Error HTTP: 500 Server Error: Internal Server Error for url: https://fbref.com/en/squads/2a8183b3/2024/. No es un 502, 504, ni 429, deteniendo reintentos.\n",
      "reintentando url con season: 2023-2024\n"
     ]
    },
    {
     "name": "stderr",
     "output_type": "stream",
     "text": [
      "2024-12-20 17:20:56,799 - INFO - Procesando club: CA Osasuna (2024) (Código: 331)\n"
     ]
    },
    {
     "name": "stdout",
     "output_type": "stream",
     "text": [
      "Error HTTP: 500 Server Error: Internal Server Error for url: https://fbref.com/en/squads/03c57e2b/2024/. No es un 502, 504, ni 429, deteniendo reintentos.\n",
      "reintentando url con season: 2023-2024\n"
     ]
    },
    {
     "name": "stderr",
     "output_type": "stream",
     "text": [
      "2024-12-20 17:21:05,268 - INFO - Procesando club: Girona FC (2024) (Código: 12321)\n"
     ]
    },
    {
     "name": "stdout",
     "output_type": "stream",
     "text": [
      "Error HTTP: 500 Server Error: Internal Server Error for url: https://fbref.com/en/squads/9024a00a/2024/. No es un 502, 504, ni 429, deteniendo reintentos.\n",
      "reintentando url con season: 2023-2024\n"
     ]
    },
    {
     "name": "stderr",
     "output_type": "stream",
     "text": [
      "2024-12-20 17:21:13,932 - INFO - Procesando club: Getafe CF (2024) (Código: 3709)\n"
     ]
    },
    {
     "name": "stdout",
     "output_type": "stream",
     "text": [
      "Error HTTP: 500 Server Error: Internal Server Error for url: https://fbref.com/en/squads/7848bd64/2024/. No es un 502, 504, ni 429, deteniendo reintentos.\n",
      "reintentando url con season: 2023-2024\n"
     ]
    },
    {
     "name": "stderr",
     "output_type": "stream",
     "text": [
      "2024-12-20 17:21:22,740 - INFO - Procesando club: Cádiz CF (2024) (Código: 2687)\n"
     ]
    },
    {
     "name": "stdout",
     "output_type": "stream",
     "text": [
      "Error HTTP: 500 Server Error: Internal Server Error for url: https://fbref.com/en/squads/ee7c297c/2024/. No es un 502, 504, ni 429, deteniendo reintentos.\n",
      "reintentando url con season: 2023-2024\n"
     ]
    },
    {
     "name": "stderr",
     "output_type": "stream",
     "text": [
      "2024-12-20 17:21:33,596 - INFO - Procesando club: UD Almería (2024) (Código: 3302)\n"
     ]
    },
    {
     "name": "stdout",
     "output_type": "stream",
     "text": [
      "Error HTTP: 500 Server Error: Internal Server Error for url: https://fbref.com/en/squads/78ecf4bb/2024/. No es un 502, 504, ni 429, deteniendo reintentos.\n",
      "reintentando url con season: 2023-2024\n"
     ]
    },
    {
     "name": "stderr",
     "output_type": "stream",
     "text": [
      "2024-12-20 17:21:42,441 - INFO - Procesando club: RCD Espanyol (2024) (Código: 714)\n"
     ]
    },
    {
     "name": "stdout",
     "output_type": "stream",
     "text": [
      "Error HTTP: 500 Server Error: Internal Server Error for url: https://fbref.com/en/squads/a8661628/2024/. No es un 502, 504, ni 429, deteniendo reintentos.\n",
      "reintentando url con season: 2023-2024\n"
     ]
    },
    {
     "name": "stderr",
     "output_type": "stream",
     "text": [
      "2024-12-20 17:21:52,842 - INFO - Procesando club: CD Leganés (2024) (Código: 1244)\n"
     ]
    },
    {
     "name": "stdout",
     "output_type": "stream",
     "text": [
      "Error HTTP: 500 Server Error: Internal Server Error for url: https://fbref.com/en/squads/7c6f2c78/2024/. No es un 502, 504, ni 429, deteniendo reintentos.\n",
      "reintentando url con season: 2023-2024\n"
     ]
    },
    {
     "name": "stderr",
     "output_type": "stream",
     "text": [
      "2024-12-20 17:22:01,712 - INFO - Procesando club: Inter (2024) (Código: 46)\n"
     ]
    },
    {
     "name": "stdout",
     "output_type": "stream",
     "text": [
      "Error HTTP: 500 Server Error: Internal Server Error for url: https://fbref.com/en/squads/d609edc0/2024/. No es un 502, 504, ni 429, deteniendo reintentos.\n",
      "reintentando url con season: 2023-2024\n"
     ]
    },
    {
     "name": "stderr",
     "output_type": "stream",
     "text": [
      "2024-12-20 17:22:10,925 - INFO - Procesando club: AC Milan (2024) (Código: 5)\n"
     ]
    },
    {
     "name": "stdout",
     "output_type": "stream",
     "text": [
      "Error HTTP: 500 Server Error: Internal Server Error for url: https://fbref.com/en/squads/dc56fe14/2024/. No es un 502, 504, ni 429, deteniendo reintentos.\n",
      "reintentando url con season: 2023-2024\n"
     ]
    },
    {
     "name": "stderr",
     "output_type": "stream",
     "text": [
      "2024-12-20 17:22:20,052 - INFO - Procesando club: Atalanta (2024) (Código: 800)\n"
     ]
    },
    {
     "name": "stdout",
     "output_type": "stream",
     "text": [
      "Error HTTP: 500 Server Error: Internal Server Error for url: https://fbref.com/en/squads/922493f3/2024/. No es un 502, 504, ni 429, deteniendo reintentos.\n",
      "reintentando url con season: 2023-2024\n"
     ]
    },
    {
     "name": "stderr",
     "output_type": "stream",
     "text": [
      "2024-12-20 17:22:29,577 - INFO - Procesando club: Juventus (2024) (Código: 506)\n"
     ]
    },
    {
     "name": "stdout",
     "output_type": "stream",
     "text": [
      "Error HTTP: 500 Server Error: Internal Server Error for url: https://fbref.com/en/squads/e0652b02/2024/. No es un 502, 504, ni 429, deteniendo reintentos.\n",
      "reintentando url con season: 2023-2024\n"
     ]
    },
    {
     "name": "stderr",
     "output_type": "stream",
     "text": [
      "2024-12-20 17:22:39,550 - INFO - Procesando club: Napoli (2024) (Código: 6195)\n"
     ]
    },
    {
     "name": "stdout",
     "output_type": "stream",
     "text": [
      "Error HTTP: 500 Server Error: Internal Server Error for url: https://fbref.com/en/squads/d48ad4ff/2024/. No es un 502, 504, ni 429, deteniendo reintentos.\n",
      "reintentando url con season: 2023-2024\n"
     ]
    },
    {
     "name": "stderr",
     "output_type": "stream",
     "text": [
      "2024-12-20 17:22:48,994 - INFO - Procesando club: Lazio (2024) (Código: 398)\n"
     ]
    },
    {
     "name": "stdout",
     "output_type": "stream",
     "text": [
      "Error HTTP: 500 Server Error: Internal Server Error for url: https://fbref.com/en/squads/7213da33/2024/. No es un 502, 504, ni 429, deteniendo reintentos.\n",
      "reintentando url con season: 2023-2024\n"
     ]
    },
    {
     "name": "stderr",
     "output_type": "stream",
     "text": [
      "2024-12-20 17:22:58,363 - INFO - Procesando club: AS Roma (2024) (Código: 12)\n"
     ]
    },
    {
     "name": "stdout",
     "output_type": "stream",
     "text": [
      "Error HTTP: 500 Server Error: Internal Server Error for url: https://fbref.com/en/squads/cf74a709/2024/. No es un 502, 504, ni 429, deteniendo reintentos.\n",
      "reintentando url con season: 2023-2024\n"
     ]
    },
    {
     "name": "stderr",
     "output_type": "stream",
     "text": [
      "2024-12-20 17:23:07,931 - INFO - Procesando club: Sassuolo (2024) (Código: 6574)\n"
     ]
    },
    {
     "name": "stdout",
     "output_type": "stream",
     "text": [
      "Error HTTP: 500 Server Error: Internal Server Error for url: https://fbref.com/en/squads/e2befd26/2024/. No es un 502, 504, ni 429, deteniendo reintentos.\n",
      "reintentando url con season: 2023-2024\n"
     ]
    },
    {
     "name": "stderr",
     "output_type": "stream",
     "text": [
      "2024-12-20 17:23:17,085 - INFO - Procesando club: Sampdoria (2024) (Código: 1038)\n"
     ]
    },
    {
     "name": "stdout",
     "output_type": "stream",
     "text": [
      "Error HTTP: 500 Server Error: Internal Server Error for url: https://fbref.com/en/squads/8ff9e3b3/2024/. No es un 502, 504, ni 429, deteniendo reintentos.\n",
      "reintentando url con season: 2023-2024\n"
     ]
    },
    {
     "name": "stderr",
     "output_type": "stream",
     "text": [
      "2024-12-20 17:23:26,868 - INFO - Procesando club: Hellas Verona (2024) (Código: 276)\n"
     ]
    },
    {
     "name": "stdout",
     "output_type": "stream",
     "text": [
      "Error HTTP: 500 Server Error: Internal Server Error for url: https://fbref.com/en/squads/0e72edf2/2024/. No es un 502, 504, ni 429, deteniendo reintentos.\n",
      "reintentando url con season: 2023-2024\n"
     ]
    },
    {
     "name": "stderr",
     "output_type": "stream",
     "text": [
      "2024-12-20 17:23:37,313 - INFO - Procesando club: Génova (2024) (Código: 252)\n"
     ]
    },
    {
     "name": "stdout",
     "output_type": "stream",
     "text": [
      "Error HTTP: 500 Server Error: Internal Server Error for url: https://fbref.com/en/squads/658bf2de/2024/. No es un 502, 504, ni 429, deteniendo reintentos.\n",
      "reintentando url con season: 2023-2024\n"
     ]
    },
    {
     "name": "stderr",
     "output_type": "stream",
     "text": [
      "2024-12-20 17:23:46,510 - INFO - Procesando club: Bolonia (2024) (Código: 1025)\n"
     ]
    },
    {
     "name": "stdout",
     "output_type": "stream",
     "text": [
      "Error HTTP: 500 Server Error: Internal Server Error for url: https://fbref.com/en/squads/1d8099f8/2024/. No es un 502, 504, ni 429, deteniendo reintentos.\n",
      "reintentando url con season: 2023-2024\n"
     ]
    },
    {
     "name": "stderr",
     "output_type": "stream",
     "text": [
      "2024-12-20 17:24:03,146 - INFO - Procesando club: Fiorentina (2024) (Código: 430)\n"
     ]
    },
    {
     "name": "stdout",
     "output_type": "stream",
     "text": [
      "Error HTTP: 500 Server Error: Internal Server Error for url: https://fbref.com/en/squads/421387cf/2024/. No es un 502, 504, ni 429, deteniendo reintentos.\n",
      "reintentando url con season: 2023-2024\n"
     ]
    },
    {
     "name": "stderr",
     "output_type": "stream",
     "text": [
      "2024-12-20 17:24:12,021 - INFO - Procesando club: Udinese (2024) (Código: 410)\n"
     ]
    },
    {
     "name": "stdout",
     "output_type": "stream",
     "text": [
      "Error HTTP: 500 Server Error: Internal Server Error for url: https://fbref.com/en/squads/04eea015/2024/. No es un 502, 504, ni 429, deteniendo reintentos.\n",
      "reintentando url con season: 2023-2024\n"
     ]
    },
    {
     "name": "stderr",
     "output_type": "stream",
     "text": [
      "2024-12-20 17:24:21,334 - INFO - Procesando club: Spezia (2024) (Código: 3522)\n"
     ]
    },
    {
     "name": "stdout",
     "output_type": "stream",
     "text": [
      "Error HTTP: 500 Server Error: Internal Server Error for url: https://fbref.com/en/squads/68449f6d/2024/. No es un 502, 504, ni 429, deteniendo reintentos.\n",
      "reintentando url con season: 2023-2024\n"
     ]
    },
    {
     "name": "stderr",
     "output_type": "stream",
     "text": [
      "2024-12-20 17:24:32,879 - INFO - Procesando club: Torino (2024) (Código: 416)\n"
     ]
    },
    {
     "name": "stdout",
     "output_type": "stream",
     "text": [
      "Error HTTP: 500 Server Error: Internal Server Error for url: https://fbref.com/en/squads/105360fe/2024/. No es un 502, 504, ni 429, deteniendo reintentos.\n",
      "reintentando url con season: 2023-2024\n"
     ]
    },
    {
     "name": "stderr",
     "output_type": "stream",
     "text": [
      "2024-12-20 17:24:44,395 - INFO - Procesando club: Benevento (2024) (Código: 4171)\n"
     ]
    },
    {
     "name": "stdout",
     "output_type": "stream",
     "text": [
      "Error HTTP: 500 Server Error: Internal Server Error for url: https://fbref.com/en/squads/4fcb34fd/2024/. No es un 502, 504, ni 429, deteniendo reintentos.\n",
      "reintentando url con season: 2023-2024\n"
     ]
    },
    {
     "name": "stderr",
     "output_type": "stream",
     "text": [
      "2024-12-20 17:24:55,810 - INFO - Procesando club: Crotone (2024) (Código: 4083)\n"
     ]
    },
    {
     "name": "stdout",
     "output_type": "stream",
     "text": [
      "Error HTTP: 500 Server Error: Internal Server Error for url: https://fbref.com/en/squads/3074d7b1/2024/. No es un 502, 504, ni 429, deteniendo reintentos.\n",
      "reintentando url con season: 2023-2024\n"
     ]
    },
    {
     "name": "stderr",
     "output_type": "stream",
     "text": [
      "2024-12-20 17:25:04,877 - INFO - Procesando club: Empoli (2024) (Código: 749)\n"
     ]
    },
    {
     "name": "stdout",
     "output_type": "stream",
     "text": [
      "Error HTTP: 500 Server Error: Internal Server Error for url: https://fbref.com/en/squads/a3d88bd8/2024/. No es un 502, 504, ni 429, deteniendo reintentos.\n",
      "reintentando url con season: 2023-2024\n"
     ]
    },
    {
     "name": "stderr",
     "output_type": "stream",
     "text": [
      "2024-12-20 17:25:14,708 - INFO - Procesando club: Monza (2024) (Código: 2919)\n"
     ]
    },
    {
     "name": "stdout",
     "output_type": "stream",
     "text": [
      "Error HTTP: 500 Server Error: Internal Server Error for url: https://fbref.com/en/squads/21680aa4/2024/. No es un 502, 504, ni 429, deteniendo reintentos.\n",
      "reintentando url con season: 2023-2024\n"
     ]
    },
    {
     "name": "stderr",
     "output_type": "stream",
     "text": [
      "2024-12-20 17:25:24,006 - INFO - Procesando club: Lecce (2024) (Código: 1005)\n"
     ]
    },
    {
     "name": "stdout",
     "output_type": "stream",
     "text": [
      "Error HTTP: 500 Server Error: Internal Server Error for url: https://fbref.com/en/squads/ffcbe334/2024/. No es un 502, 504, ni 429, deteniendo reintentos.\n",
      "reintentando url con season: 2023-2024\n"
     ]
    },
    {
     "name": "stderr",
     "output_type": "stream",
     "text": [
      "2024-12-20 17:25:37,645 - INFO - Procesando club: Frosinone (2024) (Código: 8970)\n"
     ]
    },
    {
     "name": "stdout",
     "output_type": "stream",
     "text": [
      "Error HTTP: 500 Server Error: Internal Server Error for url: https://fbref.com/en/squads/6a7ad59d/2024/. No es un 502, 504, ni 429, deteniendo reintentos.\n",
      "reintentando url con season: 2023-2024\n"
     ]
    },
    {
     "name": "stderr",
     "output_type": "stream",
     "text": [
      "2024-12-20 17:25:48,197 - INFO - Procesando club: Como (2024) (Código: 1047)\n"
     ]
    },
    {
     "name": "stdout",
     "output_type": "stream",
     "text": [
      "Error HTTP: 500 Server Error: Internal Server Error for url: https://fbref.com/en/squads/28c9c3cd/2024/. No es un 502, 504, ni 429, deteniendo reintentos.\n",
      "reintentando url con season: 2023-2024\n"
     ]
    },
    {
     "name": "stderr",
     "output_type": "stream",
     "text": [
      "2024-12-20 17:25:57,317 - INFO - Procesando club: Antofagasta (2024) (Código: 17222)\n"
     ]
    },
    {
     "name": "stdout",
     "output_type": "stream",
     "text": [
      "Error HTTP: 500 Server Error: Internal Server Error for url: https://fbref.com/en/squads/fb8c42a7/2024/. No es un 502, 504, ni 429, deteniendo reintentos.\n",
      "reintentando url con season: 2023-2024\n"
     ]
    },
    {
     "name": "stderr",
     "output_type": "stream",
     "text": [
      "2024-12-20 17:26:04,661 - INFO - Procesando club: Cobresal (2024) (Código: 17482)\n",
      "2024-12-20 17:26:12,071 - INFO - Procesando club: U. Concepción (2024) (Código: 5622)\n"
     ]
    },
    {
     "name": "stdout",
     "output_type": "stream",
     "text": [
      "Error HTTP: 500 Server Error: Internal Server Error for url: https://fbref.com/en/squads/01b96636/2024/. No es un 502, 504, ni 429, deteniendo reintentos.\n",
      "reintentando url con season: 2023-2024\n"
     ]
    },
    {
     "name": "stderr",
     "output_type": "stream",
     "text": [
      "2024-12-20 17:26:19,457 - INFO - Procesando club: Iquique (2024) (Código: 18076)\n",
      "2024-12-20 17:26:26,171 - INFO - Procesando club: Coquimbo (2024) (Código: 11004)\n",
      "2024-12-20 17:26:33,610 - INFO - Procesando club: Melipilla (2024) (Código: 12949)\n"
     ]
    },
    {
     "name": "stdout",
     "output_type": "stream",
     "text": [
      "Error HTTP: 500 Server Error: Internal Server Error for url: https://fbref.com/en/squads/d124af3f/2024/. No es un 502, 504, ni 429, deteniendo reintentos.\n",
      "reintentando url con season: 2023-2024\n"
     ]
    },
    {
     "name": "stderr",
     "output_type": "stream",
     "text": [
      "2024-12-20 17:26:41,488 - INFO - Procesando club: Copiapó (2024) (Código: 20694)\n",
      "2024-12-20 17:26:48,896 - INFO - Procesando club: Cobreloa (2024) (Código: 9103)\n"
     ]
    },
    {
     "name": "stdout",
     "output_type": "stream",
     "text": [
      "Intento 1 de 5: Tiempo de espera excedido. Reintentando...\n"
     ]
    },
    {
     "name": "stderr",
     "output_type": "stream",
     "text": [
      "2024-12-20 17:27:21,063 - INFO - Procesando club: Flamengo (2024) (Código: 614)\n",
      "2024-12-20 17:27:29,428 - INFO - Procesando club: Atl. Mineiro (2024) (Código: 330)\n",
      "2024-12-20 17:27:37,603 - INFO - Procesando club: RB Bragantino (2024) (Código: 8793)\n",
      "2024-12-20 17:27:45,459 - INFO - Procesando club: Ceará SC (2024) (Código: 2029)\n",
      "2024-12-20 17:27:53,054 - INFO - Procesando club: Atlético-GO (2024) (Código: 15172)\n",
      "2024-12-20 17:27:59,439 - INFO - Procesando club: Sport Recife (2024) (Código: 8718)\n",
      "2024-12-20 17:28:07,241 - INFO - Procesando club: Goiás (2024) (Código: 3197)\n",
      "2024-12-20 17:28:14,941 - INFO - Procesando club: Botafogo (2024) (Código: 537)\n",
      "2024-12-20 17:28:23,276 - INFO - Procesando club: Cuiabá-MT (2024) (Código: 28022)\n",
      "2024-12-20 17:28:31,713 - INFO - Procesando club: Juventude (2024) (Código: 10492)\n",
      "2024-12-20 17:28:40,171 - INFO - Procesando club: Chapecoense (2024) (Código: 17776)\n",
      "2024-12-20 17:28:47,706 - INFO - Procesando club: EC Vitória (2024) (Código: 2125)\n",
      "2024-12-20 17:28:55,780 - INFO - Procesando club: Criciúma EC (2024) (Código: 7178)\n",
      "2024-12-20 17:29:03,976 - INFO - Procesando club: CD Macará (2024) (Código: 17426)\n",
      "2024-12-20 17:29:11,200 - INFO - Procesando club: Técnico U. (2024) (Código: 19104)\n",
      "2024-12-20 17:29:18,257 - INFO - Procesando club: Guayaquil City (2024) (Código: 25569)\n"
     ]
    },
    {
     "name": "stdout",
     "output_type": "stream",
     "text": [
      "Error HTTP: 500 Server Error: Internal Server Error for url: https://fbref.com/en/squads/9c3c38e4/2024/. No es un 502, 504, ni 429, deteniendo reintentos.\n",
      "reintentando url con season: 2023-2024\n"
     ]
    },
    {
     "name": "stderr",
     "output_type": "stream",
     "text": [
      "2024-12-20 17:29:25,628 - INFO - Procesando club: Mushuc Runa SC (2024) (Código: 25576)\n",
      "2024-12-20 17:29:33,814 - INFO - Procesando club: CD Olmedo (2024) (Código: 9854)\n"
     ]
    },
    {
     "name": "stdout",
     "output_type": "stream",
     "text": [
      "Error HTTP: 500 Server Error: Internal Server Error for url: https://fbref.com/en/squads/40339a93/2024/. No es un 502, 504, ni 429, deteniendo reintentos.\n",
      "reintentando url con season: 2023-2024\n"
     ]
    },
    {
     "name": "stderr",
     "output_type": "stream",
     "text": [
      "2024-12-20 17:29:41,274 - INFO - Procesando club: CD El Nacional (2024) (Código: 1143)\n",
      "2024-12-20 17:29:48,705 - INFO - Procesando club: LDU Portoviejo (2024) (Código: 19310)\n"
     ]
    },
    {
     "name": "stdout",
     "output_type": "stream",
     "text": [
      "Error HTTP: 500 Server Error: Internal Server Error for url: https://fbref.com/en/squads/82bb8427/2024/. No es un 502, 504, ni 429, deteniendo reintentos.\n",
      "reintentando url con season: 2023-2024\n"
     ]
    },
    {
     "name": "stderr",
     "output_type": "stream",
     "text": [
      "2024-12-20 17:29:56,378 - INFO - Procesando club: Orense SC (2024) (Código: 36020)\n",
      "2024-12-20 17:30:03,481 - INFO - Procesando club: AD 9 de Octubre (2024) (Código: 19101)\n"
     ]
    },
    {
     "name": "stdout",
     "output_type": "stream",
     "text": [
      "Error HTTP: 500 Server Error: Internal Server Error for url: https://fbref.com/en/squads/f7dac7a4/2024/. No es un 502, 504, ni 429, deteniendo reintentos.\n",
      "reintentando url con season: 2023-2024\n"
     ]
    },
    {
     "name": "stderr",
     "output_type": "stream",
     "text": [
      "2024-12-20 17:30:11,685 - INFO - Procesando club: Gualaceo SC (2024) (Código: 25698)\n"
     ]
    },
    {
     "name": "stdout",
     "output_type": "stream",
     "text": [
      "Error HTTP: 500 Server Error: Internal Server Error for url: https://fbref.com/en/squads/a085e151/2024/. No es un 502, 504, ni 429, deteniendo reintentos.\n",
      "reintentando url con season: 2023-2024\n"
     ]
    },
    {
     "name": "stderr",
     "output_type": "stream",
     "text": [
      "2024-12-20 17:30:19,078 - INFO - Procesando club: Cumbayá FC (2024) (Código: 41301)\n",
      "2024-12-20 17:30:31,063 - INFO - Procesando club: Libertad FC (2024) (Código: 87068)\n",
      "2024-12-20 17:30:39,301 - INFO - Procesando club: Imbabura SC (2024) (Código: 17476)\n",
      "2024-12-20 17:30:47,058 - INFO - Procesando club: Progreso (2024) (Código: 17595)\n",
      "2024-12-20 17:30:55,052 - INFO - Procesando club: CA Cerro (2024) (Código: 14806)\n",
      "2024-12-20 17:31:02,901 - INFO - Procesando club: Albion FC (2024) (Código: 42149)\n"
     ]
    },
    {
     "name": "stdout",
     "output_type": "stream",
     "text": [
      "Error HTTP: 500 Server Error: Internal Server Error for url: https://fbref.com/en/squads/1bec899e/2024/. No es un 502, 504, ni 429, deteniendo reintentos.\n",
      "reintentando url con season: 2023-2024\n"
     ]
    },
    {
     "name": "stderr",
     "output_type": "stream",
     "text": [
      "2024-12-20 17:31:10,459 - INFO - Procesando club: La Luz (2024) (Código: 20762)\n"
     ]
    },
    {
     "name": "stdout",
     "output_type": "stream",
     "text": [
      "Error HTTP: 500 Server Error: Internal Server Error for url: https://fbref.com/en/squads/d7fb2120/2024/. No es un 502, 504, ni 429, deteniendo reintentos.\n",
      "reintentando url con season: 2023-2024\n"
     ]
    },
    {
     "name": "stderr",
     "output_type": "stream",
     "text": [
      "2024-12-20 17:31:18,504 - INFO - Procesando club: Rampla Jrs (2024) (Código: 14598)\n",
      "2024-12-20 17:31:27,860 - INFO - Procesando club: Miramar (2024) (Código: 7477)\n",
      "2024-12-20 17:31:35,546 - INFO - Procesando club: A. Bucaramanga (2024) (Código: 6495)\n",
      "2024-12-20 17:31:44,824 - INFO - Procesando club: CD La Equidad (2024) (Código: 17425)\n",
      "2024-12-20 17:31:57,040 - INFO - Procesando club: Alianza FC (2024) (Código: 22902)\n",
      "2024-12-20 17:32:08,366 - INFO - Procesando club: Jaguares FC (2024) (Código: 39252)\n",
      "2024-12-20 17:32:24,614 - INFO - Procesando club: Boyacá Chicó (2024) (Código: 14649)\n",
      "2024-12-20 17:32:33,547 - INFO - Procesando club: Quindío (2024) (Código: 2351)\n"
     ]
    },
    {
     "name": "stdout",
     "output_type": "stream",
     "text": [
      "Error HTTP: 500 Server Error: Internal Server Error for url: https://fbref.com/en/squads/7301864f/2024/. No es un 502, 504, ni 429, deteniendo reintentos.\n",
      "reintentando url con season: 2023-2024\n"
     ]
    },
    {
     "name": "stderr",
     "output_type": "stream",
     "text": [
      "2024-12-20 17:32:41,204 - INFO - Procesando club: Atlético Huila (2024) (Código: 14583)\n"
     ]
    },
    {
     "name": "stdout",
     "output_type": "stream",
     "text": [
      "Error HTTP: 500 Server Error: Internal Server Error for url: https://fbref.com/en/squads/5d3835bb/2024/. No es un 502, 504, ni 429, deteniendo reintentos.\n",
      "reintentando url con season: 2023-2024\n"
     ]
    },
    {
     "name": "stderr",
     "output_type": "stream",
     "text": [
      "2024-12-20 17:32:49,784 - INFO - Procesando club: Union Magdalena (2024) (Código: 14680)\n"
     ]
    },
    {
     "name": "stdout",
     "output_type": "stream",
     "text": [
      "Error HTTP: 500 Server Error: Internal Server Error for url: https://fbref.com/en/squads/418eab1a/2024/. No es un 502, 504, ni 429, deteniendo reintentos.\n",
      "reintentando url con season: 2023-2024\n"
     ]
    },
    {
     "name": "stderr",
     "output_type": "stream",
     "text": [
      "2024-12-20 17:32:58,967 - INFO - Procesando club: Fortaleza CEIF (2024) (Código: 32041)\n",
      "2024-12-20 17:33:08,193 - INFO - Procesando club: CS San Lorenzo (2024) (Código: 19124)\n"
     ]
    },
    {
     "name": "stdout",
     "output_type": "stream",
     "text": [
      "Error HTTP: 500 Server Error: Internal Server Error for url: https://fbref.com/en/squads/3a980b79/2024/. No es un 502, 504, ni 429, deteniendo reintentos.\n",
      "reintentando url con season: 2023-2024\n"
     ]
    },
    {
     "name": "stderr",
     "output_type": "stream",
     "text": [
      "2024-12-20 17:33:16,168 - INFO - Procesando club: General Diaz (2024) (Código: 17483)\n"
     ]
    },
    {
     "name": "stdout",
     "output_type": "stream",
     "text": [
      "Error HTTP: 500 Server Error: Internal Server Error for url: https://fbref.com/en/squads/352504c0/2024/. No es un 502, 504, ni 429, deteniendo reintentos.\n",
      "reintentando url con season: 2023-2024\n"
     ]
    },
    {
     "name": "stderr",
     "output_type": "stream",
     "text": [
      "2024-12-20 17:33:24,878 - INFO - Procesando club: Trinidense (2024) (Código: 17427)\n",
      "2024-12-20 17:33:33,651 - INFO - Procesando club: 2 de Mayo (2024) (Código: 17484)\n",
      "2024-12-20 17:33:41,961 - INFO - Procesando club: León (2024) (Código: 4941)\n"
     ]
    },
    {
     "name": "stdout",
     "output_type": "stream",
     "text": [
      "Error HTTP: 500 Server Error: Internal Server Error for url: https://fbref.com/en/squads/fd7dad55/2024/. No es un 502, 504, ni 429, deteniendo reintentos.\n",
      "reintentando url con season: 2023-2024\n"
     ]
    },
    {
     "name": "stderr",
     "output_type": "stream",
     "text": [
      "2024-12-20 17:33:52,373 - INFO - Procesando club: Tigres UANL (2024) (Código: 7055)\n"
     ]
    },
    {
     "name": "stdout",
     "output_type": "stream",
     "text": [
      "Error HTTP: 500 Server Error: Internal Server Error for url: https://fbref.com/en/squads/d9e1bd51/2024/. No es un 502, 504, ni 429, deteniendo reintentos.\n",
      "reintentando url con season: 2023-2024\n"
     ]
    },
    {
     "name": "stderr",
     "output_type": "stream",
     "text": [
      "2024-12-20 17:34:01,950 - INFO - Procesando club: Ajax (2024) (Código: 610)\n"
     ]
    },
    {
     "name": "stdout",
     "output_type": "stream",
     "text": [
      "Error HTTP: 500 Server Error: Internal Server Error for url: https://fbref.com/en/squads/19c3f8c4/2024/. No es un 502, 504, ni 429, deteniendo reintentos.\n",
      "reintentando url con season: 2023-2024\n"
     ]
    },
    {
     "name": "stderr",
     "output_type": "stream",
     "text": [
      "2024-12-20 17:34:11,457 - INFO - Procesando club: PSV (2024) (Código: 383)\n"
     ]
    },
    {
     "name": "stdout",
     "output_type": "stream",
     "text": [
      "Error HTTP: 500 Server Error: Internal Server Error for url: https://fbref.com/en/squads/e334d850/2024/. No es un 502, 504, ni 429, deteniendo reintentos.\n",
      "reintentando url con season: 2023-2024\n"
     ]
    },
    {
     "name": "stderr",
     "output_type": "stream",
     "text": [
      "2024-12-20 17:34:20,358 - INFO - Procesando club: AZ Alkmaar (2024) (Código: 1090)\n"
     ]
    },
    {
     "name": "stdout",
     "output_type": "stream",
     "text": [
      "Error HTTP: 500 Server Error: Internal Server Error for url: https://fbref.com/en/squads/3986b791/2024/. No es un 502, 504, ni 429, deteniendo reintentos.\n",
      "reintentando url con season: 2023-2024\n"
     ]
    },
    {
     "name": "stderr",
     "output_type": "stream",
     "text": [
      "2024-12-20 17:34:29,655 - INFO - Procesando club: Vitesse (2024) (Código: 499)\n"
     ]
    },
    {
     "name": "stdout",
     "output_type": "stream",
     "text": [
      "Error HTTP: 500 Server Error: Internal Server Error for url: https://fbref.com/en/squads/209d7fa2/2024/. No es un 502, 504, ni 429, deteniendo reintentos.\n",
      "reintentando url con season: 2023-2024\n"
     ]
    },
    {
     "name": "stderr",
     "output_type": "stream",
     "text": [
      "2024-12-20 17:34:40,103 - INFO - Procesando club: Feyenoord (2024) (Código: 234)\n"
     ]
    },
    {
     "name": "stdout",
     "output_type": "stream",
     "text": [
      "Error HTTP: 500 Server Error: Internal Server Error for url: https://fbref.com/en/squads/fb4ca611/2024/. No es un 502, 504, ni 429, deteniendo reintentos.\n",
      "reintentando url con season: 2023-2024\n"
     ]
    },
    {
     "name": "stderr",
     "output_type": "stream",
     "text": [
      "2024-12-20 17:34:52,339 - INFO - Procesando club: FC Utrecht (2024) (Código: 200)\n"
     ]
    },
    {
     "name": "stdout",
     "output_type": "stream",
     "text": [
      "Error HTTP: 500 Server Error: Internal Server Error for url: https://fbref.com/en/squads/2a428619/2024/. No es un 502, 504, ni 429, deteniendo reintentos.\n",
      "reintentando url con season: 2023-2024\n"
     ]
    },
    {
     "name": "stderr",
     "output_type": "stream",
     "text": [
      "2024-12-20 17:35:06,836 - INFO - Procesando club: FC Groningen (2024) (Código: 202)\n"
     ]
    },
    {
     "name": "stdout",
     "output_type": "stream",
     "text": [
      "Error HTTP: 500 Server Error: Internal Server Error for url: https://fbref.com/en/squads/bec05adb/2024/. No es un 502, 504, ni 429, deteniendo reintentos.\n",
      "reintentando url con season: 2023-2024\n"
     ]
    },
    {
     "name": "stderr",
     "output_type": "stream",
     "text": [
      "2024-12-20 17:35:16,481 - INFO - Procesando club: Sparta R. (2024) (Código: 468)\n"
     ]
    },
    {
     "name": "stdout",
     "output_type": "stream",
     "text": [
      "Error HTTP: 500 Server Error: Internal Server Error for url: https://fbref.com/en/squads/146a68ce/2024/. No es un 502, 504, ni 429, deteniendo reintentos.\n",
      "reintentando url con season: 2023-2024\n"
     ]
    },
    {
     "name": "stderr",
     "output_type": "stream",
     "text": [
      "2024-12-20 17:35:26,732 - INFO - Procesando club: Heracles Almelo (2024) (Código: 1304)\n"
     ]
    },
    {
     "name": "stdout",
     "output_type": "stream",
     "text": [
      "Error HTTP: 500 Server Error: Internal Server Error for url: https://fbref.com/en/squads/c882b88e/2024/. No es un 502, 504, ni 429, deteniendo reintentos.\n",
      "reintentando url con season: 2023-2024\n"
     ]
    },
    {
     "name": "stderr",
     "output_type": "stream",
     "text": [
      "2024-12-20 17:35:36,299 - INFO - Procesando club: FC Twente (2024) (Código: 317)\n"
     ]
    },
    {
     "name": "stdout",
     "output_type": "stream",
     "text": [
      "Error HTTP: 500 Server Error: Internal Server Error for url: https://fbref.com/en/squads/a1f721d3/2024/. No es un 502, 504, ni 429, deteniendo reintentos.\n",
      "reintentando url con season: 2023-2024\n"
     ]
    },
    {
     "name": "stderr",
     "output_type": "stream",
     "text": [
      "2024-12-20 17:35:45,420 - INFO - Procesando club: Fortuna Sittard (2024) (Código: 385)\n"
     ]
    },
    {
     "name": "stdout",
     "output_type": "stream",
     "text": [
      "Error HTTP: 500 Server Error: Internal Server Error for url: https://fbref.com/en/squads/bd08295c/2024/. No es un 502, 504, ni 429, deteniendo reintentos.\n",
      "reintentando url con season: 2023-2024\n"
     ]
    },
    {
     "name": "stderr",
     "output_type": "stream",
     "text": [
      "2024-12-20 17:35:54,500 - INFO - Procesando club: Heerenveen (2024) (Código: 306)\n"
     ]
    },
    {
     "name": "stdout",
     "output_type": "stream",
     "text": [
      "Error HTTP: 500 Server Error: Internal Server Error for url: https://fbref.com/en/squads/193ff7aa/2024/. No es un 502, 504, ni 429, deteniendo reintentos.\n",
      "reintentando url con season: 2023-2024\n"
     ]
    },
    {
     "name": "stderr",
     "output_type": "stream",
     "text": [
      "2024-12-20 17:36:05,834 - INFO - Procesando club: PEC Zwolle (2024) (Código: 1269)\n"
     ]
    },
    {
     "name": "stdout",
     "output_type": "stream",
     "text": [
      "Error HTTP: 500 Server Error: Internal Server Error for url: https://fbref.com/en/squads/e3db180b/2024/. No es un 502, 504, ni 429, deteniendo reintentos.\n",
      "reintentando url con season: 2023-2024\n"
     ]
    },
    {
     "name": "stderr",
     "output_type": "stream",
     "text": [
      "2024-12-20 17:36:16,416 - INFO - Procesando club: Willem II (2024) (Código: 403)\n"
     ]
    },
    {
     "name": "stdout",
     "output_type": "stream",
     "text": [
      "Error HTTP: 500 Server Error: Internal Server Error for url: https://fbref.com/en/squads/f0479d7b/2024/. No es un 502, 504, ni 429, deteniendo reintentos.\n",
      "reintentando url con season: 2023-2024\n"
     ]
    },
    {
     "name": "stderr",
     "output_type": "stream",
     "text": [
      "2024-12-20 17:36:25,539 - INFO - Procesando club: RKC Waalwijk (2024) (Código: 235)\n"
     ]
    },
    {
     "name": "stdout",
     "output_type": "stream",
     "text": [
      "Error HTTP: 500 Server Error: Internal Server Error for url: https://fbref.com/en/squads/bb14adb3/2024/. No es un 502, 504, ni 429, deteniendo reintentos.\n",
      "reintentando url con season: 2023-2024\n"
     ]
    },
    {
     "name": "stderr",
     "output_type": "stream",
     "text": [
      "2024-12-20 17:36:34,459 - INFO - Procesando club: FC Emmen (2024) (Código: 1283)\n"
     ]
    },
    {
     "name": "stdout",
     "output_type": "stream",
     "text": [
      "Error HTTP: 500 Server Error: Internal Server Error for url: https://fbref.com/en/squads/01888db1/2024/. No es un 502, 504, ni 429, deteniendo reintentos.\n",
      "reintentando url con season: 2023-2024\n"
     ]
    },
    {
     "name": "stderr",
     "output_type": "stream",
     "text": [
      "2024-12-20 17:36:43,007 - INFO - Procesando club: VVV-Venlo (2024) (Código: 1426)\n"
     ]
    },
    {
     "name": "stdout",
     "output_type": "stream",
     "text": [
      "Error HTTP: 500 Server Error: Internal Server Error for url: https://fbref.com/en/squads/534ac6d0/2024/. No es un 502, 504, ni 429, deteniendo reintentos.\n",
      "reintentando url con season: 2023-2024\n"
     ]
    },
    {
     "name": "stderr",
     "output_type": "stream",
     "text": [
      "2024-12-20 17:36:53,085 - INFO - Procesando club: ADO Den Haag (2024) (Código: 1268)\n"
     ]
    },
    {
     "name": "stdout",
     "output_type": "stream",
     "text": [
      "Error HTTP: 500 Server Error: Internal Server Error for url: https://fbref.com/en/squads/4e7459b7/2024/. No es un 502, 504, ni 429, deteniendo reintentos.\n",
      "reintentando url con season: 2023-2024\n"
     ]
    },
    {
     "name": "stderr",
     "output_type": "stream",
     "text": [
      "2024-12-20 17:37:07,523 - INFO - Procesando club: SC Cambuur (2024) (Código: 133)\n"
     ]
    },
    {
     "name": "stdout",
     "output_type": "stream",
     "text": [
      "Error HTTP: 500 Server Error: Internal Server Error for url: https://fbref.com/en/squads/5c9e307a/2024/. No es un 502, 504, ni 429, deteniendo reintentos.\n",
      "reintentando url con season: 2023-2024\n"
     ]
    },
    {
     "name": "stderr",
     "output_type": "stream",
     "text": [
      "2024-12-20 17:37:16,031 - INFO - Procesando club: NEC Nijmegen (2024) (Código: 467)\n"
     ]
    },
    {
     "name": "stdout",
     "output_type": "stream",
     "text": [
      "Error HTTP: 500 Server Error: Internal Server Error for url: https://fbref.com/en/squads/fc629994/2024/. No es un 502, 504, ni 429, deteniendo reintentos.\n",
      "reintentando url con season: 2023-2024\n"
     ]
    },
    {
     "name": "stderr",
     "output_type": "stream",
     "text": [
      "2024-12-20 17:37:26,152 - INFO - Procesando club: Go Ahead Eagles (2024) (Código: 1435)\n"
     ]
    },
    {
     "name": "stdout",
     "output_type": "stream",
     "text": [
      "Error HTTP: 500 Server Error: Internal Server Error for url: https://fbref.com/en/squads/e33d6108/2024/. No es un 502, 504, ni 429, deteniendo reintentos.\n",
      "reintentando url con season: 2023-2024\n"
     ]
    },
    {
     "name": "stderr",
     "output_type": "stream",
     "text": [
      "2024-12-20 17:37:45,102 - INFO - Procesando club: FC Volendam (2024) (Código: 724)\n"
     ]
    },
    {
     "name": "stdout",
     "output_type": "stream",
     "text": [
      "Error HTTP: 500 Server Error: Internal Server Error for url: https://fbref.com/en/squads/8783f4ee/2024/. No es un 502, 504, ni 429, deteniendo reintentos.\n",
      "reintentando url con season: 2023-2024\n"
     ]
    },
    {
     "name": "stderr",
     "output_type": "stream",
     "text": [
      "2024-12-20 17:37:54,045 - INFO - Procesando club: Excelsior (2024) (Código: 798)\n"
     ]
    },
    {
     "name": "stdout",
     "output_type": "stream",
     "text": [
      "Error HTTP: 500 Server Error: Internal Server Error for url: https://fbref.com/en/squads/740cb7d4/2024/. No es un 502, 504, ni 429, deteniendo reintentos.\n",
      "reintentando url con season: 2023-2024\n"
     ]
    },
    {
     "name": "stderr",
     "output_type": "stream",
     "text": [
      "2024-12-20 17:38:02,541 - INFO - Procesando club: Almere City (2024) (Código: 723)\n"
     ]
    },
    {
     "name": "stdout",
     "output_type": "stream",
     "text": [
      "Error HTTP: 500 Server Error: Internal Server Error for url: https://fbref.com/en/squads/2b41acb5/2024/. No es un 502, 504, ni 429, deteniendo reintentos.\n",
      "reintentando url con season: 2023-2024\n"
     ]
    },
    {
     "name": "stderr",
     "output_type": "stream",
     "text": [
      "2024-12-20 17:38:11,757 - INFO - Procesando club: NAC Breda (2024) (Código: 132)\n"
     ]
    },
    {
     "name": "stdout",
     "output_type": "stream",
     "text": [
      "Error HTTP: 500 Server Error: Internal Server Error for url: https://fbref.com/en/squads/8ed04be8/2024/. No es un 502, 504, ni 429, deteniendo reintentos.\n",
      "reintentando url con season: 2023-2024\n"
     ]
    },
    {
     "name": "stderr",
     "output_type": "stream",
     "text": [
      "2024-12-20 17:38:21,208 - INFO - Procesando club: Nashville (2024) (Código: 63966)\n",
      "2024-12-20 17:38:29,496 - INFO - Procesando club: LOSC Lille (2024) (Código: 1082)\n"
     ]
    },
    {
     "name": "stdout",
     "output_type": "stream",
     "text": [
      "Intento 1 de 5: Tiempo de espera excedido. Reintentando...\n",
      "Error HTTP: 500 Server Error: Internal Server Error for url: https://fbref.com/en/squads/cb188c0c/2024/. No es un 502, 504, ni 429, deteniendo reintentos.\n",
      "reintentando url con season: 2023-2024\n"
     ]
    },
    {
     "name": "stderr",
     "output_type": "stream",
     "text": [
      "2024-12-20 17:39:06,045 - INFO - Procesando club: Mónaco (2024) (Código: 162)\n"
     ]
    },
    {
     "name": "stdout",
     "output_type": "stream",
     "text": [
      "Error HTTP: 500 Server Error: Internal Server Error for url: https://fbref.com/en/squads/fd6114db/2024/. No es un 502, 504, ni 429, deteniendo reintentos.\n",
      "reintentando url con season: 2023-2024\n"
     ]
    },
    {
     "name": "stderr",
     "output_type": "stream",
     "text": [
      "2024-12-20 17:39:15,428 - INFO - Procesando club: Lyon (2024) (Código: 1041)\n"
     ]
    },
    {
     "name": "stdout",
     "output_type": "stream",
     "text": [
      "Error HTTP: 500 Server Error: Internal Server Error for url: https://fbref.com/en/squads/d53c0b06/2024/. No es un 502, 504, ni 429, deteniendo reintentos.\n",
      "reintentando url con season: 2023-2024\n"
     ]
    },
    {
     "name": "stderr",
     "output_type": "stream",
     "text": [
      "2024-12-20 17:39:28,771 - INFO - Procesando club: Stade Rennes (2024) (Código: 273)\n"
     ]
    },
    {
     "name": "stdout",
     "output_type": "stream",
     "text": [
      "Error HTTP: 500 Server Error: Internal Server Error for url: https://fbref.com/en/squads/b3072e00/2024/. No es un 502, 504, ni 429, deteniendo reintentos.\n",
      "reintentando url con season: 2023-2024\n"
     ]
    },
    {
     "name": "stderr",
     "output_type": "stream",
     "text": [
      "2024-12-20 17:39:53,857 - INFO - Procesando club: Lens (2024) (Código: 826)\n"
     ]
    },
    {
     "name": "stdout",
     "output_type": "stream",
     "text": [
      "Error HTTP: 500 Server Error: Internal Server Error for url: https://fbref.com/en/squads/fd4e0f7d/2024/. No es un 502, 504, ni 429, deteniendo reintentos.\n",
      "reintentando url con season: 2023-2024\n"
     ]
    },
    {
     "name": "stderr",
     "output_type": "stream",
     "text": [
      "2024-12-20 17:40:10,825 - INFO - Procesando club: Montpellier (2024) (Código: 969)\n"
     ]
    },
    {
     "name": "stdout",
     "output_type": "stream",
     "text": [
      "Error HTTP: 500 Server Error: Internal Server Error for url: https://fbref.com/en/squads/281b0e73/2024/. No es un 502, 504, ni 429, deteniendo reintentos.\n",
      "reintentando url con season: 2023-2024\n"
     ]
    },
    {
     "name": "stderr",
     "output_type": "stream",
     "text": [
      "2024-12-20 17:40:21,617 - INFO - Procesando club: FC Metz (2024) (Código: 347)\n"
     ]
    },
    {
     "name": "stdout",
     "output_type": "stream",
     "text": [
      "Error HTTP: 500 Server Error: Internal Server Error for url: https://fbref.com/en/squads/f83960ae/2024/. No es un 502, 504, ni 429, deteniendo reintentos.\n",
      "reintentando url con season: 2023-2024\n"
     ]
    },
    {
     "name": "stderr",
     "output_type": "stream",
     "text": [
      "2024-12-20 17:40:32,705 - INFO - Procesando club: St-Étienne (2024) (Código: 618)\n"
     ]
    },
    {
     "name": "stdout",
     "output_type": "stream",
     "text": [
      "Error HTTP: 500 Server Error: Internal Server Error for url: https://fbref.com/en/squads/d298ef2c/2024/. No es un 502, 504, ni 429, deteniendo reintentos.\n",
      "reintentando url con season: 2023-2024\n"
     ]
    },
    {
     "name": "stderr",
     "output_type": "stream",
     "text": [
      "2024-12-20 17:40:43,227 - INFO - Procesando club: Angers SCO (2024) (Código: 1420)\n"
     ]
    },
    {
     "name": "stdout",
     "output_type": "stream",
     "text": [
      "Error HTTP: 500 Server Error: Internal Server Error for url: https://fbref.com/en/squads/69236f98/2024/. No es un 502, 504, ni 429, deteniendo reintentos.\n",
      "reintentando url con season: 2023-2024\n"
     ]
    },
    {
     "name": "stderr",
     "output_type": "stream",
     "text": [
      "2024-12-20 17:40:53,326 - INFO - Procesando club: Stade Reims (2024) (Código: 1421)\n"
     ]
    },
    {
     "name": "stdout",
     "output_type": "stream",
     "text": [
      "Error HTTP: 500 Server Error: Internal Server Error for url: https://fbref.com/en/squads/7fdd64e0/2024/. No es un 502, 504, ni 429, deteniendo reintentos.\n",
      "reintentando url con season: 2023-2024\n"
     ]
    },
    {
     "name": "stderr",
     "output_type": "stream",
     "text": [
      "2024-12-20 17:41:03,659 - INFO - Procesando club: Estrasburgo (2024) (Código: 667)\n"
     ]
    },
    {
     "name": "stdout",
     "output_type": "stream",
     "text": [
      "Error HTTP: 500 Server Error: Internal Server Error for url: https://fbref.com/en/squads/c0d3eab4/2024/. No es un 502, 504, ni 429, deteniendo reintentos.\n",
      "reintentando url con season: 2023-2024\n"
     ]
    },
    {
     "name": "stderr",
     "output_type": "stream",
     "text": [
      "2024-12-20 17:41:13,829 - INFO - Procesando club: FC Lorient (2024) (Código: 1158)\n"
     ]
    },
    {
     "name": "stdout",
     "output_type": "stream",
     "text": [
      "Error HTTP: 500 Server Error: Internal Server Error for url: https://fbref.com/en/squads/d2c87802/2024/. No es un 502, 504, ni 429, deteniendo reintentos.\n",
      "reintentando url con season: 2023-2024\n"
     ]
    },
    {
     "name": "stderr",
     "output_type": "stream",
     "text": [
      "2024-12-20 17:41:24,024 - INFO - Procesando club: FC Nantes (2024) (Código: 995)\n"
     ]
    },
    {
     "name": "stdout",
     "output_type": "stream",
     "text": [
      "Error HTTP: 500 Server Error: Internal Server Error for url: https://fbref.com/en/squads/d7a486cd/2024/. No es un 502, 504, ni 429, deteniendo reintentos.\n",
      "reintentando url con season: 2023-2024\n"
     ]
    },
    {
     "name": "stderr",
     "output_type": "stream",
     "text": [
      "2024-12-20 17:41:36,511 - INFO - Procesando club: Nîmes (2024) (Código: 1160)\n"
     ]
    },
    {
     "name": "stdout",
     "output_type": "stream",
     "text": [
      "Error HTTP: 500 Server Error: Internal Server Error for url: https://fbref.com/en/squads/1cbf5f9e/2024/. No es un 502, 504, ni 429, deteniendo reintentos.\n",
      "reintentando url con season: 2023-2024\n"
     ]
    },
    {
     "name": "stderr",
     "output_type": "stream",
     "text": [
      "2024-12-20 17:41:57,949 - INFO - Procesando club: Dijon (2024) (Código: 2969)\n"
     ]
    },
    {
     "name": "stdout",
     "output_type": "stream",
     "text": [
      "Error HTTP: 500 Server Error: Internal Server Error for url: https://fbref.com/en/squads/8dfb7350/2024/. No es un 502, 504, ni 429, deteniendo reintentos.\n",
      "reintentando url con season: 2023-2024\n"
     ]
    },
    {
     "name": "stderr",
     "output_type": "stream",
     "text": [
      "2024-12-20 17:42:06,919 - INFO - Procesando club: Troyes (2024) (Código: 1095)\n"
     ]
    },
    {
     "name": "stdout",
     "output_type": "stream",
     "text": [
      "Error HTTP: 500 Server Error: Internal Server Error for url: https://fbref.com/en/squads/54195385/2024/. No es un 502, 504, ni 429, deteniendo reintentos.\n",
      "reintentando url con season: 2023-2024\n"
     ]
    },
    {
     "name": "stderr",
     "output_type": "stream",
     "text": [
      "2024-12-20 17:42:18,773 - INFO - Procesando club: Clermont Foot (2024) (Código: 3524)\n"
     ]
    },
    {
     "name": "stdout",
     "output_type": "stream",
     "text": [
      "Error HTTP: 500 Server Error: Internal Server Error for url: https://fbref.com/en/squads/d9676424/2024/. No es un 502, 504, ni 429, deteniendo reintentos.\n",
      "reintentando url con season: 2023-2024\n"
     ]
    },
    {
     "name": "stderr",
     "output_type": "stream",
     "text": [
      "2024-12-20 17:42:28,548 - INFO - Procesando club: Toulouse (2024) (Código: 415)\n"
     ]
    },
    {
     "name": "stdout",
     "output_type": "stream",
     "text": [
      "Error HTTP: 500 Server Error: Internal Server Error for url: https://fbref.com/en/squads/3f8c4b5f/2024/. No es un 502, 504, ni 429, deteniendo reintentos.\n",
      "reintentando url con season: 2023-2024\n"
     ]
    },
    {
     "name": "stderr",
     "output_type": "stream",
     "text": [
      "2024-12-20 17:42:38,536 - INFO - Procesando club: AJ Auxerre (2024) (Código: 290)\n"
     ]
    },
    {
     "name": "stdout",
     "output_type": "stream",
     "text": [
      "Error HTTP: 500 Server Error: Internal Server Error for url: https://fbref.com/en/squads/5ae09109/2024/. No es un 502, 504, ni 429, deteniendo reintentos.\n",
      "reintentando url con season: 2023-2024\n"
     ]
    },
    {
     "name": "stderr",
     "output_type": "stream",
     "text": [
      "2024-12-20 17:42:49,659 - INFO - Procesando club: AC Ajaccio (2024) (Código: 1147)\n"
     ]
    },
    {
     "name": "stdout",
     "output_type": "stream",
     "text": [
      "Error HTTP: 500 Server Error: Internal Server Error for url: https://fbref.com/en/squads/7a54bb4f/2024/. No es un 502, 504, ni 429, deteniendo reintentos.\n",
      "reintentando url con season: 2023-2024\n"
     ]
    },
    {
     "name": "stderr",
     "output_type": "stream",
     "text": [
      "2024-12-20 17:43:00,174 - INFO - Procesando club: Le Havre AC (2024) (Código: 738)\n"
     ]
    },
    {
     "name": "stdout",
     "output_type": "stream",
     "text": [
      "Error HTTP: 500 Server Error: Internal Server Error for url: https://fbref.com/en/squads/5c2737db/2024/. No es un 502, 504, ni 429, deteniendo reintentos.\n",
      "reintentando url con season: 2023-2024\n"
     ]
    },
    {
     "name": "stderr",
     "output_type": "stream",
     "text": [
      "2024-12-20 17:43:10,857 - INFO - Procesando club: Bayern Múnich (2024) (Código: 27)\n"
     ]
    },
    {
     "name": "stdout",
     "output_type": "stream",
     "text": [
      "Error HTTP: 500 Server Error: Internal Server Error for url: https://fbref.com/en/squads/054efa67/2024/. No es un 502, 504, ni 429, deteniendo reintentos.\n",
      "reintentando url con season: 2023-2024\n"
     ]
    },
    {
     "name": "stderr",
     "output_type": "stream",
     "text": [
      "2024-12-20 17:43:22,828 - INFO - Procesando club: RB Leipzig (2024) (Código: 23826)\n"
     ]
    },
    {
     "name": "stdout",
     "output_type": "stream",
     "text": [
      "Error HTTP: 500 Server Error: Internal Server Error for url: https://fbref.com/en/squads/acbb6a5b/2024/. No es un 502, 504, ni 429, deteniendo reintentos.\n",
      "reintentando url con season: 2023-2024\n"
     ]
    },
    {
     "name": "stderr",
     "output_type": "stream",
     "text": [
      "2024-12-20 17:43:34,590 - INFO - Procesando club: Bor. Dortmund (2024) (Código: 16)\n"
     ]
    },
    {
     "name": "stdout",
     "output_type": "stream",
     "text": [
      "Error HTTP: 500 Server Error: Internal Server Error for url: https://fbref.com/en/squads/add600ae/2024/. No es un 502, 504, ni 429, deteniendo reintentos.\n",
      "reintentando url con season: 2023-2024\n"
     ]
    },
    {
     "name": "stderr",
     "output_type": "stream",
     "text": [
      "2024-12-20 17:43:44,933 - INFO - Procesando club: B. Leverkusen (2024) (Código: 15)\n"
     ]
    },
    {
     "name": "stdout",
     "output_type": "stream",
     "text": [
      "Error HTTP: 500 Server Error: Internal Server Error for url: https://fbref.com/en/squads/c7a9f859/2024/. No es un 502, 504, ni 429, deteniendo reintentos.\n",
      "reintentando url con season: 2023-2024\n"
     ]
    },
    {
     "name": "stderr",
     "output_type": "stream",
     "text": [
      "2024-12-20 17:43:54,781 - INFO - Procesando club: Unión Berlín (2024) (Código: 89)\n"
     ]
    },
    {
     "name": "stdout",
     "output_type": "stream",
     "text": [
      "Error HTTP: 500 Server Error: Internal Server Error for url: https://fbref.com/en/squads/7a41008f/2024/. No es un 502, 504, ni 429, deteniendo reintentos.\n",
      "reintentando url con season: 2023-2024\n"
     ]
    },
    {
     "name": "stderr",
     "output_type": "stream",
     "text": [
      "2024-12-20 17:44:08,899 - INFO - Procesando club: Bor. M'gladbach (2024) (Código: 18)\n"
     ]
    },
    {
     "name": "stdout",
     "output_type": "stream",
     "text": [
      "Error HTTP: 500 Server Error: Internal Server Error for url: https://fbref.com/en/squads/32f3ee20/2024/. No es un 502, 504, ni 429, deteniendo reintentos.\n",
      "reintentando url con season: 2023-2024\n",
      "Intento 1 de 5: Tiempo de espera excedido. Reintentando...\n"
     ]
    },
    {
     "name": "stderr",
     "output_type": "stream",
     "text": [
      "2024-12-20 17:44:45,463 - INFO - Procesando club: VfB Stuttgart (2024) (Código: 79)\n"
     ]
    },
    {
     "name": "stdout",
     "output_type": "stream",
     "text": [
      "Error HTTP: 500 Server Error: Internal Server Error for url: https://fbref.com/en/squads/598bc722/2024/. No es un 502, 504, ni 429, deteniendo reintentos.\n",
      "reintentando url con season: 2023-2024\n"
     ]
    },
    {
     "name": "stderr",
     "output_type": "stream",
     "text": [
      "2024-12-20 17:44:56,575 - INFO - Procesando club: Hoffenheim (2024) (Código: 533)\n"
     ]
    },
    {
     "name": "stdout",
     "output_type": "stream",
     "text": [
      "Error HTTP: 500 Server Error: Internal Server Error for url: https://fbref.com/en/squads/033ea6b8/2024/. No es un 502, 504, ni 429, deteniendo reintentos.\n",
      "reintentando url con season: 2023-2024\n"
     ]
    },
    {
     "name": "stderr",
     "output_type": "stream",
     "text": [
      "2024-12-20 17:45:06,607 - INFO - Procesando club: Mainz (2024) (Código: 39)\n"
     ]
    },
    {
     "name": "stdout",
     "output_type": "stream",
     "text": [
      "Error HTTP: 500 Server Error: Internal Server Error for url: https://fbref.com/en/squads/a224b06a/2024/. No es un 502, 504, ni 429, deteniendo reintentos.\n",
      "reintentando url con season: 2023-2024\n"
     ]
    },
    {
     "name": "stderr",
     "output_type": "stream",
     "text": [
      "2024-12-20 17:45:16,850 - INFO - Procesando club: FC Augsburgo (2024) (Código: 167)\n"
     ]
    },
    {
     "name": "stdout",
     "output_type": "stream",
     "text": [
      "Error HTTP: 500 Server Error: Internal Server Error for url: https://fbref.com/en/squads/0cdc4311/2024/. No es un 502, 504, ni 429, deteniendo reintentos.\n",
      "reintentando url con season: 2023-2024\n"
     ]
    },
    {
     "name": "stderr",
     "output_type": "stream",
     "text": [
      "2024-12-20 17:45:46,733 - INFO - Procesando club: Werder Bremen (2024) (Código: 86)\n"
     ]
    },
    {
     "name": "stdout",
     "output_type": "stream",
     "text": [
      "Error HTTP: 500 Server Error: Internal Server Error for url: https://fbref.com/en/squads/62add3bf/2024/. No es un 502, 504, ni 429, deteniendo reintentos.\n",
      "reintentando url con season: 2023-2024\n"
     ]
    },
    {
     "name": "stderr",
     "output_type": "stream",
     "text": [
      "2024-12-20 17:46:05,536 - INFO - Procesando club: FC Schalke 04 (2024) (Código: 33)\n"
     ]
    },
    {
     "name": "stdout",
     "output_type": "stream",
     "text": [
      "Error HTTP: 500 Server Error: Internal Server Error for url: https://fbref.com/en/squads/c539e393/2024/. No es un 502, 504, ni 429, deteniendo reintentos.\n",
      "reintentando url con season: 2023-2024\n"
     ]
    },
    {
     "name": "stderr",
     "output_type": "stream",
     "text": [
      "2024-12-20 17:46:22,331 - INFO - Procesando club: VfL Bochum (2024) (Código: 80)\n"
     ]
    },
    {
     "name": "stdout",
     "output_type": "stream",
     "text": [
      "Error HTTP: 500 Server Error: Internal Server Error for url: https://fbref.com/en/squads/b42c6323/2024/. No es un 502, 504, ni 429, deteniendo reintentos.\n",
      "reintentando url con season: 2023-2024\n"
     ]
    },
    {
     "name": "stderr",
     "output_type": "stream",
     "text": [
      "2024-12-20 17:46:33,402 - INFO - Procesando club: Greuther Fürth (2024) (Código: 65)\n"
     ]
    },
    {
     "name": "stdout",
     "output_type": "stream",
     "text": [
      "Error HTTP: 500 Server Error: Internal Server Error for url: https://fbref.com/en/squads/12192a4c/2024/. No es un 502, 504, ni 429, deteniendo reintentos.\n",
      "reintentando url con season: 2023-2024\n"
     ]
    },
    {
     "name": "stderr",
     "output_type": "stream",
     "text": [
      "2024-12-20 17:46:44,966 - INFO - Procesando club: Heidenheim (2024) (Código: 2036)\n"
     ]
    },
    {
     "name": "stdout",
     "output_type": "stream",
     "text": [
      "Error HTTP: 500 Server Error: Internal Server Error for url: https://fbref.com/en/squads/18d9d2a7/2024/. No es un 502, 504, ni 429, deteniendo reintentos.\n",
      "reintentando url con season: 2023-2024\n"
     ]
    },
    {
     "name": "stderr",
     "output_type": "stream",
     "text": [
      "2024-12-20 17:46:55,925 - INFO - Procesando club: Darmstadt 98 (2024) (Código: 105)\n"
     ]
    },
    {
     "name": "stdout",
     "output_type": "stream",
     "text": [
      "Error HTTP: 500 Server Error: Internal Server Error for url: https://fbref.com/en/squads/6a6967fc/2024/. No es un 502, 504, ni 429, deteniendo reintentos.\n",
      "reintentando url con season: 2023-2024\n"
     ]
    },
    {
     "name": "stderr",
     "output_type": "stream",
     "text": [
      "2024-12-20 17:47:07,692 - INFO - Procesando club: FC St. Pauli (2024) (Código: 35)\n"
     ]
    },
    {
     "name": "stdout",
     "output_type": "stream",
     "text": [
      "Error HTTP: 500 Server Error: Internal Server Error for url: https://fbref.com/en/squads/54864664/2024/. No es un 502, 504, ni 429, deteniendo reintentos.\n",
      "reintentando url con season: 2023-2024\n"
     ]
    },
    {
     "name": "stderr",
     "output_type": "stream",
     "text": [
      "2024-12-20 17:47:20,012 - INFO - Procesando club: Holstein Kiel (2024) (Código: 269)\n"
     ]
    },
    {
     "name": "stdout",
     "output_type": "stream",
     "text": [
      "Error HTTP: 500 Server Error: Internal Server Error for url: https://fbref.com/en/squads/2ac661d9/2024/. No es un 502, 504, ni 429, deteniendo reintentos.\n",
      "reintentando url con season: 2023-2024\n"
     ]
    },
    {
     "name": "stderr",
     "output_type": "stream",
     "text": [
      "2024-12-20 17:47:30,795 - INFO - Guardado de no emparejados completado: unmatched_players.csv\n",
      "2024-12-20 17:47:30,804 - INFO - Proceso completado exitosamente.\n"
     ]
    }
   ],
   "source": [
    "\n",
    "# Definir el rango de temporadas y ejecutar la función\n",
    "seasons = [2024]\n",
    "generate_player_dictionary(seasons=seasons, rescrape=True)\n"
   ]
  },
  {
   "cell_type": "raw",
   "id": "d77b51af-00e1-4de1-a962-1aa384ca9129",
   "metadata": {},
   "source": [
    "fbref_players = scrape_fbref('822bd0ba', 2020)"
   ]
  },
  {
   "cell_type": "raw",
   "id": "b6355e09-51d3-4743-91b7-4afadd68e027",
   "metadata": {
    "scrolled": true
   },
   "source": [
    "tfmkt_players = scrape_transfermarkt('209', 'a', 2024) \n",
    "tfmkt_players"
   ]
  },
  {
   "cell_type": "raw",
   "id": "9bfc2df2-79e5-4f5b-8aab-7f39727878d6",
   "metadata": {},
   "source": [
    "df = pd.read_csv('unmatched_players_arg.csv')\n",
    "df2 = pd.read_csv('unmatched_players_eng.csv')\n",
    "df = pd.concat([df,df2])\n",
    "df.to_csv('unmatched_players.csv',index=False)"
   ]
  },
  {
   "cell_type": "raw",
   "id": "3cbc44ce-5cc3-4978-b3be-779ce8ed078c",
   "metadata": {
    "scrolled": true
   },
   "source": [
    "generate_player_dictionary(seasons=[2023], rescrape=False)"
   ]
  },
  {
   "cell_type": "code",
   "execution_count": null,
   "id": "e47e6a52-0aad-4faf-8c63-b5713d6c4abf",
   "metadata": {},
   "outputs": [],
   "source": []
  },
  {
   "cell_type": "code",
   "execution_count": 9,
   "id": "95abb113-3093-44c9-8c8c-9ed35da94b1e",
   "metadata": {},
   "outputs": [],
   "source": [
    "import pandas as pd\n",
    "import json\n",
    "import os\n",
    "import requests\n",
    "from bs4 import BeautifulSoup\n",
    "import logging\n",
    "\n",
    "# Configuración de logging\n",
    "logging.basicConfig(level=logging.INFO, format='%(asctime)s - %(levelname)s - %(message)s')\n",
    "\n",
    "# Archivos\n",
    "PLAYER_MAPPING_FILE = 'player_id_mapping.json'\n",
    "EXCEL_FILE = 'find_id.xlsx'\n",
    "\n",
    "# Función para scrapear datos desde FBRef\n",
    "def scrape_fbref_player(fbref_id):\n",
    "    url = f\"https://fbref.com/en/players/{fbref_id}/-\"\n",
    "    response = make_request(url)\n",
    "    if response is None:\n",
    "        logging.warning(f\"No se pudo acceder a {url}\")\n",
    "        return None, None\n",
    "\n",
    "    soup = BeautifulSoup(response.content, 'html.parser')\n",
    "\n",
    "    # Nombre del jugador\n",
    "    name_tag = soup.select_one('div.players h1 span')\n",
    "    nombre_fbref = name_tag.text.strip() if name_tag else None\n",
    "\n",
    "    # Posición del jugador\n",
    "    position_tag = soup.select_one('div.players p:contains(\"Position:\")')\n",
    "    if position_tag:\n",
    "        # Manejar posición con pie preferido (e.g., \"MF (CM-DM) ▪ Footed: Right\")\n",
    "        position_text = position_tag.text.strip()\n",
    "        posicion_fbref = position_text.replace(\"Position:\", \"\").strip().split(\" \")[0]\n",
    "    else:\n",
    "        posicion_fbref = None\n",
    "\n",
    "    return nombre_fbref, posicion_fbref\n"
   ]
  },
  {
   "cell_type": "code",
   "execution_count": 10,
   "id": "95934e98-8bd4-4a47-a5a0-5be105930a18",
   "metadata": {},
   "outputs": [],
   "source": [
    "import os\n",
    "import json\n",
    "import pandas as pd\n",
    "import logging\n",
    "\n",
    "def update_json_with_excel(json_file, excel_file, reemplazar=True, DEBUG=False):\n",
    "    \"\"\"\n",
    "    Actualiza un archivo JSON con datos de un archivo Excel, optimizando procesos y reduciendo redundancias.\n",
    "    \n",
    "    Args:\n",
    "        json_file (str): Ruta al archivo JSON.\n",
    "        excel_file (str): Ruta al archivo Excel.\n",
    "        reemplazar (bool): Si False, solo actualiza jugadores nuevos en el Excel.\n",
    "        DEBUG (bool): Si True, imprime información adicional para depuración.\n",
    "    \"\"\"\n",
    "    # Cargar JSON existente\n",
    "    if os.path.exists(json_file):\n",
    "        with open(json_file, 'r') as f:\n",
    "            json_data = json.load(f)\n",
    "    else:\n",
    "        json_data = {\"scraped_combinations\": [], \"players\": {}}\n",
    "\n",
    "    # Cargar DataFrame del Excel\n",
    "    df_excel = pd.read_excel(excel_file)\n",
    "\n",
    "    # Filtrar filas inválidas\n",
    "    df_excel = df_excel[df_excel['fbref_id'].notna()]\n",
    "\n",
    "    # Extraer jugadores ya presentes en el JSON si reemplazar=False\n",
    "    if not reemplazar:\n",
    "        existing_ids = set(json_data.get('players', {}).keys())\n",
    "        df_excel = df_excel[~df_excel['player_id'].astype(str).isin(existing_ids)]\n",
    "\n",
    "    # Iterar sobre los datos del Excel\n",
    "    for _, row in df_excel.iterrows():\n",
    "        player_id = str(row['player_id'])\n",
    "        fbref_id = row['fbref_id']\n",
    "        posicion_transfermarkt = row.get('posicion', None)\n",
    "        nombre_transfermarkt = row.get('player_name', 'Desconocido')\n",
    "\n",
    "        if DEBUG:\n",
    "            logging.info(f'Revisando jugador ID: {player_id}')\n",
    "\n",
    "        if not player_id or not fbref_id:\n",
    "            continue\n",
    "\n",
    "        # Actualizar o añadir datos del jugador\n",
    "        if player_id in json_data['players']:\n",
    "            json_data['players'][player_id]['id_fbref'] = fbref_id\n",
    "            json_data['players'][player_id]['posicion_transfermarkt'] = posicion_transfermarkt\n",
    "        else:\n",
    "            json_data['players'][player_id] = {\n",
    "                'id_transfermarkt': player_id,\n",
    "                'nombre_transfermarkt': nombre_transfermarkt,\n",
    "                'posicion_transfermarkt': posicion_transfermarkt,\n",
    "                'id_fbref': fbref_id,\n",
    "                'match_score': 100\n",
    "            }\n",
    "\n",
    "        # Intentar completar datos desde FBRef\n",
    "        if not json_data['players'][player_id].get('nombre_fbref') or not json_data['players'][player_id].get('posicion_fbref'):\n",
    "            nombre_fbref, posicion_fbref = scrape_fbref_player(fbref_id)\n",
    "            json_data['players'][player_id]['nombre_fbref'] = nombre_fbref\n",
    "            json_data['players'][player_id]['posicion_fbref'] = posicion_fbref\n",
    "\n",
    "    # Guardar el JSON actualizado\n",
    "    with open(json_file, 'w') as f:\n",
    "        json.dump(json_data, f, indent=4)\n",
    "\n",
    "    logging.info(f\"JSON actualizado con información del archivo {excel_file}\")\n"
   ]
  },
  {
   "cell_type": "code",
   "execution_count": 11,
   "id": "af2d0c34-f028-4652-bac1-d6826361c825",
   "metadata": {},
   "outputs": [
    {
     "name": "stderr",
     "output_type": "stream",
     "text": [
      "2024-12-09 13:04:54,235 - INFO - JSON actualizado con información del archivo find_id.xlsx\n"
     ]
    }
   ],
   "source": [
    "# Ejecutar la actualización\n",
    "update_json_with_excel(PLAYER_MAPPING_FILE, EXCEL_FILE, reemplazar=False, DEBUG=True)"
   ]
  },
  {
   "cell_type": "code",
   "execution_count": 12,
   "id": "9735f970-4da2-4f0c-b21b-3ede86ca6677",
   "metadata": {
    "scrolled": true
   },
   "outputs": [
    {
     "data": {
      "text/html": [
       "<div>\n",
       "<style scoped>\n",
       "    .dataframe tbody tr th:only-of-type {\n",
       "        vertical-align: middle;\n",
       "    }\n",
       "\n",
       "    .dataframe tbody tr th {\n",
       "        vertical-align: top;\n",
       "    }\n",
       "\n",
       "    .dataframe thead th {\n",
       "        text-align: right;\n",
       "    }\n",
       "</style>\n",
       "<table border=\"1\" class=\"dataframe\">\n",
       "  <thead>\n",
       "    <tr style=\"text-align: right;\">\n",
       "      <th></th>\n",
       "      <th>player_name</th>\n",
       "      <th>player_url</th>\n",
       "      <th>player_id</th>\n",
       "      <th>fbref_id</th>\n",
       "      <th>age</th>\n",
       "      <th>nationality</th>\n",
       "      <th>comunitario</th>\n",
       "      <th>extranjero</th>\n",
       "      <th>position</th>\n",
       "      <th>transfer_fee</th>\n",
       "      <th>...</th>\n",
       "      <th>Internacional_long_season_ant2</th>\n",
       "      <th>Local_long_season_ant2</th>\n",
       "      <th>Club_playing_ant2</th>\n",
       "      <th>id_club_playing_ant2</th>\n",
       "      <th>competition_season_tuples_ant2</th>\n",
       "      <th>Internacional_Goals Conceded_ant2</th>\n",
       "      <th>Internacional_Clean Sheets_ant2</th>\n",
       "      <th>Local_Goals Conceded_ant2</th>\n",
       "      <th>Local_Clean Sheets_ant2</th>\n",
       "      <th>season_stats</th>\n",
       "    </tr>\n",
       "  </thead>\n",
       "  <tbody>\n",
       "    <tr>\n",
       "      <th>0</th>\n",
       "      <td>Abel Luciatti</td>\n",
       "      <td>/abel-luciatti/profil/spieler/220751</td>\n",
       "      <td>220751</td>\n",
       "      <td>ba0f7e5f</td>\n",
       "      <td>30</td>\n",
       "      <td>['Argentina']</td>\n",
       "      <td>0</td>\n",
       "      <td>0</td>\n",
       "      <td>Defensa central</td>\n",
       "      <td>0</td>\n",
       "      <td>...</td>\n",
       "      <td>0.0</td>\n",
       "      <td>0.0</td>\n",
       "      <td>['CA Tigre']</td>\n",
       "      <td>['11831']</td>\n",
       "      <td>{'Local': [('Prim. Nacional - Playoff', '2021'...</td>\n",
       "      <td>NaN</td>\n",
       "      <td>NaN</td>\n",
       "      <td>NaN</td>\n",
       "      <td>NaN</td>\n",
       "      <td>2022</td>\n",
       "    </tr>\n",
       "    <tr>\n",
       "      <th>1</th>\n",
       "      <td>Wilder Cartagena</td>\n",
       "      <td>/wilder-cartagena/profil/spieler/224669</td>\n",
       "      <td>224669</td>\n",
       "      <td>9f0f5d15</td>\n",
       "      <td>26</td>\n",
       "      <td>['Perú']</td>\n",
       "      <td>0</td>\n",
       "      <td>1</td>\n",
       "      <td>Pivote</td>\n",
       "      <td>0</td>\n",
       "      <td>...</td>\n",
       "      <td>0.0</td>\n",
       "      <td>0.0</td>\n",
       "      <td>['Club Alianza Lima']</td>\n",
       "      <td>['184']</td>\n",
       "      <td>{'Internacional': [('Libertadores', '2019')], ...</td>\n",
       "      <td>NaN</td>\n",
       "      <td>NaN</td>\n",
       "      <td>NaN</td>\n",
       "      <td>NaN</td>\n",
       "      <td>2020</td>\n",
       "    </tr>\n",
       "    <tr>\n",
       "      <th>2</th>\n",
       "      <td>Matías García</td>\n",
       "      <td>/matias-garcia/profil/spieler/267393</td>\n",
       "      <td>267393</td>\n",
       "      <td>91e7fc9a</td>\n",
       "      <td>31</td>\n",
       "      <td>['Argentina', 'Italia']</td>\n",
       "      <td>1</td>\n",
       "      <td>0</td>\n",
       "      <td>Extremo izquierdo</td>\n",
       "      <td>0</td>\n",
       "      <td>...</td>\n",
       "      <td>0.0</td>\n",
       "      <td>0.0</td>\n",
       "      <td>['Club de Gimnasia y Esgrima La Plata', 'FC Ju...</td>\n",
       "      <td>['1106', '49283']</td>\n",
       "      <td>{'Local': [('Copa de la Liga - Playoffs', '202...</td>\n",
       "      <td>NaN</td>\n",
       "      <td>NaN</td>\n",
       "      <td>NaN</td>\n",
       "      <td>NaN</td>\n",
       "      <td>2021</td>\n",
       "    </tr>\n",
       "    <tr>\n",
       "      <th>3</th>\n",
       "      <td>Javier Báez</td>\n",
       "      <td>/javier-baez/profil/spieler/87360</td>\n",
       "      <td>87360</td>\n",
       "      <td>56d59ae0</td>\n",
       "      <td>31</td>\n",
       "      <td>['Paraguay', 'Argentina']</td>\n",
       "      <td>0</td>\n",
       "      <td>0</td>\n",
       "      <td>Defensa central</td>\n",
       "      <td>0</td>\n",
       "      <td>...</td>\n",
       "      <td>0.0</td>\n",
       "      <td>0.0</td>\n",
       "      <td>['Club Guaraní']</td>\n",
       "      <td>['11855']</td>\n",
       "      <td>{'Local': [('Primera División Clausura', '2019...</td>\n",
       "      <td>NaN</td>\n",
       "      <td>NaN</td>\n",
       "      <td>NaN</td>\n",
       "      <td>NaN</td>\n",
       "      <td>2020</td>\n",
       "    </tr>\n",
       "    <tr>\n",
       "      <th>4</th>\n",
       "      <td>Alex Ibacache</td>\n",
       "      <td>/alex-ibacache/profil/spieler/571083</td>\n",
       "      <td>571083</td>\n",
       "      <td>68a38211</td>\n",
       "      <td>24</td>\n",
       "      <td>['Chile']</td>\n",
       "      <td>0</td>\n",
       "      <td>1</td>\n",
       "      <td>Lateral izquierdo</td>\n",
       "      <td>0</td>\n",
       "      <td>...</td>\n",
       "      <td>0.0</td>\n",
       "      <td>0.0</td>\n",
       "      <td>['CDP Curicó Unido']</td>\n",
       "      <td>['19027']</td>\n",
       "      <td>{'Local': [('Primera División', '2020')]}</td>\n",
       "      <td>NaN</td>\n",
       "      <td>NaN</td>\n",
       "      <td>NaN</td>\n",
       "      <td>NaN</td>\n",
       "      <td>2021</td>\n",
       "    </tr>\n",
       "    <tr>\n",
       "      <th>5</th>\n",
       "      <td>Emanuel Hernández</td>\n",
       "      <td>/emanuel-hernandez/profil/spieler/651854</td>\n",
       "      <td>651854</td>\n",
       "      <td>0fab7750</td>\n",
       "      <td>25</td>\n",
       "      <td>['Uruguay']</td>\n",
       "      <td>0</td>\n",
       "      <td>1</td>\n",
       "      <td>Defensa central</td>\n",
       "      <td>0</td>\n",
       "      <td>...</td>\n",
       "      <td>0.0</td>\n",
       "      <td>0.0</td>\n",
       "      <td>['Jaguares de Córdoba']</td>\n",
       "      <td>['39252']</td>\n",
       "      <td>{'Local': [('Liga Dimayor I', '2020'), ('Copa ...</td>\n",
       "      <td>NaN</td>\n",
       "      <td>NaN</td>\n",
       "      <td>NaN</td>\n",
       "      <td>NaN</td>\n",
       "      <td>2021</td>\n",
       "    </tr>\n",
       "    <tr>\n",
       "      <th>6</th>\n",
       "      <td>Lázaro Romero</td>\n",
       "      <td>/lazaro-romero/profil/spieler/971557</td>\n",
       "      <td>971557</td>\n",
       "      <td>9c4136a3</td>\n",
       "      <td>28</td>\n",
       "      <td>['Argentina']</td>\n",
       "      <td>0</td>\n",
       "      <td>0</td>\n",
       "      <td>Delantero centro</td>\n",
       "      <td>0</td>\n",
       "      <td>...</td>\n",
       "      <td>NaN</td>\n",
       "      <td>NaN</td>\n",
       "      <td>NaN</td>\n",
       "      <td>NaN</td>\n",
       "      <td>NaN</td>\n",
       "      <td>NaN</td>\n",
       "      <td>NaN</td>\n",
       "      <td>NaN</td>\n",
       "      <td>NaN</td>\n",
       "      <td>2022</td>\n",
       "    </tr>\n",
       "    <tr>\n",
       "      <th>7</th>\n",
       "      <td>Leonardo Ramos</td>\n",
       "      <td>/leonardo-ramos/profil/spieler/341298</td>\n",
       "      <td>341298</td>\n",
       "      <td>2271da97</td>\n",
       "      <td>32</td>\n",
       "      <td>['Argentina']</td>\n",
       "      <td>0</td>\n",
       "      <td>0</td>\n",
       "      <td>Delantero centro</td>\n",
       "      <td>0</td>\n",
       "      <td>...</td>\n",
       "      <td>0.0</td>\n",
       "      <td>0.0</td>\n",
       "      <td>['Club León FC']</td>\n",
       "      <td>['4941']</td>\n",
       "      <td>{'Internacional': [('CONCACAF Champions Cup', ...</td>\n",
       "      <td>NaN</td>\n",
       "      <td>NaN</td>\n",
       "      <td>NaN</td>\n",
       "      <td>NaN</td>\n",
       "      <td>2020</td>\n",
       "    </tr>\n",
       "    <tr>\n",
       "      <th>8</th>\n",
       "      <td>Carlos Protesoni</td>\n",
       "      <td>/carlos-protesoni/profil/spieler/431190</td>\n",
       "      <td>431190</td>\n",
       "      <td>9fb45456</td>\n",
       "      <td>24</td>\n",
       "      <td>['Uruguay', 'Italia']</td>\n",
       "      <td>1</td>\n",
       "      <td>1</td>\n",
       "      <td>Pivote</td>\n",
       "      <td>0</td>\n",
       "      <td>...</td>\n",
       "      <td>0.0</td>\n",
       "      <td>0.0</td>\n",
       "      <td>['CA Independiente']</td>\n",
       "      <td>['1234']</td>\n",
       "      <td>{'Internacional': [('Sudamericana', '2020')], ...</td>\n",
       "      <td>NaN</td>\n",
       "      <td>NaN</td>\n",
       "      <td>NaN</td>\n",
       "      <td>NaN</td>\n",
       "      <td>2021</td>\n",
       "    </tr>\n",
       "    <tr>\n",
       "      <th>9</th>\n",
       "      <td>Yair Arismendi</td>\n",
       "      <td>/yair-arismendi/profil/spieler/440006</td>\n",
       "      <td>440006</td>\n",
       "      <td>9438188a</td>\n",
       "      <td>24</td>\n",
       "      <td>['Argentina']</td>\n",
       "      <td>0</td>\n",
       "      <td>0</td>\n",
       "      <td>Extremo izquierdo</td>\n",
       "      <td>0</td>\n",
       "      <td>...</td>\n",
       "      <td>0.0</td>\n",
       "      <td>0.0</td>\n",
       "      <td>['AA Estudiantes (Río Cuarto)']</td>\n",
       "      <td>['14602']</td>\n",
       "      <td>{'Local': [('Transición Primera Nacional', '20...</td>\n",
       "      <td>NaN</td>\n",
       "      <td>NaN</td>\n",
       "      <td>NaN</td>\n",
       "      <td>NaN</td>\n",
       "      <td>2021</td>\n",
       "    </tr>\n",
       "    <tr>\n",
       "      <th>10</th>\n",
       "      <td>Maxi Moralez</td>\n",
       "      <td>/maxi-moralez/profil/spieler/30687</td>\n",
       "      <td>30687</td>\n",
       "      <td>f99f37fc</td>\n",
       "      <td>35</td>\n",
       "      <td>['Argentina']</td>\n",
       "      <td>0</td>\n",
       "      <td>0</td>\n",
       "      <td>Mediocentro ofensivo</td>\n",
       "      <td>0</td>\n",
       "      <td>...</td>\n",
       "      <td>0.0</td>\n",
       "      <td>0.0</td>\n",
       "      <td>['New York City FC']</td>\n",
       "      <td>['40058']</td>\n",
       "      <td>{'Local': [('MLS Cup Playoffs', '2020'), ('MLS...</td>\n",
       "      <td>NaN</td>\n",
       "      <td>NaN</td>\n",
       "      <td>NaN</td>\n",
       "      <td>NaN</td>\n",
       "      <td>2021</td>\n",
       "    </tr>\n",
       "    <tr>\n",
       "      <th>11</th>\n",
       "      <td>Nicolás Contin</td>\n",
       "      <td>/nicolas-contin/profil/spieler/340164</td>\n",
       "      <td>340164</td>\n",
       "      <td>890901f1</td>\n",
       "      <td>27</td>\n",
       "      <td>['Argentina']</td>\n",
       "      <td>0</td>\n",
       "      <td>0</td>\n",
       "      <td>Delantero centro</td>\n",
       "      <td>0</td>\n",
       "      <td>...</td>\n",
       "      <td>0.0</td>\n",
       "      <td>0.0</td>\n",
       "      <td>['Club de Gimnasia y Esgrima La Plata']</td>\n",
       "      <td>['1106']</td>\n",
       "      <td>{'Local': [('Liga Profesional', '2021'), ('Cop...</td>\n",
       "      <td>NaN</td>\n",
       "      <td>NaN</td>\n",
       "      <td>NaN</td>\n",
       "      <td>NaN</td>\n",
       "      <td>2022</td>\n",
       "    </tr>\n",
       "    <tr>\n",
       "      <th>12</th>\n",
       "      <td>Santiago Rosales</td>\n",
       "      <td>/santiago-rosales/profil/spieler/357424</td>\n",
       "      <td>357424</td>\n",
       "      <td>86f36018</td>\n",
       "      <td>26</td>\n",
       "      <td>['Argentina']</td>\n",
       "      <td>0</td>\n",
       "      <td>0</td>\n",
       "      <td>Extremo izquierdo</td>\n",
       "      <td>0</td>\n",
       "      <td>...</td>\n",
       "      <td>0.0</td>\n",
       "      <td>0.0</td>\n",
       "      <td>['Club de Gimnasia y Esgrima La Plata', 'CA Pa...</td>\n",
       "      <td>['1106', '19806']</td>\n",
       "      <td>{'Local': [('Liga Profesional', '2019'), ('Cop...</td>\n",
       "      <td>NaN</td>\n",
       "      <td>NaN</td>\n",
       "      <td>NaN</td>\n",
       "      <td>NaN</td>\n",
       "      <td>2020</td>\n",
       "    </tr>\n",
       "    <tr>\n",
       "      <th>13</th>\n",
       "      <td>Nahuel Arena</td>\n",
       "      <td>/nahuel-arena/profil/spieler/552629</td>\n",
       "      <td>552629</td>\n",
       "      <td>320323af</td>\n",
       "      <td>23</td>\n",
       "      <td>['Argentina']</td>\n",
       "      <td>0</td>\n",
       "      <td>0</td>\n",
       "      <td>Defensa central</td>\n",
       "      <td>0</td>\n",
       "      <td>...</td>\n",
       "      <td>0.0</td>\n",
       "      <td>0.0</td>\n",
       "      <td>['CD Godoy Cruz Antonio Tomba', 'CA Vélez Sars...</td>\n",
       "      <td>['12574', '1029']</td>\n",
       "      <td>{'Internacional': [('Libertadores', '2019')], ...</td>\n",
       "      <td>NaN</td>\n",
       "      <td>NaN</td>\n",
       "      <td>NaN</td>\n",
       "      <td>NaN</td>\n",
       "      <td>2020</td>\n",
       "    </tr>\n",
       "    <tr>\n",
       "      <th>14</th>\n",
       "      <td>Nicolás Campisi</td>\n",
       "      <td>/nicolas-campisi/profil/spieler/745925</td>\n",
       "      <td>745925</td>\n",
       "      <td>3dff7ccb</td>\n",
       "      <td>25</td>\n",
       "      <td>['Argentina']</td>\n",
       "      <td>0</td>\n",
       "      <td>0</td>\n",
       "      <td>Portero</td>\n",
       "      <td>0</td>\n",
       "      <td>...</td>\n",
       "      <td>NaN</td>\n",
       "      <td>NaN</td>\n",
       "      <td>NaN</td>\n",
       "      <td>NaN</td>\n",
       "      <td>NaN</td>\n",
       "      <td>NaN</td>\n",
       "      <td>NaN</td>\n",
       "      <td>NaN</td>\n",
       "      <td>NaN</td>\n",
       "      <td>2020</td>\n",
       "    </tr>\n",
       "    <tr>\n",
       "      <th>15</th>\n",
       "      <td>Cristian Paz</td>\n",
       "      <td>/cristian-paz/profil/spieler/357338</td>\n",
       "      <td>357338</td>\n",
       "      <td>55d7093b</td>\n",
       "      <td>29</td>\n",
       "      <td>['Argentina']</td>\n",
       "      <td>0</td>\n",
       "      <td>0</td>\n",
       "      <td>Defensa central</td>\n",
       "      <td>0</td>\n",
       "      <td>...</td>\n",
       "      <td>0.0</td>\n",
       "      <td>0.0</td>\n",
       "      <td>['FC Voluntari', 'CD Morón']</td>\n",
       "      <td>['40843', '12458']</td>\n",
       "      <td>{'Local': [('Playoff Conference League', '22/2...</td>\n",
       "      <td>NaN</td>\n",
       "      <td>NaN</td>\n",
       "      <td>NaN</td>\n",
       "      <td>NaN</td>\n",
       "      <td>2023</td>\n",
       "    </tr>\n",
       "    <tr>\n",
       "      <th>16</th>\n",
       "      <td>Seba Pérez</td>\n",
       "      <td>/seba-perez/profil/spieler/182108</td>\n",
       "      <td>182108</td>\n",
       "      <td>42a833ab</td>\n",
       "      <td>28</td>\n",
       "      <td>['Colombia']</td>\n",
       "      <td>0</td>\n",
       "      <td>1</td>\n",
       "      <td>Pivote</td>\n",
       "      <td>1300000</td>\n",
       "      <td>...</td>\n",
       "      <td>0.0</td>\n",
       "      <td>0.0</td>\n",
       "      <td>['Barcelona SC Guayaquil']</td>\n",
       "      <td>['3523']</td>\n",
       "      <td>{'Internacional': [('Libertadores', '2019')], ...</td>\n",
       "      <td>NaN</td>\n",
       "      <td>NaN</td>\n",
       "      <td>NaN</td>\n",
       "      <td>NaN</td>\n",
       "      <td>2020</td>\n",
       "    </tr>\n",
       "    <tr>\n",
       "      <th>17</th>\n",
       "      <td>Joaquín Ardaiz</td>\n",
       "      <td>/joaquin-ardaiz/profil/spieler/415550</td>\n",
       "      <td>415550</td>\n",
       "      <td>eb823875</td>\n",
       "      <td>25</td>\n",
       "      <td>['Uruguay']</td>\n",
       "      <td>0</td>\n",
       "      <td>1</td>\n",
       "      <td>Delantero centro</td>\n",
       "      <td>0</td>\n",
       "      <td>...</td>\n",
       "      <td>0.0</td>\n",
       "      <td>0.0</td>\n",
       "      <td>['FC Winterthur', 'FC Lucerna']</td>\n",
       "      <td>['242', '434']</td>\n",
       "      <td>{'Local': [('Super League', '22/23'), ('Swiss ...</td>\n",
       "      <td>NaN</td>\n",
       "      <td>NaN</td>\n",
       "      <td>NaN</td>\n",
       "      <td>NaN</td>\n",
       "      <td>2023</td>\n",
       "    </tr>\n",
       "    <tr>\n",
       "      <th>18</th>\n",
       "      <td>Lucas Olaza</td>\n",
       "      <td>/lucas-olaza/profil/spieler/216240</td>\n",
       "      <td>216240</td>\n",
       "      <td>4cee5954</td>\n",
       "      <td>26</td>\n",
       "      <td>['Uruguay', 'España']</td>\n",
       "      <td>1</td>\n",
       "      <td>1</td>\n",
       "      <td>Lateral izquierdo</td>\n",
       "      <td>2000000</td>\n",
       "      <td>...</td>\n",
       "      <td>0.0</td>\n",
       "      <td>0.0</td>\n",
       "      <td>['RC Celta de Vigo']</td>\n",
       "      <td>['940']</td>\n",
       "      <td>{'Local': [('Copa del Rey', '19/20'), ('LaLiga...</td>\n",
       "      <td>NaN</td>\n",
       "      <td>NaN</td>\n",
       "      <td>NaN</td>\n",
       "      <td>NaN</td>\n",
       "      <td>2020</td>\n",
       "    </tr>\n",
       "    <tr>\n",
       "      <th>19</th>\n",
       "      <td>Maximiliano Cuadra</td>\n",
       "      <td>/maximiliano-cuadra/profil/spieler/493001</td>\n",
       "      <td>493001</td>\n",
       "      <td>4ded8d0a</td>\n",
       "      <td>26</td>\n",
       "      <td>['Argentina']</td>\n",
       "      <td>0</td>\n",
       "      <td>0</td>\n",
       "      <td>Delantero centro</td>\n",
       "      <td>0</td>\n",
       "      <td>...</td>\n",
       "      <td>0.0</td>\n",
       "      <td>0.0</td>\n",
       "      <td>['CA Unión (Santa Fe)', 'Racing Club']</td>\n",
       "      <td>['7097', '1444']</td>\n",
       "      <td>{'Internacional': [('Sudamericana', '2019')], ...</td>\n",
       "      <td>NaN</td>\n",
       "      <td>NaN</td>\n",
       "      <td>NaN</td>\n",
       "      <td>NaN</td>\n",
       "      <td>2020</td>\n",
       "    </tr>\n",
       "    <tr>\n",
       "      <th>20</th>\n",
       "      <td>Diego Becker</td>\n",
       "      <td>/diego-becker/profil/spieler/549603</td>\n",
       "      <td>549603</td>\n",
       "      <td>c0f00b37</td>\n",
       "      <td>24</td>\n",
       "      <td>['Argentina']</td>\n",
       "      <td>0</td>\n",
       "      <td>0</td>\n",
       "      <td>Interior izquierdo</td>\n",
       "      <td>0</td>\n",
       "      <td>...</td>\n",
       "      <td>0.0</td>\n",
       "      <td>0.0</td>\n",
       "      <td>['CA Rosario Central']</td>\n",
       "      <td>['1418']</td>\n",
       "      <td>{'Internacional': [('Libertadores', '2019')], ...</td>\n",
       "      <td>NaN</td>\n",
       "      <td>NaN</td>\n",
       "      <td>NaN</td>\n",
       "      <td>NaN</td>\n",
       "      <td>2020</td>\n",
       "    </tr>\n",
       "    <tr>\n",
       "      <th>21</th>\n",
       "      <td>Marcelo Barovero</td>\n",
       "      <td>/marcelo-barovero/profil/spieler/55142</td>\n",
       "      <td>55142</td>\n",
       "      <td>868c0f75</td>\n",
       "      <td>39</td>\n",
       "      <td>['Argentina', 'Italia']</td>\n",
       "      <td>1</td>\n",
       "      <td>0</td>\n",
       "      <td>Portero</td>\n",
       "      <td>0</td>\n",
       "      <td>...</td>\n",
       "      <td>0.0</td>\n",
       "      <td>0.0</td>\n",
       "      <td>['Atlético de San Luis']</td>\n",
       "      <td>['40188']</td>\n",
       "      <td>{'Local': [('Liguilla Clausura', '21/22'), ('L...</td>\n",
       "      <td>0.0</td>\n",
       "      <td>0.0</td>\n",
       "      <td>50.0</td>\n",
       "      <td>9.0</td>\n",
       "      <td>2022</td>\n",
       "    </tr>\n",
       "    <tr>\n",
       "      <th>22</th>\n",
       "      <td>Fernando Bersano</td>\n",
       "      <td>/fernando-bersano/profil/spieler/533569</td>\n",
       "      <td>533569</td>\n",
       "      <td>13718190</td>\n",
       "      <td>25</td>\n",
       "      <td>['Argentina']</td>\n",
       "      <td>0</td>\n",
       "      <td>0</td>\n",
       "      <td>Lateral izquierdo</td>\n",
       "      <td>0</td>\n",
       "      <td>...</td>\n",
       "      <td>0.0</td>\n",
       "      <td>0.0</td>\n",
       "      <td>['Club Villa Dálmine']</td>\n",
       "      <td>['8356']</td>\n",
       "      <td>{'Local': [('Primera Nacional', '2021')]}</td>\n",
       "      <td>NaN</td>\n",
       "      <td>NaN</td>\n",
       "      <td>NaN</td>\n",
       "      <td>NaN</td>\n",
       "      <td>2022</td>\n",
       "    </tr>\n",
       "    <tr>\n",
       "      <th>23</th>\n",
       "      <td>Julián Marcioni</td>\n",
       "      <td>/julian-marcioni/profil/spieler/633041</td>\n",
       "      <td>633041</td>\n",
       "      <td>f0770e9e</td>\n",
       "      <td>24</td>\n",
       "      <td>['Argentina']</td>\n",
       "      <td>0</td>\n",
       "      <td>0</td>\n",
       "      <td>Extremo derecho</td>\n",
       "      <td>0</td>\n",
       "      <td>...</td>\n",
       "      <td>0.0</td>\n",
       "      <td>0.0</td>\n",
       "      <td>['CA Atlanta']</td>\n",
       "      <td>['8057']</td>\n",
       "      <td>{'Local': [('Prim. Nacional - Playoff', '2020'...</td>\n",
       "      <td>NaN</td>\n",
       "      <td>NaN</td>\n",
       "      <td>NaN</td>\n",
       "      <td>NaN</td>\n",
       "      <td>2021</td>\n",
       "    </tr>\n",
       "    <tr>\n",
       "      <th>24</th>\n",
       "      <td>Jonás Gutiérrez</td>\n",
       "      <td>/jonas-gutierrez/profil/spieler/26443</td>\n",
       "      <td>26443</td>\n",
       "      <td>816fd91c</td>\n",
       "      <td>38</td>\n",
       "      <td>['Argentina', 'Italia']</td>\n",
       "      <td>1</td>\n",
       "      <td>0</td>\n",
       "      <td>Interior izquierdo</td>\n",
       "      <td>0</td>\n",
       "      <td>...</td>\n",
       "      <td>0.0</td>\n",
       "      <td>0.0</td>\n",
       "      <td>['CSD Defensa y Justicia']</td>\n",
       "      <td>['2402']</td>\n",
       "      <td>{'Local': [('Liga Profesional', '2019')]}</td>\n",
       "      <td>NaN</td>\n",
       "      <td>NaN</td>\n",
       "      <td>NaN</td>\n",
       "      <td>NaN</td>\n",
       "      <td>2020</td>\n",
       "    </tr>\n",
       "    <tr>\n",
       "      <th>25</th>\n",
       "      <td>Oscar Benítez</td>\n",
       "      <td>/oscar-benitez/profil/spieler/225819</td>\n",
       "      <td>225819</td>\n",
       "      <td>01699656</td>\n",
       "      <td>29</td>\n",
       "      <td>['Argentina']</td>\n",
       "      <td>0</td>\n",
       "      <td>0</td>\n",
       "      <td>Extremo izquierdo</td>\n",
       "      <td>0</td>\n",
       "      <td>...</td>\n",
       "      <td>0.0</td>\n",
       "      <td>0.0</td>\n",
       "      <td>['Atlético de San Luis']</td>\n",
       "      <td>['40188']</td>\n",
       "      <td>{'Local': [('Liga MX Apertura', '19/20'), ('Co...</td>\n",
       "      <td>NaN</td>\n",
       "      <td>NaN</td>\n",
       "      <td>NaN</td>\n",
       "      <td>NaN</td>\n",
       "      <td>2020</td>\n",
       "    </tr>\n",
       "    <tr>\n",
       "      <th>26</th>\n",
       "      <td>Maximiliano González</td>\n",
       "      <td>/maximiliano-gonzalez/profil/spieler/343361</td>\n",
       "      <td>343361</td>\n",
       "      <td>cb82dcc7</td>\n",
       "      <td>29</td>\n",
       "      <td>['Argentina']</td>\n",
       "      <td>0</td>\n",
       "      <td>0</td>\n",
       "      <td>Mediocentro</td>\n",
       "      <td>0</td>\n",
       "      <td>...</td>\n",
       "      <td>0.0</td>\n",
       "      <td>0.0</td>\n",
       "      <td>['CA San Martín (San Juan)']</td>\n",
       "      <td>['10511']</td>\n",
       "      <td>{'Local': [('Primera Nacional', '2021')]}</td>\n",
       "      <td>NaN</td>\n",
       "      <td>NaN</td>\n",
       "      <td>NaN</td>\n",
       "      <td>NaN</td>\n",
       "      <td>2022</td>\n",
       "    </tr>\n",
       "    <tr>\n",
       "      <th>27</th>\n",
       "      <td>Hugo Vera Oviedo</td>\n",
       "      <td>/hugo-vera-oviedo/profil/spieler/267794</td>\n",
       "      <td>267794</td>\n",
       "      <td>54ce6488</td>\n",
       "      <td>30</td>\n",
       "      <td>['Paraguay']</td>\n",
       "      <td>0</td>\n",
       "      <td>1</td>\n",
       "      <td>Defensa central</td>\n",
       "      <td>0</td>\n",
       "      <td>...</td>\n",
       "      <td>0.0</td>\n",
       "      <td>0.0</td>\n",
       "      <td>['CA Central Córdoba (SdE)']</td>\n",
       "      <td>['31284']</td>\n",
       "      <td>{'Local': [('Primera Nacional', '2019'), ('Cop...</td>\n",
       "      <td>NaN</td>\n",
       "      <td>NaN</td>\n",
       "      <td>NaN</td>\n",
       "      <td>NaN</td>\n",
       "      <td>2020</td>\n",
       "    </tr>\n",
       "    <tr>\n",
       "      <th>28</th>\n",
       "      <td>Juan Capurro</td>\n",
       "      <td>/juan-capurro/profil/spieler/274951</td>\n",
       "      <td>274951</td>\n",
       "      <td>ea96ba15</td>\n",
       "      <td>26</td>\n",
       "      <td>['Argentina']</td>\n",
       "      <td>0</td>\n",
       "      <td>0</td>\n",
       "      <td>Mediocentro</td>\n",
       "      <td>0</td>\n",
       "      <td>...</td>\n",
       "      <td>0.0</td>\n",
       "      <td>0.0</td>\n",
       "      <td>['CA Chaco For Ever']</td>\n",
       "      <td>['12681']</td>\n",
       "      <td>{'Local': [('Torneo Federal A', '2019')]}</td>\n",
       "      <td>NaN</td>\n",
       "      <td>NaN</td>\n",
       "      <td>NaN</td>\n",
       "      <td>NaN</td>\n",
       "      <td>2020</td>\n",
       "    </tr>\n",
       "    <tr>\n",
       "      <th>29</th>\n",
       "      <td>Fermín Antonini</td>\n",
       "      <td>/fermin-antonini/profil/spieler/433926</td>\n",
       "      <td>433926</td>\n",
       "      <td>09dab107</td>\n",
       "      <td>26</td>\n",
       "      <td>['Argentina', 'Italia']</td>\n",
       "      <td>1</td>\n",
       "      <td>0</td>\n",
       "      <td>Pivote</td>\n",
       "      <td>0</td>\n",
       "      <td>...</td>\n",
       "      <td>0.0</td>\n",
       "      <td>0.0</td>\n",
       "      <td>['CA Sarmiento (Junín)']</td>\n",
       "      <td>['12454']</td>\n",
       "      <td>{'Local': [('Liga Profesional', '2021')]}</td>\n",
       "      <td>NaN</td>\n",
       "      <td>NaN</td>\n",
       "      <td>NaN</td>\n",
       "      <td>NaN</td>\n",
       "      <td>2022</td>\n",
       "    </tr>\n",
       "    <tr>\n",
       "      <th>31</th>\n",
       "      <td>Maxi Meza</td>\n",
       "      <td>/maxi-meza/profil/spieler/282476</td>\n",
       "      <td>282476</td>\n",
       "      <td>e5e15e0a</td>\n",
       "      <td>31</td>\n",
       "      <td>['Argentina']</td>\n",
       "      <td>0</td>\n",
       "      <td>0</td>\n",
       "      <td>Extremo derecho</td>\n",
       "      <td>1800000</td>\n",
       "      <td>...</td>\n",
       "      <td>0.0</td>\n",
       "      <td>0.0</td>\n",
       "      <td>['CF Monterrey']</td>\n",
       "      <td>['2407']</td>\n",
       "      <td>{'Local': [('Liguilla Clausura', '22/23'), ('L...</td>\n",
       "      <td>NaN</td>\n",
       "      <td>NaN</td>\n",
       "      <td>NaN</td>\n",
       "      <td>NaN</td>\n",
       "      <td>2023</td>\n",
       "    </tr>\n",
       "    <tr>\n",
       "      <th>32</th>\n",
       "      <td>Conan Ledesma</td>\n",
       "      <td>/conan-ledesma/profil/spieler/284342</td>\n",
       "      <td>284342</td>\n",
       "      <td>6c4776b1</td>\n",
       "      <td>28</td>\n",
       "      <td>['Argentina', 'Italia']</td>\n",
       "      <td>1</td>\n",
       "      <td>0</td>\n",
       "      <td>Portero</td>\n",
       "      <td>1800000</td>\n",
       "      <td>...</td>\n",
       "      <td>0.0</td>\n",
       "      <td>0.0</td>\n",
       "      <td>['CA Rosario Central']</td>\n",
       "      <td>['1418']</td>\n",
       "      <td>{'Internacional': [('Libertadores', '2019')], ...</td>\n",
       "      <td>10.0</td>\n",
       "      <td>0.0</td>\n",
       "      <td>29.0</td>\n",
       "      <td>10.0</td>\n",
       "      <td>2020</td>\n",
       "    </tr>\n",
       "    <tr>\n",
       "      <th>33</th>\n",
       "      <td>Gonzalo Berterame</td>\n",
       "      <td>/gonzalo-berterame/profil/spieler/697651</td>\n",
       "      <td>697651</td>\n",
       "      <td>2d0f8ef7</td>\n",
       "      <td>26</td>\n",
       "      <td>['Argentina']</td>\n",
       "      <td>0</td>\n",
       "      <td>0</td>\n",
       "      <td>Mediocentro ofensivo</td>\n",
       "      <td>0</td>\n",
       "      <td>...</td>\n",
       "      <td>0.0</td>\n",
       "      <td>0.0</td>\n",
       "      <td>['CA San Martín (San Juan)']</td>\n",
       "      <td>['10511']</td>\n",
       "      <td>{'Local': [('Transición Primera Nacional', '20...</td>\n",
       "      <td>NaN</td>\n",
       "      <td>NaN</td>\n",
       "      <td>NaN</td>\n",
       "      <td>NaN</td>\n",
       "      <td>2021</td>\n",
       "    </tr>\n",
       "    <tr>\n",
       "      <th>34</th>\n",
       "      <td>Valentín Viola</td>\n",
       "      <td>/valentin-viola/profil/spieler/150568</td>\n",
       "      <td>150568</td>\n",
       "      <td>a2a0757a</td>\n",
       "      <td>29</td>\n",
       "      <td>['Argentina']</td>\n",
       "      <td>0</td>\n",
       "      <td>0</td>\n",
       "      <td>Extremo izquierdo</td>\n",
       "      <td>0</td>\n",
       "      <td>...</td>\n",
       "      <td>0.0</td>\n",
       "      <td>0.0</td>\n",
       "      <td>['CA San Martín (Tucumán)']</td>\n",
       "      <td>['12709']</td>\n",
       "      <td>{'Local': [('Liga Profesional', '2019'), ('Cop...</td>\n",
       "      <td>NaN</td>\n",
       "      <td>NaN</td>\n",
       "      <td>NaN</td>\n",
       "      <td>NaN</td>\n",
       "      <td>2020</td>\n",
       "    </tr>\n",
       "    <tr>\n",
       "      <th>35</th>\n",
       "      <td>Walter Acuña</td>\n",
       "      <td>/walter-acuna/profil/spieler/267409</td>\n",
       "      <td>267409</td>\n",
       "      <td>15741f49</td>\n",
       "      <td>32</td>\n",
       "      <td>['Argentina']</td>\n",
       "      <td>0</td>\n",
       "      <td>0</td>\n",
       "      <td>Mediocentro ofensivo</td>\n",
       "      <td>0</td>\n",
       "      <td>...</td>\n",
       "      <td>0.0</td>\n",
       "      <td>0.0</td>\n",
       "      <td>['CD Riestra']</td>\n",
       "      <td>['19775']</td>\n",
       "      <td>{'Local': [('Prim. Nacional - Playoff', '2022'...</td>\n",
       "      <td>NaN</td>\n",
       "      <td>NaN</td>\n",
       "      <td>NaN</td>\n",
       "      <td>NaN</td>\n",
       "      <td>2023</td>\n",
       "    </tr>\n",
       "    <tr>\n",
       "      <th>36</th>\n",
       "      <td>Nicolás Figal</td>\n",
       "      <td>/nicolas-figal/profil/spieler/334055</td>\n",
       "      <td>334055</td>\n",
       "      <td>91e44066</td>\n",
       "      <td>27</td>\n",
       "      <td>['Argentina']</td>\n",
       "      <td>0</td>\n",
       "      <td>0</td>\n",
       "      <td>Defensa central</td>\n",
       "      <td>2360000</td>\n",
       "      <td>...</td>\n",
       "      <td>0.0</td>\n",
       "      <td>0.0</td>\n",
       "      <td>['CA Independiente']</td>\n",
       "      <td>['1234']</td>\n",
       "      <td>{'Internacional': [('Sudamericana', '2019')], ...</td>\n",
       "      <td>NaN</td>\n",
       "      <td>NaN</td>\n",
       "      <td>NaN</td>\n",
       "      <td>NaN</td>\n",
       "      <td>2020</td>\n",
       "    </tr>\n",
       "    <tr>\n",
       "      <th>37</th>\n",
       "      <td>Joaquín Varela</td>\n",
       "      <td>/joaquin-varela/profil/spieler/553421</td>\n",
       "      <td>553421</td>\n",
       "      <td>1a3094fc</td>\n",
       "      <td>25</td>\n",
       "      <td>['Argentina']</td>\n",
       "      <td>0</td>\n",
       "      <td>0</td>\n",
       "      <td>Defensa central</td>\n",
       "      <td>0</td>\n",
       "      <td>...</td>\n",
       "      <td>0.0</td>\n",
       "      <td>0.0</td>\n",
       "      <td>['CA San Martín (Tucumán)']</td>\n",
       "      <td>['12709']</td>\n",
       "      <td>{'Local': [('Transición Primera Nacional', '20...</td>\n",
       "      <td>NaN</td>\n",
       "      <td>NaN</td>\n",
       "      <td>NaN</td>\n",
       "      <td>NaN</td>\n",
       "      <td>2021</td>\n",
       "    </tr>\n",
       "    <tr>\n",
       "      <th>42</th>\n",
       "      <td>Nicolás Giménez</td>\n",
       "      <td>/nicolas-gimenez/profil/spieler/364946</td>\n",
       "      <td>364946</td>\n",
       "      <td>e3cfbfc5</td>\n",
       "      <td>25</td>\n",
       "      <td>['Argentina', 'Emiratos Árabes Unidos']</td>\n",
       "      <td>0</td>\n",
       "      <td>0</td>\n",
       "      <td>Mediocentro ofensivo</td>\n",
       "      <td>2050000</td>\n",
       "      <td>...</td>\n",
       "      <td>0.0</td>\n",
       "      <td>0.0</td>\n",
       "      <td>['CA San Martín (Tucumán)', 'Arsenal FC']</td>\n",
       "      <td>['12709', '4673']</td>\n",
       "      <td>{'Local': [('Liga Profesional', '2019'), ('Cop...</td>\n",
       "      <td>NaN</td>\n",
       "      <td>NaN</td>\n",
       "      <td>NaN</td>\n",
       "      <td>NaN</td>\n",
       "      <td>2020</td>\n",
       "    </tr>\n",
       "    <tr>\n",
       "      <th>44</th>\n",
       "      <td>Juan Pintado</td>\n",
       "      <td>/juan-pintado/profil/spieler/410456</td>\n",
       "      <td>410456</td>\n",
       "      <td>ba31fd7e</td>\n",
       "      <td>26</td>\n",
       "      <td>['Uruguay']</td>\n",
       "      <td>0</td>\n",
       "      <td>1</td>\n",
       "      <td>Lateral derecho</td>\n",
       "      <td>365000</td>\n",
       "      <td>...</td>\n",
       "      <td>0.0</td>\n",
       "      <td>0.0</td>\n",
       "      <td>['CA Juventud']</td>\n",
       "      <td>['17428']</td>\n",
       "      <td>{'Local': [('Liga de Ascenso', '2021')]}</td>\n",
       "      <td>NaN</td>\n",
       "      <td>NaN</td>\n",
       "      <td>NaN</td>\n",
       "      <td>NaN</td>\n",
       "      <td>2022</td>\n",
       "    </tr>\n",
       "    <tr>\n",
       "      <th>46</th>\n",
       "      <td>Alexis Messidoro</td>\n",
       "      <td>/alexis-messidoro/profil/spieler/417634</td>\n",
       "      <td>417634</td>\n",
       "      <td>b8a4fcf3</td>\n",
       "      <td>24</td>\n",
       "      <td>['Argentina']</td>\n",
       "      <td>0</td>\n",
       "      <td>0</td>\n",
       "      <td>Mediocentro</td>\n",
       "      <td>0</td>\n",
       "      <td>...</td>\n",
       "      <td>0.0</td>\n",
       "      <td>0.0</td>\n",
       "      <td>['Cerro Largo FC']</td>\n",
       "      <td>['20189']</td>\n",
       "      <td>{'Local': [('Primera División Apertura', '2019...</td>\n",
       "      <td>NaN</td>\n",
       "      <td>NaN</td>\n",
       "      <td>NaN</td>\n",
       "      <td>NaN</td>\n",
       "      <td>2020</td>\n",
       "    </tr>\n",
       "    <tr>\n",
       "      <th>56</th>\n",
       "      <td>Juan Brunetta</td>\n",
       "      <td>/juan-brunetta/profil/spieler/466268</td>\n",
       "      <td>466268</td>\n",
       "      <td>d60099bc</td>\n",
       "      <td>26</td>\n",
       "      <td>['Argentina', 'Italia']</td>\n",
       "      <td>1</td>\n",
       "      <td>0</td>\n",
       "      <td>Mediocentro ofensivo</td>\n",
       "      <td>2350000</td>\n",
       "      <td>...</td>\n",
       "      <td>0.0</td>\n",
       "      <td>0.0</td>\n",
       "      <td>['Parma']</td>\n",
       "      <td>['130']</td>\n",
       "      <td>{'Local': [('Serie B', '21/22'), ('Copa Italia...</td>\n",
       "      <td>NaN</td>\n",
       "      <td>NaN</td>\n",
       "      <td>NaN</td>\n",
       "      <td>NaN</td>\n",
       "      <td>2022</td>\n",
       "    </tr>\n",
       "    <tr>\n",
       "      <th>57</th>\n",
       "      <td>Emmanuel Ojeda</td>\n",
       "      <td>/emmanuel-ojeda/profil/spieler/471657</td>\n",
       "      <td>471657</td>\n",
       "      <td>ab874ea3</td>\n",
       "      <td>24</td>\n",
       "      <td>['Argentina']</td>\n",
       "      <td>0</td>\n",
       "      <td>0</td>\n",
       "      <td>Pivote</td>\n",
       "      <td>373000</td>\n",
       "      <td>...</td>\n",
       "      <td>0.0</td>\n",
       "      <td>0.0</td>\n",
       "      <td>['CA Rosario Central']</td>\n",
       "      <td>['1418']</td>\n",
       "      <td>{'Local': [('Copa Maradona - Compl.', '2020'),...</td>\n",
       "      <td>NaN</td>\n",
       "      <td>NaN</td>\n",
       "      <td>NaN</td>\n",
       "      <td>NaN</td>\n",
       "      <td>2021</td>\n",
       "    </tr>\n",
       "    <tr>\n",
       "      <th>65</th>\n",
       "      <td>Enzo Cabrera</td>\n",
       "      <td>/enzo-cabrera/profil/spieler/538527</td>\n",
       "      <td>538527</td>\n",
       "      <td>488ed820</td>\n",
       "      <td>24</td>\n",
       "      <td>['Argentina']</td>\n",
       "      <td>0</td>\n",
       "      <td>0</td>\n",
       "      <td>Delantero centro</td>\n",
       "      <td>160000</td>\n",
       "      <td>...</td>\n",
       "      <td>0.0</td>\n",
       "      <td>0.0</td>\n",
       "      <td>['Birkirkara FC']</td>\n",
       "      <td>['10262']</td>\n",
       "      <td>{'Local': [('Premier League', '22/23'), ('Malt...</td>\n",
       "      <td>NaN</td>\n",
       "      <td>NaN</td>\n",
       "      <td>NaN</td>\n",
       "      <td>NaN</td>\n",
       "      <td>2023</td>\n",
       "    </tr>\n",
       "    <tr>\n",
       "      <th>67</th>\n",
       "      <td>Ariel Kippes</td>\n",
       "      <td>/ariel-kippes/profil/spieler/539162</td>\n",
       "      <td>539162</td>\n",
       "      <td>2a42d73c</td>\n",
       "      <td>27</td>\n",
       "      <td>['Argentina']</td>\n",
       "      <td>0</td>\n",
       "      <td>0</td>\n",
       "      <td>Defensa central</td>\n",
       "      <td>0</td>\n",
       "      <td>...</td>\n",
       "      <td>0.0</td>\n",
       "      <td>0.0</td>\n",
       "      <td>['CA Sarmiento (Junín)']</td>\n",
       "      <td>['12454']</td>\n",
       "      <td>{'Local': [('Primera Nacional', '2019'), ('Cop...</td>\n",
       "      <td>NaN</td>\n",
       "      <td>NaN</td>\n",
       "      <td>NaN</td>\n",
       "      <td>NaN</td>\n",
       "      <td>2020</td>\n",
       "    </tr>\n",
       "    <tr>\n",
       "      <th>77</th>\n",
       "      <td>Javier Altamirano</td>\n",
       "      <td>/javier-altamirano/profil/spieler/567630</td>\n",
       "      <td>567630</td>\n",
       "      <td>334e5b0f</td>\n",
       "      <td>23</td>\n",
       "      <td>['Chile']</td>\n",
       "      <td>0</td>\n",
       "      <td>1</td>\n",
       "      <td>Mediocentro ofensivo</td>\n",
       "      <td>918000</td>\n",
       "      <td>...</td>\n",
       "      <td>0.0</td>\n",
       "      <td>0.0</td>\n",
       "      <td>['CD Huachipato']</td>\n",
       "      <td>['6368']</td>\n",
       "      <td>{'Internacional': [('Sudamericana', '2021')], ...</td>\n",
       "      <td>NaN</td>\n",
       "      <td>NaN</td>\n",
       "      <td>NaN</td>\n",
       "      <td>NaN</td>\n",
       "      <td>2022</td>\n",
       "    </tr>\n",
       "    <tr>\n",
       "      <th>79</th>\n",
       "      <td>Agustín Ocampo</td>\n",
       "      <td>/agustin-ocampo/profil/spieler/583822</td>\n",
       "      <td>583822</td>\n",
       "      <td>df0058c1</td>\n",
       "      <td>25</td>\n",
       "      <td>['Uruguay']</td>\n",
       "      <td>0</td>\n",
       "      <td>1</td>\n",
       "      <td>Extremo izquierdo</td>\n",
       "      <td>295000</td>\n",
       "      <td>...</td>\n",
       "      <td>0.0</td>\n",
       "      <td>0.0</td>\n",
       "      <td>['Deportes Antofagasta', 'Liverpool FC Montevi...</td>\n",
       "      <td>['17222', '10663']</td>\n",
       "      <td>{'Internacional': [('Libertadores', '2021')], ...</td>\n",
       "      <td>NaN</td>\n",
       "      <td>NaN</td>\n",
       "      <td>NaN</td>\n",
       "      <td>NaN</td>\n",
       "      <td>2022</td>\n",
       "    </tr>\n",
       "    <tr>\n",
       "      <th>80</th>\n",
       "      <td>Nemanja Micevic</td>\n",
       "      <td>/nemanja-micevic/profil/spieler/599345</td>\n",
       "      <td>599345</td>\n",
       "      <td>95c772dd</td>\n",
       "      <td>23</td>\n",
       "      <td>['Serbia']</td>\n",
       "      <td>0</td>\n",
       "      <td>1</td>\n",
       "      <td>Defensa central</td>\n",
       "      <td>300000</td>\n",
       "      <td>...</td>\n",
       "      <td>0.0</td>\n",
       "      <td>0.0</td>\n",
       "      <td>['FK Mladost Lucani']</td>\n",
       "      <td>['6622']</td>\n",
       "      <td>{'Local': [('Super liga Srbije', '20/21'), ('K...</td>\n",
       "      <td>NaN</td>\n",
       "      <td>NaN</td>\n",
       "      <td>NaN</td>\n",
       "      <td>NaN</td>\n",
       "      <td>2021</td>\n",
       "    </tr>\n",
       "    <tr>\n",
       "      <th>83</th>\n",
       "      <td>Andrés Herrera</td>\n",
       "      <td>/andres-herrera/profil/spieler/621369</td>\n",
       "      <td>621369</td>\n",
       "      <td>460cfb5b</td>\n",
       "      <td>23</td>\n",
       "      <td>['Argentina']</td>\n",
       "      <td>0</td>\n",
       "      <td>0</td>\n",
       "      <td>Lateral derecho</td>\n",
       "      <td>2200000</td>\n",
       "      <td>...</td>\n",
       "      <td>0.0</td>\n",
       "      <td>0.0</td>\n",
       "      <td>['CA San Lorenzo de Almagro']</td>\n",
       "      <td>['1775']</td>\n",
       "      <td>{'Internacional': [('Libertadores', '2019')], ...</td>\n",
       "      <td>NaN</td>\n",
       "      <td>NaN</td>\n",
       "      <td>NaN</td>\n",
       "      <td>NaN</td>\n",
       "      <td>2020</td>\n",
       "    </tr>\n",
       "    <tr>\n",
       "      <th>109</th>\n",
       "      <td>Ayrton Portillo</td>\n",
       "      <td>/ayrton-portillo/profil/spieler/841207</td>\n",
       "      <td>841207</td>\n",
       "      <td>a1f80904</td>\n",
       "      <td>23</td>\n",
       "      <td>['Argentina']</td>\n",
       "      <td>0</td>\n",
       "      <td>0</td>\n",
       "      <td>Extremo derecho</td>\n",
       "      <td>276000</td>\n",
       "      <td>...</td>\n",
       "      <td>0.0</td>\n",
       "      <td>0.0</td>\n",
       "      <td>['AMSD Atlético de Rafaela']</td>\n",
       "      <td>['10233']</td>\n",
       "      <td>{'Local': [('Primera Nacional', '2022')]}</td>\n",
       "      <td>NaN</td>\n",
       "      <td>NaN</td>\n",
       "      <td>NaN</td>\n",
       "      <td>NaN</td>\n",
       "      <td>2023</td>\n",
       "    </tr>\n",
       "    <tr>\n",
       "      <th>111</th>\n",
       "      <td>Jonatan Gómez</td>\n",
       "      <td>/jonatan-gomez/profil/spieler/84377</td>\n",
       "      <td>84377</td>\n",
       "      <td>c911d311</td>\n",
       "      <td>33</td>\n",
       "      <td>['Argentina']</td>\n",
       "      <td>0</td>\n",
       "      <td>0</td>\n",
       "      <td>Mediocentro ofensivo</td>\n",
       "      <td>461000</td>\n",
       "      <td>...</td>\n",
       "      <td>0.0</td>\n",
       "      <td>0.0</td>\n",
       "      <td>['Sport Club do Recife']</td>\n",
       "      <td>['8718']</td>\n",
       "      <td>{'Local': [('Série A', '2020'), ('Copa do Nord...</td>\n",
       "      <td>NaN</td>\n",
       "      <td>NaN</td>\n",
       "      <td>NaN</td>\n",
       "      <td>NaN</td>\n",
       "      <td>2021</td>\n",
       "    </tr>\n",
       "    <tr>\n",
       "      <th>114</th>\n",
       "      <td>Tobías Medina</td>\n",
       "      <td>/tobias-medina/profil/spieler/856592</td>\n",
       "      <td>856592</td>\n",
       "      <td>a2660293</td>\n",
       "      <td>20</td>\n",
       "      <td>['Argentina']</td>\n",
       "      <td>0</td>\n",
       "      <td>0</td>\n",
       "      <td>Extremo izquierdo</td>\n",
       "      <td>1100000</td>\n",
       "      <td>...</td>\n",
       "      <td>NaN</td>\n",
       "      <td>NaN</td>\n",
       "      <td>NaN</td>\n",
       "      <td>NaN</td>\n",
       "      <td>NaN</td>\n",
       "      <td>NaN</td>\n",
       "      <td>NaN</td>\n",
       "      <td>NaN</td>\n",
       "      <td>NaN</td>\n",
       "      <td>2023</td>\n",
       "    </tr>\n",
       "    <tr>\n",
       "      <th>116</th>\n",
       "      <td>Agustín Bravo</td>\n",
       "      <td>/agustin-bravo/profil/spieler/868503</td>\n",
       "      <td>868503</td>\n",
       "      <td>6159b1e9</td>\n",
       "      <td>22</td>\n",
       "      <td>['Argentina']</td>\n",
       "      <td>0</td>\n",
       "      <td>0</td>\n",
       "      <td>Defensa central</td>\n",
       "      <td>913000</td>\n",
       "      <td>...</td>\n",
       "      <td>0.0</td>\n",
       "      <td>0.0</td>\n",
       "      <td>['AMSD Atlético de Rafaela']</td>\n",
       "      <td>['10233']</td>\n",
       "      <td>{'Local': [('Primera Nacional', '2021')]}</td>\n",
       "      <td>NaN</td>\n",
       "      <td>NaN</td>\n",
       "      <td>NaN</td>\n",
       "      <td>NaN</td>\n",
       "      <td>2022</td>\n",
       "    </tr>\n",
       "    <tr>\n",
       "      <th>118</th>\n",
       "      <td>Ignacio Malcorra</td>\n",
       "      <td>/ignacio-malcorra/profil/spieler/87518</td>\n",
       "      <td>87518</td>\n",
       "      <td>90a0bb3b</td>\n",
       "      <td>33</td>\n",
       "      <td>['Argentina']</td>\n",
       "      <td>0</td>\n",
       "      <td>0</td>\n",
       "      <td>Mediocentro ofensivo</td>\n",
       "      <td>0</td>\n",
       "      <td>...</td>\n",
       "      <td>0.0</td>\n",
       "      <td>0.0</td>\n",
       "      <td>['Pumas UNAM ']</td>\n",
       "      <td>['7633']</td>\n",
       "      <td>{'Local': [('Liga MX Clausura', '19/20'), ('Li...</td>\n",
       "      <td>NaN</td>\n",
       "      <td>NaN</td>\n",
       "      <td>NaN</td>\n",
       "      <td>NaN</td>\n",
       "      <td>2020</td>\n",
       "    </tr>\n",
       "    <tr>\n",
       "      <th>120</th>\n",
       "      <td>Baltasar Barcia</td>\n",
       "      <td>/baltasar-barcia/profil/spieler/891569</td>\n",
       "      <td>891569</td>\n",
       "      <td>a35ee3a5</td>\n",
       "      <td>21</td>\n",
       "      <td>['Uruguay']</td>\n",
       "      <td>0</td>\n",
       "      <td>1</td>\n",
       "      <td>Pivote</td>\n",
       "      <td>460000</td>\n",
       "      <td>...</td>\n",
       "      <td>NaN</td>\n",
       "      <td>NaN</td>\n",
       "      <td>NaN</td>\n",
       "      <td>NaN</td>\n",
       "      <td>NaN</td>\n",
       "      <td>NaN</td>\n",
       "      <td>NaN</td>\n",
       "      <td>NaN</td>\n",
       "      <td>NaN</td>\n",
       "      <td>2021</td>\n",
       "    </tr>\n",
       "    <tr>\n",
       "      <th>125</th>\n",
       "      <td>Iván Valdez</td>\n",
       "      <td>/ivan-valdez/profil/spieler/982298</td>\n",
       "      <td>982298</td>\n",
       "      <td>93949d6e</td>\n",
       "      <td>28</td>\n",
       "      <td>['Paraguay']</td>\n",
       "      <td>0</td>\n",
       "      <td>1</td>\n",
       "      <td>Mediapunta</td>\n",
       "      <td>109000</td>\n",
       "      <td>...</td>\n",
       "      <td>NaN</td>\n",
       "      <td>NaN</td>\n",
       "      <td>NaN</td>\n",
       "      <td>NaN</td>\n",
       "      <td>NaN</td>\n",
       "      <td>NaN</td>\n",
       "      <td>NaN</td>\n",
       "      <td>NaN</td>\n",
       "      <td>NaN</td>\n",
       "      <td>2022</td>\n",
       "    </tr>\n",
       "    <tr>\n",
       "      <th>126</th>\n",
       "      <td>Lucas Faggioli</td>\n",
       "      <td>/lucas-faggioli/profil/spieler/985003</td>\n",
       "      <td>985003</td>\n",
       "      <td>af506675</td>\n",
       "      <td>26</td>\n",
       "      <td>['Argentina']</td>\n",
       "      <td>0</td>\n",
       "      <td>0</td>\n",
       "      <td>Defensa central</td>\n",
       "      <td>0</td>\n",
       "      <td>...</td>\n",
       "      <td>NaN</td>\n",
       "      <td>NaN</td>\n",
       "      <td>NaN</td>\n",
       "      <td>NaN</td>\n",
       "      <td>NaN</td>\n",
       "      <td>NaN</td>\n",
       "      <td>NaN</td>\n",
       "      <td>NaN</td>\n",
       "      <td>NaN</td>\n",
       "      <td>2022</td>\n",
       "    </tr>\n",
       "    <tr>\n",
       "      <th>127</th>\n",
       "      <td>Francisco Petrasso</td>\n",
       "      <td>/francisco-petrasso/profil/spieler/985683</td>\n",
       "      <td>985683</td>\n",
       "      <td>c6a9b5eb</td>\n",
       "      <td>22</td>\n",
       "      <td>['Argentina']</td>\n",
       "      <td>0</td>\n",
       "      <td>0</td>\n",
       "      <td>Defensa central</td>\n",
       "      <td>896000</td>\n",
       "      <td>...</td>\n",
       "      <td>NaN</td>\n",
       "      <td>NaN</td>\n",
       "      <td>NaN</td>\n",
       "      <td>NaN</td>\n",
       "      <td>NaN</td>\n",
       "      <td>NaN</td>\n",
       "      <td>NaN</td>\n",
       "      <td>NaN</td>\n",
       "      <td>NaN</td>\n",
       "      <td>2023</td>\n",
       "    </tr>\n",
       "    <tr>\n",
       "      <th>129</th>\n",
       "      <td>Pablo Monje</td>\n",
       "      <td>/pablo-monje/profil/spieler/992605</td>\n",
       "      <td>992605</td>\n",
       "      <td>37077a8b</td>\n",
       "      <td>26</td>\n",
       "      <td>['Argentina']</td>\n",
       "      <td>0</td>\n",
       "      <td>0</td>\n",
       "      <td>Mediocentro</td>\n",
       "      <td>0</td>\n",
       "      <td>...</td>\n",
       "      <td>NaN</td>\n",
       "      <td>NaN</td>\n",
       "      <td>NaN</td>\n",
       "      <td>NaN</td>\n",
       "      <td>NaN</td>\n",
       "      <td>NaN</td>\n",
       "      <td>NaN</td>\n",
       "      <td>NaN</td>\n",
       "      <td>NaN</td>\n",
       "      <td>2022</td>\n",
       "    </tr>\n",
       "    <tr>\n",
       "      <th>130</th>\n",
       "      <td>Tomás Palacios</td>\n",
       "      <td>/tomas-palacios/profil/spieler/993645</td>\n",
       "      <td>993645</td>\n",
       "      <td>404101f9</td>\n",
       "      <td>21</td>\n",
       "      <td>['Argentina']</td>\n",
       "      <td>0</td>\n",
       "      <td>0</td>\n",
       "      <td>Defensa central</td>\n",
       "      <td>1340000</td>\n",
       "      <td>...</td>\n",
       "      <td>0.0</td>\n",
       "      <td>0.0</td>\n",
       "      <td>['CA Talleres']</td>\n",
       "      <td>['3938']</td>\n",
       "      <td>{'Local': [('Copa de la Liga', '2022')]}</td>\n",
       "      <td>NaN</td>\n",
       "      <td>NaN</td>\n",
       "      <td>NaN</td>\n",
       "      <td>NaN</td>\n",
       "      <td>2023</td>\n",
       "    </tr>\n",
       "    <tr>\n",
       "      <th>131</th>\n",
       "      <td>Brian Lluy</td>\n",
       "      <td>/brian-lluy/profil/spieler/99691</td>\n",
       "      <td>99691</td>\n",
       "      <td>47692488</td>\n",
       "      <td>32</td>\n",
       "      <td>['Argentina', 'Italia']</td>\n",
       "      <td>1</td>\n",
       "      <td>0</td>\n",
       "      <td>Lateral derecho</td>\n",
       "      <td>0</td>\n",
       "      <td>...</td>\n",
       "      <td>0.0</td>\n",
       "      <td>0.0</td>\n",
       "      <td>['Quilmes AC']</td>\n",
       "      <td>['1826']</td>\n",
       "      <td>{'Local': [('Primera Nacional', '2019')]}</td>\n",
       "      <td>NaN</td>\n",
       "      <td>NaN</td>\n",
       "      <td>NaN</td>\n",
       "      <td>NaN</td>\n",
       "      <td>2020</td>\n",
       "    </tr>\n",
       "  </tbody>\n",
       "</table>\n",
       "<p>60 rows × 173 columns</p>\n",
       "</div>"
      ],
      "text/plain": [
       "              player_name                                   player_url  \\\n",
       "0           Abel Luciatti         /abel-luciatti/profil/spieler/220751   \n",
       "1        Wilder Cartagena      /wilder-cartagena/profil/spieler/224669   \n",
       "2           Matías García         /matias-garcia/profil/spieler/267393   \n",
       "3             Javier Báez            /javier-baez/profil/spieler/87360   \n",
       "4           Alex Ibacache         /alex-ibacache/profil/spieler/571083   \n",
       "5       Emanuel Hernández     /emanuel-hernandez/profil/spieler/651854   \n",
       "6           Lázaro Romero         /lazaro-romero/profil/spieler/971557   \n",
       "7          Leonardo Ramos        /leonardo-ramos/profil/spieler/341298   \n",
       "8        Carlos Protesoni      /carlos-protesoni/profil/spieler/431190   \n",
       "9          Yair Arismendi        /yair-arismendi/profil/spieler/440006   \n",
       "10           Maxi Moralez           /maxi-moralez/profil/spieler/30687   \n",
       "11         Nicolás Contin        /nicolas-contin/profil/spieler/340164   \n",
       "12       Santiago Rosales      /santiago-rosales/profil/spieler/357424   \n",
       "13           Nahuel Arena          /nahuel-arena/profil/spieler/552629   \n",
       "14        Nicolás Campisi       /nicolas-campisi/profil/spieler/745925   \n",
       "15           Cristian Paz          /cristian-paz/profil/spieler/357338   \n",
       "16             Seba Pérez            /seba-perez/profil/spieler/182108   \n",
       "17         Joaquín Ardaiz        /joaquin-ardaiz/profil/spieler/415550   \n",
       "18            Lucas Olaza           /lucas-olaza/profil/spieler/216240   \n",
       "19     Maximiliano Cuadra    /maximiliano-cuadra/profil/spieler/493001   \n",
       "20           Diego Becker          /diego-becker/profil/spieler/549603   \n",
       "21       Marcelo Barovero       /marcelo-barovero/profil/spieler/55142   \n",
       "22       Fernando Bersano      /fernando-bersano/profil/spieler/533569   \n",
       "23        Julián Marcioni       /julian-marcioni/profil/spieler/633041   \n",
       "24        Jonás Gutiérrez        /jonas-gutierrez/profil/spieler/26443   \n",
       "25          Oscar Benítez         /oscar-benitez/profil/spieler/225819   \n",
       "26   Maximiliano González  /maximiliano-gonzalez/profil/spieler/343361   \n",
       "27       Hugo Vera Oviedo      /hugo-vera-oviedo/profil/spieler/267794   \n",
       "28           Juan Capurro          /juan-capurro/profil/spieler/274951   \n",
       "29        Fermín Antonini       /fermin-antonini/profil/spieler/433926   \n",
       "31              Maxi Meza             /maxi-meza/profil/spieler/282476   \n",
       "32          Conan Ledesma         /conan-ledesma/profil/spieler/284342   \n",
       "33      Gonzalo Berterame     /gonzalo-berterame/profil/spieler/697651   \n",
       "34         Valentín Viola        /valentin-viola/profil/spieler/150568   \n",
       "35           Walter Acuña          /walter-acuna/profil/spieler/267409   \n",
       "36          Nicolás Figal         /nicolas-figal/profil/spieler/334055   \n",
       "37         Joaquín Varela        /joaquin-varela/profil/spieler/553421   \n",
       "42        Nicolás Giménez       /nicolas-gimenez/profil/spieler/364946   \n",
       "44           Juan Pintado          /juan-pintado/profil/spieler/410456   \n",
       "46       Alexis Messidoro      /alexis-messidoro/profil/spieler/417634   \n",
       "56          Juan Brunetta         /juan-brunetta/profil/spieler/466268   \n",
       "57         Emmanuel Ojeda        /emmanuel-ojeda/profil/spieler/471657   \n",
       "65           Enzo Cabrera          /enzo-cabrera/profil/spieler/538527   \n",
       "67           Ariel Kippes          /ariel-kippes/profil/spieler/539162   \n",
       "77      Javier Altamirano     /javier-altamirano/profil/spieler/567630   \n",
       "79         Agustín Ocampo        /agustin-ocampo/profil/spieler/583822   \n",
       "80        Nemanja Micevic       /nemanja-micevic/profil/spieler/599345   \n",
       "83         Andrés Herrera        /andres-herrera/profil/spieler/621369   \n",
       "109       Ayrton Portillo       /ayrton-portillo/profil/spieler/841207   \n",
       "111         Jonatan Gómez          /jonatan-gomez/profil/spieler/84377   \n",
       "114         Tobías Medina         /tobias-medina/profil/spieler/856592   \n",
       "116         Agustín Bravo         /agustin-bravo/profil/spieler/868503   \n",
       "118      Ignacio Malcorra       /ignacio-malcorra/profil/spieler/87518   \n",
       "120       Baltasar Barcia       /baltasar-barcia/profil/spieler/891569   \n",
       "125           Iván Valdez           /ivan-valdez/profil/spieler/982298   \n",
       "126        Lucas Faggioli        /lucas-faggioli/profil/spieler/985003   \n",
       "127    Francisco Petrasso    /francisco-petrasso/profil/spieler/985683   \n",
       "129           Pablo Monje           /pablo-monje/profil/spieler/992605   \n",
       "130        Tomás Palacios        /tomas-palacios/profil/spieler/993645   \n",
       "131            Brian Lluy             /brian-lluy/profil/spieler/99691   \n",
       "\n",
       "     player_id  fbref_id  age                              nationality  \\\n",
       "0       220751  ba0f7e5f   30                            ['Argentina']   \n",
       "1       224669  9f0f5d15   26                                 ['Perú']   \n",
       "2       267393  91e7fc9a   31                  ['Argentina', 'Italia']   \n",
       "3        87360  56d59ae0   31                ['Paraguay', 'Argentina']   \n",
       "4       571083  68a38211   24                                ['Chile']   \n",
       "5       651854  0fab7750   25                              ['Uruguay']   \n",
       "6       971557  9c4136a3   28                            ['Argentina']   \n",
       "7       341298  2271da97   32                            ['Argentina']   \n",
       "8       431190  9fb45456   24                    ['Uruguay', 'Italia']   \n",
       "9       440006  9438188a   24                            ['Argentina']   \n",
       "10       30687  f99f37fc   35                            ['Argentina']   \n",
       "11      340164  890901f1   27                            ['Argentina']   \n",
       "12      357424  86f36018   26                            ['Argentina']   \n",
       "13      552629  320323af   23                            ['Argentina']   \n",
       "14      745925  3dff7ccb   25                            ['Argentina']   \n",
       "15      357338  55d7093b   29                            ['Argentina']   \n",
       "16      182108  42a833ab   28                             ['Colombia']   \n",
       "17      415550  eb823875   25                              ['Uruguay']   \n",
       "18      216240  4cee5954   26                    ['Uruguay', 'España']   \n",
       "19      493001  4ded8d0a   26                            ['Argentina']   \n",
       "20      549603  c0f00b37   24                            ['Argentina']   \n",
       "21       55142  868c0f75   39                  ['Argentina', 'Italia']   \n",
       "22      533569  13718190   25                            ['Argentina']   \n",
       "23      633041  f0770e9e   24                            ['Argentina']   \n",
       "24       26443  816fd91c   38                  ['Argentina', 'Italia']   \n",
       "25      225819  01699656   29                            ['Argentina']   \n",
       "26      343361  cb82dcc7   29                            ['Argentina']   \n",
       "27      267794  54ce6488   30                             ['Paraguay']   \n",
       "28      274951  ea96ba15   26                            ['Argentina']   \n",
       "29      433926  09dab107   26                  ['Argentina', 'Italia']   \n",
       "31      282476  e5e15e0a   31                            ['Argentina']   \n",
       "32      284342  6c4776b1   28                  ['Argentina', 'Italia']   \n",
       "33      697651  2d0f8ef7   26                            ['Argentina']   \n",
       "34      150568  a2a0757a   29                            ['Argentina']   \n",
       "35      267409  15741f49   32                            ['Argentina']   \n",
       "36      334055  91e44066   27                            ['Argentina']   \n",
       "37      553421  1a3094fc   25                            ['Argentina']   \n",
       "42      364946  e3cfbfc5   25  ['Argentina', 'Emiratos Árabes Unidos']   \n",
       "44      410456  ba31fd7e   26                              ['Uruguay']   \n",
       "46      417634  b8a4fcf3   24                            ['Argentina']   \n",
       "56      466268  d60099bc   26                  ['Argentina', 'Italia']   \n",
       "57      471657  ab874ea3   24                            ['Argentina']   \n",
       "65      538527  488ed820   24                            ['Argentina']   \n",
       "67      539162  2a42d73c   27                            ['Argentina']   \n",
       "77      567630  334e5b0f   23                                ['Chile']   \n",
       "79      583822  df0058c1   25                              ['Uruguay']   \n",
       "80      599345  95c772dd   23                               ['Serbia']   \n",
       "83      621369  460cfb5b   23                            ['Argentina']   \n",
       "109     841207  a1f80904   23                            ['Argentina']   \n",
       "111      84377  c911d311   33                            ['Argentina']   \n",
       "114     856592  a2660293   20                            ['Argentina']   \n",
       "116     868503  6159b1e9   22                            ['Argentina']   \n",
       "118      87518  90a0bb3b   33                            ['Argentina']   \n",
       "120     891569  a35ee3a5   21                              ['Uruguay']   \n",
       "125     982298  93949d6e   28                             ['Paraguay']   \n",
       "126     985003  af506675   26                            ['Argentina']   \n",
       "127     985683  c6a9b5eb   22                            ['Argentina']   \n",
       "129     992605  37077a8b   26                            ['Argentina']   \n",
       "130     993645  404101f9   21                            ['Argentina']   \n",
       "131      99691  47692488   32                  ['Argentina', 'Italia']   \n",
       "\n",
       "     comunitario  extranjero              position  transfer_fee  ...  \\\n",
       "0              0           0       Defensa central             0  ...   \n",
       "1              0           1                Pivote             0  ...   \n",
       "2              1           0     Extremo izquierdo             0  ...   \n",
       "3              0           0       Defensa central             0  ...   \n",
       "4              0           1     Lateral izquierdo             0  ...   \n",
       "5              0           1       Defensa central             0  ...   \n",
       "6              0           0      Delantero centro             0  ...   \n",
       "7              0           0      Delantero centro             0  ...   \n",
       "8              1           1                Pivote             0  ...   \n",
       "9              0           0     Extremo izquierdo             0  ...   \n",
       "10             0           0  Mediocentro ofensivo             0  ...   \n",
       "11             0           0      Delantero centro             0  ...   \n",
       "12             0           0     Extremo izquierdo             0  ...   \n",
       "13             0           0       Defensa central             0  ...   \n",
       "14             0           0               Portero             0  ...   \n",
       "15             0           0       Defensa central             0  ...   \n",
       "16             0           1                Pivote       1300000  ...   \n",
       "17             0           1      Delantero centro             0  ...   \n",
       "18             1           1     Lateral izquierdo       2000000  ...   \n",
       "19             0           0      Delantero centro             0  ...   \n",
       "20             0           0    Interior izquierdo             0  ...   \n",
       "21             1           0               Portero             0  ...   \n",
       "22             0           0     Lateral izquierdo             0  ...   \n",
       "23             0           0       Extremo derecho             0  ...   \n",
       "24             1           0    Interior izquierdo             0  ...   \n",
       "25             0           0     Extremo izquierdo             0  ...   \n",
       "26             0           0           Mediocentro             0  ...   \n",
       "27             0           1       Defensa central             0  ...   \n",
       "28             0           0           Mediocentro             0  ...   \n",
       "29             1           0                Pivote             0  ...   \n",
       "31             0           0       Extremo derecho       1800000  ...   \n",
       "32             1           0               Portero       1800000  ...   \n",
       "33             0           0  Mediocentro ofensivo             0  ...   \n",
       "34             0           0     Extremo izquierdo             0  ...   \n",
       "35             0           0  Mediocentro ofensivo             0  ...   \n",
       "36             0           0       Defensa central       2360000  ...   \n",
       "37             0           0       Defensa central             0  ...   \n",
       "42             0           0  Mediocentro ofensivo       2050000  ...   \n",
       "44             0           1       Lateral derecho        365000  ...   \n",
       "46             0           0           Mediocentro             0  ...   \n",
       "56             1           0  Mediocentro ofensivo       2350000  ...   \n",
       "57             0           0                Pivote        373000  ...   \n",
       "65             0           0      Delantero centro        160000  ...   \n",
       "67             0           0       Defensa central             0  ...   \n",
       "77             0           1  Mediocentro ofensivo        918000  ...   \n",
       "79             0           1     Extremo izquierdo        295000  ...   \n",
       "80             0           1       Defensa central        300000  ...   \n",
       "83             0           0       Lateral derecho       2200000  ...   \n",
       "109            0           0       Extremo derecho        276000  ...   \n",
       "111            0           0  Mediocentro ofensivo        461000  ...   \n",
       "114            0           0     Extremo izquierdo       1100000  ...   \n",
       "116            0           0       Defensa central        913000  ...   \n",
       "118            0           0  Mediocentro ofensivo             0  ...   \n",
       "120            0           1                Pivote        460000  ...   \n",
       "125            0           1            Mediapunta        109000  ...   \n",
       "126            0           0       Defensa central             0  ...   \n",
       "127            0           0       Defensa central        896000  ...   \n",
       "129            0           0           Mediocentro             0  ...   \n",
       "130            0           0       Defensa central       1340000  ...   \n",
       "131            1           0       Lateral derecho             0  ...   \n",
       "\n",
       "     Internacional_long_season_ant2 Local_long_season_ant2  \\\n",
       "0                               0.0                    0.0   \n",
       "1                               0.0                    0.0   \n",
       "2                               0.0                    0.0   \n",
       "3                               0.0                    0.0   \n",
       "4                               0.0                    0.0   \n",
       "5                               0.0                    0.0   \n",
       "6                               NaN                    NaN   \n",
       "7                               0.0                    0.0   \n",
       "8                               0.0                    0.0   \n",
       "9                               0.0                    0.0   \n",
       "10                              0.0                    0.0   \n",
       "11                              0.0                    0.0   \n",
       "12                              0.0                    0.0   \n",
       "13                              0.0                    0.0   \n",
       "14                              NaN                    NaN   \n",
       "15                              0.0                    0.0   \n",
       "16                              0.0                    0.0   \n",
       "17                              0.0                    0.0   \n",
       "18                              0.0                    0.0   \n",
       "19                              0.0                    0.0   \n",
       "20                              0.0                    0.0   \n",
       "21                              0.0                    0.0   \n",
       "22                              0.0                    0.0   \n",
       "23                              0.0                    0.0   \n",
       "24                              0.0                    0.0   \n",
       "25                              0.0                    0.0   \n",
       "26                              0.0                    0.0   \n",
       "27                              0.0                    0.0   \n",
       "28                              0.0                    0.0   \n",
       "29                              0.0                    0.0   \n",
       "31                              0.0                    0.0   \n",
       "32                              0.0                    0.0   \n",
       "33                              0.0                    0.0   \n",
       "34                              0.0                    0.0   \n",
       "35                              0.0                    0.0   \n",
       "36                              0.0                    0.0   \n",
       "37                              0.0                    0.0   \n",
       "42                              0.0                    0.0   \n",
       "44                              0.0                    0.0   \n",
       "46                              0.0                    0.0   \n",
       "56                              0.0                    0.0   \n",
       "57                              0.0                    0.0   \n",
       "65                              0.0                    0.0   \n",
       "67                              0.0                    0.0   \n",
       "77                              0.0                    0.0   \n",
       "79                              0.0                    0.0   \n",
       "80                              0.0                    0.0   \n",
       "83                              0.0                    0.0   \n",
       "109                             0.0                    0.0   \n",
       "111                             0.0                    0.0   \n",
       "114                             NaN                    NaN   \n",
       "116                             0.0                    0.0   \n",
       "118                             0.0                    0.0   \n",
       "120                             NaN                    NaN   \n",
       "125                             NaN                    NaN   \n",
       "126                             NaN                    NaN   \n",
       "127                             NaN                    NaN   \n",
       "129                             NaN                    NaN   \n",
       "130                             0.0                    0.0   \n",
       "131                             0.0                    0.0   \n",
       "\n",
       "                                     Club_playing_ant2  id_club_playing_ant2  \\\n",
       "0                                         ['CA Tigre']             ['11831']   \n",
       "1                                ['Club Alianza Lima']               ['184']   \n",
       "2    ['Club de Gimnasia y Esgrima La Plata', 'FC Ju...     ['1106', '49283']   \n",
       "3                                     ['Club Guaraní']             ['11855']   \n",
       "4                                 ['CDP Curicó Unido']             ['19027']   \n",
       "5                              ['Jaguares de Córdoba']             ['39252']   \n",
       "6                                                  NaN                   NaN   \n",
       "7                                     ['Club León FC']              ['4941']   \n",
       "8                                 ['CA Independiente']              ['1234']   \n",
       "9                      ['AA Estudiantes (Río Cuarto)']             ['14602']   \n",
       "10                                ['New York City FC']             ['40058']   \n",
       "11             ['Club de Gimnasia y Esgrima La Plata']              ['1106']   \n",
       "12   ['Club de Gimnasia y Esgrima La Plata', 'CA Pa...     ['1106', '19806']   \n",
       "13   ['CD Godoy Cruz Antonio Tomba', 'CA Vélez Sars...     ['12574', '1029']   \n",
       "14                                                 NaN                   NaN   \n",
       "15                        ['FC Voluntari', 'CD Morón']    ['40843', '12458']   \n",
       "16                          ['Barcelona SC Guayaquil']              ['3523']   \n",
       "17                     ['FC Winterthur', 'FC Lucerna']        ['242', '434']   \n",
       "18                                ['RC Celta de Vigo']               ['940']   \n",
       "19              ['CA Unión (Santa Fe)', 'Racing Club']      ['7097', '1444']   \n",
       "20                              ['CA Rosario Central']              ['1418']   \n",
       "21                            ['Atlético de San Luis']             ['40188']   \n",
       "22                              ['Club Villa Dálmine']              ['8356']   \n",
       "23                                      ['CA Atlanta']              ['8057']   \n",
       "24                          ['CSD Defensa y Justicia']              ['2402']   \n",
       "25                            ['Atlético de San Luis']             ['40188']   \n",
       "26                        ['CA San Martín (San Juan)']             ['10511']   \n",
       "27                        ['CA Central Córdoba (SdE)']             ['31284']   \n",
       "28                               ['CA Chaco For Ever']             ['12681']   \n",
       "29                            ['CA Sarmiento (Junín)']             ['12454']   \n",
       "31                                    ['CF Monterrey']              ['2407']   \n",
       "32                              ['CA Rosario Central']              ['1418']   \n",
       "33                        ['CA San Martín (San Juan)']             ['10511']   \n",
       "34                         ['CA San Martín (Tucumán)']             ['12709']   \n",
       "35                                      ['CD Riestra']             ['19775']   \n",
       "36                                ['CA Independiente']              ['1234']   \n",
       "37                         ['CA San Martín (Tucumán)']             ['12709']   \n",
       "42           ['CA San Martín (Tucumán)', 'Arsenal FC']     ['12709', '4673']   \n",
       "44                                     ['CA Juventud']             ['17428']   \n",
       "46                                  ['Cerro Largo FC']             ['20189']   \n",
       "56                                           ['Parma']               ['130']   \n",
       "57                              ['CA Rosario Central']              ['1418']   \n",
       "65                                   ['Birkirkara FC']             ['10262']   \n",
       "67                            ['CA Sarmiento (Junín)']             ['12454']   \n",
       "77                                   ['CD Huachipato']              ['6368']   \n",
       "79   ['Deportes Antofagasta', 'Liverpool FC Montevi...    ['17222', '10663']   \n",
       "80                               ['FK Mladost Lucani']              ['6622']   \n",
       "83                       ['CA San Lorenzo de Almagro']              ['1775']   \n",
       "109                       ['AMSD Atlético de Rafaela']             ['10233']   \n",
       "111                           ['Sport Club do Recife']              ['8718']   \n",
       "114                                                NaN                   NaN   \n",
       "116                       ['AMSD Atlético de Rafaela']             ['10233']   \n",
       "118                                    ['Pumas UNAM ']              ['7633']   \n",
       "120                                                NaN                   NaN   \n",
       "125                                                NaN                   NaN   \n",
       "126                                                NaN                   NaN   \n",
       "127                                                NaN                   NaN   \n",
       "129                                                NaN                   NaN   \n",
       "130                                    ['CA Talleres']              ['3938']   \n",
       "131                                     ['Quilmes AC']              ['1826']   \n",
       "\n",
       "                        competition_season_tuples_ant2  \\\n",
       "0    {'Local': [('Prim. Nacional - Playoff', '2021'...   \n",
       "1    {'Internacional': [('Libertadores', '2019')], ...   \n",
       "2    {'Local': [('Copa de la Liga - Playoffs', '202...   \n",
       "3    {'Local': [('Primera División Clausura', '2019...   \n",
       "4            {'Local': [('Primera División', '2020')]}   \n",
       "5    {'Local': [('Liga Dimayor I', '2020'), ('Copa ...   \n",
       "6                                                  NaN   \n",
       "7    {'Internacional': [('CONCACAF Champions Cup', ...   \n",
       "8    {'Internacional': [('Sudamericana', '2020')], ...   \n",
       "9    {'Local': [('Transición Primera Nacional', '20...   \n",
       "10   {'Local': [('MLS Cup Playoffs', '2020'), ('MLS...   \n",
       "11   {'Local': [('Liga Profesional', '2021'), ('Cop...   \n",
       "12   {'Local': [('Liga Profesional', '2019'), ('Cop...   \n",
       "13   {'Internacional': [('Libertadores', '2019')], ...   \n",
       "14                                                 NaN   \n",
       "15   {'Local': [('Playoff Conference League', '22/2...   \n",
       "16   {'Internacional': [('Libertadores', '2019')], ...   \n",
       "17   {'Local': [('Super League', '22/23'), ('Swiss ...   \n",
       "18   {'Local': [('Copa del Rey', '19/20'), ('LaLiga...   \n",
       "19   {'Internacional': [('Sudamericana', '2019')], ...   \n",
       "20   {'Internacional': [('Libertadores', '2019')], ...   \n",
       "21   {'Local': [('Liguilla Clausura', '21/22'), ('L...   \n",
       "22           {'Local': [('Primera Nacional', '2021')]}   \n",
       "23   {'Local': [('Prim. Nacional - Playoff', '2020'...   \n",
       "24           {'Local': [('Liga Profesional', '2019')]}   \n",
       "25   {'Local': [('Liga MX Apertura', '19/20'), ('Co...   \n",
       "26           {'Local': [('Primera Nacional', '2021')]}   \n",
       "27   {'Local': [('Primera Nacional', '2019'), ('Cop...   \n",
       "28           {'Local': [('Torneo Federal A', '2019')]}   \n",
       "29           {'Local': [('Liga Profesional', '2021')]}   \n",
       "31   {'Local': [('Liguilla Clausura', '22/23'), ('L...   \n",
       "32   {'Internacional': [('Libertadores', '2019')], ...   \n",
       "33   {'Local': [('Transición Primera Nacional', '20...   \n",
       "34   {'Local': [('Liga Profesional', '2019'), ('Cop...   \n",
       "35   {'Local': [('Prim. Nacional - Playoff', '2022'...   \n",
       "36   {'Internacional': [('Sudamericana', '2019')], ...   \n",
       "37   {'Local': [('Transición Primera Nacional', '20...   \n",
       "42   {'Local': [('Liga Profesional', '2019'), ('Cop...   \n",
       "44            {'Local': [('Liga de Ascenso', '2021')]}   \n",
       "46   {'Local': [('Primera División Apertura', '2019...   \n",
       "56   {'Local': [('Serie B', '21/22'), ('Copa Italia...   \n",
       "57   {'Local': [('Copa Maradona - Compl.', '2020'),...   \n",
       "65   {'Local': [('Premier League', '22/23'), ('Malt...   \n",
       "67   {'Local': [('Primera Nacional', '2019'), ('Cop...   \n",
       "77   {'Internacional': [('Sudamericana', '2021')], ...   \n",
       "79   {'Internacional': [('Libertadores', '2021')], ...   \n",
       "80   {'Local': [('Super liga Srbije', '20/21'), ('K...   \n",
       "83   {'Internacional': [('Libertadores', '2019')], ...   \n",
       "109          {'Local': [('Primera Nacional', '2022')]}   \n",
       "111  {'Local': [('Série A', '2020'), ('Copa do Nord...   \n",
       "114                                                NaN   \n",
       "116          {'Local': [('Primera Nacional', '2021')]}   \n",
       "118  {'Local': [('Liga MX Clausura', '19/20'), ('Li...   \n",
       "120                                                NaN   \n",
       "125                                                NaN   \n",
       "126                                                NaN   \n",
       "127                                                NaN   \n",
       "129                                                NaN   \n",
       "130           {'Local': [('Copa de la Liga', '2022')]}   \n",
       "131          {'Local': [('Primera Nacional', '2019')]}   \n",
       "\n",
       "    Internacional_Goals Conceded_ant2 Internacional_Clean Sheets_ant2  \\\n",
       "0                                 NaN                             NaN   \n",
       "1                                 NaN                             NaN   \n",
       "2                                 NaN                             NaN   \n",
       "3                                 NaN                             NaN   \n",
       "4                                 NaN                             NaN   \n",
       "5                                 NaN                             NaN   \n",
       "6                                 NaN                             NaN   \n",
       "7                                 NaN                             NaN   \n",
       "8                                 NaN                             NaN   \n",
       "9                                 NaN                             NaN   \n",
       "10                                NaN                             NaN   \n",
       "11                                NaN                             NaN   \n",
       "12                                NaN                             NaN   \n",
       "13                                NaN                             NaN   \n",
       "14                                NaN                             NaN   \n",
       "15                                NaN                             NaN   \n",
       "16                                NaN                             NaN   \n",
       "17                                NaN                             NaN   \n",
       "18                                NaN                             NaN   \n",
       "19                                NaN                             NaN   \n",
       "20                                NaN                             NaN   \n",
       "21                                0.0                             0.0   \n",
       "22                                NaN                             NaN   \n",
       "23                                NaN                             NaN   \n",
       "24                                NaN                             NaN   \n",
       "25                                NaN                             NaN   \n",
       "26                                NaN                             NaN   \n",
       "27                                NaN                             NaN   \n",
       "28                                NaN                             NaN   \n",
       "29                                NaN                             NaN   \n",
       "31                                NaN                             NaN   \n",
       "32                               10.0                             0.0   \n",
       "33                                NaN                             NaN   \n",
       "34                                NaN                             NaN   \n",
       "35                                NaN                             NaN   \n",
       "36                                NaN                             NaN   \n",
       "37                                NaN                             NaN   \n",
       "42                                NaN                             NaN   \n",
       "44                                NaN                             NaN   \n",
       "46                                NaN                             NaN   \n",
       "56                                NaN                             NaN   \n",
       "57                                NaN                             NaN   \n",
       "65                                NaN                             NaN   \n",
       "67                                NaN                             NaN   \n",
       "77                                NaN                             NaN   \n",
       "79                                NaN                             NaN   \n",
       "80                                NaN                             NaN   \n",
       "83                                NaN                             NaN   \n",
       "109                               NaN                             NaN   \n",
       "111                               NaN                             NaN   \n",
       "114                               NaN                             NaN   \n",
       "116                               NaN                             NaN   \n",
       "118                               NaN                             NaN   \n",
       "120                               NaN                             NaN   \n",
       "125                               NaN                             NaN   \n",
       "126                               NaN                             NaN   \n",
       "127                               NaN                             NaN   \n",
       "129                               NaN                             NaN   \n",
       "130                               NaN                             NaN   \n",
       "131                               NaN                             NaN   \n",
       "\n",
       "    Local_Goals Conceded_ant2  Local_Clean Sheets_ant2 season_stats  \n",
       "0                         NaN                      NaN         2022  \n",
       "1                         NaN                      NaN         2020  \n",
       "2                         NaN                      NaN         2021  \n",
       "3                         NaN                      NaN         2020  \n",
       "4                         NaN                      NaN         2021  \n",
       "5                         NaN                      NaN         2021  \n",
       "6                         NaN                      NaN         2022  \n",
       "7                         NaN                      NaN         2020  \n",
       "8                         NaN                      NaN         2021  \n",
       "9                         NaN                      NaN         2021  \n",
       "10                        NaN                      NaN         2021  \n",
       "11                        NaN                      NaN         2022  \n",
       "12                        NaN                      NaN         2020  \n",
       "13                        NaN                      NaN         2020  \n",
       "14                        NaN                      NaN         2020  \n",
       "15                        NaN                      NaN         2023  \n",
       "16                        NaN                      NaN         2020  \n",
       "17                        NaN                      NaN         2023  \n",
       "18                        NaN                      NaN         2020  \n",
       "19                        NaN                      NaN         2020  \n",
       "20                        NaN                      NaN         2020  \n",
       "21                       50.0                      9.0         2022  \n",
       "22                        NaN                      NaN         2022  \n",
       "23                        NaN                      NaN         2021  \n",
       "24                        NaN                      NaN         2020  \n",
       "25                        NaN                      NaN         2020  \n",
       "26                        NaN                      NaN         2022  \n",
       "27                        NaN                      NaN         2020  \n",
       "28                        NaN                      NaN         2020  \n",
       "29                        NaN                      NaN         2022  \n",
       "31                        NaN                      NaN         2023  \n",
       "32                       29.0                     10.0         2020  \n",
       "33                        NaN                      NaN         2021  \n",
       "34                        NaN                      NaN         2020  \n",
       "35                        NaN                      NaN         2023  \n",
       "36                        NaN                      NaN         2020  \n",
       "37                        NaN                      NaN         2021  \n",
       "42                        NaN                      NaN         2020  \n",
       "44                        NaN                      NaN         2022  \n",
       "46                        NaN                      NaN         2020  \n",
       "56                        NaN                      NaN         2022  \n",
       "57                        NaN                      NaN         2021  \n",
       "65                        NaN                      NaN         2023  \n",
       "67                        NaN                      NaN         2020  \n",
       "77                        NaN                      NaN         2022  \n",
       "79                        NaN                      NaN         2022  \n",
       "80                        NaN                      NaN         2021  \n",
       "83                        NaN                      NaN         2020  \n",
       "109                       NaN                      NaN         2023  \n",
       "111                       NaN                      NaN         2021  \n",
       "114                       NaN                      NaN         2023  \n",
       "116                       NaN                      NaN         2022  \n",
       "118                       NaN                      NaN         2020  \n",
       "120                       NaN                      NaN         2021  \n",
       "125                       NaN                      NaN         2022  \n",
       "126                       NaN                      NaN         2022  \n",
       "127                       NaN                      NaN         2023  \n",
       "129                       NaN                      NaN         2022  \n",
       "130                       NaN                      NaN         2023  \n",
       "131                       NaN                      NaN         2020  \n",
       "\n",
       "[60 rows x 173 columns]"
      ]
     },
     "execution_count": 12,
     "metadata": {},
     "output_type": "execute_result"
    }
   ],
   "source": [
    "df_excel = pd.read_excel(EXCEL_FILE)\n",
    "\n",
    "df_filtered = df_excel[df_excel['fbref_id'].notna()]\n",
    "df_filtered"
   ]
  },
  {
   "cell_type": "code",
   "execution_count": 10,
   "id": "aa526a52-f803-41ff-a881-a1c83f9bf070",
   "metadata": {},
   "outputs": [
    {
     "name": "stdout",
     "output_type": "stream",
     "text": [
      "12495\n"
     ]
    }
   ],
   "source": [
    "with open('player_id_mapping.json', 'r') as f:\n",
    "    player_id_mapping = json.load(f)\n",
    "player_ids = player_id_mapping['players']\n",
    "print(len(player_ids))  # 12413 "
   ]
  },
  {
   "cell_type": "code",
   "execution_count": 11,
   "id": "fc5faff8-fdb0-4be8-8210-5bacbf719033",
   "metadata": {},
   "outputs": [
    {
     "name": "stdout",
     "output_type": "stream",
     "text": [
      "1768\n"
     ]
    }
   ],
   "source": [
    "\n",
    "player_club_mapping = player_id_mapping['scraped_combinations']\n",
    "print(len(player_club_mapping))"
   ]
  },
  {
   "cell_type": "code",
   "execution_count": 12,
   "id": "adafda4a-9d48-4f27-b0a7-f5e7f3d859b2",
   "metadata": {},
   "outputs": [
    {
     "ename": "NameError",
     "evalue": "name 'unmatched' is not defined",
     "output_type": "error",
     "traceback": [
      "\u001b[1;31m---------------------------------------------------------------------------\u001b[0m",
      "\u001b[1;31mNameError\u001b[0m                                 Traceback (most recent call last)",
      "Cell \u001b[1;32mIn[12], line 7\u001b[0m\n\u001b[0;32m      4\u001b[0m player_ids \u001b[38;5;241m=\u001b[39m \u001b[38;5;28mset\u001b[39m(player_id_mapping[\u001b[38;5;124m'\u001b[39m\u001b[38;5;124mplayers\u001b[39m\u001b[38;5;124m'\u001b[39m]\u001b[38;5;241m.\u001b[39mkeys())  \u001b[38;5;66;03m# Claves del JSON como conjunto\u001b[39;00m\n\u001b[0;32m      6\u001b[0m \u001b[38;5;66;03m# Filtrar el DataFrame, manteniendo solo las filas que no están en el JSON\u001b[39;00m\n\u001b[1;32m----> 7\u001b[0m filtered_unmatched \u001b[38;5;241m=\u001b[39m \u001b[43munmatched\u001b[49m[\u001b[38;5;241m~\u001b[39munmatched[\u001b[38;5;124m'\u001b[39m\u001b[38;5;124mid_transfermarkt\u001b[39m\u001b[38;5;124m'\u001b[39m]\u001b[38;5;241m.\u001b[39mastype(\u001b[38;5;28mstr\u001b[39m)\u001b[38;5;241m.\u001b[39misin(player_ids)]\n\u001b[0;32m      9\u001b[0m \u001b[38;5;66;03m# Sobrescribir el archivo CSV con las filas filtradas\u001b[39;00m\n\u001b[0;32m     10\u001b[0m filtered_unmatched\u001b[38;5;241m.\u001b[39mto_csv(UNMATCHED_PLAYERS_FILE, index\u001b[38;5;241m=\u001b[39m\u001b[38;5;28;01mFalse\u001b[39;00m)\n",
      "\u001b[1;31mNameError\u001b[0m: name 'unmatched' is not defined"
     ]
    }
   ],
   "source": [
    "# Eliminacion de unmmatched de las claves agregadas\n",
    "\n",
    "# Obtener las claves de jugadores ya presentes en el JSON\n",
    "player_ids = set(player_id_mapping['players'].keys())  # Claves del JSON como conjunto\n",
    "\n",
    "# Filtrar el DataFrame, manteniendo solo las filas que no están en el JSON\n",
    "filtered_unmatched = unmatched[~unmatched['id_transfermarkt'].astype(str).isin(player_ids)]\n",
    "\n",
    "# Sobrescribir el archivo CSV con las filas filtradas\n",
    "filtered_unmatched.to_csv(UNMATCHED_PLAYERS_FILE, index=False)\n",
    "\n",
    "print(f\"Filtrado completado. Se eliminaron {len(unmatched) - len(filtered_unmatched)} filas.\")"
   ]
  },
  {
   "cell_type": "code",
   "execution_count": null,
   "id": "0990f3e0-f164-420e-92df-52ab20956c53",
   "metadata": {},
   "outputs": [],
   "source": []
  }
 ],
 "metadata": {
  "kernelspec": {
   "display_name": "Python 3 (ipykernel)",
   "language": "python",
   "name": "python3"
  },
  "language_info": {
   "codemirror_mode": {
    "name": "ipython",
    "version": 3
   },
   "file_extension": ".py",
   "mimetype": "text/x-python",
   "name": "python",
   "nbconvert_exporter": "python",
   "pygments_lexer": "ipython3",
   "version": "3.9.5"
  },
  "widgets": {
   "application/vnd.jupyter.widget-state+json": {
    "state": {},
    "version_major": 2,
    "version_minor": 0
   }
  }
 },
 "nbformat": 4,
 "nbformat_minor": 5
}
