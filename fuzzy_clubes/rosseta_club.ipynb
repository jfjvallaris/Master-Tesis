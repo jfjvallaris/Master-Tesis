{
 "cells": [
  {
   "cell_type": "code",
   "execution_count": 1,
   "id": "fb0aa956-8432-408c-9700-7df3ea93a9ef",
   "metadata": {},
   "outputs": [],
   "source": [
    "import requests\n",
    "from bs4 import BeautifulSoup\n",
    "from fuzzywuzzy import fuzz, process\n",
    "import json\n",
    "import logging\n",
    "import time\n",
    "import pandas as pd\n",
    "import os\n",
    "\n",
    "# Configuración de logging\n",
    "logging.basicConfig(\n",
    "    level=logging.INFO,\n",
    "    format='%(asctime)s - %(levelname)s - %(message)s',\n",
    "    handlers=[logging.StreamHandler()]\n",
    ")\n",
    "\n",
    "# Headers y función make_request\n",
    "request_headers = {\n",
    "    'user-agent': 'Mozilla/5.0 (Macintosh; Intel Mac OS X 10_15_7) AppleWebKit/537.36 (KHTML, like Gecko) Chrome/119.0.0.0 Safari/537.36',\n",
    "}\n"
   ]
  },
  {
   "cell_type": "code",
   "execution_count": 2,
   "id": "93e63765-1e8d-44f9-81ec-23a49b558034",
   "metadata": {},
   "outputs": [],
   "source": [
    "def make_request(url, retries=5, timeout=20, retry_delay=5):\n",
    "    for attempt in range(retries):\n",
    "        try:\n",
    "            response = requests.get(url, headers=request_headers, timeout=timeout)\n",
    "            response.raise_for_status()\n",
    "            return response\n",
    "        except (requests.exceptions.Timeout, requests.exceptions.ConnectionError):\n",
    "            logging.warning(f\"Intento {attempt + 1}: Error de conexión o tiempo agotado. Reintentando...\")\n",
    "        except requests.exceptions.HTTPError as e:\n",
    "            logging.warning(f\"HTTPError {e.response.status_code} para {url}. Reintentando...\")\n",
    "        time.sleep(retry_delay)\n",
    "    logging.error(f\"No se pudo obtener respuesta de {url} después de {retries} intentos.\")\n",
    "    return None"
   ]
  },
  {
   "cell_type": "code",
   "execution_count": 3,
   "id": "ebc81306-fc6e-46ce-a12b-7767cd380fe4",
   "metadata": {},
   "outputs": [],
   "source": [
    "def scrape_transfermarkt_league(league_id, base_year, hemisphere=\"north\"):\n",
    "    \"\"\"\n",
    "    Scrapea clubes desde Transfermarkt para una liga y temporada específicas.\n",
    "    \"\"\"\n",
    "    tm_year = base_year if hemisphere == \"north\" else base_year - 1\n",
    "    url = f\"https://www.transfermarkt.es/-/startseite/wettbewerb/{league_id}/plus/?saison_id={tm_year}\"\n",
    "\n",
    "    logging.info(f\"Scrapeando Transfermarkt: {url}\")\n",
    "    response = make_request(url)\n",
    "    if response is None:\n",
    "        return []\n",
    "\n",
    "    soup = BeautifulSoup(response.content, \"html.parser\")\n",
    "    tbody_league = soup.find_all('span')\n",
    "    country_league = tbody_league[0].find('a').text.strip()\n",
    "    \n",
    "    tbody = soup.find_all('table')[-1]\n",
    "    if not tbody:\n",
    "        logging.warning(\"No se encontró la tabla de equipos en Transfermarkt.\")\n",
    "        return []\n",
    "\n",
    "    clubs = []\n",
    "    for row in tbody.find_all(\"tr\"):\n",
    "        team_cell = row.find('td', class_=\"no-border-links hauptlink\")\n",
    "        if not team_cell:\n",
    "            continue\n",
    "\n",
    "        link = team_cell.find('a')\n",
    "        if not link:\n",
    "            continue\n",
    "\n",
    "        team_name = link.text.strip()\n",
    "        team_id = link['href'].split('/')[4]\n",
    "        clubs.append({'id': team_id, 'name': team_name, 'liga_pais':country_league})\n",
    "\n",
    "    return clubs"
   ]
  },
  {
   "cell_type": "raw",
   "id": "b007e72f-484a-44bb-ad8f-46c8fdd51e43",
   "metadata": {},
   "source": [
    "base_year = 2023\n",
    "hemisphere = \"south\"\n",
    "league_id = 'AR1N'\n",
    "\n",
    "tm_year = base_year if hemisphere == \"north\" else base_year - 1\n",
    "url = f\"https://www.transfermarkt.es/-/startseite/wettbewerb/{league_id}/plus/?saison_id={tm_year}\"\n",
    "\n",
    "logging.info(f\"Scrapeando Transfermarkt: {url}\")\n",
    "response = make_request(url)\n",
    "\n",
    "soup = BeautifulSoup(response.content, \"html.parser\")\n"
   ]
  },
  {
   "cell_type": "raw",
   "id": "48addf6d-9981-4d02-b4d6-b69945f7218d",
   "metadata": {},
   "source": [
    "tbody = soup.find_all('span')\n",
    "tbody[0].find('a').text.strip()\n",
    "# tbody"
   ]
  },
  {
   "cell_type": "raw",
   "id": "1d23b968-b322-4ad3-a9ec-578a695b534f",
   "metadata": {},
   "source": [
    "\n",
    "if not tbody:\n",
    "    logging.warning(\"No se encontró la tabla de equipos en Transfermarkt.\")\n",
    "    return []\n",
    "\n",
    "clubs = []\n",
    "for row in tbody.find_all(\"tr\"):\n",
    "    team_cell = row.find('td', class_=\"no-border-links hauptlink\")\n",
    "    if not team_cell:\n",
    "        continue\n",
    "\n",
    "    link = team_cell.find('a')\n",
    "    if not link:\n",
    "        continue\n",
    "\n",
    "    team_name = link.text.strip()\n",
    "    team_id = link['href'].split('/')[4]\n",
    "    clubs.append({'id': team_id, 'name': team_name})\n"
   ]
  },
  {
   "cell_type": "code",
   "execution_count": 4,
   "id": "c08902ce-f044-4157-9345-7a0a8a376170",
   "metadata": {},
   "outputs": [],
   "source": [
    "def scrape_fbref_league(league_id, base_year, hemisphere=\"north\"):\n",
    "    \"\"\"\n",
    "    Scrapea clubes desde FBRef para una liga y temporada específicas.\n",
    "    \"\"\"\n",
    "    fbref_season = f\"{base_year}-{base_year + 1}\" if hemisphere == \"north\" else str(base_year)\n",
    "    url = f\"https://fbref.com/en/comps/{league_id}/{fbref_season}/{fbref_season}-Stats\"\n",
    "\n",
    "    logging.info(f\"Scrapeando FBRef: {url}\")\n",
    "    response = make_request(url)\n",
    "    if response is None:\n",
    "        return []\n",
    "\n",
    "    soup = BeautifulSoup(response.content, \"html.parser\")\n",
    "    tbody = soup.select_one('table tbody')\n",
    "    if not tbody:\n",
    "        logging.warning(\"No se encontró la tabla de equipos en FBRef.\")\n",
    "        return []\n",
    "\n",
    "    clubs = []\n",
    "    for row in tbody.find_all(\"tr\"):\n",
    "        team_cell = row.find('td', {'data-stat': 'team'})\n",
    "        if not team_cell:\n",
    "            continue\n",
    "\n",
    "        link = team_cell.find('a')\n",
    "        if not link:\n",
    "            continue\n",
    "\n",
    "        team_name = link.text.strip()\n",
    "        team_id = link['href'].split('/')[3]\n",
    "        clubs.append({'id': team_id, 'name': team_name})\n",
    "\n",
    "    return clubs"
   ]
  },
  {
   "cell_type": "code",
   "execution_count": 5,
   "id": "03cf8afe-9e53-4524-90b9-02eda0ce0ab8",
   "metadata": {},
   "outputs": [],
   "source": [
    "def match_clubs(transfermarkt_clubs, fbref_clubs, threshold=100):\n",
    "    \"\"\"\n",
    "    Compara los clubes de Transfermarkt y FBRef utilizando fuzzy matching.\n",
    "    \"\"\"\n",
    "    matched_clubs = {}\n",
    "    unmatched_clubs = []\n",
    "\n",
    "    for tm_club in transfermarkt_clubs:\n",
    "        best_match = process.extractOne(\n",
    "            tm_club['name'],\n",
    "            [club['name'] for club in fbref_clubs],\n",
    "            scorer=fuzz.token_set_ratio\n",
    "        )\n",
    "\n",
    "        if best_match and best_match[1] >= threshold:\n",
    "            match = next(club for club in fbref_clubs if club['name'] == best_match[0])\n",
    "            matched_clubs[tm_club['id']] = {\n",
    "                'Club_Name': tm_club['name'],\n",
    "                'FBRef_name': match['name'],\n",
    "                'liga_pais': tm_club['liga_pais'],\n",
    "                'FBRef_id': match['id'],\n",
    "                'match_score': best_match[1]\n",
    "            }\n",
    "        else:\n",
    "            unmatched_clubs.append({\n",
    "                'id_transfermarkt': tm_club['id'],\n",
    "                'name_transfermarkt': tm_club['name'],\n",
    "                'best_match_name_fbref': best_match[0] if best_match else None,\n",
    "                'best_match_score': best_match[1] if best_match else None,\n",
    "                'liga_pais': tm_club['liga_pais']\n",
    "            })\n",
    "\n",
    "    return matched_clubs, unmatched_clubs\n",
    "\n",
    "def save_results(file_path, data):\n",
    "    \"\"\"\n",
    "    Guarda resultados acumulativos en JSON sin sobrescribir claves existentes.\n",
    "    También imprime cuántos clubes nuevos se agregaron.\n",
    "    \"\"\"\n",
    "    # Cargar datos existentes si el archivo ya existe\n",
    "    if os.path.exists(file_path):\n",
    "        with open(file_path, 'r') as f:\n",
    "            existing_data = json.load(f)\n",
    "    else:\n",
    "        existing_data = {}\n",
    "\n",
    "    # Contar claves antes de la actualización\n",
    "    initial_count = len(existing_data)\n",
    "\n",
    "    # Agregar solo claves nuevas\n",
    "    for key, value in data.items():\n",
    "        if key not in existing_data:\n",
    "            existing_data[key] = value\n",
    "\n",
    "    # Contar claves después de la actualización\n",
    "    final_count = len(existing_data)\n",
    "    new_count = final_count - initial_count\n",
    "\n",
    "    # Guardar resultados actualizados\n",
    "    with open(file_path, 'w') as f:\n",
    "        json.dump(existing_data, f, indent=4)\n",
    "\n",
    "    # Imprimir la cantidad de nuevos clubes añadidos\n",
    "    print(f\"Se agregaron {new_count} clubes nuevos al archivo '{file_path}'.\")\n",
    "\n",
    "\n",
    "\n",
    "def save_unmatched_to_csv(file_path, unmatched):\n",
    "    \"\"\"\n",
    "    Guarda los resultados no emparejados en un archivo CSV, conservando la mejor coincidencia.\n",
    "    \"\"\"\n",
    "    unmatched_df = pd.DataFrame(unmatched)\n",
    "\n",
    "    # Si el archivo ya existe, combinar los datos existentes con los nuevos\n",
    "    if os.path.exists(file_path):\n",
    "        existing = pd.read_csv(file_path)\n",
    "        combined = pd.concat([existing, unmatched_df], ignore_index=True)\n",
    "        unmatched_df = (\n",
    "            combined.sort_values('best_match_score', ascending=False)\n",
    "            .drop_duplicates(subset=['id_transfermarkt'], keep='first')\n",
    "        )\n",
    "    else:\n",
    "        unmatched_df = unmatched_df.drop_duplicates(subset=['id_transfermarkt'], keep='first')\n",
    "\n",
    "    # Guardar los datos actualizados en el archivo\n",
    "    unmatched_df.to_csv(file_path, index=False)"
   ]
  },
  {
   "cell_type": "raw",
   "id": "7c0ffc2b-722f-4746-a422-3589bb71673e",
   "metadata": {
    "scrolled": true
   },
   "source": [
    "fbref_clubs = scrape_fbref_league(9, 2023, 'north')\n",
    "fbref_clubs"
   ]
  },
  {
   "cell_type": "raw",
   "id": "b46c7d71-c4fd-4d1b-9f53-7b579281f2fd",
   "metadata": {
    "scrolled": true
   },
   "source": [
    "tm_clubs = scrape_transfermarkt_league('GB1', 2023, 'north')\n",
    "tm_clubs"
   ]
  },
  {
   "cell_type": "code",
   "execution_count": 21,
   "id": "bbdf9299-2d42-4870-afd0-3ef07701a3da",
   "metadata": {},
   "outputs": [
    {
     "name": "stderr",
     "output_type": "stream",
     "text": [
      "2024-12-02 10:08:55,118 - INFO - Scrapeando Transfermarkt: https://www.transfermarkt.es/-/startseite/wettbewerb/NL1/plus/?saison_id=2020\n",
      "2024-12-02 10:09:02,605 - INFO - Scrapeando FBRef: https://fbref.com/en/comps/23/2020-2021/2020-2021-Stats\n",
      "2024-12-02 10:09:09,416 - INFO - Scrapeando Transfermarkt: https://www.transfermarkt.es/-/startseite/wettbewerb/NL1/plus/?saison_id=2021\n"
     ]
    },
    {
     "name": "stdout",
     "output_type": "stream",
     "text": [
      "Se agregaron 18 clubes nuevos al archivo 'club_mapping_with_code.json'.\n"
     ]
    },
    {
     "name": "stderr",
     "output_type": "stream",
     "text": [
      "2024-12-02 10:09:17,925 - INFO - Scrapeando FBRef: https://fbref.com/en/comps/23/2021-2022/2021-2022-Stats\n",
      "2024-12-02 10:09:24,334 - INFO - Scrapeando Transfermarkt: https://www.transfermarkt.es/-/startseite/wettbewerb/NL1/plus/?saison_id=2022\n"
     ]
    },
    {
     "name": "stdout",
     "output_type": "stream",
     "text": [
      "Se agregaron 3 clubes nuevos al archivo 'club_mapping_with_code.json'.\n"
     ]
    },
    {
     "name": "stderr",
     "output_type": "stream",
     "text": [
      "2024-12-02 10:09:31,380 - INFO - Scrapeando FBRef: https://fbref.com/en/comps/23/2022-2023/2022-2023-Stats\n",
      "2024-12-02 10:09:39,342 - INFO - Scrapeando Transfermarkt: https://www.transfermarkt.es/-/startseite/wettbewerb/NL1/plus/?saison_id=2023\n"
     ]
    },
    {
     "name": "stdout",
     "output_type": "stream",
     "text": [
      "Se agregaron 2 clubes nuevos al archivo 'club_mapping_with_code.json'.\n"
     ]
    },
    {
     "name": "stderr",
     "output_type": "stream",
     "text": [
      "2024-12-02 10:09:41,022 - INFO - Scrapeando FBRef: https://fbref.com/en/comps/23/2023-2024/2023-2024-Stats\n",
      "2024-12-02 10:09:47,405 - INFO - Scrapeando Transfermarkt: https://www.transfermarkt.es/-/startseite/wettbewerb/NL1/plus/?saison_id=2024\n"
     ]
    },
    {
     "name": "stdout",
     "output_type": "stream",
     "text": [
      "Se agregaron 1 clubes nuevos al archivo 'club_mapping_with_code.json'.\n"
     ]
    },
    {
     "name": "stderr",
     "output_type": "stream",
     "text": [
      "2024-12-02 10:09:49,092 - INFO - Scrapeando FBRef: https://fbref.com/en/comps/23/2024-2025/2024-2025-Stats\n",
      "2024-12-02 10:09:57,652 - INFO - Scrapeando Transfermarkt: https://www.transfermarkt.es/-/startseite/wettbewerb/MLS1/plus/?saison_id=2020\n"
     ]
    },
    {
     "name": "stdout",
     "output_type": "stream",
     "text": [
      "Se agregaron 1 clubes nuevos al archivo 'club_mapping_with_code.json'.\n"
     ]
    },
    {
     "name": "stderr",
     "output_type": "stream",
     "text": [
      "2024-12-02 10:10:04,495 - INFO - Scrapeando FBRef: https://fbref.com/en/comps/22/2020-2021/2020-2021-Stats\n",
      "2024-12-02 10:10:14,035 - INFO - Scrapeando Transfermarkt: https://www.transfermarkt.es/-/startseite/wettbewerb/MLS1/plus/?saison_id=2021\n"
     ]
    },
    {
     "name": "stdout",
     "output_type": "stream",
     "text": [
      "Se agregaron 0 clubes nuevos al archivo 'club_mapping_with_code.json'.\n"
     ]
    },
    {
     "name": "stderr",
     "output_type": "stream",
     "text": [
      "2024-12-02 10:10:20,894 - INFO - Scrapeando FBRef: https://fbref.com/en/comps/22/2021-2022/2021-2022-Stats\n",
      "2024-12-02 10:10:29,761 - INFO - Scrapeando Transfermarkt: https://www.transfermarkt.es/-/startseite/wettbewerb/MLS1/plus/?saison_id=2022\n"
     ]
    },
    {
     "name": "stdout",
     "output_type": "stream",
     "text": [
      "Se agregaron 1 clubes nuevos al archivo 'club_mapping_with_code.json'.\n"
     ]
    },
    {
     "name": "stderr",
     "output_type": "stream",
     "text": [
      "2024-12-02 10:10:37,263 - INFO - Scrapeando FBRef: https://fbref.com/en/comps/22/2022-2023/2022-2023-Stats\n",
      "2024-12-02 10:10:47,581 - INFO - Scrapeando Transfermarkt: https://www.transfermarkt.es/-/startseite/wettbewerb/MLS1/plus/?saison_id=2023\n"
     ]
    },
    {
     "name": "stdout",
     "output_type": "stream",
     "text": [
      "Se agregaron 0 clubes nuevos al archivo 'club_mapping_with_code.json'.\n"
     ]
    },
    {
     "name": "stderr",
     "output_type": "stream",
     "text": [
      "2024-12-02 10:10:51,134 - INFO - Scrapeando FBRef: https://fbref.com/en/comps/22/2023-2024/2023-2024-Stats\n",
      "2024-12-02 10:11:01,643 - INFO - Scrapeando Transfermarkt: https://www.transfermarkt.es/-/startseite/wettbewerb/MLS1/plus/?saison_id=2024\n"
     ]
    },
    {
     "name": "stdout",
     "output_type": "stream",
     "text": [
      "Se agregaron 0 clubes nuevos al archivo 'club_mapping_with_code.json'.\n"
     ]
    },
    {
     "name": "stderr",
     "output_type": "stream",
     "text": [
      "2024-12-02 10:11:04,247 - INFO - Scrapeando FBRef: https://fbref.com/en/comps/22/2024-2025/2024-2025-Stats\n",
      "2024-12-02 10:11:13,107 - INFO - Scrapeando Transfermarkt: https://www.transfermarkt.es/-/startseite/wettbewerb/FR1/plus/?saison_id=2020\n"
     ]
    },
    {
     "name": "stdout",
     "output_type": "stream",
     "text": [
      "Se agregaron 0 clubes nuevos al archivo 'club_mapping_with_code.json'.\n"
     ]
    },
    {
     "name": "stderr",
     "output_type": "stream",
     "text": [
      "2024-12-02 10:11:21,180 - INFO - Scrapeando FBRef: https://fbref.com/en/comps/13/2020-2021/2020-2021-Stats\n",
      "2024-12-02 10:11:28,761 - INFO - Scrapeando Transfermarkt: https://www.transfermarkt.es/-/startseite/wettbewerb/FR1/plus/?saison_id=2021\n"
     ]
    },
    {
     "name": "stdout",
     "output_type": "stream",
     "text": [
      "Se agregaron 15 clubes nuevos al archivo 'club_mapping_with_code.json'.\n"
     ]
    },
    {
     "name": "stderr",
     "output_type": "stream",
     "text": [
      "2024-12-02 10:11:35,831 - INFO - Scrapeando FBRef: https://fbref.com/en/comps/13/2021-2022/2021-2022-Stats\n",
      "2024-12-02 10:11:42,388 - INFO - Scrapeando Transfermarkt: https://www.transfermarkt.es/-/startseite/wettbewerb/FR1/plus/?saison_id=2022\n"
     ]
    },
    {
     "name": "stdout",
     "output_type": "stream",
     "text": [
      "Se agregaron 2 clubes nuevos al archivo 'club_mapping_with_code.json'.\n"
     ]
    },
    {
     "name": "stderr",
     "output_type": "stream",
     "text": [
      "2024-12-02 10:11:58,104 - INFO - Scrapeando FBRef: https://fbref.com/en/comps/13/2022-2023/2022-2023-Stats\n",
      "2024-12-02 10:12:04,671 - INFO - Scrapeando Transfermarkt: https://www.transfermarkt.es/-/startseite/wettbewerb/FR1/plus/?saison_id=2023\n"
     ]
    },
    {
     "name": "stdout",
     "output_type": "stream",
     "text": [
      "Se agregaron 3 clubes nuevos al archivo 'club_mapping_with_code.json'.\n"
     ]
    },
    {
     "name": "stderr",
     "output_type": "stream",
     "text": [
      "2024-12-02 10:12:11,841 - INFO - Scrapeando FBRef: https://fbref.com/en/comps/13/2023-2024/2023-2024-Stats\n",
      "2024-12-02 10:12:18,555 - INFO - Scrapeando Transfermarkt: https://www.transfermarkt.es/-/startseite/wettbewerb/FR1/plus/?saison_id=2024\n"
     ]
    },
    {
     "name": "stdout",
     "output_type": "stream",
     "text": [
      "Se agregaron 1 clubes nuevos al archivo 'club_mapping_with_code.json'.\n"
     ]
    },
    {
     "name": "stderr",
     "output_type": "stream",
     "text": [
      "2024-12-02 10:12:27,213 - INFO - Scrapeando FBRef: https://fbref.com/en/comps/13/2024-2025/2024-2025-Stats\n",
      "2024-12-02 10:12:34,039 - INFO - Scrapeando Transfermarkt: https://www.transfermarkt.es/-/startseite/wettbewerb/L1/plus/?saison_id=2020\n"
     ]
    },
    {
     "name": "stdout",
     "output_type": "stream",
     "text": [
      "Se agregaron 0 clubes nuevos al archivo 'club_mapping_with_code.json'.\n"
     ]
    },
    {
     "name": "stderr",
     "output_type": "stream",
     "text": [
      "2024-12-02 10:12:35,859 - INFO - Scrapeando FBRef: https://fbref.com/en/comps/20/2020-2021/2020-2021-Stats\n",
      "2024-12-02 10:12:42,485 - INFO - Scrapeando Transfermarkt: https://www.transfermarkt.es/-/startseite/wettbewerb/L1/plus/?saison_id=2021\n"
     ]
    },
    {
     "name": "stdout",
     "output_type": "stream",
     "text": [
      "Se agregaron 12 clubes nuevos al archivo 'club_mapping_with_code.json'.\n"
     ]
    },
    {
     "name": "stderr",
     "output_type": "stream",
     "text": [
      "2024-12-02 10:12:51,791 - INFO - Scrapeando FBRef: https://fbref.com/en/comps/20/2021-2022/2021-2022-Stats\n",
      "2024-12-02 10:12:57,698 - INFO - Scrapeando Transfermarkt: https://www.transfermarkt.es/-/startseite/wettbewerb/L1/plus/?saison_id=2022\n"
     ]
    },
    {
     "name": "stdout",
     "output_type": "stream",
     "text": [
      "Se agregaron 2 clubes nuevos al archivo 'club_mapping_with_code.json'.\n"
     ]
    },
    {
     "name": "stderr",
     "output_type": "stream",
     "text": [
      "2024-12-02 10:13:05,169 - INFO - Scrapeando FBRef: https://fbref.com/en/comps/20/2022-2023/2022-2023-Stats\n",
      "2024-12-02 10:13:11,427 - INFO - Scrapeando Transfermarkt: https://www.transfermarkt.es/-/startseite/wettbewerb/L1/plus/?saison_id=2023\n"
     ]
    },
    {
     "name": "stdout",
     "output_type": "stream",
     "text": [
      "Se agregaron 0 clubes nuevos al archivo 'club_mapping_with_code.json'.\n"
     ]
    },
    {
     "name": "stderr",
     "output_type": "stream",
     "text": [
      "2024-12-02 10:13:19,156 - INFO - Scrapeando FBRef: https://fbref.com/en/comps/20/2023-2024/2023-2024-Stats\n",
      "2024-12-02 10:13:25,330 - INFO - Scrapeando Transfermarkt: https://www.transfermarkt.es/-/startseite/wettbewerb/L1/plus/?saison_id=2024\n"
     ]
    },
    {
     "name": "stdout",
     "output_type": "stream",
     "text": [
      "Se agregaron 2 clubes nuevos al archivo 'club_mapping_with_code.json'.\n"
     ]
    },
    {
     "name": "stderr",
     "output_type": "stream",
     "text": [
      "2024-12-02 10:13:27,350 - INFO - Scrapeando FBRef: https://fbref.com/en/comps/20/2024-2025/2024-2025-Stats\n",
      "2024-12-02 10:13:34,555 - INFO - Procesamiento completo para temporadas: [2020, 2021, 2022, 2023, 2024]\n"
     ]
    },
    {
     "name": "stdout",
     "output_type": "stream",
     "text": [
      "Se agregaron 2 clubes nuevos al archivo 'club_mapping_with_code.json'.\n"
     ]
    }
   ],
   "source": [
    "# Ejecución\n",
    "# league_id_tm = \"BRA1\"\n",
    "# league_id_fbref = 24\n",
    "base_years = range(2020, 2025)\n",
    "hemisphere = \"north\"\n",
    "leagues_id_tm = ['NL1', 'MLS1', 'FR1', 'L1']\n",
    "leagues_id_fbref = [23, 22, 13, 20]\n",
    "\n",
    "file_path = 'club_mapping_with_code.json'\n",
    "unmatched_file = 'unmatched_clubs.csv'\n",
    "for league_id_tm, league_id_fbref in zip (leagues_id_tm, leagues_id_fbref):\n",
    "    for year in base_years:\n",
    "        tm_clubs = scrape_transfermarkt_league(league_id_tm, year, hemisphere)\n",
    "        fbref_clubs = scrape_fbref_league(league_id_fbref, year, hemisphere)\n",
    "    \n",
    "        matched, unmatched = match_clubs(tm_clubs, fbref_clubs, threshold=80)\n",
    "    \n",
    "        save_results(file_path, matched)\n",
    "        save_unmatched_to_csv(unmatched_file, unmatched)\n",
    "\n",
    "logging.info(f\"Procesamiento completo para temporadas: {list(base_years)}\")"
   ]
  },
  {
   "cell_type": "code",
   "execution_count": 18,
   "id": "e1f4e6f5-7c54-43d4-a595-5fadb0d20e6b",
   "metadata": {
    "scrolled": true
   },
   "outputs": [
    {
     "data": {
      "text/plain": [
       "{'3711': {'Club_Name': 'Cruz Azul',\n",
       "  'FBRef_name': 'Cruz Azul',\n",
       "  'liga_pais': 'México',\n",
       "  'FBRef_id': '632f1838',\n",
       "  'match_score': 100},\n",
       " '1804': {'Club_Name': 'Toluca',\n",
       "  'FBRef_name': 'Toluca',\n",
       "  'liga_pais': 'México',\n",
       "  'FBRef_id': '44b88a4e',\n",
       "  'match_score': 100},\n",
       " '7055': {'Club_Name': 'Tigres UANL',\n",
       "  'FBRef_name': 'UANL',\n",
       "  'liga_pais': 'México',\n",
       "  'FBRef_id': 'd9e1bd51',\n",
       "  'match_score': 100},\n",
       " '7633': {'Club_Name': 'Pumas UNAM',\n",
       "  'FBRef_name': 'UNAM',\n",
       "  'liga_pais': 'México',\n",
       "  'FBRef_id': 'c9d59c6c',\n",
       "  'match_score': 100},\n",
       " '2407': {'Club_Name': 'Monterrey',\n",
       "  'FBRef_name': 'Monterrey',\n",
       "  'liga_pais': 'México',\n",
       "  'FBRef_id': 'dd5ca9bd',\n",
       "  'match_score': 100},\n",
       " '13353': {'Club_Name': 'Club Tijuana',\n",
       "  'FBRef_name': 'Tijuana',\n",
       "  'liga_pais': 'México',\n",
       "  'FBRef_id': 'a42ddf2f',\n",
       "  'match_score': 100},\n",
       " '3631': {'Club_Name': 'CF América',\n",
       "  'FBRef_name': 'América',\n",
       "  'liga_pais': 'México',\n",
       "  'FBRef_id': '18d3c3a3',\n",
       "  'match_score': 100},\n",
       " '8590': {'Club_Name': 'Atlas',\n",
       "  'FBRef_name': 'Atlas',\n",
       "  'liga_pais': 'México',\n",
       "  'FBRef_id': '7c76bc53',\n",
       "  'match_score': 100},\n",
       " '4941': {'Club_Name': 'León',\n",
       "  'FBRef_name': 'León',\n",
       "  'liga_pais': 'México',\n",
       "  'FBRef_id': 'fd7dad55',\n",
       "  'match_score': 100},\n",
       " '49283': {'Club_Name': 'FC Juárez',\n",
       "  'FBRef_name': 'FC Juárez',\n",
       "  'liga_pais': 'México',\n",
       "  'FBRef_id': '29bff345',\n",
       "  'match_score': 100},\n",
       " '1146': {'Club_Name': 'Necaxa',\n",
       "  'FBRef_name': 'Necaxa',\n",
       "  'liga_pais': 'México',\n",
       "  'FBRef_id': '752db496',\n",
       "  'match_score': 100},\n",
       " '82696': {'Club_Name': 'Mazatlán FC',\n",
       "  'FBRef_name': 'Mazatlán',\n",
       "  'liga_pais': 'México',\n",
       "  'FBRef_id': 'f0297c23',\n",
       "  'match_score': 100},\n",
       " '5662': {'Club_Name': 'Club Puebla',\n",
       "  'FBRef_name': 'Puebla',\n",
       "  'liga_pais': 'México',\n",
       "  'FBRef_id': '73fd2313',\n",
       "  'match_score': 100},\n",
       " '4035': {'Club_Name': 'Pachuca',\n",
       "  'FBRef_name': 'Pachuca',\n",
       "  'liga_pais': 'México',\n",
       "  'FBRef_id': '1be8d2e3',\n",
       "  'match_score': 100},\n",
       " '4961': {'Club_Name': 'Querétaro FC',\n",
       "  'FBRef_name': 'Querétaro',\n",
       "  'liga_pais': 'México',\n",
       "  'FBRef_id': 'c3352ce7',\n",
       "  'match_score': 100},\n",
       " '1403': {'Club_Name': 'Santos Laguna',\n",
       "  'FBRef_name': 'Santos',\n",
       "  'liga_pais': 'México',\n",
       "  'FBRef_id': '03b65ba9',\n",
       "  'match_score': 100}}"
      ]
     },
     "execution_count": 18,
     "metadata": {},
     "output_type": "execute_result"
    }
   ],
   "source": [
    "matched"
   ]
  },
  {
   "cell_type": "code",
   "execution_count": 19,
   "id": "28f71884-5b42-424b-98e8-accc471dd2ee",
   "metadata": {},
   "outputs": [
    {
     "data": {
      "text/html": [
       "<div>\n",
       "<style scoped>\n",
       "    .dataframe tbody tr th:only-of-type {\n",
       "        vertical-align: middle;\n",
       "    }\n",
       "\n",
       "    .dataframe tbody tr th {\n",
       "        vertical-align: top;\n",
       "    }\n",
       "\n",
       "    .dataframe thead th {\n",
       "        text-align: right;\n",
       "    }\n",
       "</style>\n",
       "<table border=\"1\" class=\"dataframe\">\n",
       "  <thead>\n",
       "    <tr style=\"text-align: right;\">\n",
       "      <th></th>\n",
       "      <th>id_transfermarkt</th>\n",
       "      <th>name_transfermarkt</th>\n",
       "      <th>best_match_name_fbref</th>\n",
       "      <th>best_match_score</th>\n",
       "      <th>liga_pais</th>\n",
       "    </tr>\n",
       "  </thead>\n",
       "  <tbody>\n",
       "    <tr>\n",
       "      <th>0</th>\n",
       "      <td>19775</td>\n",
       "      <td>Dep. Riestra</td>\n",
       "      <td>Deportivo Riestra</td>\n",
       "      <td>79</td>\n",
       "      <td>Argentina</td>\n",
       "    </tr>\n",
       "    <tr>\n",
       "      <th>1</th>\n",
       "      <td>8781</td>\n",
       "      <td>Dep. Cuenca</td>\n",
       "      <td>Deportivo Cuenca</td>\n",
       "      <td>77</td>\n",
       "      <td>Ecuador</td>\n",
       "    </tr>\n",
       "    <tr>\n",
       "      <th>2</th>\n",
       "      <td>940</td>\n",
       "      <td>RC Celta</td>\n",
       "      <td>Celta Vigo</td>\n",
       "      <td>77</td>\n",
       "      <td>España</td>\n",
       "    </tr>\n",
       "    <tr>\n",
       "      <th>3</th>\n",
       "      <td>18099</td>\n",
       "      <td>Manta FC</td>\n",
       "      <td>Manta Fútbol Club</td>\n",
       "      <td>77</td>\n",
       "      <td>Ecuador</td>\n",
       "    </tr>\n",
       "    <tr>\n",
       "      <th>4</th>\n",
       "      <td>31284</td>\n",
       "      <td>Central Córdoba</td>\n",
       "      <td>Rosario Central</td>\n",
       "      <td>76</td>\n",
       "      <td>Argentina</td>\n",
       "    </tr>\n",
       "    <tr>\n",
       "      <th>5</th>\n",
       "      <td>9961</td>\n",
       "      <td>Deportivo Cali</td>\n",
       "      <td>AD Cali</td>\n",
       "      <td>73</td>\n",
       "      <td>Colombia</td>\n",
       "    </tr>\n",
       "    <tr>\n",
       "      <th>6</th>\n",
       "      <td>2402</td>\n",
       "      <td>Def. y Justicia</td>\n",
       "      <td>Defensa y Just</td>\n",
       "      <td>71</td>\n",
       "      <td>Argentina</td>\n",
       "    </tr>\n",
       "    <tr>\n",
       "      <th>7</th>\n",
       "      <td>10093</td>\n",
       "      <td>Indep. Medellín</td>\n",
       "      <td>Independiente</td>\n",
       "      <td>69</td>\n",
       "      <td>Colombia</td>\n",
       "    </tr>\n",
       "    <tr>\n",
       "      <th>8</th>\n",
       "      <td>6195</td>\n",
       "      <td>Nápoles</td>\n",
       "      <td>Napoli</td>\n",
       "      <td>67</td>\n",
       "      <td>Italia</td>\n",
       "    </tr>\n",
       "    <tr>\n",
       "      <th>9</th>\n",
       "      <td>679</td>\n",
       "      <td>Athletico-PR</td>\n",
       "      <td>Atlético Mineiro</td>\n",
       "      <td>67</td>\n",
       "      <td>Brasil</td>\n",
       "    </tr>\n",
       "    <tr>\n",
       "      <th>10</th>\n",
       "      <td>18231</td>\n",
       "      <td>Patriotas</td>\n",
       "      <td>Boyacá Patriot</td>\n",
       "      <td>64</td>\n",
       "      <td>Colombia</td>\n",
       "    </tr>\n",
       "    <tr>\n",
       "      <th>11</th>\n",
       "      <td>1030</td>\n",
       "      <td>Argentinos Jrs.</td>\n",
       "      <td>Arg Juniors</td>\n",
       "      <td>64</td>\n",
       "      <td>Argentina</td>\n",
       "    </tr>\n",
       "    <tr>\n",
       "      <th>12</th>\n",
       "      <td>4673</td>\n",
       "      <td>Arsenal</td>\n",
       "      <td>Barracas Central</td>\n",
       "      <td>61</td>\n",
       "      <td>Argentina</td>\n",
       "    </tr>\n",
       "    <tr>\n",
       "      <th>13</th>\n",
       "      <td>19806</td>\n",
       "      <td>Patronato</td>\n",
       "      <td>Sarmiento</td>\n",
       "      <td>56</td>\n",
       "      <td>Argentina</td>\n",
       "    </tr>\n",
       "    <tr>\n",
       "      <th>14</th>\n",
       "      <td>20590</td>\n",
       "      <td>Águilas Doradas</td>\n",
       "      <td>La Equidad</td>\n",
       "      <td>50</td>\n",
       "      <td>Colombia</td>\n",
       "    </tr>\n",
       "    <tr>\n",
       "      <th>15</th>\n",
       "      <td>40188</td>\n",
       "      <td>San Luis</td>\n",
       "      <td>UANL</td>\n",
       "      <td>50</td>\n",
       "      <td>México</td>\n",
       "    </tr>\n",
       "    <tr>\n",
       "      <th>17</th>\n",
       "      <td>3368</td>\n",
       "      <td>Levante UD</td>\n",
       "      <td>Leganés</td>\n",
       "      <td>50</td>\n",
       "      <td>España</td>\n",
       "    </tr>\n",
       "    <tr>\n",
       "      <th>18</th>\n",
       "      <td>17467</td>\n",
       "      <td>Inter Palmira</td>\n",
       "      <td>Pereira</td>\n",
       "      <td>50</td>\n",
       "      <td>Colombia</td>\n",
       "    </tr>\n",
       "    <tr>\n",
       "      <th>19</th>\n",
       "      <td>1070</td>\n",
       "      <td>Colón</td>\n",
       "      <td>Lanús</td>\n",
       "      <td>50</td>\n",
       "      <td>Argentina</td>\n",
       "    </tr>\n",
       "    <tr>\n",
       "      <th>20</th>\n",
       "      <td>16795</td>\n",
       "      <td>Granada CF</td>\n",
       "      <td>Girona</td>\n",
       "      <td>50</td>\n",
       "      <td>España</td>\n",
       "    </tr>\n",
       "    <tr>\n",
       "      <th>21</th>\n",
       "      <td>1533</td>\n",
       "      <td>SD Eibar</td>\n",
       "      <td>Real Sociedad</td>\n",
       "      <td>48</td>\n",
       "      <td>España</td>\n",
       "    </tr>\n",
       "    <tr>\n",
       "      <th>22</th>\n",
       "      <td>3302</td>\n",
       "      <td>UD Almería</td>\n",
       "      <td>Mallorca</td>\n",
       "      <td>47</td>\n",
       "      <td>España</td>\n",
       "    </tr>\n",
       "    <tr>\n",
       "      <th>23</th>\n",
       "      <td>6711</td>\n",
       "      <td>Chivas</td>\n",
       "      <td>Pachuca</td>\n",
       "      <td>46</td>\n",
       "      <td>México</td>\n",
       "    </tr>\n",
       "    <tr>\n",
       "      <th>25</th>\n",
       "      <td>5358</td>\n",
       "      <td>SD Huesca</td>\n",
       "      <td>Real Sociedad</td>\n",
       "      <td>45</td>\n",
       "      <td>España</td>\n",
       "    </tr>\n",
       "    <tr>\n",
       "      <th>26</th>\n",
       "      <td>32041</td>\n",
       "      <td>Fortaleza CEIF</td>\n",
       "      <td>Nacional</td>\n",
       "      <td>45</td>\n",
       "      <td>Colombia</td>\n",
       "    </tr>\n",
       "    <tr>\n",
       "      <th>27</th>\n",
       "      <td>12301</td>\n",
       "      <td>Aldosivi</td>\n",
       "      <td>Rosario Central</td>\n",
       "      <td>43</td>\n",
       "      <td>Argentina</td>\n",
       "    </tr>\n",
       "    <tr>\n",
       "      <th>28</th>\n",
       "      <td>1531</td>\n",
       "      <td>Elche CF</td>\n",
       "      <td>Real Sociedad</td>\n",
       "      <td>38</td>\n",
       "      <td>España</td>\n",
       "    </tr>\n",
       "    <tr>\n",
       "      <th>29</th>\n",
       "      <td>2687</td>\n",
       "      <td>Cádiz CF</td>\n",
       "      <td>Real Madrid</td>\n",
       "      <td>33</td>\n",
       "      <td>España</td>\n",
       "    </tr>\n",
       "  </tbody>\n",
       "</table>\n",
       "</div>"
      ],
      "text/plain": [
       "    id_transfermarkt name_transfermarkt best_match_name_fbref  \\\n",
       "0              19775       Dep. Riestra     Deportivo Riestra   \n",
       "1               8781        Dep. Cuenca      Deportivo Cuenca   \n",
       "2                940           RC Celta            Celta Vigo   \n",
       "3              18099           Manta FC     Manta Fútbol Club   \n",
       "4              31284    Central Córdoba       Rosario Central   \n",
       "5               9961     Deportivo Cali               AD Cali   \n",
       "6               2402    Def. y Justicia        Defensa y Just   \n",
       "7              10093    Indep. Medellín         Independiente   \n",
       "8               6195            Nápoles                Napoli   \n",
       "9                679       Athletico-PR      Atlético Mineiro   \n",
       "10             18231          Patriotas        Boyacá Patriot   \n",
       "11              1030    Argentinos Jrs.           Arg Juniors   \n",
       "12              4673            Arsenal      Barracas Central   \n",
       "13             19806          Patronato             Sarmiento   \n",
       "14             20590    Águilas Doradas            La Equidad   \n",
       "15             40188           San Luis                  UANL   \n",
       "17              3368         Levante UD               Leganés   \n",
       "18             17467      Inter Palmira               Pereira   \n",
       "19              1070              Colón                 Lanús   \n",
       "20             16795         Granada CF                Girona   \n",
       "21              1533           SD Eibar         Real Sociedad   \n",
       "22              3302         UD Almería              Mallorca   \n",
       "23              6711             Chivas               Pachuca   \n",
       "25              5358          SD Huesca         Real Sociedad   \n",
       "26             32041     Fortaleza CEIF              Nacional   \n",
       "27             12301           Aldosivi       Rosario Central   \n",
       "28              1531           Elche CF         Real Sociedad   \n",
       "29              2687           Cádiz CF           Real Madrid   \n",
       "\n",
       "    best_match_score  liga_pais  \n",
       "0                 79  Argentina  \n",
       "1                 77    Ecuador  \n",
       "2                 77     España  \n",
       "3                 77    Ecuador  \n",
       "4                 76  Argentina  \n",
       "5                 73   Colombia  \n",
       "6                 71  Argentina  \n",
       "7                 69   Colombia  \n",
       "8                 67     Italia  \n",
       "9                 67     Brasil  \n",
       "10                64   Colombia  \n",
       "11                64  Argentina  \n",
       "12                61  Argentina  \n",
       "13                56  Argentina  \n",
       "14                50   Colombia  \n",
       "15                50     México  \n",
       "17                50     España  \n",
       "18                50   Colombia  \n",
       "19                50  Argentina  \n",
       "20                50     España  \n",
       "21                48     España  \n",
       "22                47     España  \n",
       "23                46     México  \n",
       "25                45     España  \n",
       "26                45   Colombia  \n",
       "27                43  Argentina  \n",
       "28                38     España  \n",
       "29                33     España  "
      ]
     },
     "execution_count": 19,
     "metadata": {},
     "output_type": "execute_result"
    }
   ],
   "source": [
    "pd.read_csv(unmatched_file).drop_duplicates()"
   ]
  },
  {
   "cell_type": "raw",
   "id": "8843e871-b3c0-4ddf-847f-45d5ce2eaaf3",
   "metadata": {},
   "source": [
    "scrape_transfermarkt_league(league_id_tm, year, hemisphere)"
   ]
  },
  {
   "cell_type": "raw",
   "id": "2ddb4e06-4a01-4a59-8ab3-079e682a36bc",
   "metadata": {},
   "source": [
    "scrape_fbref_league(league_id_fbref, year, hemisphere)"
   ]
  },
  {
   "cell_type": "code",
   "execution_count": null,
   "id": "93697c11-41a8-49f8-87b9-c2f20db8b348",
   "metadata": {},
   "outputs": [],
   "source": []
  },
  {
   "cell_type": "markdown",
   "id": "5922a1ec-0c5e-4b8e-a6d2-b591c0136495",
   "metadata": {
    "jp-MarkdownHeadingCollapsed": true
   },
   "source": [
    "## Descartado"
   ]
  },
  {
   "cell_type": "raw",
   "id": "1176c438-d852-4c14-9ea4-3d2f4eb51c07",
   "metadata": {},
   "source": [
    "def match_clubs_with_positions(transfermarkt_clubs, fbref_clubs, threshold=80):\n",
    "    \"\"\"\n",
    "    Compara los clubes de Transfermarkt y FBRef utilizando fuzzy matching.\n",
    "    Si ambos diccionarios tienen la misma longitud, se emparejan por posición.\n",
    "    \"\"\"\n",
    "    matched_clubs = {}\n",
    "    unmatched_clubs = []\n",
    "\n",
    "    # Verificar si las listas tienen la misma longitud\n",
    "    same_length = len(transfermarkt_clubs) == len(fbref_clubs)\n",
    "\n",
    "    # Emparejar por posición si tienen la misma longitud\n",
    "    if same_length:\n",
    "        for tm_club, fbref_club in zip(transfermarkt_clubs, fbref_clubs):\n",
    "            score = fuzz.token_set_ratio(tm_club['name'], fbref_club['name'])\n",
    "            if score >= threshold:\n",
    "                matched_clubs[tm_club['id']] = {\n",
    "                    'Club_Name': tm_club['name'],\n",
    "                    'FBRef_name': fbref_club['name'],\n",
    "                    'FBRef_id': fbref_club['id'],\n",
    "                    'match_score': score,\n",
    "                    'liga_pais': tm_club['liga_pais']\n",
    "                }\n",
    "            else:\n",
    "                unmatched_clubs.append({\n",
    "                    'id_transfermarkt': tm_club['id'],\n",
    "                    'name_transfermarkt': tm_club['name'],\n",
    "                    'id_fbref': fbref_club['id'],\n",
    "                    'name_fbref': fbref_club['name'],\n",
    "                    'match_score': score,\n",
    "                    'liga_pais': tm_club['liga_pais']\n",
    "                })\n",
    "    else:\n",
    "        # Emparejar usando fuzzy matching\n",
    "        for tm_club in transfermarkt_clubs:\n",
    "            best_match = process.extractOne(\n",
    "                tm_club['name'],\n",
    "                [club['name'] for club in fbref_clubs],\n",
    "                scorer=fuzz.token_set_ratio\n",
    "            )\n",
    "\n",
    "            if best_match and best_match[1] >= threshold:\n",
    "                match = next(club for club in fbref_clubs if club['name'] == best_match[0])\n",
    "                matched_clubs[tm_club['id']] = {\n",
    "                    'Club_Name': tm_club['name'],\n",
    "                    'FBRef_name': match['name'],\n",
    "                    'FBRef_id': match['id'],\n",
    "                    'match_score': best_match[1],\n",
    "                    'liga_pais': tm_club['liga_pais']\n",
    "                }\n",
    "            else:\n",
    "                unmatched_clubs.append({\n",
    "                    'id_transfermarkt': tm_club['id'],\n",
    "                    'name_transfermarkt': tm_club['name'],\n",
    "                    'best_match_name_fbref': best_match[0] if best_match else None,\n",
    "                    'best_match_score': best_match[1] if best_match else None,\n",
    "                    'liga_pais': tm_club['liga_pais']\n",
    "                })\n",
    "\n",
    "    return matched_clubs, unmatched_clubs\n",
    "\n",
    "\n",
    "def manual_confirm_matches(unmatched_clubs, fbref_clubs):\n",
    "    \"\"\"\n",
    "    Solicitar confirmación para emparejamientos no coincidentes o con bajo puntaje.\n",
    "    \"\"\"\n",
    "    confirmed_matches = {}\n",
    "    remaining_unmatched = []\n",
    "\n",
    "    for unmatched in unmatched_clubs:\n",
    "        print(f\"\\nClub Transfermarkt: {unmatched['name_transfermarkt']} (ID: {unmatched['id_transfermarkt']})\")\n",
    "        print(f\"Mejor coincidencia sugerida: {unmatched.get('best_match_name_fbref', 'N/A')} \"\n",
    "              f\"(Score: {unmatched.get('best_match_score', 'N/A')})\")\n",
    "\n",
    "        # Preguntar al usuario\n",
    "        response = input(\"¿Es esta la coincidencia correcta? (S/N/M para ingresar manualmente): \").lower()\n",
    "\n",
    "        if response == 's':\n",
    "            confirmed_matches[unmatched['id_transfermarkt']] = {\n",
    "                'Club_Name': unmatched['name_transfermarkt'],\n",
    "                'FBRef_name': unmatched.get('best_match_name_fbref'),\n",
    "                'FBRef_id': unmatched.get('id_fbref'),\n",
    "                'match_score': unmatched.get('best_match_score'),\n",
    "                'liga_pais': unmatched['liga_pais']\n",
    "            }\n",
    "        elif response == 'm':\n",
    "            manual_name = input(\"Ingrese el nombre correcto del club FBRef: \")\n",
    "            manual_id = input(\"Ingrese el ID correcto del club FBRef: \")\n",
    "            confirmed_matches[unmatched['id_transfermarkt']] = {\n",
    "                'Club_Name': unmatched['name_transfermarkt'],\n",
    "                'FBRef_name': manual_name,\n",
    "                'FBRef_id': manual_id,\n",
    "                'match_score': 100,\n",
    "                'liga_pais': unmatched['liga_pais']\n",
    "            }\n",
    "        else:\n",
    "            remaining_unmatched.append(unmatched)\n",
    "\n",
    "    return confirmed_matches, remaining_unmatched\n",
    "\n",
    "\n",
    "def save_results(file_path, data):\n",
    "    \"\"\"\n",
    "    Guarda resultados acumulativos en JSON sin sobrescribir claves existentes.\n",
    "    También imprime cuántos clubes nuevos se agregaron.\n",
    "    \"\"\"\n",
    "    # Cargar datos existentes si el archivo ya existe\n",
    "    if os.path.exists(file_path):\n",
    "        with open(file_path, 'r') as f:\n",
    "            existing_data = json.load(f)\n",
    "    else:\n",
    "        existing_data = {}\n",
    "\n",
    "    # Contar claves antes de la actualización\n",
    "    initial_count = len(existing_data)\n",
    "\n",
    "    # Agregar solo claves nuevas\n",
    "    for key, value in data.items():\n",
    "        if key not in existing_data:\n",
    "            existing_data[key] = value\n",
    "\n",
    "    # Contar claves después de la actualización\n",
    "    final_count = len(existing_data)\n",
    "    new_count = final_count - initial_count\n",
    "\n",
    "    # Guardar resultados actualizados\n",
    "    with open(file_path, 'w') as f:\n",
    "        json.dump(existing_data, f, indent=4)\n",
    "\n",
    "    # Imprimir la cantidad de nuevos clubes añadidos\n",
    "    print(f\"Se agregaron {new_count} clubes nuevos al archivo '{file_path}'.\")\n",
    "\n",
    "\n",
    "def save_unmatched_to_csv(file_path, unmatched):\n",
    "    \"\"\"\n",
    "    Guarda los resultados no emparejados en un archivo CSV, conservando la mejor coincidencia.\n",
    "    \"\"\"\n",
    "    unmatched_df = pd.DataFrame(unmatched)\n",
    "\n",
    "    # Si el archivo ya existe, combinar los datos existentes con los nuevos\n",
    "    if os.path.exists(file_path):\n",
    "        existing = pd.read_csv(file_path)\n",
    "        combined = pd.concat([existing, unmatched_df], ignore_index=True)\n",
    "        unmatched_df = (\n",
    "            combined.sort_values('best_match_score', ascending=False)\n",
    "            .drop_duplicates(subset=['id_transfermarkt'], keep='first')\n",
    "        )\n",
    "    else:\n",
    "        unmatched_df = unmatched_df.drop_duplicates(subset=['id_transfermarkt'], keep='first')\n",
    "\n",
    "    # Guardar los datos actualizados en el archivo\n",
    "    unmatched_df.to_csv(file_path, index=False)\n",
    "\n",
    "\n",
    "def save_results_with_position_handling(file_path, unmatched_file, matched_clubs, unmatched_clubs):\n",
    "    \"\"\"\n",
    "    Guardar los resultados de emparejamiento en JSON y CSV, incluyendo confirmación manual.\n",
    "    \"\"\"\n",
    "    # Guardar coincidencias confirmadas\n",
    "    save_results(file_path, matched_clubs)\n",
    "\n",
    "    # Confirmar manualmente emparejamientos no coincidentes\n",
    "    confirmed_matches, remaining_unmatched = manual_confirm_matches(unmatched_clubs, [])\n",
    "\n",
    "    # Guardar coincidencias confirmadas manualmente\n",
    "    save_results(file_path, confirmed_matches)\n",
    "\n",
    "    # Guardar no coincidentes restantes\n",
    "    save_unmatched_to_csv(unmatched_file, remaining_unmatched)\n",
    "\n"
   ]
  },
  {
   "cell_type": "raw",
   "id": "278ccd2d-9185-4787-9fdc-0d28870fb3fc",
   "metadata": {},
   "source": [
    "# Ejecución\n",
    "league_id_tm = \"ES1\"\n",
    "league_id_fbref = 12\n",
    "base_years = range(2022, 2024)\n",
    "hemisphere = \"north\"\n",
    "\n",
    "file_path = 'club_mapping_with_code.json'\n",
    "unmatched_file = 'unmatched_clubs.csv'\n",
    "\n",
    "for year in base_years:\n",
    "    tm_clubs = scrape_transfermarkt_league(league_id_tm, year, hemisphere)\n",
    "    fbref_clubs = scrape_fbref_league(league_id_fbref, year, hemisphere)\n",
    "\n",
    "    matched, unmatched = match_clubs_with_positions(tm_clubs, fbref_clubs, threshold=80)\n",
    "\n",
    "    save_results_with_position_handling(file_path, unmatched_file, matched, unmatched)\n",
    "    # save_results(file_path, matched)\n",
    "    # save_unmatched_to_csv(unmatched_file, unmatched)\n",
    "\n",
    "logging.info(f\"Procesamiento completo para temporadas: {list(base_years)}\")"
   ]
  }
 ],
 "metadata": {
  "kernelspec": {
   "display_name": "Python 3 (ipykernel)",
   "language": "python",
   "name": "python3"
  },
  "language_info": {
   "codemirror_mode": {
    "name": "ipython",
    "version": 3
   },
   "file_extension": ".py",
   "mimetype": "text/x-python",
   "name": "python",
   "nbconvert_exporter": "python",
   "pygments_lexer": "ipython3",
   "version": "3.9.5"
  },
  "widgets": {
   "application/vnd.jupyter.widget-state+json": {
    "state": {},
    "version_major": 2,
    "version_minor": 0
   }
  }
 },
 "nbformat": 4,
 "nbformat_minor": 5
}
